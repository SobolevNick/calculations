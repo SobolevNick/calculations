{
 "cells": [
  {
   "cell_type": "markdown",
   "id": "32884256",
   "metadata": {},
   "source": [
    "## База данных \n",
    "За базу данных я взял первые 10 строк предложенной таблицы. Полученный dataframe я назвал df. "
   ]
  },
  {
   "cell_type": "code",
   "execution_count": 1,
   "id": "852ffdd3",
   "metadata": {},
   "outputs": [
    {
     "data": {
      "text/html": [
       "<div>\n",
       "<style scoped>\n",
       "    .dataframe tbody tr th:only-of-type {\n",
       "        vertical-align: middle;\n",
       "    }\n",
       "\n",
       "    .dataframe tbody tr th {\n",
       "        vertical-align: top;\n",
       "    }\n",
       "\n",
       "    .dataframe thead th {\n",
       "        text-align: right;\n",
       "    }\n",
       "</style>\n",
       "<table border=\"1\" class=\"dataframe\">\n",
       "  <thead>\n",
       "    <tr style=\"text-align: right;\">\n",
       "      <th></th>\n",
       "      <th>true</th>\n",
       "      <th>score_logreg</th>\n",
       "      <th>score_svm</th>\n",
       "      <th>score_knn</th>\n",
       "      <th>score_tree</th>\n",
       "    </tr>\n",
       "  </thead>\n",
       "  <tbody>\n",
       "    <tr>\n",
       "      <th>0</th>\n",
       "      <td>0</td>\n",
       "      <td>0.683832</td>\n",
       "      <td>0.145976</td>\n",
       "      <td>0.787063</td>\n",
       "      <td>0.500000</td>\n",
       "    </tr>\n",
       "    <tr>\n",
       "      <th>1</th>\n",
       "      <td>1</td>\n",
       "      <td>0.801966</td>\n",
       "      <td>0.239511</td>\n",
       "      <td>1.000000</td>\n",
       "      <td>0.833333</td>\n",
       "    </tr>\n",
       "    <tr>\n",
       "      <th>2</th>\n",
       "      <td>0</td>\n",
       "      <td>0.382315</td>\n",
       "      <td>-0.245701</td>\n",
       "      <td>0.000000</td>\n",
       "      <td>0.000000</td>\n",
       "    </tr>\n",
       "    <tr>\n",
       "      <th>3</th>\n",
       "      <td>1</td>\n",
       "      <td>0.506797</td>\n",
       "      <td>-0.137058</td>\n",
       "      <td>0.000000</td>\n",
       "      <td>0.105263</td>\n",
       "    </tr>\n",
       "    <tr>\n",
       "      <th>4</th>\n",
       "      <td>1</td>\n",
       "      <td>0.488781</td>\n",
       "      <td>-0.154148</td>\n",
       "      <td>0.000000</td>\n",
       "      <td>0.105263</td>\n",
       "    </tr>\n",
       "    <tr>\n",
       "      <th>5</th>\n",
       "      <td>0</td>\n",
       "      <td>0.108506</td>\n",
       "      <td>-0.790864</td>\n",
       "      <td>0.000000</td>\n",
       "      <td>0.000000</td>\n",
       "    </tr>\n",
       "    <tr>\n",
       "      <th>6</th>\n",
       "      <td>0</td>\n",
       "      <td>0.413749</td>\n",
       "      <td>-0.185143</td>\n",
       "      <td>0.283053</td>\n",
       "      <td>0.363636</td>\n",
       "    </tr>\n",
       "    <tr>\n",
       "      <th>7</th>\n",
       "      <td>0</td>\n",
       "      <td>0.961081</td>\n",
       "      <td>0.830973</td>\n",
       "      <td>1.000000</td>\n",
       "      <td>1.000000</td>\n",
       "    </tr>\n",
       "    <tr>\n",
       "      <th>8</th>\n",
       "      <td>0</td>\n",
       "      <td>0.055733</td>\n",
       "      <td>-0.872805</td>\n",
       "      <td>0.000000</td>\n",
       "      <td>0.100000</td>\n",
       "    </tr>\n",
       "    <tr>\n",
       "      <th>9</th>\n",
       "      <td>0</td>\n",
       "      <td>0.168708</td>\n",
       "      <td>-0.518390</td>\n",
       "      <td>0.000000</td>\n",
       "      <td>0.100000</td>\n",
       "    </tr>\n",
       "  </tbody>\n",
       "</table>\n",
       "</div>"
      ],
      "text/plain": [
       "   true  score_logreg  score_svm  score_knn  score_tree\n",
       "0     0      0.683832   0.145976   0.787063    0.500000\n",
       "1     1      0.801966   0.239511   1.000000    0.833333\n",
       "2     0      0.382315  -0.245701   0.000000    0.000000\n",
       "3     1      0.506797  -0.137058   0.000000    0.105263\n",
       "4     1      0.488781  -0.154148   0.000000    0.105263\n",
       "5     0      0.108506  -0.790864   0.000000    0.000000\n",
       "6     0      0.413749  -0.185143   0.283053    0.363636\n",
       "7     0      0.961081   0.830973   1.000000    1.000000\n",
       "8     0      0.055733  -0.872805   0.000000    0.100000\n",
       "9     0      0.168708  -0.518390   0.000000    0.100000"
      ]
     },
     "execution_count": 1,
     "metadata": {},
     "output_type": "execute_result"
    }
   ],
   "source": [
    "import pandas as pd\n",
    "df = pd.read_csv('scores.csv')[:10]\n",
    "#df = df.groupby(['true', 'score_knn']).sum()\n",
    "df"
   ]
  },
  {
   "cell_type": "markdown",
   "id": "9988e43f",
   "metadata": {},
   "source": [
    "## 1. ABS\n",
    "\n",
    "**Описание:** \n",
    "\n",
    "Возвращает абсолютную величину (модуль) заданного числа.\n",
    "\n",
    "**Входные и выходные данные:**\n",
    "\n",
    "На входе - число.\n",
    "\n",
    "На выходе - модуль этого числа.\n",
    "\n",
    "### Реализация:"
   ]
  },
  {
   "cell_type": "code",
   "execution_count": 2,
   "id": "2bbde521",
   "metadata": {},
   "outputs": [],
   "source": [
    "def ABS(df, col = None):\n",
    "    if col == None:\n",
    "        return abs(df)\n",
    "    from sqlite3 import connect\n",
    "    import pandas as pd\n",
    "    conn = connect(':memory:')\n",
    "    df.to_sql('data', conn)\n",
    "    return pd.read_sql(f'SELECT *, ABS({col}) FROM data', conn)"
   ]
  },
  {
   "cell_type": "markdown",
   "id": "98ad51b3",
   "metadata": {},
   "source": [
    " ### Тестирование:"
   ]
  },
  {
   "cell_type": "code",
   "execution_count": 3,
   "id": "44fa60fd",
   "metadata": {},
   "outputs": [
    {
     "data": {
      "text/html": [
       "<div>\n",
       "<style scoped>\n",
       "    .dataframe tbody tr th:only-of-type {\n",
       "        vertical-align: middle;\n",
       "    }\n",
       "\n",
       "    .dataframe tbody tr th {\n",
       "        vertical-align: top;\n",
       "    }\n",
       "\n",
       "    .dataframe thead th {\n",
       "        text-align: right;\n",
       "    }\n",
       "</style>\n",
       "<table border=\"1\" class=\"dataframe\">\n",
       "  <thead>\n",
       "    <tr style=\"text-align: right;\">\n",
       "      <th></th>\n",
       "      <th>index</th>\n",
       "      <th>true</th>\n",
       "      <th>score_logreg</th>\n",
       "      <th>score_svm</th>\n",
       "      <th>score_knn</th>\n",
       "      <th>score_tree</th>\n",
       "      <th>ABS(score_svm)</th>\n",
       "    </tr>\n",
       "  </thead>\n",
       "  <tbody>\n",
       "    <tr>\n",
       "      <th>0</th>\n",
       "      <td>0</td>\n",
       "      <td>0</td>\n",
       "      <td>0.683832</td>\n",
       "      <td>0.145976</td>\n",
       "      <td>0.787063</td>\n",
       "      <td>0.500000</td>\n",
       "      <td>0.145976</td>\n",
       "    </tr>\n",
       "    <tr>\n",
       "      <th>1</th>\n",
       "      <td>1</td>\n",
       "      <td>1</td>\n",
       "      <td>0.801966</td>\n",
       "      <td>0.239511</td>\n",
       "      <td>1.000000</td>\n",
       "      <td>0.833333</td>\n",
       "      <td>0.239511</td>\n",
       "    </tr>\n",
       "    <tr>\n",
       "      <th>2</th>\n",
       "      <td>2</td>\n",
       "      <td>0</td>\n",
       "      <td>0.382315</td>\n",
       "      <td>-0.245701</td>\n",
       "      <td>0.000000</td>\n",
       "      <td>0.000000</td>\n",
       "      <td>0.245701</td>\n",
       "    </tr>\n",
       "    <tr>\n",
       "      <th>3</th>\n",
       "      <td>3</td>\n",
       "      <td>1</td>\n",
       "      <td>0.506797</td>\n",
       "      <td>-0.137058</td>\n",
       "      <td>0.000000</td>\n",
       "      <td>0.105263</td>\n",
       "      <td>0.137058</td>\n",
       "    </tr>\n",
       "    <tr>\n",
       "      <th>4</th>\n",
       "      <td>4</td>\n",
       "      <td>1</td>\n",
       "      <td>0.488781</td>\n",
       "      <td>-0.154148</td>\n",
       "      <td>0.000000</td>\n",
       "      <td>0.105263</td>\n",
       "      <td>0.154148</td>\n",
       "    </tr>\n",
       "    <tr>\n",
       "      <th>5</th>\n",
       "      <td>5</td>\n",
       "      <td>0</td>\n",
       "      <td>0.108506</td>\n",
       "      <td>-0.790864</td>\n",
       "      <td>0.000000</td>\n",
       "      <td>0.000000</td>\n",
       "      <td>0.790864</td>\n",
       "    </tr>\n",
       "    <tr>\n",
       "      <th>6</th>\n",
       "      <td>6</td>\n",
       "      <td>0</td>\n",
       "      <td>0.413749</td>\n",
       "      <td>-0.185143</td>\n",
       "      <td>0.283053</td>\n",
       "      <td>0.363636</td>\n",
       "      <td>0.185143</td>\n",
       "    </tr>\n",
       "    <tr>\n",
       "      <th>7</th>\n",
       "      <td>7</td>\n",
       "      <td>0</td>\n",
       "      <td>0.961081</td>\n",
       "      <td>0.830973</td>\n",
       "      <td>1.000000</td>\n",
       "      <td>1.000000</td>\n",
       "      <td>0.830973</td>\n",
       "    </tr>\n",
       "    <tr>\n",
       "      <th>8</th>\n",
       "      <td>8</td>\n",
       "      <td>0</td>\n",
       "      <td>0.055733</td>\n",
       "      <td>-0.872805</td>\n",
       "      <td>0.000000</td>\n",
       "      <td>0.100000</td>\n",
       "      <td>0.872805</td>\n",
       "    </tr>\n",
       "    <tr>\n",
       "      <th>9</th>\n",
       "      <td>9</td>\n",
       "      <td>0</td>\n",
       "      <td>0.168708</td>\n",
       "      <td>-0.518390</td>\n",
       "      <td>0.000000</td>\n",
       "      <td>0.100000</td>\n",
       "      <td>0.518390</td>\n",
       "    </tr>\n",
       "  </tbody>\n",
       "</table>\n",
       "</div>"
      ],
      "text/plain": [
       "   index  true  score_logreg  score_svm  score_knn  score_tree  ABS(score_svm)\n",
       "0      0     0      0.683832   0.145976   0.787063    0.500000        0.145976\n",
       "1      1     1      0.801966   0.239511   1.000000    0.833333        0.239511\n",
       "2      2     0      0.382315  -0.245701   0.000000    0.000000        0.245701\n",
       "3      3     1      0.506797  -0.137058   0.000000    0.105263        0.137058\n",
       "4      4     1      0.488781  -0.154148   0.000000    0.105263        0.154148\n",
       "5      5     0      0.108506  -0.790864   0.000000    0.000000        0.790864\n",
       "6      6     0      0.413749  -0.185143   0.283053    0.363636        0.185143\n",
       "7      7     0      0.961081   0.830973   1.000000    1.000000        0.830973\n",
       "8      8     0      0.055733  -0.872805   0.000000    0.100000        0.872805\n",
       "9      9     0      0.168708  -0.518390   0.000000    0.100000        0.518390"
      ]
     },
     "execution_count": 3,
     "metadata": {},
     "output_type": "execute_result"
    }
   ],
   "source": [
    "ABS(df, 'score_svm')"
   ]
  },
  {
   "cell_type": "code",
   "execution_count": 4,
   "id": "c7b31a3c",
   "metadata": {},
   "outputs": [
    {
     "data": {
      "text/plain": [
       "7"
      ]
     },
     "execution_count": 4,
     "metadata": {},
     "output_type": "execute_result"
    }
   ],
   "source": [
    "ABS(-7)"
   ]
  },
  {
   "cell_type": "code",
   "execution_count": 5,
   "id": "0b0b952f",
   "metadata": {},
   "outputs": [
    {
     "data": {
      "text/plain": [
       "0"
      ]
     },
     "execution_count": 5,
     "metadata": {},
     "output_type": "execute_result"
    }
   ],
   "source": [
    "ABS(0)"
   ]
  },
  {
   "cell_type": "code",
   "execution_count": 6,
   "id": "21ea48c3",
   "metadata": {},
   "outputs": [
    {
     "data": {
      "text/plain": [
       "5"
      ]
     },
     "execution_count": 6,
     "metadata": {},
     "output_type": "execute_result"
    }
   ],
   "source": [
    "ABS(5)"
   ]
  },
  {
   "cell_type": "markdown",
   "id": "5433dccd",
   "metadata": {},
   "source": [
    "## 2. ACOS\n",
    "\n",
    "**Описание:** \n",
    "\n",
    "Возвращает арккосинус заданного числа.\n",
    "\n",
    "**Входные и выходные данные:**\n",
    "\n",
    "На входе - число.\n",
    "\n",
    "На выходе - число (арккосинус этого числа).\n",
    "\n",
    "### Реализация:"
   ]
  },
  {
   "cell_type": "code",
   "execution_count": 7,
   "id": "ddaa17ba",
   "metadata": {},
   "outputs": [],
   "source": [
    "def ACOS(df, col = None):\n",
    "    if col == None:\n",
    "        import math\n",
    "        if(-1 <= df and df <= 1):\n",
    "            return math.acos(df)\n",
    "        return math.nan\n",
    "    from sqlite3 import connect\n",
    "    import pandas as pd\n",
    "    conn = connect(':memory:')\n",
    "    df.to_sql('data', conn)\n",
    "    return pd.read_sql(f'SELECT *, ACOS({col}) FROM data', conn)\n"
   ]
  },
  {
   "cell_type": "markdown",
   "id": "6b3f8e09",
   "metadata": {},
   "source": [
    " ### Тестирование:\n"
   ]
  },
  {
   "cell_type": "code",
   "execution_count": 8,
   "id": "6edd21fa",
   "metadata": {},
   "outputs": [
    {
     "data": {
      "text/html": [
       "<div>\n",
       "<style scoped>\n",
       "    .dataframe tbody tr th:only-of-type {\n",
       "        vertical-align: middle;\n",
       "    }\n",
       "\n",
       "    .dataframe tbody tr th {\n",
       "        vertical-align: top;\n",
       "    }\n",
       "\n",
       "    .dataframe thead th {\n",
       "        text-align: right;\n",
       "    }\n",
       "</style>\n",
       "<table border=\"1\" class=\"dataframe\">\n",
       "  <thead>\n",
       "    <tr style=\"text-align: right;\">\n",
       "      <th></th>\n",
       "      <th>index</th>\n",
       "      <th>true</th>\n",
       "      <th>score_logreg</th>\n",
       "      <th>score_svm</th>\n",
       "      <th>score_knn</th>\n",
       "      <th>score_tree</th>\n",
       "      <th>ACOS(score_logreg)</th>\n",
       "    </tr>\n",
       "  </thead>\n",
       "  <tbody>\n",
       "    <tr>\n",
       "      <th>0</th>\n",
       "      <td>0</td>\n",
       "      <td>0</td>\n",
       "      <td>0.683832</td>\n",
       "      <td>0.145976</td>\n",
       "      <td>0.787063</td>\n",
       "      <td>0.500000</td>\n",
       "      <td>0.817794</td>\n",
       "    </tr>\n",
       "    <tr>\n",
       "      <th>1</th>\n",
       "      <td>1</td>\n",
       "      <td>1</td>\n",
       "      <td>0.801966</td>\n",
       "      <td>0.239511</td>\n",
       "      <td>1.000000</td>\n",
       "      <td>0.833333</td>\n",
       "      <td>0.640216</td>\n",
       "    </tr>\n",
       "    <tr>\n",
       "      <th>2</th>\n",
       "      <td>2</td>\n",
       "      <td>0</td>\n",
       "      <td>0.382315</td>\n",
       "      <td>-0.245701</td>\n",
       "      <td>0.000000</td>\n",
       "      <td>0.000000</td>\n",
       "      <td>1.178496</td>\n",
       "    </tr>\n",
       "    <tr>\n",
       "      <th>3</th>\n",
       "      <td>3</td>\n",
       "      <td>1</td>\n",
       "      <td>0.506797</td>\n",
       "      <td>-0.137058</td>\n",
       "      <td>0.000000</td>\n",
       "      <td>0.105263</td>\n",
       "      <td>1.039331</td>\n",
       "    </tr>\n",
       "    <tr>\n",
       "      <th>4</th>\n",
       "      <td>4</td>\n",
       "      <td>1</td>\n",
       "      <td>0.488781</td>\n",
       "      <td>-0.154148</td>\n",
       "      <td>0.000000</td>\n",
       "      <td>0.105263</td>\n",
       "      <td>1.060104</td>\n",
       "    </tr>\n",
       "    <tr>\n",
       "      <th>5</th>\n",
       "      <td>5</td>\n",
       "      <td>0</td>\n",
       "      <td>0.108506</td>\n",
       "      <td>-0.790864</td>\n",
       "      <td>0.000000</td>\n",
       "      <td>0.000000</td>\n",
       "      <td>1.462076</td>\n",
       "    </tr>\n",
       "    <tr>\n",
       "      <th>6</th>\n",
       "      <td>6</td>\n",
       "      <td>0</td>\n",
       "      <td>0.413749</td>\n",
       "      <td>-0.185143</td>\n",
       "      <td>0.283053</td>\n",
       "      <td>0.363636</td>\n",
       "      <td>1.144228</td>\n",
       "    </tr>\n",
       "    <tr>\n",
       "      <th>7</th>\n",
       "      <td>7</td>\n",
       "      <td>0</td>\n",
       "      <td>0.961081</td>\n",
       "      <td>0.830973</td>\n",
       "      <td>1.000000</td>\n",
       "      <td>1.000000</td>\n",
       "      <td>0.279907</td>\n",
       "    </tr>\n",
       "    <tr>\n",
       "      <th>8</th>\n",
       "      <td>8</td>\n",
       "      <td>0</td>\n",
       "      <td>0.055733</td>\n",
       "      <td>-0.872805</td>\n",
       "      <td>0.000000</td>\n",
       "      <td>0.100000</td>\n",
       "      <td>1.515035</td>\n",
       "    </tr>\n",
       "    <tr>\n",
       "      <th>9</th>\n",
       "      <td>9</td>\n",
       "      <td>0</td>\n",
       "      <td>0.168708</td>\n",
       "      <td>-0.518390</td>\n",
       "      <td>0.000000</td>\n",
       "      <td>0.100000</td>\n",
       "      <td>1.401277</td>\n",
       "    </tr>\n",
       "  </tbody>\n",
       "</table>\n",
       "</div>"
      ],
      "text/plain": [
       "   index  true  score_logreg  score_svm  score_knn  score_tree  \\\n",
       "0      0     0      0.683832   0.145976   0.787063    0.500000   \n",
       "1      1     1      0.801966   0.239511   1.000000    0.833333   \n",
       "2      2     0      0.382315  -0.245701   0.000000    0.000000   \n",
       "3      3     1      0.506797  -0.137058   0.000000    0.105263   \n",
       "4      4     1      0.488781  -0.154148   0.000000    0.105263   \n",
       "5      5     0      0.108506  -0.790864   0.000000    0.000000   \n",
       "6      6     0      0.413749  -0.185143   0.283053    0.363636   \n",
       "7      7     0      0.961081   0.830973   1.000000    1.000000   \n",
       "8      8     0      0.055733  -0.872805   0.000000    0.100000   \n",
       "9      9     0      0.168708  -0.518390   0.000000    0.100000   \n",
       "\n",
       "   ACOS(score_logreg)  \n",
       "0            0.817794  \n",
       "1            0.640216  \n",
       "2            1.178496  \n",
       "3            1.039331  \n",
       "4            1.060104  \n",
       "5            1.462076  \n",
       "6            1.144228  \n",
       "7            0.279907  \n",
       "8            1.515035  \n",
       "9            1.401277  "
      ]
     },
     "execution_count": 8,
     "metadata": {},
     "output_type": "execute_result"
    }
   ],
   "source": [
    "ACOS(df, 'score_logreg')"
   ]
  },
  {
   "cell_type": "code",
   "execution_count": 9,
   "id": "e3856e45",
   "metadata": {},
   "outputs": [
    {
     "data": {
      "text/plain": [
       "0.8177941944092963"
      ]
     },
     "execution_count": 9,
     "metadata": {},
     "output_type": "execute_result"
    }
   ],
   "source": [
    "ACOS(df.iloc[0]['score_logreg'])"
   ]
  },
  {
   "cell_type": "code",
   "execution_count": 10,
   "id": "524d27d2",
   "metadata": {},
   "outputs": [
    {
     "data": {
      "text/plain": [
       "0.2799065641699773"
      ]
     },
     "execution_count": 10,
     "metadata": {},
     "output_type": "execute_result"
    }
   ],
   "source": [
    "ACOS(df.iloc[7]['score_logreg'])"
   ]
  },
  {
   "cell_type": "code",
   "execution_count": 11,
   "id": "73388624",
   "metadata": {
    "scrolled": true
   },
   "outputs": [
    {
     "data": {
      "text/html": [
       "<div>\n",
       "<style scoped>\n",
       "    .dataframe tbody tr th:only-of-type {\n",
       "        vertical-align: middle;\n",
       "    }\n",
       "\n",
       "    .dataframe tbody tr th {\n",
       "        vertical-align: top;\n",
       "    }\n",
       "\n",
       "    .dataframe thead th {\n",
       "        text-align: right;\n",
       "    }\n",
       "</style>\n",
       "<table border=\"1\" class=\"dataframe\">\n",
       "  <thead>\n",
       "    <tr style=\"text-align: right;\">\n",
       "      <th></th>\n",
       "      <th>index</th>\n",
       "      <th>true</th>\n",
       "      <th>score_logreg</th>\n",
       "      <th>score_svm</th>\n",
       "      <th>score_knn</th>\n",
       "      <th>score_tree</th>\n",
       "      <th>ACOS(score_svm)</th>\n",
       "    </tr>\n",
       "  </thead>\n",
       "  <tbody>\n",
       "    <tr>\n",
       "      <th>0</th>\n",
       "      <td>0</td>\n",
       "      <td>0</td>\n",
       "      <td>0.683832</td>\n",
       "      <td>0.145976</td>\n",
       "      <td>0.787063</td>\n",
       "      <td>0.500000</td>\n",
       "      <td>1.424297</td>\n",
       "    </tr>\n",
       "    <tr>\n",
       "      <th>1</th>\n",
       "      <td>1</td>\n",
       "      <td>1</td>\n",
       "      <td>0.801966</td>\n",
       "      <td>0.239511</td>\n",
       "      <td>1.000000</td>\n",
       "      <td>0.833333</td>\n",
       "      <td>1.328934</td>\n",
       "    </tr>\n",
       "    <tr>\n",
       "      <th>2</th>\n",
       "      <td>2</td>\n",
       "      <td>0</td>\n",
       "      <td>0.382315</td>\n",
       "      <td>-0.245701</td>\n",
       "      <td>0.000000</td>\n",
       "      <td>0.000000</td>\n",
       "      <td>1.819039</td>\n",
       "    </tr>\n",
       "    <tr>\n",
       "      <th>3</th>\n",
       "      <td>3</td>\n",
       "      <td>1</td>\n",
       "      <td>0.506797</td>\n",
       "      <td>-0.137058</td>\n",
       "      <td>0.000000</td>\n",
       "      <td>0.105263</td>\n",
       "      <td>1.708288</td>\n",
       "    </tr>\n",
       "    <tr>\n",
       "      <th>4</th>\n",
       "      <td>4</td>\n",
       "      <td>1</td>\n",
       "      <td>0.488781</td>\n",
       "      <td>-0.154148</td>\n",
       "      <td>0.000000</td>\n",
       "      <td>0.105263</td>\n",
       "      <td>1.725562</td>\n",
       "    </tr>\n",
       "    <tr>\n",
       "      <th>5</th>\n",
       "      <td>5</td>\n",
       "      <td>0</td>\n",
       "      <td>0.108506</td>\n",
       "      <td>-0.790864</td>\n",
       "      <td>0.000000</td>\n",
       "      <td>0.000000</td>\n",
       "      <td>2.483016</td>\n",
       "    </tr>\n",
       "    <tr>\n",
       "      <th>6</th>\n",
       "      <td>6</td>\n",
       "      <td>0</td>\n",
       "      <td>0.413749</td>\n",
       "      <td>-0.185143</td>\n",
       "      <td>0.283053</td>\n",
       "      <td>0.363636</td>\n",
       "      <td>1.757013</td>\n",
       "    </tr>\n",
       "    <tr>\n",
       "      <th>7</th>\n",
       "      <td>7</td>\n",
       "      <td>0</td>\n",
       "      <td>0.961081</td>\n",
       "      <td>0.830973</td>\n",
       "      <td>1.000000</td>\n",
       "      <td>1.000000</td>\n",
       "      <td>0.589942</td>\n",
       "    </tr>\n",
       "    <tr>\n",
       "      <th>8</th>\n",
       "      <td>8</td>\n",
       "      <td>0</td>\n",
       "      <td>0.055733</td>\n",
       "      <td>-0.872805</td>\n",
       "      <td>0.000000</td>\n",
       "      <td>0.100000</td>\n",
       "      <td>2.631717</td>\n",
       "    </tr>\n",
       "    <tr>\n",
       "      <th>9</th>\n",
       "      <td>9</td>\n",
       "      <td>0</td>\n",
       "      <td>0.168708</td>\n",
       "      <td>-0.518390</td>\n",
       "      <td>0.000000</td>\n",
       "      <td>0.100000</td>\n",
       "      <td>2.115764</td>\n",
       "    </tr>\n",
       "  </tbody>\n",
       "</table>\n",
       "</div>"
      ],
      "text/plain": [
       "   index  true  score_logreg  score_svm  score_knn  score_tree  \\\n",
       "0      0     0      0.683832   0.145976   0.787063    0.500000   \n",
       "1      1     1      0.801966   0.239511   1.000000    0.833333   \n",
       "2      2     0      0.382315  -0.245701   0.000000    0.000000   \n",
       "3      3     1      0.506797  -0.137058   0.000000    0.105263   \n",
       "4      4     1      0.488781  -0.154148   0.000000    0.105263   \n",
       "5      5     0      0.108506  -0.790864   0.000000    0.000000   \n",
       "6      6     0      0.413749  -0.185143   0.283053    0.363636   \n",
       "7      7     0      0.961081   0.830973   1.000000    1.000000   \n",
       "8      8     0      0.055733  -0.872805   0.000000    0.100000   \n",
       "9      9     0      0.168708  -0.518390   0.000000    0.100000   \n",
       "\n",
       "   ACOS(score_svm)  \n",
       "0         1.424297  \n",
       "1         1.328934  \n",
       "2         1.819039  \n",
       "3         1.708288  \n",
       "4         1.725562  \n",
       "5         2.483016  \n",
       "6         1.757013  \n",
       "7         0.589942  \n",
       "8         2.631717  \n",
       "9         2.115764  "
      ]
     },
     "execution_count": 11,
     "metadata": {},
     "output_type": "execute_result"
    }
   ],
   "source": [
    "ACOS(df, 'score_svm')"
   ]
  },
  {
   "cell_type": "code",
   "execution_count": 12,
   "id": "4a198e32",
   "metadata": {},
   "outputs": [
    {
     "data": {
      "text/plain": [
       "1.8190387387739744"
      ]
     },
     "execution_count": 12,
     "metadata": {},
     "output_type": "execute_result"
    }
   ],
   "source": [
    "ACOS(df.iloc[2]['score_svm'])"
   ]
  },
  {
   "cell_type": "code",
   "execution_count": 13,
   "id": "a16a9bf8",
   "metadata": {},
   "outputs": [
    {
     "data": {
      "text/plain": [
       "2.1157639324552493"
      ]
     },
     "execution_count": 13,
     "metadata": {},
     "output_type": "execute_result"
    }
   ],
   "source": [
    "ACOS(df.iloc[9]['score_svm'])"
   ]
  },
  {
   "cell_type": "code",
   "execution_count": 14,
   "id": "8715caad",
   "metadata": {
    "scrolled": true
   },
   "outputs": [
    {
     "data": {
      "text/plain": [
       "0.0"
      ]
     },
     "execution_count": 14,
     "metadata": {},
     "output_type": "execute_result"
    }
   ],
   "source": [
    "ACOS(1)"
   ]
  },
  {
   "cell_type": "code",
   "execution_count": 15,
   "id": "61dbbde5",
   "metadata": {},
   "outputs": [
    {
     "data": {
      "text/plain": [
       "3.141592653589793"
      ]
     },
     "execution_count": 15,
     "metadata": {},
     "output_type": "execute_result"
    }
   ],
   "source": [
    "ACOS(-1)"
   ]
  },
  {
   "cell_type": "code",
   "execution_count": 16,
   "id": "7fb50ee4",
   "metadata": {},
   "outputs": [
    {
     "data": {
      "text/plain": [
       "1.5707963267948966"
      ]
     },
     "execution_count": 16,
     "metadata": {},
     "output_type": "execute_result"
    }
   ],
   "source": [
    "ACOS(0)"
   ]
  },
  {
   "cell_type": "code",
   "execution_count": 17,
   "id": "0e378821",
   "metadata": {},
   "outputs": [
    {
     "data": {
      "text/plain": [
       "1.0471975511965976"
      ]
     },
     "execution_count": 17,
     "metadata": {},
     "output_type": "execute_result"
    }
   ],
   "source": [
    "ACOS(0.5)"
   ]
  },
  {
   "cell_type": "code",
   "execution_count": 18,
   "id": "f975cca0",
   "metadata": {},
   "outputs": [
    {
     "data": {
      "text/plain": [
       "nan"
      ]
     },
     "execution_count": 18,
     "metadata": {},
     "output_type": "execute_result"
    }
   ],
   "source": [
    "ACOS(10)"
   ]
  },
  {
   "cell_type": "markdown",
   "id": "639e70ad",
   "metadata": {},
   "source": [
    "## 3. ASIN\n",
    "\n",
    "**Описание:** \n",
    "\n",
    "Возвращает арксинус заданного числа.\n",
    "\n",
    "**Входные и выходные данные:**\n",
    "\n",
    "На входе - число.\n",
    "\n",
    "На выходе - число (арксинус этого числа).\n",
    "\n",
    "### Реализация:"
   ]
  },
  {
   "cell_type": "code",
   "execution_count": 19,
   "id": "86165b4b",
   "metadata": {},
   "outputs": [],
   "source": [
    "def ASIN(df, col = None):\n",
    "    if col == None:\n",
    "        import math\n",
    "        if(-1 <= df and df <= 1):\n",
    "            return math.asin(df)\n",
    "        return math.nan\n",
    "    from sqlite3 import connect\n",
    "    import pandas as pd\n",
    "    conn = connect(':memory:')\n",
    "    df.to_sql('data', conn)\n",
    "    return pd.read_sql(f'SELECT *, ASIN({col}) FROM data', conn)"
   ]
  },
  {
   "cell_type": "markdown",
   "id": "571cb496",
   "metadata": {},
   "source": [
    " ### Тестирование:"
   ]
  },
  {
   "cell_type": "code",
   "execution_count": 20,
   "id": "f12e6bc8",
   "metadata": {
    "scrolled": true
   },
   "outputs": [
    {
     "data": {
      "text/html": [
       "<div>\n",
       "<style scoped>\n",
       "    .dataframe tbody tr th:only-of-type {\n",
       "        vertical-align: middle;\n",
       "    }\n",
       "\n",
       "    .dataframe tbody tr th {\n",
       "        vertical-align: top;\n",
       "    }\n",
       "\n",
       "    .dataframe thead th {\n",
       "        text-align: right;\n",
       "    }\n",
       "</style>\n",
       "<table border=\"1\" class=\"dataframe\">\n",
       "  <thead>\n",
       "    <tr style=\"text-align: right;\">\n",
       "      <th></th>\n",
       "      <th>index</th>\n",
       "      <th>true</th>\n",
       "      <th>score_logreg</th>\n",
       "      <th>score_svm</th>\n",
       "      <th>score_knn</th>\n",
       "      <th>score_tree</th>\n",
       "      <th>ASIN(score_logreg)</th>\n",
       "    </tr>\n",
       "  </thead>\n",
       "  <tbody>\n",
       "    <tr>\n",
       "      <th>0</th>\n",
       "      <td>0</td>\n",
       "      <td>0</td>\n",
       "      <td>0.683832</td>\n",
       "      <td>0.145976</td>\n",
       "      <td>0.787063</td>\n",
       "      <td>0.500000</td>\n",
       "      <td>0.753002</td>\n",
       "    </tr>\n",
       "    <tr>\n",
       "      <th>1</th>\n",
       "      <td>1</td>\n",
       "      <td>1</td>\n",
       "      <td>0.801966</td>\n",
       "      <td>0.239511</td>\n",
       "      <td>1.000000</td>\n",
       "      <td>0.833333</td>\n",
       "      <td>0.930580</td>\n",
       "    </tr>\n",
       "    <tr>\n",
       "      <th>2</th>\n",
       "      <td>2</td>\n",
       "      <td>0</td>\n",
       "      <td>0.382315</td>\n",
       "      <td>-0.245701</td>\n",
       "      <td>0.000000</td>\n",
       "      <td>0.000000</td>\n",
       "      <td>0.392301</td>\n",
       "    </tr>\n",
       "    <tr>\n",
       "      <th>3</th>\n",
       "      <td>3</td>\n",
       "      <td>1</td>\n",
       "      <td>0.506797</td>\n",
       "      <td>-0.137058</td>\n",
       "      <td>0.000000</td>\n",
       "      <td>0.105263</td>\n",
       "      <td>0.531465</td>\n",
       "    </tr>\n",
       "    <tr>\n",
       "      <th>4</th>\n",
       "      <td>4</td>\n",
       "      <td>1</td>\n",
       "      <td>0.488781</td>\n",
       "      <td>-0.154148</td>\n",
       "      <td>0.000000</td>\n",
       "      <td>0.105263</td>\n",
       "      <td>0.510692</td>\n",
       "    </tr>\n",
       "    <tr>\n",
       "      <th>5</th>\n",
       "      <td>5</td>\n",
       "      <td>0</td>\n",
       "      <td>0.108506</td>\n",
       "      <td>-0.790864</td>\n",
       "      <td>0.000000</td>\n",
       "      <td>0.000000</td>\n",
       "      <td>0.108720</td>\n",
       "    </tr>\n",
       "    <tr>\n",
       "      <th>6</th>\n",
       "      <td>6</td>\n",
       "      <td>0</td>\n",
       "      <td>0.413749</td>\n",
       "      <td>-0.185143</td>\n",
       "      <td>0.283053</td>\n",
       "      <td>0.363636</td>\n",
       "      <td>0.426568</td>\n",
       "    </tr>\n",
       "    <tr>\n",
       "      <th>7</th>\n",
       "      <td>7</td>\n",
       "      <td>0</td>\n",
       "      <td>0.961081</td>\n",
       "      <td>0.830973</td>\n",
       "      <td>1.000000</td>\n",
       "      <td>1.000000</td>\n",
       "      <td>1.290890</td>\n",
       "    </tr>\n",
       "    <tr>\n",
       "      <th>8</th>\n",
       "      <td>8</td>\n",
       "      <td>0</td>\n",
       "      <td>0.055733</td>\n",
       "      <td>-0.872805</td>\n",
       "      <td>0.000000</td>\n",
       "      <td>0.100000</td>\n",
       "      <td>0.055761</td>\n",
       "    </tr>\n",
       "    <tr>\n",
       "      <th>9</th>\n",
       "      <td>9</td>\n",
       "      <td>0</td>\n",
       "      <td>0.168708</td>\n",
       "      <td>-0.518390</td>\n",
       "      <td>0.000000</td>\n",
       "      <td>0.100000</td>\n",
       "      <td>0.169519</td>\n",
       "    </tr>\n",
       "  </tbody>\n",
       "</table>\n",
       "</div>"
      ],
      "text/plain": [
       "   index  true  score_logreg  score_svm  score_knn  score_tree  \\\n",
       "0      0     0      0.683832   0.145976   0.787063    0.500000   \n",
       "1      1     1      0.801966   0.239511   1.000000    0.833333   \n",
       "2      2     0      0.382315  -0.245701   0.000000    0.000000   \n",
       "3      3     1      0.506797  -0.137058   0.000000    0.105263   \n",
       "4      4     1      0.488781  -0.154148   0.000000    0.105263   \n",
       "5      5     0      0.108506  -0.790864   0.000000    0.000000   \n",
       "6      6     0      0.413749  -0.185143   0.283053    0.363636   \n",
       "7      7     0      0.961081   0.830973   1.000000    1.000000   \n",
       "8      8     0      0.055733  -0.872805   0.000000    0.100000   \n",
       "9      9     0      0.168708  -0.518390   0.000000    0.100000   \n",
       "\n",
       "   ASIN(score_logreg)  \n",
       "0            0.753002  \n",
       "1            0.930580  \n",
       "2            0.392301  \n",
       "3            0.531465  \n",
       "4            0.510692  \n",
       "5            0.108720  \n",
       "6            0.426568  \n",
       "7            1.290890  \n",
       "8            0.055761  \n",
       "9            0.169519  "
      ]
     },
     "execution_count": 20,
     "metadata": {},
     "output_type": "execute_result"
    }
   ],
   "source": [
    "ASIN(df, 'score_logreg')"
   ]
  },
  {
   "cell_type": "code",
   "execution_count": 21,
   "id": "a9f6d024",
   "metadata": {},
   "outputs": [
    {
     "data": {
      "text/plain": [
       "0.7530021323856003"
      ]
     },
     "execution_count": 21,
     "metadata": {},
     "output_type": "execute_result"
    }
   ],
   "source": [
    "ASIN(df.iloc[0]['score_logreg'])"
   ]
  },
  {
   "cell_type": "code",
   "execution_count": 22,
   "id": "74306d96",
   "metadata": {},
   "outputs": [
    {
     "data": {
      "text/plain": [
       "1.2908897626249194"
      ]
     },
     "execution_count": 22,
     "metadata": {},
     "output_type": "execute_result"
    }
   ],
   "source": [
    "ASIN(df.iloc[7]['score_logreg'])"
   ]
  },
  {
   "cell_type": "code",
   "execution_count": 23,
   "id": "ac338f70",
   "metadata": {
    "scrolled": false
   },
   "outputs": [
    {
     "data": {
      "text/html": [
       "<div>\n",
       "<style scoped>\n",
       "    .dataframe tbody tr th:only-of-type {\n",
       "        vertical-align: middle;\n",
       "    }\n",
       "\n",
       "    .dataframe tbody tr th {\n",
       "        vertical-align: top;\n",
       "    }\n",
       "\n",
       "    .dataframe thead th {\n",
       "        text-align: right;\n",
       "    }\n",
       "</style>\n",
       "<table border=\"1\" class=\"dataframe\">\n",
       "  <thead>\n",
       "    <tr style=\"text-align: right;\">\n",
       "      <th></th>\n",
       "      <th>index</th>\n",
       "      <th>true</th>\n",
       "      <th>score_logreg</th>\n",
       "      <th>score_svm</th>\n",
       "      <th>score_knn</th>\n",
       "      <th>score_tree</th>\n",
       "      <th>ASIN(score_svm)</th>\n",
       "    </tr>\n",
       "  </thead>\n",
       "  <tbody>\n",
       "    <tr>\n",
       "      <th>0</th>\n",
       "      <td>0</td>\n",
       "      <td>0</td>\n",
       "      <td>0.683832</td>\n",
       "      <td>0.145976</td>\n",
       "      <td>0.787063</td>\n",
       "      <td>0.500000</td>\n",
       "      <td>0.146499</td>\n",
       "    </tr>\n",
       "    <tr>\n",
       "      <th>1</th>\n",
       "      <td>1</td>\n",
       "      <td>1</td>\n",
       "      <td>0.801966</td>\n",
       "      <td>0.239511</td>\n",
       "      <td>1.000000</td>\n",
       "      <td>0.833333</td>\n",
       "      <td>0.241863</td>\n",
       "    </tr>\n",
       "    <tr>\n",
       "      <th>2</th>\n",
       "      <td>2</td>\n",
       "      <td>0</td>\n",
       "      <td>0.382315</td>\n",
       "      <td>-0.245701</td>\n",
       "      <td>0.000000</td>\n",
       "      <td>0.000000</td>\n",
       "      <td>-0.248242</td>\n",
       "    </tr>\n",
       "    <tr>\n",
       "      <th>3</th>\n",
       "      <td>3</td>\n",
       "      <td>1</td>\n",
       "      <td>0.506797</td>\n",
       "      <td>-0.137058</td>\n",
       "      <td>0.000000</td>\n",
       "      <td>0.105263</td>\n",
       "      <td>-0.137491</td>\n",
       "    </tr>\n",
       "    <tr>\n",
       "      <th>4</th>\n",
       "      <td>4</td>\n",
       "      <td>1</td>\n",
       "      <td>0.488781</td>\n",
       "      <td>-0.154148</td>\n",
       "      <td>0.000000</td>\n",
       "      <td>0.105263</td>\n",
       "      <td>-0.154766</td>\n",
       "    </tr>\n",
       "    <tr>\n",
       "      <th>5</th>\n",
       "      <td>5</td>\n",
       "      <td>0</td>\n",
       "      <td>0.108506</td>\n",
       "      <td>-0.790864</td>\n",
       "      <td>0.000000</td>\n",
       "      <td>0.000000</td>\n",
       "      <td>-0.912219</td>\n",
       "    </tr>\n",
       "    <tr>\n",
       "      <th>6</th>\n",
       "      <td>6</td>\n",
       "      <td>0</td>\n",
       "      <td>0.413749</td>\n",
       "      <td>-0.185143</td>\n",
       "      <td>0.283053</td>\n",
       "      <td>0.363636</td>\n",
       "      <td>-0.186217</td>\n",
       "    </tr>\n",
       "    <tr>\n",
       "      <th>7</th>\n",
       "      <td>7</td>\n",
       "      <td>0</td>\n",
       "      <td>0.961081</td>\n",
       "      <td>0.830973</td>\n",
       "      <td>1.000000</td>\n",
       "      <td>1.000000</td>\n",
       "      <td>0.980855</td>\n",
       "    </tr>\n",
       "    <tr>\n",
       "      <th>8</th>\n",
       "      <td>8</td>\n",
       "      <td>0</td>\n",
       "      <td>0.055733</td>\n",
       "      <td>-0.872805</td>\n",
       "      <td>0.000000</td>\n",
       "      <td>0.100000</td>\n",
       "      <td>-1.060921</td>\n",
       "    </tr>\n",
       "    <tr>\n",
       "      <th>9</th>\n",
       "      <td>9</td>\n",
       "      <td>0</td>\n",
       "      <td>0.168708</td>\n",
       "      <td>-0.518390</td>\n",
       "      <td>0.000000</td>\n",
       "      <td>0.100000</td>\n",
       "      <td>-0.544968</td>\n",
       "    </tr>\n",
       "  </tbody>\n",
       "</table>\n",
       "</div>"
      ],
      "text/plain": [
       "   index  true  score_logreg  score_svm  score_knn  score_tree  \\\n",
       "0      0     0      0.683832   0.145976   0.787063    0.500000   \n",
       "1      1     1      0.801966   0.239511   1.000000    0.833333   \n",
       "2      2     0      0.382315  -0.245701   0.000000    0.000000   \n",
       "3      3     1      0.506797  -0.137058   0.000000    0.105263   \n",
       "4      4     1      0.488781  -0.154148   0.000000    0.105263   \n",
       "5      5     0      0.108506  -0.790864   0.000000    0.000000   \n",
       "6      6     0      0.413749  -0.185143   0.283053    0.363636   \n",
       "7      7     0      0.961081   0.830973   1.000000    1.000000   \n",
       "8      8     0      0.055733  -0.872805   0.000000    0.100000   \n",
       "9      9     0      0.168708  -0.518390   0.000000    0.100000   \n",
       "\n",
       "   ASIN(score_svm)  \n",
       "0         0.146499  \n",
       "1         0.241863  \n",
       "2        -0.248242  \n",
       "3        -0.137491  \n",
       "4        -0.154766  \n",
       "5        -0.912219  \n",
       "6        -0.186217  \n",
       "7         0.980855  \n",
       "8        -1.060921  \n",
       "9        -0.544968  "
      ]
     },
     "execution_count": 23,
     "metadata": {},
     "output_type": "execute_result"
    }
   ],
   "source": [
    "ASIN(df, 'score_svm')"
   ]
  },
  {
   "cell_type": "code",
   "execution_count": 24,
   "id": "d479c45b",
   "metadata": {},
   "outputs": [
    {
     "data": {
      "text/plain": [
       "-0.2482424119790779"
      ]
     },
     "execution_count": 24,
     "metadata": {},
     "output_type": "execute_result"
    }
   ],
   "source": [
    "ASIN(df.iloc[2]['score_svm'])"
   ]
  },
  {
   "cell_type": "code",
   "execution_count": 25,
   "id": "f2aad9c7",
   "metadata": {},
   "outputs": [
    {
     "data": {
      "text/plain": [
       "-0.5449676056603527"
      ]
     },
     "execution_count": 25,
     "metadata": {},
     "output_type": "execute_result"
    }
   ],
   "source": [
    "ASIN(df.iloc[9]['score_svm'])"
   ]
  },
  {
   "cell_type": "code",
   "execution_count": 26,
   "id": "2fc759cd",
   "metadata": {},
   "outputs": [
    {
     "data": {
      "text/plain": [
       "1.5707963267948966"
      ]
     },
     "execution_count": 26,
     "metadata": {},
     "output_type": "execute_result"
    }
   ],
   "source": [
    "ASIN(1)"
   ]
  },
  {
   "cell_type": "code",
   "execution_count": 27,
   "id": "59308f56",
   "metadata": {},
   "outputs": [
    {
     "data": {
      "text/plain": [
       "0.0"
      ]
     },
     "execution_count": 27,
     "metadata": {},
     "output_type": "execute_result"
    }
   ],
   "source": [
    "ASIN(0)"
   ]
  },
  {
   "cell_type": "code",
   "execution_count": 28,
   "id": "642d10da",
   "metadata": {},
   "outputs": [
    {
     "data": {
      "text/plain": [
       "nan"
      ]
     },
     "execution_count": 28,
     "metadata": {},
     "output_type": "execute_result"
    }
   ],
   "source": [
    "ASIN(-2)"
   ]
  },
  {
   "cell_type": "code",
   "execution_count": 29,
   "id": "b9303fe5",
   "metadata": {},
   "outputs": [
    {
     "data": {
      "text/plain": [
       "-1.0471975511965976"
      ]
     },
     "execution_count": 29,
     "metadata": {},
     "output_type": "execute_result"
    }
   ],
   "source": [
    "ASIN(-3 ** 0.5 / 2)"
   ]
  },
  {
   "cell_type": "markdown",
   "id": "108cfb99",
   "metadata": {},
   "source": [
    "## 4. ATAN\n",
    "\n",
    "**Описание:** \n",
    "\n",
    "Возвращает арктангенс заданного числа.\n",
    "\n",
    "**Входные и выходные данные:**\n",
    "\n",
    "На входе - число.\n",
    "\n",
    "На выходе - число (арктангенс этого числа).\n",
    "\n",
    "### Реализация:"
   ]
  },
  {
   "cell_type": "code",
   "execution_count": 30,
   "id": "e250eb13",
   "metadata": {},
   "outputs": [],
   "source": [
    "def ATAN(df, col = None):\n",
    "    if col == None:\n",
    "        import math\n",
    "        return math.atan(df)\n",
    "    from sqlite3 import connect\n",
    "    import pandas as pd\n",
    "    conn = connect(':memory:')\n",
    "    df.to_sql('data', conn)\n",
    "    return pd.read_sql(f'SELECT *, ATAN({col}) FROM data', conn)"
   ]
  },
  {
   "cell_type": "markdown",
   "id": "d4ac8462",
   "metadata": {},
   "source": [
    " ### Тестирование:"
   ]
  },
  {
   "cell_type": "code",
   "execution_count": 31,
   "id": "9d7c6e49",
   "metadata": {
    "scrolled": true
   },
   "outputs": [
    {
     "data": {
      "text/html": [
       "<div>\n",
       "<style scoped>\n",
       "    .dataframe tbody tr th:only-of-type {\n",
       "        vertical-align: middle;\n",
       "    }\n",
       "\n",
       "    .dataframe tbody tr th {\n",
       "        vertical-align: top;\n",
       "    }\n",
       "\n",
       "    .dataframe thead th {\n",
       "        text-align: right;\n",
       "    }\n",
       "</style>\n",
       "<table border=\"1\" class=\"dataframe\">\n",
       "  <thead>\n",
       "    <tr style=\"text-align: right;\">\n",
       "      <th></th>\n",
       "      <th>index</th>\n",
       "      <th>true</th>\n",
       "      <th>score_logreg</th>\n",
       "      <th>score_svm</th>\n",
       "      <th>score_knn</th>\n",
       "      <th>score_tree</th>\n",
       "      <th>ATAN(score_logreg)</th>\n",
       "    </tr>\n",
       "  </thead>\n",
       "  <tbody>\n",
       "    <tr>\n",
       "      <th>0</th>\n",
       "      <td>0</td>\n",
       "      <td>0</td>\n",
       "      <td>0.683832</td>\n",
       "      <td>0.145976</td>\n",
       "      <td>0.787063</td>\n",
       "      <td>0.500000</td>\n",
       "      <td>0.599793</td>\n",
       "    </tr>\n",
       "    <tr>\n",
       "      <th>1</th>\n",
       "      <td>1</td>\n",
       "      <td>1</td>\n",
       "      <td>0.801966</td>\n",
       "      <td>0.239511</td>\n",
       "      <td>1.000000</td>\n",
       "      <td>0.833333</td>\n",
       "      <td>0.675939</td>\n",
       "    </tr>\n",
       "    <tr>\n",
       "      <th>2</th>\n",
       "      <td>2</td>\n",
       "      <td>0</td>\n",
       "      <td>0.382315</td>\n",
       "      <td>-0.245701</td>\n",
       "      <td>0.000000</td>\n",
       "      <td>0.000000</td>\n",
       "      <td>0.365169</td>\n",
       "    </tr>\n",
       "    <tr>\n",
       "      <th>3</th>\n",
       "      <td>3</td>\n",
       "      <td>1</td>\n",
       "      <td>0.506797</td>\n",
       "      <td>-0.137058</td>\n",
       "      <td>0.000000</td>\n",
       "      <td>0.105263</td>\n",
       "      <td>0.469070</td>\n",
       "    </tr>\n",
       "    <tr>\n",
       "      <th>4</th>\n",
       "      <td>4</td>\n",
       "      <td>1</td>\n",
       "      <td>0.488781</td>\n",
       "      <td>-0.154148</td>\n",
       "      <td>0.000000</td>\n",
       "      <td>0.105263</td>\n",
       "      <td>0.454633</td>\n",
       "    </tr>\n",
       "    <tr>\n",
       "      <th>5</th>\n",
       "      <td>5</td>\n",
       "      <td>0</td>\n",
       "      <td>0.108506</td>\n",
       "      <td>-0.790864</td>\n",
       "      <td>0.000000</td>\n",
       "      <td>0.000000</td>\n",
       "      <td>0.108083</td>\n",
       "    </tr>\n",
       "    <tr>\n",
       "      <th>6</th>\n",
       "      <td>6</td>\n",
       "      <td>0</td>\n",
       "      <td>0.413749</td>\n",
       "      <td>-0.185143</td>\n",
       "      <td>0.283053</td>\n",
       "      <td>0.363636</td>\n",
       "      <td>0.392302</td>\n",
       "    </tr>\n",
       "    <tr>\n",
       "      <th>7</th>\n",
       "      <td>7</td>\n",
       "      <td>0</td>\n",
       "      <td>0.961081</td>\n",
       "      <td>0.830973</td>\n",
       "      <td>1.000000</td>\n",
       "      <td>1.000000</td>\n",
       "      <td>0.765555</td>\n",
       "    </tr>\n",
       "    <tr>\n",
       "      <th>8</th>\n",
       "      <td>8</td>\n",
       "      <td>0</td>\n",
       "      <td>0.055733</td>\n",
       "      <td>-0.872805</td>\n",
       "      <td>0.000000</td>\n",
       "      <td>0.100000</td>\n",
       "      <td>0.055675</td>\n",
       "    </tr>\n",
       "    <tr>\n",
       "      <th>9</th>\n",
       "      <td>9</td>\n",
       "      <td>0</td>\n",
       "      <td>0.168708</td>\n",
       "      <td>-0.518390</td>\n",
       "      <td>0.000000</td>\n",
       "      <td>0.100000</td>\n",
       "      <td>0.167134</td>\n",
       "    </tr>\n",
       "  </tbody>\n",
       "</table>\n",
       "</div>"
      ],
      "text/plain": [
       "   index  true  score_logreg  score_svm  score_knn  score_tree  \\\n",
       "0      0     0      0.683832   0.145976   0.787063    0.500000   \n",
       "1      1     1      0.801966   0.239511   1.000000    0.833333   \n",
       "2      2     0      0.382315  -0.245701   0.000000    0.000000   \n",
       "3      3     1      0.506797  -0.137058   0.000000    0.105263   \n",
       "4      4     1      0.488781  -0.154148   0.000000    0.105263   \n",
       "5      5     0      0.108506  -0.790864   0.000000    0.000000   \n",
       "6      6     0      0.413749  -0.185143   0.283053    0.363636   \n",
       "7      7     0      0.961081   0.830973   1.000000    1.000000   \n",
       "8      8     0      0.055733  -0.872805   0.000000    0.100000   \n",
       "9      9     0      0.168708  -0.518390   0.000000    0.100000   \n",
       "\n",
       "   ATAN(score_logreg)  \n",
       "0            0.599793  \n",
       "1            0.675939  \n",
       "2            0.365169  \n",
       "3            0.469070  \n",
       "4            0.454633  \n",
       "5            0.108083  \n",
       "6            0.392302  \n",
       "7            0.765555  \n",
       "8            0.055675  \n",
       "9            0.167134  "
      ]
     },
     "execution_count": 31,
     "metadata": {},
     "output_type": "execute_result"
    }
   ],
   "source": [
    "ATAN(df, 'score_logreg')"
   ]
  },
  {
   "cell_type": "code",
   "execution_count": 32,
   "id": "e5843c1c",
   "metadata": {},
   "outputs": [
    {
     "data": {
      "text/plain": [
       "0.5997925539802339"
      ]
     },
     "execution_count": 32,
     "metadata": {},
     "output_type": "execute_result"
    }
   ],
   "source": [
    "ATAN(df.iloc[0]['score_logreg'])"
   ]
  },
  {
   "cell_type": "code",
   "execution_count": 33,
   "id": "f010fc3a",
   "metadata": {
    "scrolled": true
   },
   "outputs": [
    {
     "data": {
      "text/plain": [
       "0.7655552139381493"
      ]
     },
     "execution_count": 33,
     "metadata": {},
     "output_type": "execute_result"
    }
   ],
   "source": [
    "ATAN(df.iloc[7]['score_logreg'])"
   ]
  },
  {
   "cell_type": "code",
   "execution_count": 34,
   "id": "19670617",
   "metadata": {
    "scrolled": false
   },
   "outputs": [
    {
     "data": {
      "text/html": [
       "<div>\n",
       "<style scoped>\n",
       "    .dataframe tbody tr th:only-of-type {\n",
       "        vertical-align: middle;\n",
       "    }\n",
       "\n",
       "    .dataframe tbody tr th {\n",
       "        vertical-align: top;\n",
       "    }\n",
       "\n",
       "    .dataframe thead th {\n",
       "        text-align: right;\n",
       "    }\n",
       "</style>\n",
       "<table border=\"1\" class=\"dataframe\">\n",
       "  <thead>\n",
       "    <tr style=\"text-align: right;\">\n",
       "      <th></th>\n",
       "      <th>index</th>\n",
       "      <th>true</th>\n",
       "      <th>score_logreg</th>\n",
       "      <th>score_svm</th>\n",
       "      <th>score_knn</th>\n",
       "      <th>score_tree</th>\n",
       "      <th>ATAN(score_svm)</th>\n",
       "    </tr>\n",
       "  </thead>\n",
       "  <tbody>\n",
       "    <tr>\n",
       "      <th>0</th>\n",
       "      <td>0</td>\n",
       "      <td>0</td>\n",
       "      <td>0.683832</td>\n",
       "      <td>0.145976</td>\n",
       "      <td>0.787063</td>\n",
       "      <td>0.500000</td>\n",
       "      <td>0.144952</td>\n",
       "    </tr>\n",
       "    <tr>\n",
       "      <th>1</th>\n",
       "      <td>1</td>\n",
       "      <td>1</td>\n",
       "      <td>0.801966</td>\n",
       "      <td>0.239511</td>\n",
       "      <td>1.000000</td>\n",
       "      <td>0.833333</td>\n",
       "      <td>0.235083</td>\n",
       "    </tr>\n",
       "    <tr>\n",
       "      <th>2</th>\n",
       "      <td>2</td>\n",
       "      <td>0</td>\n",
       "      <td>0.382315</td>\n",
       "      <td>-0.245701</td>\n",
       "      <td>0.000000</td>\n",
       "      <td>0.000000</td>\n",
       "      <td>-0.240928</td>\n",
       "    </tr>\n",
       "    <tr>\n",
       "      <th>3</th>\n",
       "      <td>3</td>\n",
       "      <td>1</td>\n",
       "      <td>0.506797</td>\n",
       "      <td>-0.137058</td>\n",
       "      <td>0.000000</td>\n",
       "      <td>0.105263</td>\n",
       "      <td>-0.136210</td>\n",
       "    </tr>\n",
       "    <tr>\n",
       "      <th>4</th>\n",
       "      <td>4</td>\n",
       "      <td>1</td>\n",
       "      <td>0.488781</td>\n",
       "      <td>-0.154148</td>\n",
       "      <td>0.000000</td>\n",
       "      <td>0.105263</td>\n",
       "      <td>-0.152945</td>\n",
       "    </tr>\n",
       "    <tr>\n",
       "      <th>5</th>\n",
       "      <td>5</td>\n",
       "      <td>0</td>\n",
       "      <td>0.108506</td>\n",
       "      <td>-0.790864</td>\n",
       "      <td>0.000000</td>\n",
       "      <td>0.000000</td>\n",
       "      <td>-0.669145</td>\n",
       "    </tr>\n",
       "    <tr>\n",
       "      <th>6</th>\n",
       "      <td>6</td>\n",
       "      <td>0</td>\n",
       "      <td>0.413749</td>\n",
       "      <td>-0.185143</td>\n",
       "      <td>0.283053</td>\n",
       "      <td>0.363636</td>\n",
       "      <td>-0.183070</td>\n",
       "    </tr>\n",
       "    <tr>\n",
       "      <th>7</th>\n",
       "      <td>7</td>\n",
       "      <td>0</td>\n",
       "      <td>0.961081</td>\n",
       "      <td>0.830973</td>\n",
       "      <td>1.000000</td>\n",
       "      <td>1.000000</td>\n",
       "      <td>0.693344</td>\n",
       "    </tr>\n",
       "    <tr>\n",
       "      <th>8</th>\n",
       "      <td>8</td>\n",
       "      <td>0</td>\n",
       "      <td>0.055733</td>\n",
       "      <td>-0.872805</td>\n",
       "      <td>0.000000</td>\n",
       "      <td>0.100000</td>\n",
       "      <td>-0.717586</td>\n",
       "    </tr>\n",
       "    <tr>\n",
       "      <th>9</th>\n",
       "      <td>9</td>\n",
       "      <td>0</td>\n",
       "      <td>0.168708</td>\n",
       "      <td>-0.518390</td>\n",
       "      <td>0.000000</td>\n",
       "      <td>0.100000</td>\n",
       "      <td>-0.478251</td>\n",
       "    </tr>\n",
       "  </tbody>\n",
       "</table>\n",
       "</div>"
      ],
      "text/plain": [
       "   index  true  score_logreg  score_svm  score_knn  score_tree  \\\n",
       "0      0     0      0.683832   0.145976   0.787063    0.500000   \n",
       "1      1     1      0.801966   0.239511   1.000000    0.833333   \n",
       "2      2     0      0.382315  -0.245701   0.000000    0.000000   \n",
       "3      3     1      0.506797  -0.137058   0.000000    0.105263   \n",
       "4      4     1      0.488781  -0.154148   0.000000    0.105263   \n",
       "5      5     0      0.108506  -0.790864   0.000000    0.000000   \n",
       "6      6     0      0.413749  -0.185143   0.283053    0.363636   \n",
       "7      7     0      0.961081   0.830973   1.000000    1.000000   \n",
       "8      8     0      0.055733  -0.872805   0.000000    0.100000   \n",
       "9      9     0      0.168708  -0.518390   0.000000    0.100000   \n",
       "\n",
       "   ATAN(score_svm)  \n",
       "0         0.144952  \n",
       "1         0.235083  \n",
       "2        -0.240928  \n",
       "3        -0.136210  \n",
       "4        -0.152945  \n",
       "5        -0.669145  \n",
       "6        -0.183070  \n",
       "7         0.693344  \n",
       "8        -0.717586  \n",
       "9        -0.478251  "
      ]
     },
     "execution_count": 34,
     "metadata": {},
     "output_type": "execute_result"
    }
   ],
   "source": [
    "ATAN(df, 'score_svm')"
   ]
  },
  {
   "cell_type": "code",
   "execution_count": 35,
   "id": "44e53a56",
   "metadata": {},
   "outputs": [
    {
     "data": {
      "text/plain": [
       "-0.24092812096529978"
      ]
     },
     "execution_count": 35,
     "metadata": {},
     "output_type": "execute_result"
    }
   ],
   "source": [
    "ATAN(df.iloc[2]['score_svm'])"
   ]
  },
  {
   "cell_type": "code",
   "execution_count": 36,
   "id": "5b9ee8f5",
   "metadata": {},
   "outputs": [
    {
     "data": {
      "text/plain": [
       "-0.47825144613848314"
      ]
     },
     "execution_count": 36,
     "metadata": {},
     "output_type": "execute_result"
    }
   ],
   "source": [
    "ATAN(df.iloc[9]['score_svm'])"
   ]
  },
  {
   "cell_type": "code",
   "execution_count": 37,
   "id": "12fc3856",
   "metadata": {},
   "outputs": [
    {
     "data": {
      "text/plain": [
       "0.0"
      ]
     },
     "execution_count": 37,
     "metadata": {},
     "output_type": "execute_result"
    }
   ],
   "source": [
    "ATAN(0)"
   ]
  },
  {
   "cell_type": "code",
   "execution_count": 38,
   "id": "705bb920",
   "metadata": {},
   "outputs": [
    {
     "data": {
      "text/plain": [
       "0.7853981633974483"
      ]
     },
     "execution_count": 38,
     "metadata": {},
     "output_type": "execute_result"
    }
   ],
   "source": [
    "ATAN(1)"
   ]
  },
  {
   "cell_type": "code",
   "execution_count": 39,
   "id": "57678b1e",
   "metadata": {},
   "outputs": [
    {
     "data": {
      "text/plain": [
       "-0.46364760900080615"
      ]
     },
     "execution_count": 39,
     "metadata": {},
     "output_type": "execute_result"
    }
   ],
   "source": [
    "ATAN(-1 / 2)"
   ]
  },
  {
   "cell_type": "code",
   "execution_count": 40,
   "id": "4bc1e329",
   "metadata": {},
   "outputs": [
    {
     "data": {
      "text/plain": [
       "1.0471975511965979"
      ]
     },
     "execution_count": 40,
     "metadata": {},
     "output_type": "execute_result"
    }
   ],
   "source": [
    "ATAN(3 ** 0.5)"
   ]
  },
  {
   "cell_type": "markdown",
   "id": "16d477f9",
   "metadata": {},
   "source": [
    "## 5. ATAN2\n",
    "\n",
    "**Описание:** \n",
    "\n",
    "Возвращает арктангенс заданной пары чисел.\n",
    "\n",
    "**Входные и выходные данные:**\n",
    "\n",
    "На входе - два числа.\n",
    "\n",
    "На выходе - число (арктангенс частного двух чисел, с точностью до квадранта).\n",
    "\n",
    "### Реализация:"
   ]
  },
  {
   "cell_type": "code",
   "execution_count": 41,
   "id": "8c5b0f2e",
   "metadata": {},
   "outputs": [],
   "source": [
    "def ATAN2(df, col1, col2 = None):\n",
    "    if col2 == None:\n",
    "        import math\n",
    "        return math.atan2(df, col1)\n",
    "    from sqlite3 import connect\n",
    "    import pandas as pd\n",
    "    conn = connect(':memory:')\n",
    "    df.to_sql('data', conn)\n",
    "    return pd.read_sql(f'SELECT *, ATAN2({col1}, {col2}) FROM data', conn)"
   ]
  },
  {
   "cell_type": "markdown",
   "id": "c6e58132",
   "metadata": {},
   "source": [
    " ### Тестирование:"
   ]
  },
  {
   "cell_type": "code",
   "execution_count": 42,
   "id": "bd3bbdf0",
   "metadata": {
    "scrolled": true
   },
   "outputs": [
    {
     "data": {
      "text/html": [
       "<div>\n",
       "<style scoped>\n",
       "    .dataframe tbody tr th:only-of-type {\n",
       "        vertical-align: middle;\n",
       "    }\n",
       "\n",
       "    .dataframe tbody tr th {\n",
       "        vertical-align: top;\n",
       "    }\n",
       "\n",
       "    .dataframe thead th {\n",
       "        text-align: right;\n",
       "    }\n",
       "</style>\n",
       "<table border=\"1\" class=\"dataframe\">\n",
       "  <thead>\n",
       "    <tr style=\"text-align: right;\">\n",
       "      <th></th>\n",
       "      <th>index</th>\n",
       "      <th>true</th>\n",
       "      <th>score_logreg</th>\n",
       "      <th>score_svm</th>\n",
       "      <th>score_knn</th>\n",
       "      <th>score_tree</th>\n",
       "      <th>ATAN2(score_logreg, score_knn)</th>\n",
       "    </tr>\n",
       "  </thead>\n",
       "  <tbody>\n",
       "    <tr>\n",
       "      <th>0</th>\n",
       "      <td>0</td>\n",
       "      <td>0</td>\n",
       "      <td>0.683832</td>\n",
       "      <td>0.145976</td>\n",
       "      <td>0.787063</td>\n",
       "      <td>0.500000</td>\n",
       "      <td>0.715331</td>\n",
       "    </tr>\n",
       "    <tr>\n",
       "      <th>1</th>\n",
       "      <td>1</td>\n",
       "      <td>1</td>\n",
       "      <td>0.801966</td>\n",
       "      <td>0.239511</td>\n",
       "      <td>1.000000</td>\n",
       "      <td>0.833333</td>\n",
       "      <td>0.675939</td>\n",
       "    </tr>\n",
       "    <tr>\n",
       "      <th>2</th>\n",
       "      <td>2</td>\n",
       "      <td>0</td>\n",
       "      <td>0.382315</td>\n",
       "      <td>-0.245701</td>\n",
       "      <td>0.000000</td>\n",
       "      <td>0.000000</td>\n",
       "      <td>1.570796</td>\n",
       "    </tr>\n",
       "    <tr>\n",
       "      <th>3</th>\n",
       "      <td>3</td>\n",
       "      <td>1</td>\n",
       "      <td>0.506797</td>\n",
       "      <td>-0.137058</td>\n",
       "      <td>0.000000</td>\n",
       "      <td>0.105263</td>\n",
       "      <td>1.570796</td>\n",
       "    </tr>\n",
       "    <tr>\n",
       "      <th>4</th>\n",
       "      <td>4</td>\n",
       "      <td>1</td>\n",
       "      <td>0.488781</td>\n",
       "      <td>-0.154148</td>\n",
       "      <td>0.000000</td>\n",
       "      <td>0.105263</td>\n",
       "      <td>1.570796</td>\n",
       "    </tr>\n",
       "    <tr>\n",
       "      <th>5</th>\n",
       "      <td>5</td>\n",
       "      <td>0</td>\n",
       "      <td>0.108506</td>\n",
       "      <td>-0.790864</td>\n",
       "      <td>0.000000</td>\n",
       "      <td>0.000000</td>\n",
       "      <td>1.570796</td>\n",
       "    </tr>\n",
       "    <tr>\n",
       "      <th>6</th>\n",
       "      <td>6</td>\n",
       "      <td>0</td>\n",
       "      <td>0.413749</td>\n",
       "      <td>-0.185143</td>\n",
       "      <td>0.283053</td>\n",
       "      <td>0.363636</td>\n",
       "      <td>0.970810</td>\n",
       "    </tr>\n",
       "    <tr>\n",
       "      <th>7</th>\n",
       "      <td>7</td>\n",
       "      <td>0</td>\n",
       "      <td>0.961081</td>\n",
       "      <td>0.830973</td>\n",
       "      <td>1.000000</td>\n",
       "      <td>1.000000</td>\n",
       "      <td>0.765555</td>\n",
       "    </tr>\n",
       "    <tr>\n",
       "      <th>8</th>\n",
       "      <td>8</td>\n",
       "      <td>0</td>\n",
       "      <td>0.055733</td>\n",
       "      <td>-0.872805</td>\n",
       "      <td>0.000000</td>\n",
       "      <td>0.100000</td>\n",
       "      <td>1.570796</td>\n",
       "    </tr>\n",
       "    <tr>\n",
       "      <th>9</th>\n",
       "      <td>9</td>\n",
       "      <td>0</td>\n",
       "      <td>0.168708</td>\n",
       "      <td>-0.518390</td>\n",
       "      <td>0.000000</td>\n",
       "      <td>0.100000</td>\n",
       "      <td>1.570796</td>\n",
       "    </tr>\n",
       "  </tbody>\n",
       "</table>\n",
       "</div>"
      ],
      "text/plain": [
       "   index  true  score_logreg  score_svm  score_knn  score_tree  \\\n",
       "0      0     0      0.683832   0.145976   0.787063    0.500000   \n",
       "1      1     1      0.801966   0.239511   1.000000    0.833333   \n",
       "2      2     0      0.382315  -0.245701   0.000000    0.000000   \n",
       "3      3     1      0.506797  -0.137058   0.000000    0.105263   \n",
       "4      4     1      0.488781  -0.154148   0.000000    0.105263   \n",
       "5      5     0      0.108506  -0.790864   0.000000    0.000000   \n",
       "6      6     0      0.413749  -0.185143   0.283053    0.363636   \n",
       "7      7     0      0.961081   0.830973   1.000000    1.000000   \n",
       "8      8     0      0.055733  -0.872805   0.000000    0.100000   \n",
       "9      9     0      0.168708  -0.518390   0.000000    0.100000   \n",
       "\n",
       "   ATAN2(score_logreg, score_knn)  \n",
       "0                        0.715331  \n",
       "1                        0.675939  \n",
       "2                        1.570796  \n",
       "3                        1.570796  \n",
       "4                        1.570796  \n",
       "5                        1.570796  \n",
       "6                        0.970810  \n",
       "7                        0.765555  \n",
       "8                        1.570796  \n",
       "9                        1.570796  "
      ]
     },
     "execution_count": 42,
     "metadata": {},
     "output_type": "execute_result"
    }
   ],
   "source": [
    "ATAN2(df, 'score_logreg', 'score_knn')"
   ]
  },
  {
   "cell_type": "code",
   "execution_count": 43,
   "id": "2b249694",
   "metadata": {},
   "outputs": [
    {
     "data": {
      "text/plain": [
       "0.7153311412132989"
      ]
     },
     "execution_count": 43,
     "metadata": {},
     "output_type": "execute_result"
    }
   ],
   "source": [
    "ATAN2(df.iloc[0]['score_logreg'], df.iloc[0]['score_knn'])"
   ]
  },
  {
   "cell_type": "code",
   "execution_count": 44,
   "id": "6e2929a5",
   "metadata": {
    "scrolled": true
   },
   "outputs": [
    {
     "data": {
      "text/plain": [
       "0.7655552139381493"
      ]
     },
     "execution_count": 44,
     "metadata": {},
     "output_type": "execute_result"
    }
   ],
   "source": [
    "ATAN2(df.iloc[7]['score_logreg'], df.iloc[7]['score_knn'])"
   ]
  },
  {
   "cell_type": "code",
   "execution_count": 45,
   "id": "a6210c29",
   "metadata": {
    "scrolled": true
   },
   "outputs": [
    {
     "data": {
      "text/html": [
       "<div>\n",
       "<style scoped>\n",
       "    .dataframe tbody tr th:only-of-type {\n",
       "        vertical-align: middle;\n",
       "    }\n",
       "\n",
       "    .dataframe tbody tr th {\n",
       "        vertical-align: top;\n",
       "    }\n",
       "\n",
       "    .dataframe thead th {\n",
       "        text-align: right;\n",
       "    }\n",
       "</style>\n",
       "<table border=\"1\" class=\"dataframe\">\n",
       "  <thead>\n",
       "    <tr style=\"text-align: right;\">\n",
       "      <th></th>\n",
       "      <th>index</th>\n",
       "      <th>true</th>\n",
       "      <th>score_logreg</th>\n",
       "      <th>score_svm</th>\n",
       "      <th>score_knn</th>\n",
       "      <th>score_tree</th>\n",
       "      <th>ATAN2(score_svm, true)</th>\n",
       "    </tr>\n",
       "  </thead>\n",
       "  <tbody>\n",
       "    <tr>\n",
       "      <th>0</th>\n",
       "      <td>0</td>\n",
       "      <td>0</td>\n",
       "      <td>0.683832</td>\n",
       "      <td>0.145976</td>\n",
       "      <td>0.787063</td>\n",
       "      <td>0.500000</td>\n",
       "      <td>1.570796</td>\n",
       "    </tr>\n",
       "    <tr>\n",
       "      <th>1</th>\n",
       "      <td>1</td>\n",
       "      <td>1</td>\n",
       "      <td>0.801966</td>\n",
       "      <td>0.239511</td>\n",
       "      <td>1.000000</td>\n",
       "      <td>0.833333</td>\n",
       "      <td>0.235083</td>\n",
       "    </tr>\n",
       "    <tr>\n",
       "      <th>2</th>\n",
       "      <td>2</td>\n",
       "      <td>0</td>\n",
       "      <td>0.382315</td>\n",
       "      <td>-0.245701</td>\n",
       "      <td>0.000000</td>\n",
       "      <td>0.000000</td>\n",
       "      <td>-1.570796</td>\n",
       "    </tr>\n",
       "    <tr>\n",
       "      <th>3</th>\n",
       "      <td>3</td>\n",
       "      <td>1</td>\n",
       "      <td>0.506797</td>\n",
       "      <td>-0.137058</td>\n",
       "      <td>0.000000</td>\n",
       "      <td>0.105263</td>\n",
       "      <td>-0.136210</td>\n",
       "    </tr>\n",
       "    <tr>\n",
       "      <th>4</th>\n",
       "      <td>4</td>\n",
       "      <td>1</td>\n",
       "      <td>0.488781</td>\n",
       "      <td>-0.154148</td>\n",
       "      <td>0.000000</td>\n",
       "      <td>0.105263</td>\n",
       "      <td>-0.152945</td>\n",
       "    </tr>\n",
       "    <tr>\n",
       "      <th>5</th>\n",
       "      <td>5</td>\n",
       "      <td>0</td>\n",
       "      <td>0.108506</td>\n",
       "      <td>-0.790864</td>\n",
       "      <td>0.000000</td>\n",
       "      <td>0.000000</td>\n",
       "      <td>-1.570796</td>\n",
       "    </tr>\n",
       "    <tr>\n",
       "      <th>6</th>\n",
       "      <td>6</td>\n",
       "      <td>0</td>\n",
       "      <td>0.413749</td>\n",
       "      <td>-0.185143</td>\n",
       "      <td>0.283053</td>\n",
       "      <td>0.363636</td>\n",
       "      <td>-1.570796</td>\n",
       "    </tr>\n",
       "    <tr>\n",
       "      <th>7</th>\n",
       "      <td>7</td>\n",
       "      <td>0</td>\n",
       "      <td>0.961081</td>\n",
       "      <td>0.830973</td>\n",
       "      <td>1.000000</td>\n",
       "      <td>1.000000</td>\n",
       "      <td>1.570796</td>\n",
       "    </tr>\n",
       "    <tr>\n",
       "      <th>8</th>\n",
       "      <td>8</td>\n",
       "      <td>0</td>\n",
       "      <td>0.055733</td>\n",
       "      <td>-0.872805</td>\n",
       "      <td>0.000000</td>\n",
       "      <td>0.100000</td>\n",
       "      <td>-1.570796</td>\n",
       "    </tr>\n",
       "    <tr>\n",
       "      <th>9</th>\n",
       "      <td>9</td>\n",
       "      <td>0</td>\n",
       "      <td>0.168708</td>\n",
       "      <td>-0.518390</td>\n",
       "      <td>0.000000</td>\n",
       "      <td>0.100000</td>\n",
       "      <td>-1.570796</td>\n",
       "    </tr>\n",
       "  </tbody>\n",
       "</table>\n",
       "</div>"
      ],
      "text/plain": [
       "   index  true  score_logreg  score_svm  score_knn  score_tree  \\\n",
       "0      0     0      0.683832   0.145976   0.787063    0.500000   \n",
       "1      1     1      0.801966   0.239511   1.000000    0.833333   \n",
       "2      2     0      0.382315  -0.245701   0.000000    0.000000   \n",
       "3      3     1      0.506797  -0.137058   0.000000    0.105263   \n",
       "4      4     1      0.488781  -0.154148   0.000000    0.105263   \n",
       "5      5     0      0.108506  -0.790864   0.000000    0.000000   \n",
       "6      6     0      0.413749  -0.185143   0.283053    0.363636   \n",
       "7      7     0      0.961081   0.830973   1.000000    1.000000   \n",
       "8      8     0      0.055733  -0.872805   0.000000    0.100000   \n",
       "9      9     0      0.168708  -0.518390   0.000000    0.100000   \n",
       "\n",
       "   ATAN2(score_svm, true)  \n",
       "0                1.570796  \n",
       "1                0.235083  \n",
       "2               -1.570796  \n",
       "3               -0.136210  \n",
       "4               -0.152945  \n",
       "5               -1.570796  \n",
       "6               -1.570796  \n",
       "7                1.570796  \n",
       "8               -1.570796  \n",
       "9               -1.570796  "
      ]
     },
     "execution_count": 45,
     "metadata": {},
     "output_type": "execute_result"
    }
   ],
   "source": [
    "ATAN2(df, 'score_svm', 'true')"
   ]
  },
  {
   "cell_type": "code",
   "execution_count": 46,
   "id": "90874a93",
   "metadata": {},
   "outputs": [
    {
     "data": {
      "text/plain": [
       "1.5707963267948966"
      ]
     },
     "execution_count": 46,
     "metadata": {},
     "output_type": "execute_result"
    }
   ],
   "source": [
    "ATAN2(df.iloc[0]['score_svm'], df.iloc[0]['true'])"
   ]
  },
  {
   "cell_type": "code",
   "execution_count": 47,
   "id": "9aa9a3bc",
   "metadata": {
    "scrolled": true
   },
   "outputs": [
    {
     "data": {
      "text/plain": [
       "-1.5707963267948966"
      ]
     },
     "execution_count": 47,
     "metadata": {},
     "output_type": "execute_result"
    }
   ],
   "source": [
    "ATAN2(df.iloc[2]['score_svm'], df.iloc[2]['true'])"
   ]
  },
  {
   "cell_type": "code",
   "execution_count": 48,
   "id": "9fc47621",
   "metadata": {
    "scrolled": true
   },
   "outputs": [
    {
     "data": {
      "text/plain": [
       "0.23508290433009332"
      ]
     },
     "execution_count": 48,
     "metadata": {},
     "output_type": "execute_result"
    }
   ],
   "source": [
    "ATAN2(df.iloc[1]['score_svm'], df.iloc[1]['true'])"
   ]
  },
  {
   "cell_type": "code",
   "execution_count": 49,
   "id": "753d0f4c",
   "metadata": {
    "scrolled": false
   },
   "outputs": [
    {
     "data": {
      "text/html": [
       "<div>\n",
       "<style scoped>\n",
       "    .dataframe tbody tr th:only-of-type {\n",
       "        vertical-align: middle;\n",
       "    }\n",
       "\n",
       "    .dataframe tbody tr th {\n",
       "        vertical-align: top;\n",
       "    }\n",
       "\n",
       "    .dataframe thead th {\n",
       "        text-align: right;\n",
       "    }\n",
       "</style>\n",
       "<table border=\"1\" class=\"dataframe\">\n",
       "  <thead>\n",
       "    <tr style=\"text-align: right;\">\n",
       "      <th></th>\n",
       "      <th>index</th>\n",
       "      <th>true</th>\n",
       "      <th>score_logreg</th>\n",
       "      <th>score_svm</th>\n",
       "      <th>score_knn</th>\n",
       "      <th>score_tree</th>\n",
       "      <th>ATAN2(score_svm, 10)</th>\n",
       "    </tr>\n",
       "  </thead>\n",
       "  <tbody>\n",
       "    <tr>\n",
       "      <th>0</th>\n",
       "      <td>0</td>\n",
       "      <td>0</td>\n",
       "      <td>0.683832</td>\n",
       "      <td>0.145976</td>\n",
       "      <td>0.787063</td>\n",
       "      <td>0.500000</td>\n",
       "      <td>0.014597</td>\n",
       "    </tr>\n",
       "    <tr>\n",
       "      <th>1</th>\n",
       "      <td>1</td>\n",
       "      <td>1</td>\n",
       "      <td>0.801966</td>\n",
       "      <td>0.239511</td>\n",
       "      <td>1.000000</td>\n",
       "      <td>0.833333</td>\n",
       "      <td>0.023947</td>\n",
       "    </tr>\n",
       "    <tr>\n",
       "      <th>2</th>\n",
       "      <td>2</td>\n",
       "      <td>0</td>\n",
       "      <td>0.382315</td>\n",
       "      <td>-0.245701</td>\n",
       "      <td>0.000000</td>\n",
       "      <td>0.000000</td>\n",
       "      <td>-0.024565</td>\n",
       "    </tr>\n",
       "    <tr>\n",
       "      <th>3</th>\n",
       "      <td>3</td>\n",
       "      <td>1</td>\n",
       "      <td>0.506797</td>\n",
       "      <td>-0.137058</td>\n",
       "      <td>0.000000</td>\n",
       "      <td>0.105263</td>\n",
       "      <td>-0.013705</td>\n",
       "    </tr>\n",
       "    <tr>\n",
       "      <th>4</th>\n",
       "      <td>4</td>\n",
       "      <td>1</td>\n",
       "      <td>0.488781</td>\n",
       "      <td>-0.154148</td>\n",
       "      <td>0.000000</td>\n",
       "      <td>0.105263</td>\n",
       "      <td>-0.015414</td>\n",
       "    </tr>\n",
       "    <tr>\n",
       "      <th>5</th>\n",
       "      <td>5</td>\n",
       "      <td>0</td>\n",
       "      <td>0.108506</td>\n",
       "      <td>-0.790864</td>\n",
       "      <td>0.000000</td>\n",
       "      <td>0.000000</td>\n",
       "      <td>-0.078922</td>\n",
       "    </tr>\n",
       "    <tr>\n",
       "      <th>6</th>\n",
       "      <td>6</td>\n",
       "      <td>0</td>\n",
       "      <td>0.413749</td>\n",
       "      <td>-0.185143</td>\n",
       "      <td>0.283053</td>\n",
       "      <td>0.363636</td>\n",
       "      <td>-0.018512</td>\n",
       "    </tr>\n",
       "    <tr>\n",
       "      <th>7</th>\n",
       "      <td>7</td>\n",
       "      <td>0</td>\n",
       "      <td>0.961081</td>\n",
       "      <td>0.830973</td>\n",
       "      <td>1.000000</td>\n",
       "      <td>1.000000</td>\n",
       "      <td>0.082907</td>\n",
       "    </tr>\n",
       "    <tr>\n",
       "      <th>8</th>\n",
       "      <td>8</td>\n",
       "      <td>0</td>\n",
       "      <td>0.055733</td>\n",
       "      <td>-0.872805</td>\n",
       "      <td>0.000000</td>\n",
       "      <td>0.100000</td>\n",
       "      <td>-0.087060</td>\n",
       "    </tr>\n",
       "    <tr>\n",
       "      <th>9</th>\n",
       "      <td>9</td>\n",
       "      <td>0</td>\n",
       "      <td>0.168708</td>\n",
       "      <td>-0.518390</td>\n",
       "      <td>0.000000</td>\n",
       "      <td>0.100000</td>\n",
       "      <td>-0.051793</td>\n",
       "    </tr>\n",
       "  </tbody>\n",
       "</table>\n",
       "</div>"
      ],
      "text/plain": [
       "   index  true  score_logreg  score_svm  score_knn  score_tree  \\\n",
       "0      0     0      0.683832   0.145976   0.787063    0.500000   \n",
       "1      1     1      0.801966   0.239511   1.000000    0.833333   \n",
       "2      2     0      0.382315  -0.245701   0.000000    0.000000   \n",
       "3      3     1      0.506797  -0.137058   0.000000    0.105263   \n",
       "4      4     1      0.488781  -0.154148   0.000000    0.105263   \n",
       "5      5     0      0.108506  -0.790864   0.000000    0.000000   \n",
       "6      6     0      0.413749  -0.185143   0.283053    0.363636   \n",
       "7      7     0      0.961081   0.830973   1.000000    1.000000   \n",
       "8      8     0      0.055733  -0.872805   0.000000    0.100000   \n",
       "9      9     0      0.168708  -0.518390   0.000000    0.100000   \n",
       "\n",
       "   ATAN2(score_svm, 10)  \n",
       "0              0.014597  \n",
       "1              0.023947  \n",
       "2             -0.024565  \n",
       "3             -0.013705  \n",
       "4             -0.015414  \n",
       "5             -0.078922  \n",
       "6             -0.018512  \n",
       "7              0.082907  \n",
       "8             -0.087060  \n",
       "9             -0.051793  "
      ]
     },
     "execution_count": 49,
     "metadata": {},
     "output_type": "execute_result"
    }
   ],
   "source": [
    "ATAN2(df, 'score_svm', 10)"
   ]
  },
  {
   "cell_type": "code",
   "execution_count": 50,
   "id": "73f5546d",
   "metadata": {},
   "outputs": [
    {
     "data": {
      "text/plain": [
       "-0.02456512048637044"
      ]
     },
     "execution_count": 50,
     "metadata": {},
     "output_type": "execute_result"
    }
   ],
   "source": [
    "ATAN2(df.iloc[2]['score_svm'], 10)"
   ]
  },
  {
   "cell_type": "code",
   "execution_count": 51,
   "id": "93cf368d",
   "metadata": {},
   "outputs": [
    {
     "data": {
      "text/plain": [
       "-0.051792678182274475"
      ]
     },
     "execution_count": 51,
     "metadata": {},
     "output_type": "execute_result"
    }
   ],
   "source": [
    "ATAN2(df.iloc[9]['score_svm'], 10)"
   ]
  },
  {
   "cell_type": "code",
   "execution_count": 52,
   "id": "9ad93aa5",
   "metadata": {},
   "outputs": [
    {
     "data": {
      "text/plain": [
       "0.0"
      ]
     },
     "execution_count": 52,
     "metadata": {},
     "output_type": "execute_result"
    }
   ],
   "source": [
    "ATAN2(0, 1)"
   ]
  },
  {
   "cell_type": "code",
   "execution_count": 53,
   "id": "8c6af553",
   "metadata": {},
   "outputs": [
    {
     "data": {
      "text/plain": [
       "3.141592653589793"
      ]
     },
     "execution_count": 53,
     "metadata": {},
     "output_type": "execute_result"
    }
   ],
   "source": [
    "ATAN2(0, -1)"
   ]
  },
  {
   "cell_type": "code",
   "execution_count": 54,
   "id": "c27835aa",
   "metadata": {},
   "outputs": [
    {
     "data": {
      "text/plain": [
       "1.5707963267948966"
      ]
     },
     "execution_count": 54,
     "metadata": {},
     "output_type": "execute_result"
    }
   ],
   "source": [
    "ATAN2(7, 0)"
   ]
  },
  {
   "cell_type": "code",
   "execution_count": 55,
   "id": "945a8196",
   "metadata": {},
   "outputs": [
    {
     "data": {
      "text/plain": [
       "1.1071487177940904"
      ]
     },
     "execution_count": 55,
     "metadata": {},
     "output_type": "execute_result"
    }
   ],
   "source": [
    "ATAN2(2, 1)"
   ]
  },
  {
   "cell_type": "code",
   "execution_count": 56,
   "id": "f2582df3",
   "metadata": {},
   "outputs": [
    {
     "data": {
      "text/plain": [
       "-1.1071487177940904"
      ]
     },
     "execution_count": 56,
     "metadata": {},
     "output_type": "execute_result"
    }
   ],
   "source": [
    "ATAN2(-2, 1)"
   ]
  },
  {
   "cell_type": "code",
   "execution_count": 57,
   "id": "ca1219b2",
   "metadata": {},
   "outputs": [
    {
     "data": {
      "text/plain": [
       "-2.0344439357957027"
      ]
     },
     "execution_count": 57,
     "metadata": {},
     "output_type": "execute_result"
    }
   ],
   "source": [
    "ATAN2(-2, -1)"
   ]
  },
  {
   "cell_type": "code",
   "execution_count": 58,
   "id": "c9bcee07",
   "metadata": {},
   "outputs": [
    {
     "data": {
      "text/plain": [
       "2.0344439357957027"
      ]
     },
     "execution_count": 58,
     "metadata": {},
     "output_type": "execute_result"
    }
   ],
   "source": [
    "ATAN2(2, -1)"
   ]
  },
  {
   "cell_type": "markdown",
   "id": "b4b4e1b5",
   "metadata": {},
   "source": [
    "## 6. CEILING\n",
    "\n",
    "**Описание:** \n",
    "\n",
    "Округляет число в большую сторону.\n",
    "\n",
    "**Входные и выходные данные:**\n",
    "\n",
    "На входе - число.\n",
    "\n",
    "На выходе - входное число, округлённое в большую сторону.\n",
    "\n",
    "### Реализация:"
   ]
  },
  {
   "cell_type": "code",
   "execution_count": 59,
   "id": "ff1ab3b9",
   "metadata": {},
   "outputs": [],
   "source": [
    "def CEILING(df, col = None):\n",
    "    if col == None:\n",
    "        import math\n",
    "        return math.ceil(df)\n",
    "    from sqlite3 import connect\n",
    "    import pandas as pd\n",
    "    conn = connect(':memory:')\n",
    "    df.to_sql('data', conn)\n",
    "    return pd.read_sql(f'SELECT *, CEILING({col}) FROM data', conn)"
   ]
  },
  {
   "cell_type": "markdown",
   "id": "ed5a27ca",
   "metadata": {},
   "source": [
    " ### Тестирование:"
   ]
  },
  {
   "cell_type": "code",
   "execution_count": 60,
   "id": "0e107f4b",
   "metadata": {
    "scrolled": false
   },
   "outputs": [
    {
     "data": {
      "text/html": [
       "<div>\n",
       "<style scoped>\n",
       "    .dataframe tbody tr th:only-of-type {\n",
       "        vertical-align: middle;\n",
       "    }\n",
       "\n",
       "    .dataframe tbody tr th {\n",
       "        vertical-align: top;\n",
       "    }\n",
       "\n",
       "    .dataframe thead th {\n",
       "        text-align: right;\n",
       "    }\n",
       "</style>\n",
       "<table border=\"1\" class=\"dataframe\">\n",
       "  <thead>\n",
       "    <tr style=\"text-align: right;\">\n",
       "      <th></th>\n",
       "      <th>index</th>\n",
       "      <th>true</th>\n",
       "      <th>score_logreg</th>\n",
       "      <th>score_svm</th>\n",
       "      <th>score_knn</th>\n",
       "      <th>score_tree</th>\n",
       "      <th>CEILING(score_logreg)</th>\n",
       "    </tr>\n",
       "  </thead>\n",
       "  <tbody>\n",
       "    <tr>\n",
       "      <th>0</th>\n",
       "      <td>0</td>\n",
       "      <td>0</td>\n",
       "      <td>0.683832</td>\n",
       "      <td>0.145976</td>\n",
       "      <td>0.787063</td>\n",
       "      <td>0.500000</td>\n",
       "      <td>1.0</td>\n",
       "    </tr>\n",
       "    <tr>\n",
       "      <th>1</th>\n",
       "      <td>1</td>\n",
       "      <td>1</td>\n",
       "      <td>0.801966</td>\n",
       "      <td>0.239511</td>\n",
       "      <td>1.000000</td>\n",
       "      <td>0.833333</td>\n",
       "      <td>1.0</td>\n",
       "    </tr>\n",
       "    <tr>\n",
       "      <th>2</th>\n",
       "      <td>2</td>\n",
       "      <td>0</td>\n",
       "      <td>0.382315</td>\n",
       "      <td>-0.245701</td>\n",
       "      <td>0.000000</td>\n",
       "      <td>0.000000</td>\n",
       "      <td>1.0</td>\n",
       "    </tr>\n",
       "    <tr>\n",
       "      <th>3</th>\n",
       "      <td>3</td>\n",
       "      <td>1</td>\n",
       "      <td>0.506797</td>\n",
       "      <td>-0.137058</td>\n",
       "      <td>0.000000</td>\n",
       "      <td>0.105263</td>\n",
       "      <td>1.0</td>\n",
       "    </tr>\n",
       "    <tr>\n",
       "      <th>4</th>\n",
       "      <td>4</td>\n",
       "      <td>1</td>\n",
       "      <td>0.488781</td>\n",
       "      <td>-0.154148</td>\n",
       "      <td>0.000000</td>\n",
       "      <td>0.105263</td>\n",
       "      <td>1.0</td>\n",
       "    </tr>\n",
       "    <tr>\n",
       "      <th>5</th>\n",
       "      <td>5</td>\n",
       "      <td>0</td>\n",
       "      <td>0.108506</td>\n",
       "      <td>-0.790864</td>\n",
       "      <td>0.000000</td>\n",
       "      <td>0.000000</td>\n",
       "      <td>1.0</td>\n",
       "    </tr>\n",
       "    <tr>\n",
       "      <th>6</th>\n",
       "      <td>6</td>\n",
       "      <td>0</td>\n",
       "      <td>0.413749</td>\n",
       "      <td>-0.185143</td>\n",
       "      <td>0.283053</td>\n",
       "      <td>0.363636</td>\n",
       "      <td>1.0</td>\n",
       "    </tr>\n",
       "    <tr>\n",
       "      <th>7</th>\n",
       "      <td>7</td>\n",
       "      <td>0</td>\n",
       "      <td>0.961081</td>\n",
       "      <td>0.830973</td>\n",
       "      <td>1.000000</td>\n",
       "      <td>1.000000</td>\n",
       "      <td>1.0</td>\n",
       "    </tr>\n",
       "    <tr>\n",
       "      <th>8</th>\n",
       "      <td>8</td>\n",
       "      <td>0</td>\n",
       "      <td>0.055733</td>\n",
       "      <td>-0.872805</td>\n",
       "      <td>0.000000</td>\n",
       "      <td>0.100000</td>\n",
       "      <td>1.0</td>\n",
       "    </tr>\n",
       "    <tr>\n",
       "      <th>9</th>\n",
       "      <td>9</td>\n",
       "      <td>0</td>\n",
       "      <td>0.168708</td>\n",
       "      <td>-0.518390</td>\n",
       "      <td>0.000000</td>\n",
       "      <td>0.100000</td>\n",
       "      <td>1.0</td>\n",
       "    </tr>\n",
       "  </tbody>\n",
       "</table>\n",
       "</div>"
      ],
      "text/plain": [
       "   index  true  score_logreg  score_svm  score_knn  score_tree  \\\n",
       "0      0     0      0.683832   0.145976   0.787063    0.500000   \n",
       "1      1     1      0.801966   0.239511   1.000000    0.833333   \n",
       "2      2     0      0.382315  -0.245701   0.000000    0.000000   \n",
       "3      3     1      0.506797  -0.137058   0.000000    0.105263   \n",
       "4      4     1      0.488781  -0.154148   0.000000    0.105263   \n",
       "5      5     0      0.108506  -0.790864   0.000000    0.000000   \n",
       "6      6     0      0.413749  -0.185143   0.283053    0.363636   \n",
       "7      7     0      0.961081   0.830973   1.000000    1.000000   \n",
       "8      8     0      0.055733  -0.872805   0.000000    0.100000   \n",
       "9      9     0      0.168708  -0.518390   0.000000    0.100000   \n",
       "\n",
       "   CEILING(score_logreg)  \n",
       "0                    1.0  \n",
       "1                    1.0  \n",
       "2                    1.0  \n",
       "3                    1.0  \n",
       "4                    1.0  \n",
       "5                    1.0  \n",
       "6                    1.0  \n",
       "7                    1.0  \n",
       "8                    1.0  \n",
       "9                    1.0  "
      ]
     },
     "execution_count": 60,
     "metadata": {},
     "output_type": "execute_result"
    }
   ],
   "source": [
    "CEILING(df, 'score_logreg')"
   ]
  },
  {
   "cell_type": "code",
   "execution_count": 61,
   "id": "eabc28fb",
   "metadata": {},
   "outputs": [
    {
     "data": {
      "text/plain": [
       "1"
      ]
     },
     "execution_count": 61,
     "metadata": {},
     "output_type": "execute_result"
    }
   ],
   "source": [
    "CEILING(0.683832)"
   ]
  },
  {
   "cell_type": "code",
   "execution_count": 62,
   "id": "373d8ed7",
   "metadata": {},
   "outputs": [
    {
     "data": {
      "text/plain": [
       "1"
      ]
     },
     "execution_count": 62,
     "metadata": {},
     "output_type": "execute_result"
    }
   ],
   "source": [
    "CEILING(0.961081)"
   ]
  },
  {
   "cell_type": "code",
   "execution_count": 63,
   "id": "abeced34",
   "metadata": {
    "scrolled": true
   },
   "outputs": [
    {
     "data": {
      "text/html": [
       "<div>\n",
       "<style scoped>\n",
       "    .dataframe tbody tr th:only-of-type {\n",
       "        vertical-align: middle;\n",
       "    }\n",
       "\n",
       "    .dataframe tbody tr th {\n",
       "        vertical-align: top;\n",
       "    }\n",
       "\n",
       "    .dataframe thead th {\n",
       "        text-align: right;\n",
       "    }\n",
       "</style>\n",
       "<table border=\"1\" class=\"dataframe\">\n",
       "  <thead>\n",
       "    <tr style=\"text-align: right;\">\n",
       "      <th></th>\n",
       "      <th>index</th>\n",
       "      <th>true</th>\n",
       "      <th>score_logreg</th>\n",
       "      <th>score_svm</th>\n",
       "      <th>score_knn</th>\n",
       "      <th>score_tree</th>\n",
       "      <th>CEILING(score_svm)</th>\n",
       "    </tr>\n",
       "  </thead>\n",
       "  <tbody>\n",
       "    <tr>\n",
       "      <th>0</th>\n",
       "      <td>0</td>\n",
       "      <td>0</td>\n",
       "      <td>0.683832</td>\n",
       "      <td>0.145976</td>\n",
       "      <td>0.787063</td>\n",
       "      <td>0.500000</td>\n",
       "      <td>1.0</td>\n",
       "    </tr>\n",
       "    <tr>\n",
       "      <th>1</th>\n",
       "      <td>1</td>\n",
       "      <td>1</td>\n",
       "      <td>0.801966</td>\n",
       "      <td>0.239511</td>\n",
       "      <td>1.000000</td>\n",
       "      <td>0.833333</td>\n",
       "      <td>1.0</td>\n",
       "    </tr>\n",
       "    <tr>\n",
       "      <th>2</th>\n",
       "      <td>2</td>\n",
       "      <td>0</td>\n",
       "      <td>0.382315</td>\n",
       "      <td>-0.245701</td>\n",
       "      <td>0.000000</td>\n",
       "      <td>0.000000</td>\n",
       "      <td>-0.0</td>\n",
       "    </tr>\n",
       "    <tr>\n",
       "      <th>3</th>\n",
       "      <td>3</td>\n",
       "      <td>1</td>\n",
       "      <td>0.506797</td>\n",
       "      <td>-0.137058</td>\n",
       "      <td>0.000000</td>\n",
       "      <td>0.105263</td>\n",
       "      <td>-0.0</td>\n",
       "    </tr>\n",
       "    <tr>\n",
       "      <th>4</th>\n",
       "      <td>4</td>\n",
       "      <td>1</td>\n",
       "      <td>0.488781</td>\n",
       "      <td>-0.154148</td>\n",
       "      <td>0.000000</td>\n",
       "      <td>0.105263</td>\n",
       "      <td>-0.0</td>\n",
       "    </tr>\n",
       "    <tr>\n",
       "      <th>5</th>\n",
       "      <td>5</td>\n",
       "      <td>0</td>\n",
       "      <td>0.108506</td>\n",
       "      <td>-0.790864</td>\n",
       "      <td>0.000000</td>\n",
       "      <td>0.000000</td>\n",
       "      <td>-0.0</td>\n",
       "    </tr>\n",
       "    <tr>\n",
       "      <th>6</th>\n",
       "      <td>6</td>\n",
       "      <td>0</td>\n",
       "      <td>0.413749</td>\n",
       "      <td>-0.185143</td>\n",
       "      <td>0.283053</td>\n",
       "      <td>0.363636</td>\n",
       "      <td>-0.0</td>\n",
       "    </tr>\n",
       "    <tr>\n",
       "      <th>7</th>\n",
       "      <td>7</td>\n",
       "      <td>0</td>\n",
       "      <td>0.961081</td>\n",
       "      <td>0.830973</td>\n",
       "      <td>1.000000</td>\n",
       "      <td>1.000000</td>\n",
       "      <td>1.0</td>\n",
       "    </tr>\n",
       "    <tr>\n",
       "      <th>8</th>\n",
       "      <td>8</td>\n",
       "      <td>0</td>\n",
       "      <td>0.055733</td>\n",
       "      <td>-0.872805</td>\n",
       "      <td>0.000000</td>\n",
       "      <td>0.100000</td>\n",
       "      <td>-0.0</td>\n",
       "    </tr>\n",
       "    <tr>\n",
       "      <th>9</th>\n",
       "      <td>9</td>\n",
       "      <td>0</td>\n",
       "      <td>0.168708</td>\n",
       "      <td>-0.518390</td>\n",
       "      <td>0.000000</td>\n",
       "      <td>0.100000</td>\n",
       "      <td>-0.0</td>\n",
       "    </tr>\n",
       "  </tbody>\n",
       "</table>\n",
       "</div>"
      ],
      "text/plain": [
       "   index  true  score_logreg  score_svm  score_knn  score_tree  \\\n",
       "0      0     0      0.683832   0.145976   0.787063    0.500000   \n",
       "1      1     1      0.801966   0.239511   1.000000    0.833333   \n",
       "2      2     0      0.382315  -0.245701   0.000000    0.000000   \n",
       "3      3     1      0.506797  -0.137058   0.000000    0.105263   \n",
       "4      4     1      0.488781  -0.154148   0.000000    0.105263   \n",
       "5      5     0      0.108506  -0.790864   0.000000    0.000000   \n",
       "6      6     0      0.413749  -0.185143   0.283053    0.363636   \n",
       "7      7     0      0.961081   0.830973   1.000000    1.000000   \n",
       "8      8     0      0.055733  -0.872805   0.000000    0.100000   \n",
       "9      9     0      0.168708  -0.518390   0.000000    0.100000   \n",
       "\n",
       "   CEILING(score_svm)  \n",
       "0                 1.0  \n",
       "1                 1.0  \n",
       "2                -0.0  \n",
       "3                -0.0  \n",
       "4                -0.0  \n",
       "5                -0.0  \n",
       "6                -0.0  \n",
       "7                 1.0  \n",
       "8                -0.0  \n",
       "9                -0.0  "
      ]
     },
     "execution_count": 63,
     "metadata": {},
     "output_type": "execute_result"
    }
   ],
   "source": [
    "CEILING(df, 'score_svm')"
   ]
  },
  {
   "cell_type": "code",
   "execution_count": 64,
   "id": "4c45b7c2",
   "metadata": {},
   "outputs": [
    {
     "data": {
      "text/plain": [
       "0"
      ]
     },
     "execution_count": 64,
     "metadata": {},
     "output_type": "execute_result"
    }
   ],
   "source": [
    "CEILING(-0.245701)"
   ]
  },
  {
   "cell_type": "code",
   "execution_count": 65,
   "id": "5ecc8a5e",
   "metadata": {},
   "outputs": [
    {
     "data": {
      "text/plain": [
       "0"
      ]
     },
     "execution_count": 65,
     "metadata": {},
     "output_type": "execute_result"
    }
   ],
   "source": [
    "CEILING(-0.518390)"
   ]
  },
  {
   "cell_type": "code",
   "execution_count": 66,
   "id": "8ef83a28",
   "metadata": {},
   "outputs": [
    {
     "data": {
      "text/plain": [
       "7"
      ]
     },
     "execution_count": 66,
     "metadata": {},
     "output_type": "execute_result"
    }
   ],
   "source": [
    "CEILING(7)"
   ]
  },
  {
   "cell_type": "code",
   "execution_count": 67,
   "id": "dae22cee",
   "metadata": {},
   "outputs": [
    {
     "data": {
      "text/plain": [
       "6"
      ]
     },
     "execution_count": 67,
     "metadata": {},
     "output_type": "execute_result"
    }
   ],
   "source": [
    "CEILING(5.8)"
   ]
  },
  {
   "cell_type": "code",
   "execution_count": 68,
   "id": "47b0d745",
   "metadata": {},
   "outputs": [
    {
     "data": {
      "text/plain": [
       "4"
      ]
     },
     "execution_count": 68,
     "metadata": {},
     "output_type": "execute_result"
    }
   ],
   "source": [
    "CEILING(3.1)"
   ]
  },
  {
   "cell_type": "code",
   "execution_count": 69,
   "id": "617dc2ee",
   "metadata": {},
   "outputs": [
    {
     "data": {
      "text/plain": [
       "-4"
      ]
     },
     "execution_count": 69,
     "metadata": {},
     "output_type": "execute_result"
    }
   ],
   "source": [
    "CEILING(-4.8)"
   ]
  },
  {
   "cell_type": "markdown",
   "id": "e295c502",
   "metadata": {},
   "source": [
    "## 7. COS\n",
    "\n",
    "**Описание:** \n",
    "\n",
    "Возвращает косинус угла. Угол указывается в радианах.\n",
    "\n",
    "**Входные и выходные данные:**\n",
    "\n",
    "На входе - число (угол).\n",
    "\n",
    "На выходе - число (косинус данного угла).\n",
    "\n",
    "### Реализация:"
   ]
  },
  {
   "cell_type": "code",
   "execution_count": 70,
   "id": "ff174cb8",
   "metadata": {},
   "outputs": [],
   "source": [
    "def COS(df, col = None):\n",
    "    if col == None:\n",
    "        import math\n",
    "        return math.cos(df)\n",
    "    from sqlite3 import connect\n",
    "    import pandas as pd\n",
    "    conn = connect(':memory:')\n",
    "    df.to_sql('data', conn)\n",
    "    return pd.read_sql(f'SELECT *, COS({col}) FROM data', conn)"
   ]
  },
  {
   "cell_type": "markdown",
   "id": "c56a3694",
   "metadata": {},
   "source": [
    " ### Тестирование:"
   ]
  },
  {
   "cell_type": "code",
   "execution_count": 71,
   "id": "f995eccb",
   "metadata": {
    "scrolled": false
   },
   "outputs": [
    {
     "data": {
      "text/html": [
       "<div>\n",
       "<style scoped>\n",
       "    .dataframe tbody tr th:only-of-type {\n",
       "        vertical-align: middle;\n",
       "    }\n",
       "\n",
       "    .dataframe tbody tr th {\n",
       "        vertical-align: top;\n",
       "    }\n",
       "\n",
       "    .dataframe thead th {\n",
       "        text-align: right;\n",
       "    }\n",
       "</style>\n",
       "<table border=\"1\" class=\"dataframe\">\n",
       "  <thead>\n",
       "    <tr style=\"text-align: right;\">\n",
       "      <th></th>\n",
       "      <th>index</th>\n",
       "      <th>true</th>\n",
       "      <th>score_logreg</th>\n",
       "      <th>score_svm</th>\n",
       "      <th>score_knn</th>\n",
       "      <th>score_tree</th>\n",
       "      <th>COS(score_logreg)</th>\n",
       "    </tr>\n",
       "  </thead>\n",
       "  <tbody>\n",
       "    <tr>\n",
       "      <th>0</th>\n",
       "      <td>0</td>\n",
       "      <td>0</td>\n",
       "      <td>0.683832</td>\n",
       "      <td>0.145976</td>\n",
       "      <td>0.787063</td>\n",
       "      <td>0.500000</td>\n",
       "      <td>0.775157</td>\n",
       "    </tr>\n",
       "    <tr>\n",
       "      <th>1</th>\n",
       "      <td>1</td>\n",
       "      <td>1</td>\n",
       "      <td>0.801966</td>\n",
       "      <td>0.239511</td>\n",
       "      <td>1.000000</td>\n",
       "      <td>0.833333</td>\n",
       "      <td>0.695295</td>\n",
       "    </tr>\n",
       "    <tr>\n",
       "      <th>2</th>\n",
       "      <td>2</td>\n",
       "      <td>0</td>\n",
       "      <td>0.382315</td>\n",
       "      <td>-0.245701</td>\n",
       "      <td>0.000000</td>\n",
       "      <td>0.000000</td>\n",
       "      <td>0.927803</td>\n",
       "    </tr>\n",
       "    <tr>\n",
       "      <th>3</th>\n",
       "      <td>3</td>\n",
       "      <td>1</td>\n",
       "      <td>0.506797</td>\n",
       "      <td>-0.137058</td>\n",
       "      <td>0.000000</td>\n",
       "      <td>0.105263</td>\n",
       "      <td>0.874304</td>\n",
       "    </tr>\n",
       "    <tr>\n",
       "      <th>4</th>\n",
       "      <td>4</td>\n",
       "      <td>1</td>\n",
       "      <td>0.488781</td>\n",
       "      <td>-0.154148</td>\n",
       "      <td>0.000000</td>\n",
       "      <td>0.105263</td>\n",
       "      <td>0.882906</td>\n",
       "    </tr>\n",
       "    <tr>\n",
       "      <th>5</th>\n",
       "      <td>5</td>\n",
       "      <td>0</td>\n",
       "      <td>0.108506</td>\n",
       "      <td>-0.790864</td>\n",
       "      <td>0.000000</td>\n",
       "      <td>0.000000</td>\n",
       "      <td>0.994119</td>\n",
       "    </tr>\n",
       "    <tr>\n",
       "      <th>6</th>\n",
       "      <td>6</td>\n",
       "      <td>0</td>\n",
       "      <td>0.413749</td>\n",
       "      <td>-0.185143</td>\n",
       "      <td>0.283053</td>\n",
       "      <td>0.363636</td>\n",
       "      <td>0.915620</td>\n",
       "    </tr>\n",
       "    <tr>\n",
       "      <th>7</th>\n",
       "      <td>7</td>\n",
       "      <td>0</td>\n",
       "      <td>0.961081</td>\n",
       "      <td>0.830973</td>\n",
       "      <td>1.000000</td>\n",
       "      <td>1.000000</td>\n",
       "      <td>0.572634</td>\n",
       "    </tr>\n",
       "    <tr>\n",
       "      <th>8</th>\n",
       "      <td>8</td>\n",
       "      <td>0</td>\n",
       "      <td>0.055733</td>\n",
       "      <td>-0.872805</td>\n",
       "      <td>0.000000</td>\n",
       "      <td>0.100000</td>\n",
       "      <td>0.998447</td>\n",
       "    </tr>\n",
       "    <tr>\n",
       "      <th>9</th>\n",
       "      <td>9</td>\n",
       "      <td>0</td>\n",
       "      <td>0.168708</td>\n",
       "      <td>-0.518390</td>\n",
       "      <td>0.000000</td>\n",
       "      <td>0.100000</td>\n",
       "      <td>0.985803</td>\n",
       "    </tr>\n",
       "  </tbody>\n",
       "</table>\n",
       "</div>"
      ],
      "text/plain": [
       "   index  true  score_logreg  score_svm  score_knn  score_tree  \\\n",
       "0      0     0      0.683832   0.145976   0.787063    0.500000   \n",
       "1      1     1      0.801966   0.239511   1.000000    0.833333   \n",
       "2      2     0      0.382315  -0.245701   0.000000    0.000000   \n",
       "3      3     1      0.506797  -0.137058   0.000000    0.105263   \n",
       "4      4     1      0.488781  -0.154148   0.000000    0.105263   \n",
       "5      5     0      0.108506  -0.790864   0.000000    0.000000   \n",
       "6      6     0      0.413749  -0.185143   0.283053    0.363636   \n",
       "7      7     0      0.961081   0.830973   1.000000    1.000000   \n",
       "8      8     0      0.055733  -0.872805   0.000000    0.100000   \n",
       "9      9     0      0.168708  -0.518390   0.000000    0.100000   \n",
       "\n",
       "   COS(score_logreg)  \n",
       "0           0.775157  \n",
       "1           0.695295  \n",
       "2           0.927803  \n",
       "3           0.874304  \n",
       "4           0.882906  \n",
       "5           0.994119  \n",
       "6           0.915620  \n",
       "7           0.572634  \n",
       "8           0.998447  \n",
       "9           0.985803  "
      ]
     },
     "execution_count": 71,
     "metadata": {},
     "output_type": "execute_result"
    }
   ],
   "source": [
    "COS(df, 'score_logreg')"
   ]
  },
  {
   "cell_type": "code",
   "execution_count": 72,
   "id": "f7774aca",
   "metadata": {},
   "outputs": [
    {
     "data": {
      "text/plain": [
       "0.7751572837509959"
      ]
     },
     "execution_count": 72,
     "metadata": {},
     "output_type": "execute_result"
    }
   ],
   "source": [
    "COS(df.iloc[0]['score_logreg'])"
   ]
  },
  {
   "cell_type": "code",
   "execution_count": 73,
   "id": "61c2bd24",
   "metadata": {},
   "outputs": [
    {
     "data": {
      "text/plain": [
       "0.572633895490653"
      ]
     },
     "execution_count": 73,
     "metadata": {},
     "output_type": "execute_result"
    }
   ],
   "source": [
    "COS(df.iloc[7]['score_logreg'])"
   ]
  },
  {
   "cell_type": "code",
   "execution_count": 74,
   "id": "26240c9c",
   "metadata": {
    "scrolled": true
   },
   "outputs": [
    {
     "data": {
      "text/html": [
       "<div>\n",
       "<style scoped>\n",
       "    .dataframe tbody tr th:only-of-type {\n",
       "        vertical-align: middle;\n",
       "    }\n",
       "\n",
       "    .dataframe tbody tr th {\n",
       "        vertical-align: top;\n",
       "    }\n",
       "\n",
       "    .dataframe thead th {\n",
       "        text-align: right;\n",
       "    }\n",
       "</style>\n",
       "<table border=\"1\" class=\"dataframe\">\n",
       "  <thead>\n",
       "    <tr style=\"text-align: right;\">\n",
       "      <th></th>\n",
       "      <th>index</th>\n",
       "      <th>true</th>\n",
       "      <th>score_logreg</th>\n",
       "      <th>score_svm</th>\n",
       "      <th>score_knn</th>\n",
       "      <th>score_tree</th>\n",
       "      <th>COS(score_svm)</th>\n",
       "    </tr>\n",
       "  </thead>\n",
       "  <tbody>\n",
       "    <tr>\n",
       "      <th>0</th>\n",
       "      <td>0</td>\n",
       "      <td>0</td>\n",
       "      <td>0.683832</td>\n",
       "      <td>0.145976</td>\n",
       "      <td>0.787063</td>\n",
       "      <td>0.500000</td>\n",
       "      <td>0.989364</td>\n",
       "    </tr>\n",
       "    <tr>\n",
       "      <th>1</th>\n",
       "      <td>1</td>\n",
       "      <td>1</td>\n",
       "      <td>0.801966</td>\n",
       "      <td>0.239511</td>\n",
       "      <td>1.000000</td>\n",
       "      <td>0.833333</td>\n",
       "      <td>0.971454</td>\n",
       "    </tr>\n",
       "    <tr>\n",
       "      <th>2</th>\n",
       "      <td>2</td>\n",
       "      <td>0</td>\n",
       "      <td>0.382315</td>\n",
       "      <td>-0.245701</td>\n",
       "      <td>0.000000</td>\n",
       "      <td>0.000000</td>\n",
       "      <td>0.969967</td>\n",
       "    </tr>\n",
       "    <tr>\n",
       "      <th>3</th>\n",
       "      <td>3</td>\n",
       "      <td>1</td>\n",
       "      <td>0.506797</td>\n",
       "      <td>-0.137058</td>\n",
       "      <td>0.000000</td>\n",
       "      <td>0.105263</td>\n",
       "      <td>0.990622</td>\n",
       "    </tr>\n",
       "    <tr>\n",
       "      <th>4</th>\n",
       "      <td>4</td>\n",
       "      <td>1</td>\n",
       "      <td>0.488781</td>\n",
       "      <td>-0.154148</td>\n",
       "      <td>0.000000</td>\n",
       "      <td>0.105263</td>\n",
       "      <td>0.988143</td>\n",
       "    </tr>\n",
       "    <tr>\n",
       "      <th>5</th>\n",
       "      <td>5</td>\n",
       "      <td>0</td>\n",
       "      <td>0.108506</td>\n",
       "      <td>-0.790864</td>\n",
       "      <td>0.000000</td>\n",
       "      <td>0.000000</td>\n",
       "      <td>0.703231</td>\n",
       "    </tr>\n",
       "    <tr>\n",
       "      <th>6</th>\n",
       "      <td>6</td>\n",
       "      <td>0</td>\n",
       "      <td>0.413749</td>\n",
       "      <td>-0.185143</td>\n",
       "      <td>0.283053</td>\n",
       "      <td>0.363636</td>\n",
       "      <td>0.982910</td>\n",
       "    </tr>\n",
       "    <tr>\n",
       "      <th>7</th>\n",
       "      <td>7</td>\n",
       "      <td>0</td>\n",
       "      <td>0.961081</td>\n",
       "      <td>0.830973</td>\n",
       "      <td>1.000000</td>\n",
       "      <td>1.000000</td>\n",
       "      <td>0.674157</td>\n",
       "    </tr>\n",
       "    <tr>\n",
       "      <th>8</th>\n",
       "      <td>8</td>\n",
       "      <td>0</td>\n",
       "      <td>0.055733</td>\n",
       "      <td>-0.872805</td>\n",
       "      <td>0.000000</td>\n",
       "      <td>0.100000</td>\n",
       "      <td>0.642680</td>\n",
       "    </tr>\n",
       "    <tr>\n",
       "      <th>9</th>\n",
       "      <td>9</td>\n",
       "      <td>0</td>\n",
       "      <td>0.168708</td>\n",
       "      <td>-0.518390</td>\n",
       "      <td>0.000000</td>\n",
       "      <td>0.100000</td>\n",
       "      <td>0.868618</td>\n",
       "    </tr>\n",
       "  </tbody>\n",
       "</table>\n",
       "</div>"
      ],
      "text/plain": [
       "   index  true  score_logreg  score_svm  score_knn  score_tree  COS(score_svm)\n",
       "0      0     0      0.683832   0.145976   0.787063    0.500000        0.989364\n",
       "1      1     1      0.801966   0.239511   1.000000    0.833333        0.971454\n",
       "2      2     0      0.382315  -0.245701   0.000000    0.000000        0.969967\n",
       "3      3     1      0.506797  -0.137058   0.000000    0.105263        0.990622\n",
       "4      4     1      0.488781  -0.154148   0.000000    0.105263        0.988143\n",
       "5      5     0      0.108506  -0.790864   0.000000    0.000000        0.703231\n",
       "6      6     0      0.413749  -0.185143   0.283053    0.363636        0.982910\n",
       "7      7     0      0.961081   0.830973   1.000000    1.000000        0.674157\n",
       "8      8     0      0.055733  -0.872805   0.000000    0.100000        0.642680\n",
       "9      9     0      0.168708  -0.518390   0.000000    0.100000        0.868618"
      ]
     },
     "execution_count": 74,
     "metadata": {},
     "output_type": "execute_result"
    }
   ],
   "source": [
    "COS(df, 'score_svm')"
   ]
  },
  {
   "cell_type": "code",
   "execution_count": 75,
   "id": "6a9ae306",
   "metadata": {},
   "outputs": [
    {
     "data": {
      "text/plain": [
       "0.9699671448472134"
      ]
     },
     "execution_count": 75,
     "metadata": {},
     "output_type": "execute_result"
    }
   ],
   "source": [
    "COS(df.iloc[2]['score_svm'])"
   ]
  },
  {
   "cell_type": "code",
   "execution_count": 76,
   "id": "8ea43614",
   "metadata": {},
   "outputs": [
    {
     "data": {
      "text/plain": [
       "0.8686178388999501"
      ]
     },
     "execution_count": 76,
     "metadata": {},
     "output_type": "execute_result"
    }
   ],
   "source": [
    "COS(df.iloc[9]['score_svm'])"
   ]
  },
  {
   "cell_type": "code",
   "execution_count": 77,
   "id": "4800230d",
   "metadata": {},
   "outputs": [
    {
     "data": {
      "text/plain": [
       "-1.0"
      ]
     },
     "execution_count": 77,
     "metadata": {},
     "output_type": "execute_result"
    }
   ],
   "source": [
    "import math\n",
    "COS(math.pi)"
   ]
  },
  {
   "cell_type": "code",
   "execution_count": 78,
   "id": "67b13bcd",
   "metadata": {},
   "outputs": [
    {
     "data": {
      "text/plain": [
       "0.5000000000000001"
      ]
     },
     "execution_count": 78,
     "metadata": {},
     "output_type": "execute_result"
    }
   ],
   "source": [
    "COS(math.pi / 3)"
   ]
  },
  {
   "cell_type": "code",
   "execution_count": 79,
   "id": "08a5d02f",
   "metadata": {},
   "outputs": [
    {
     "data": {
      "text/plain": [
       "-0.8660254037844387"
      ]
     },
     "execution_count": 79,
     "metadata": {},
     "output_type": "execute_result"
    }
   ],
   "source": [
    "COS(-5*math.pi / 6)"
   ]
  },
  {
   "cell_type": "markdown",
   "id": "be00fa92",
   "metadata": {},
   "source": [
    "## 8. COT\n",
    "\n",
    "**Описание:** \n",
    "\n",
    "Возвращает котангенс угла. Угол указывается в радианах.\n",
    "\n",
    "**Входные и выходные данные:**\n",
    "\n",
    "На входе - число (угол).\n",
    "\n",
    "На выходе - число (котангенс данного угла).\n",
    "\n",
    "### Реализация:"
   ]
  },
  {
   "cell_type": "code",
   "execution_count": 80,
   "id": "57758e62",
   "metadata": {},
   "outputs": [],
   "source": [
    "def COT(df, col = None):\n",
    "    if col == None:\n",
    "        import math\n",
    "        if math.sin(df) != 0:\n",
    "            return math.cos(df) / math.sin(df)\n",
    "        return math.nan\n",
    "    from sqlite3 import connect\n",
    "    import pandas as pd\n",
    "    conn = connect(':memory:')\n",
    "    df.to_sql('data', conn)\n",
    "    return pd.read_sql(f'SELECT *, COS({col}) / SIN({col}) FROM data', conn)"
   ]
  },
  {
   "cell_type": "markdown",
   "id": "c8584bd5",
   "metadata": {},
   "source": [
    " ### Тестирование:"
   ]
  },
  {
   "cell_type": "code",
   "execution_count": 81,
   "id": "dd2b8da2",
   "metadata": {
    "scrolled": true
   },
   "outputs": [
    {
     "data": {
      "text/html": [
       "<div>\n",
       "<style scoped>\n",
       "    .dataframe tbody tr th:only-of-type {\n",
       "        vertical-align: middle;\n",
       "    }\n",
       "\n",
       "    .dataframe tbody tr th {\n",
       "        vertical-align: top;\n",
       "    }\n",
       "\n",
       "    .dataframe thead th {\n",
       "        text-align: right;\n",
       "    }\n",
       "</style>\n",
       "<table border=\"1\" class=\"dataframe\">\n",
       "  <thead>\n",
       "    <tr style=\"text-align: right;\">\n",
       "      <th></th>\n",
       "      <th>index</th>\n",
       "      <th>true</th>\n",
       "      <th>score_logreg</th>\n",
       "      <th>score_svm</th>\n",
       "      <th>score_knn</th>\n",
       "      <th>score_tree</th>\n",
       "      <th>COS(score_logreg) / SIN(score_logreg)</th>\n",
       "    </tr>\n",
       "  </thead>\n",
       "  <tbody>\n",
       "    <tr>\n",
       "      <th>0</th>\n",
       "      <td>0</td>\n",
       "      <td>0</td>\n",
       "      <td>0.683832</td>\n",
       "      <td>0.145976</td>\n",
       "      <td>0.787063</td>\n",
       "      <td>0.500000</td>\n",
       "      <td>1.226965</td>\n",
       "    </tr>\n",
       "    <tr>\n",
       "      <th>1</th>\n",
       "      <td>1</td>\n",
       "      <td>1</td>\n",
       "      <td>0.801966</td>\n",
       "      <td>0.239511</td>\n",
       "      <td>1.000000</td>\n",
       "      <td>0.833333</td>\n",
       "      <td>0.967400</td>\n",
       "    </tr>\n",
       "    <tr>\n",
       "      <th>2</th>\n",
       "      <td>2</td>\n",
       "      <td>0</td>\n",
       "      <td>0.382315</td>\n",
       "      <td>-0.245701</td>\n",
       "      <td>0.000000</td>\n",
       "      <td>0.000000</td>\n",
       "      <td>2.486944</td>\n",
       "    </tr>\n",
       "    <tr>\n",
       "      <th>3</th>\n",
       "      <td>3</td>\n",
       "      <td>1</td>\n",
       "      <td>0.506797</td>\n",
       "      <td>-0.137058</td>\n",
       "      <td>0.000000</td>\n",
       "      <td>0.105263</td>\n",
       "      <td>1.801280</td>\n",
       "    </tr>\n",
       "    <tr>\n",
       "      <th>4</th>\n",
       "      <td>4</td>\n",
       "      <td>1</td>\n",
       "      <td>0.488781</td>\n",
       "      <td>-0.154148</td>\n",
       "      <td>0.000000</td>\n",
       "      <td>0.105263</td>\n",
       "      <td>1.880321</td>\n",
       "    </tr>\n",
       "    <tr>\n",
       "      <th>5</th>\n",
       "      <td>5</td>\n",
       "      <td>0</td>\n",
       "      <td>0.108506</td>\n",
       "      <td>-0.790864</td>\n",
       "      <td>0.000000</td>\n",
       "      <td>0.000000</td>\n",
       "      <td>9.179863</td>\n",
       "    </tr>\n",
       "    <tr>\n",
       "      <th>6</th>\n",
       "      <td>6</td>\n",
       "      <td>0</td>\n",
       "      <td>0.413749</td>\n",
       "      <td>-0.185143</td>\n",
       "      <td>0.283053</td>\n",
       "      <td>0.363636</td>\n",
       "      <td>2.277408</td>\n",
       "    </tr>\n",
       "    <tr>\n",
       "      <th>7</th>\n",
       "      <td>7</td>\n",
       "      <td>0</td>\n",
       "      <td>0.961081</td>\n",
       "      <td>0.830973</td>\n",
       "      <td>1.000000</td>\n",
       "      <td>1.000000</td>\n",
       "      <td>0.698495</td>\n",
       "    </tr>\n",
       "    <tr>\n",
       "      <th>8</th>\n",
       "      <td>8</td>\n",
       "      <td>0</td>\n",
       "      <td>0.055733</td>\n",
       "      <td>-0.872805</td>\n",
       "      <td>0.000000</td>\n",
       "      <td>0.100000</td>\n",
       "      <td>17.924236</td>\n",
       "    </tr>\n",
       "    <tr>\n",
       "      <th>9</th>\n",
       "      <td>9</td>\n",
       "      <td>0</td>\n",
       "      <td>0.168708</td>\n",
       "      <td>-0.518390</td>\n",
       "      <td>0.000000</td>\n",
       "      <td>0.100000</td>\n",
       "      <td>5.871054</td>\n",
       "    </tr>\n",
       "  </tbody>\n",
       "</table>\n",
       "</div>"
      ],
      "text/plain": [
       "   index  true  score_logreg  score_svm  score_knn  score_tree  \\\n",
       "0      0     0      0.683832   0.145976   0.787063    0.500000   \n",
       "1      1     1      0.801966   0.239511   1.000000    0.833333   \n",
       "2      2     0      0.382315  -0.245701   0.000000    0.000000   \n",
       "3      3     1      0.506797  -0.137058   0.000000    0.105263   \n",
       "4      4     1      0.488781  -0.154148   0.000000    0.105263   \n",
       "5      5     0      0.108506  -0.790864   0.000000    0.000000   \n",
       "6      6     0      0.413749  -0.185143   0.283053    0.363636   \n",
       "7      7     0      0.961081   0.830973   1.000000    1.000000   \n",
       "8      8     0      0.055733  -0.872805   0.000000    0.100000   \n",
       "9      9     0      0.168708  -0.518390   0.000000    0.100000   \n",
       "\n",
       "   COS(score_logreg) / SIN(score_logreg)  \n",
       "0                               1.226965  \n",
       "1                               0.967400  \n",
       "2                               2.486944  \n",
       "3                               1.801280  \n",
       "4                               1.880321  \n",
       "5                               9.179863  \n",
       "6                               2.277408  \n",
       "7                               0.698495  \n",
       "8                              17.924236  \n",
       "9                               5.871054  "
      ]
     },
     "execution_count": 81,
     "metadata": {},
     "output_type": "execute_result"
    }
   ],
   "source": [
    "COT(df, 'score_logreg')"
   ]
  },
  {
   "cell_type": "code",
   "execution_count": 82,
   "id": "286c3a2c",
   "metadata": {},
   "outputs": [
    {
     "data": {
      "text/plain": [
       "1.226964510888565"
      ]
     },
     "execution_count": 82,
     "metadata": {},
     "output_type": "execute_result"
    }
   ],
   "source": [
    "COT(df.iloc[0]['score_logreg'])"
   ]
  },
  {
   "cell_type": "code",
   "execution_count": 83,
   "id": "40068020",
   "metadata": {},
   "outputs": [
    {
     "data": {
      "text/plain": [
       "0.6984948336693159"
      ]
     },
     "execution_count": 83,
     "metadata": {},
     "output_type": "execute_result"
    }
   ],
   "source": [
    "COT(df.iloc[7]['score_logreg'])"
   ]
  },
  {
   "cell_type": "code",
   "execution_count": 84,
   "id": "c71a0e05",
   "metadata": {
    "scrolled": true
   },
   "outputs": [
    {
     "data": {
      "text/html": [
       "<div>\n",
       "<style scoped>\n",
       "    .dataframe tbody tr th:only-of-type {\n",
       "        vertical-align: middle;\n",
       "    }\n",
       "\n",
       "    .dataframe tbody tr th {\n",
       "        vertical-align: top;\n",
       "    }\n",
       "\n",
       "    .dataframe thead th {\n",
       "        text-align: right;\n",
       "    }\n",
       "</style>\n",
       "<table border=\"1\" class=\"dataframe\">\n",
       "  <thead>\n",
       "    <tr style=\"text-align: right;\">\n",
       "      <th></th>\n",
       "      <th>index</th>\n",
       "      <th>true</th>\n",
       "      <th>score_logreg</th>\n",
       "      <th>score_svm</th>\n",
       "      <th>score_knn</th>\n",
       "      <th>score_tree</th>\n",
       "      <th>COS(score_knn) / SIN(score_knn)</th>\n",
       "    </tr>\n",
       "  </thead>\n",
       "  <tbody>\n",
       "    <tr>\n",
       "      <th>0</th>\n",
       "      <td>0</td>\n",
       "      <td>0</td>\n",
       "      <td>0.683832</td>\n",
       "      <td>0.145976</td>\n",
       "      <td>0.787063</td>\n",
       "      <td>0.500000</td>\n",
       "      <td>0.996677</td>\n",
       "    </tr>\n",
       "    <tr>\n",
       "      <th>1</th>\n",
       "      <td>1</td>\n",
       "      <td>1</td>\n",
       "      <td>0.801966</td>\n",
       "      <td>0.239511</td>\n",
       "      <td>1.000000</td>\n",
       "      <td>0.833333</td>\n",
       "      <td>0.642093</td>\n",
       "    </tr>\n",
       "    <tr>\n",
       "      <th>2</th>\n",
       "      <td>2</td>\n",
       "      <td>0</td>\n",
       "      <td>0.382315</td>\n",
       "      <td>-0.245701</td>\n",
       "      <td>0.000000</td>\n",
       "      <td>0.000000</td>\n",
       "      <td>NaN</td>\n",
       "    </tr>\n",
       "    <tr>\n",
       "      <th>3</th>\n",
       "      <td>3</td>\n",
       "      <td>1</td>\n",
       "      <td>0.506797</td>\n",
       "      <td>-0.137058</td>\n",
       "      <td>0.000000</td>\n",
       "      <td>0.105263</td>\n",
       "      <td>NaN</td>\n",
       "    </tr>\n",
       "    <tr>\n",
       "      <th>4</th>\n",
       "      <td>4</td>\n",
       "      <td>1</td>\n",
       "      <td>0.488781</td>\n",
       "      <td>-0.154148</td>\n",
       "      <td>0.000000</td>\n",
       "      <td>0.105263</td>\n",
       "      <td>NaN</td>\n",
       "    </tr>\n",
       "    <tr>\n",
       "      <th>5</th>\n",
       "      <td>5</td>\n",
       "      <td>0</td>\n",
       "      <td>0.108506</td>\n",
       "      <td>-0.790864</td>\n",
       "      <td>0.000000</td>\n",
       "      <td>0.000000</td>\n",
       "      <td>NaN</td>\n",
       "    </tr>\n",
       "    <tr>\n",
       "      <th>6</th>\n",
       "      <td>6</td>\n",
       "      <td>0</td>\n",
       "      <td>0.413749</td>\n",
       "      <td>-0.185143</td>\n",
       "      <td>0.283053</td>\n",
       "      <td>0.363636</td>\n",
       "      <td>3.438055</td>\n",
       "    </tr>\n",
       "    <tr>\n",
       "      <th>7</th>\n",
       "      <td>7</td>\n",
       "      <td>0</td>\n",
       "      <td>0.961081</td>\n",
       "      <td>0.830973</td>\n",
       "      <td>1.000000</td>\n",
       "      <td>1.000000</td>\n",
       "      <td>0.642093</td>\n",
       "    </tr>\n",
       "    <tr>\n",
       "      <th>8</th>\n",
       "      <td>8</td>\n",
       "      <td>0</td>\n",
       "      <td>0.055733</td>\n",
       "      <td>-0.872805</td>\n",
       "      <td>0.000000</td>\n",
       "      <td>0.100000</td>\n",
       "      <td>NaN</td>\n",
       "    </tr>\n",
       "    <tr>\n",
       "      <th>9</th>\n",
       "      <td>9</td>\n",
       "      <td>0</td>\n",
       "      <td>0.168708</td>\n",
       "      <td>-0.518390</td>\n",
       "      <td>0.000000</td>\n",
       "      <td>0.100000</td>\n",
       "      <td>NaN</td>\n",
       "    </tr>\n",
       "  </tbody>\n",
       "</table>\n",
       "</div>"
      ],
      "text/plain": [
       "   index  true  score_logreg  score_svm  score_knn  score_tree  \\\n",
       "0      0     0      0.683832   0.145976   0.787063    0.500000   \n",
       "1      1     1      0.801966   0.239511   1.000000    0.833333   \n",
       "2      2     0      0.382315  -0.245701   0.000000    0.000000   \n",
       "3      3     1      0.506797  -0.137058   0.000000    0.105263   \n",
       "4      4     1      0.488781  -0.154148   0.000000    0.105263   \n",
       "5      5     0      0.108506  -0.790864   0.000000    0.000000   \n",
       "6      6     0      0.413749  -0.185143   0.283053    0.363636   \n",
       "7      7     0      0.961081   0.830973   1.000000    1.000000   \n",
       "8      8     0      0.055733  -0.872805   0.000000    0.100000   \n",
       "9      9     0      0.168708  -0.518390   0.000000    0.100000   \n",
       "\n",
       "   COS(score_knn) / SIN(score_knn)  \n",
       "0                         0.996677  \n",
       "1                         0.642093  \n",
       "2                              NaN  \n",
       "3                              NaN  \n",
       "4                              NaN  \n",
       "5                              NaN  \n",
       "6                         3.438055  \n",
       "7                         0.642093  \n",
       "8                              NaN  \n",
       "9                              NaN  "
      ]
     },
     "execution_count": 84,
     "metadata": {},
     "output_type": "execute_result"
    }
   ],
   "source": [
    "COT(df, 'score_knn')"
   ]
  },
  {
   "cell_type": "code",
   "execution_count": 85,
   "id": "d4a3092d",
   "metadata": {},
   "outputs": [
    {
     "data": {
      "text/plain": [
       "nan"
      ]
     },
     "execution_count": 85,
     "metadata": {},
     "output_type": "execute_result"
    }
   ],
   "source": [
    "COT(0)"
   ]
  },
  {
   "cell_type": "code",
   "execution_count": 86,
   "id": "9add4bd1",
   "metadata": {},
   "outputs": [
    {
     "data": {
      "text/plain": [
       "3.4380547504610757"
      ]
     },
     "execution_count": 86,
     "metadata": {},
     "output_type": "execute_result"
    }
   ],
   "source": [
    "COT(df.iloc[6]['score_knn'])"
   ]
  },
  {
   "cell_type": "code",
   "execution_count": 87,
   "id": "993ca89d",
   "metadata": {},
   "outputs": [
    {
     "data": {
      "text/plain": [
       "1.0000000000000002"
      ]
     },
     "execution_count": 87,
     "metadata": {},
     "output_type": "execute_result"
    }
   ],
   "source": [
    "COT(math.pi / 4)"
   ]
  },
  {
   "cell_type": "code",
   "execution_count": 88,
   "id": "826cc002",
   "metadata": {},
   "outputs": [
    {
     "data": {
      "text/plain": [
       "6.123233995736766e-17"
      ]
     },
     "execution_count": 88,
     "metadata": {},
     "output_type": "execute_result"
    }
   ],
   "source": [
    "COT(math.pi / 2)"
   ]
  },
  {
   "cell_type": "code",
   "execution_count": 89,
   "id": "a8f62595",
   "metadata": {},
   "outputs": [
    {
     "data": {
      "text/plain": [
       "-4082809838298842.5"
      ]
     },
     "execution_count": 89,
     "metadata": {},
     "output_type": "execute_result"
    }
   ],
   "source": [
    "COT(2 * math.pi)"
   ]
  },
  {
   "cell_type": "code",
   "execution_count": 90,
   "id": "ffe62116",
   "metadata": {},
   "outputs": [
    {
     "data": {
      "text/plain": [
       "0.6420926159343308"
      ]
     },
     "execution_count": 90,
     "metadata": {},
     "output_type": "execute_result"
    }
   ],
   "source": [
    "COT(1)"
   ]
  },
  {
   "cell_type": "markdown",
   "id": "13271d49",
   "metadata": {},
   "source": [
    "## 9. DEGREES\n",
    "\n",
    "**Описание:** \n",
    "\n",
    "Преобразует число из радианов в градусы.\n",
    "\n",
    "**Входные и выходные данные:**\n",
    "\n",
    "На входе - число (угол в радианах).\n",
    "\n",
    "На выходе - число (угол в градусах).\n",
    "\n",
    "### Реализация:"
   ]
  },
  {
   "cell_type": "code",
   "execution_count": 91,
   "id": "13febd25",
   "metadata": {},
   "outputs": [],
   "source": [
    "def DEGREES(df, col = None): \n",
    "    if col == None:          \n",
    "        import math         \n",
    "        return math.degrees(df)\n",
    "    from sqlite3 import connect\n",
    "    import pandas as pd\n",
    "    conn = connect(':memory:')\n",
    "    df.to_sql('data', conn)\n",
    "    return pd.read_sql(f'SELECT *, DEGREES({col}) FROM data', conn)"
   ]
  },
  {
   "cell_type": "markdown",
   "id": "08005efc",
   "metadata": {},
   "source": [
    " ### Тестирование:"
   ]
  },
  {
   "cell_type": "code",
   "execution_count": 92,
   "id": "54f4028c",
   "metadata": {
    "scrolled": true
   },
   "outputs": [
    {
     "data": {
      "text/html": [
       "<div>\n",
       "<style scoped>\n",
       "    .dataframe tbody tr th:only-of-type {\n",
       "        vertical-align: middle;\n",
       "    }\n",
       "\n",
       "    .dataframe tbody tr th {\n",
       "        vertical-align: top;\n",
       "    }\n",
       "\n",
       "    .dataframe thead th {\n",
       "        text-align: right;\n",
       "    }\n",
       "</style>\n",
       "<table border=\"1\" class=\"dataframe\">\n",
       "  <thead>\n",
       "    <tr style=\"text-align: right;\">\n",
       "      <th></th>\n",
       "      <th>index</th>\n",
       "      <th>true</th>\n",
       "      <th>score_logreg</th>\n",
       "      <th>score_svm</th>\n",
       "      <th>score_knn</th>\n",
       "      <th>score_tree</th>\n",
       "      <th>DEGREES(score_logreg)</th>\n",
       "    </tr>\n",
       "  </thead>\n",
       "  <tbody>\n",
       "    <tr>\n",
       "      <th>0</th>\n",
       "      <td>0</td>\n",
       "      <td>0</td>\n",
       "      <td>0.683832</td>\n",
       "      <td>0.145976</td>\n",
       "      <td>0.787063</td>\n",
       "      <td>0.500000</td>\n",
       "      <td>39.180705</td>\n",
       "    </tr>\n",
       "    <tr>\n",
       "      <th>1</th>\n",
       "      <td>1</td>\n",
       "      <td>1</td>\n",
       "      <td>0.801966</td>\n",
       "      <td>0.239511</td>\n",
       "      <td>1.000000</td>\n",
       "      <td>0.833333</td>\n",
       "      <td>45.949295</td>\n",
       "    </tr>\n",
       "    <tr>\n",
       "      <th>2</th>\n",
       "      <td>2</td>\n",
       "      <td>0</td>\n",
       "      <td>0.382315</td>\n",
       "      <td>-0.245701</td>\n",
       "      <td>0.000000</td>\n",
       "      <td>0.000000</td>\n",
       "      <td>21.905057</td>\n",
       "    </tr>\n",
       "    <tr>\n",
       "      <th>3</th>\n",
       "      <td>3</td>\n",
       "      <td>1</td>\n",
       "      <td>0.506797</td>\n",
       "      <td>-0.137058</td>\n",
       "      <td>0.000000</td>\n",
       "      <td>0.105263</td>\n",
       "      <td>29.037323</td>\n",
       "    </tr>\n",
       "    <tr>\n",
       "      <th>4</th>\n",
       "      <td>4</td>\n",
       "      <td>1</td>\n",
       "      <td>0.488781</td>\n",
       "      <td>-0.154148</td>\n",
       "      <td>0.000000</td>\n",
       "      <td>0.105263</td>\n",
       "      <td>28.005116</td>\n",
       "    </tr>\n",
       "    <tr>\n",
       "      <th>5</th>\n",
       "      <td>5</td>\n",
       "      <td>0</td>\n",
       "      <td>0.108506</td>\n",
       "      <td>-0.790864</td>\n",
       "      <td>0.000000</td>\n",
       "      <td>0.000000</td>\n",
       "      <td>6.216949</td>\n",
       "    </tr>\n",
       "    <tr>\n",
       "      <th>6</th>\n",
       "      <td>6</td>\n",
       "      <td>0</td>\n",
       "      <td>0.413749</td>\n",
       "      <td>-0.185143</td>\n",
       "      <td>0.283053</td>\n",
       "      <td>0.363636</td>\n",
       "      <td>23.706070</td>\n",
       "    </tr>\n",
       "    <tr>\n",
       "      <th>7</th>\n",
       "      <td>7</td>\n",
       "      <td>0</td>\n",
       "      <td>0.961081</td>\n",
       "      <td>0.830973</td>\n",
       "      <td>1.000000</td>\n",
       "      <td>1.000000</td>\n",
       "      <td>55.065900</td>\n",
       "    </tr>\n",
       "    <tr>\n",
       "      <th>8</th>\n",
       "      <td>8</td>\n",
       "      <td>0</td>\n",
       "      <td>0.055733</td>\n",
       "      <td>-0.872805</td>\n",
       "      <td>0.000000</td>\n",
       "      <td>0.100000</td>\n",
       "      <td>3.193243</td>\n",
       "    </tr>\n",
       "    <tr>\n",
       "      <th>9</th>\n",
       "      <td>9</td>\n",
       "      <td>0</td>\n",
       "      <td>0.168708</td>\n",
       "      <td>-0.518390</td>\n",
       "      <td>0.000000</td>\n",
       "      <td>0.100000</td>\n",
       "      <td>9.666263</td>\n",
       "    </tr>\n",
       "  </tbody>\n",
       "</table>\n",
       "</div>"
      ],
      "text/plain": [
       "   index  true  score_logreg  score_svm  score_knn  score_tree  \\\n",
       "0      0     0      0.683832   0.145976   0.787063    0.500000   \n",
       "1      1     1      0.801966   0.239511   1.000000    0.833333   \n",
       "2      2     0      0.382315  -0.245701   0.000000    0.000000   \n",
       "3      3     1      0.506797  -0.137058   0.000000    0.105263   \n",
       "4      4     1      0.488781  -0.154148   0.000000    0.105263   \n",
       "5      5     0      0.108506  -0.790864   0.000000    0.000000   \n",
       "6      6     0      0.413749  -0.185143   0.283053    0.363636   \n",
       "7      7     0      0.961081   0.830973   1.000000    1.000000   \n",
       "8      8     0      0.055733  -0.872805   0.000000    0.100000   \n",
       "9      9     0      0.168708  -0.518390   0.000000    0.100000   \n",
       "\n",
       "   DEGREES(score_logreg)  \n",
       "0              39.180705  \n",
       "1              45.949295  \n",
       "2              21.905057  \n",
       "3              29.037323  \n",
       "4              28.005116  \n",
       "5               6.216949  \n",
       "6              23.706070  \n",
       "7              55.065900  \n",
       "8               3.193243  \n",
       "9               9.666263  "
      ]
     },
     "execution_count": 92,
     "metadata": {},
     "output_type": "execute_result"
    }
   ],
   "source": [
    "DEGREES(df, 'score_logreg')"
   ]
  },
  {
   "cell_type": "code",
   "execution_count": 93,
   "id": "33d18ad3",
   "metadata": {},
   "outputs": [
    {
     "data": {
      "text/plain": [
       "39.180705363044474"
      ]
     },
     "execution_count": 93,
     "metadata": {},
     "output_type": "execute_result"
    }
   ],
   "source": [
    "DEGREES(df.iloc[0]['score_logreg'])"
   ]
  },
  {
   "cell_type": "code",
   "execution_count": 94,
   "id": "4b31d03b",
   "metadata": {},
   "outputs": [
    {
     "data": {
      "text/plain": [
       "55.065899717019796"
      ]
     },
     "execution_count": 94,
     "metadata": {},
     "output_type": "execute_result"
    }
   ],
   "source": [
    "DEGREES(df.iloc[7]['score_logreg'])"
   ]
  },
  {
   "cell_type": "code",
   "execution_count": 95,
   "id": "5b4146d2",
   "metadata": {
    "scrolled": false
   },
   "outputs": [
    {
     "data": {
      "text/html": [
       "<div>\n",
       "<style scoped>\n",
       "    .dataframe tbody tr th:only-of-type {\n",
       "        vertical-align: middle;\n",
       "    }\n",
       "\n",
       "    .dataframe tbody tr th {\n",
       "        vertical-align: top;\n",
       "    }\n",
       "\n",
       "    .dataframe thead th {\n",
       "        text-align: right;\n",
       "    }\n",
       "</style>\n",
       "<table border=\"1\" class=\"dataframe\">\n",
       "  <thead>\n",
       "    <tr style=\"text-align: right;\">\n",
       "      <th></th>\n",
       "      <th>index</th>\n",
       "      <th>true</th>\n",
       "      <th>score_logreg</th>\n",
       "      <th>score_svm</th>\n",
       "      <th>score_knn</th>\n",
       "      <th>score_tree</th>\n",
       "      <th>DEGREES(score_svm)</th>\n",
       "    </tr>\n",
       "  </thead>\n",
       "  <tbody>\n",
       "    <tr>\n",
       "      <th>0</th>\n",
       "      <td>0</td>\n",
       "      <td>0</td>\n",
       "      <td>0.683832</td>\n",
       "      <td>0.145976</td>\n",
       "      <td>0.787063</td>\n",
       "      <td>0.500000</td>\n",
       "      <td>8.363803</td>\n",
       "    </tr>\n",
       "    <tr>\n",
       "      <th>1</th>\n",
       "      <td>1</td>\n",
       "      <td>1</td>\n",
       "      <td>0.801966</td>\n",
       "      <td>0.239511</td>\n",
       "      <td>1.000000</td>\n",
       "      <td>0.833333</td>\n",
       "      <td>13.722990</td>\n",
       "    </tr>\n",
       "    <tr>\n",
       "      <th>2</th>\n",
       "      <td>2</td>\n",
       "      <td>0</td>\n",
       "      <td>0.382315</td>\n",
       "      <td>-0.245701</td>\n",
       "      <td>0.000000</td>\n",
       "      <td>0.000000</td>\n",
       "      <td>-14.077609</td>\n",
       "    </tr>\n",
       "    <tr>\n",
       "      <th>3</th>\n",
       "      <td>3</td>\n",
       "      <td>1</td>\n",
       "      <td>0.506797</td>\n",
       "      <td>-0.137058</td>\n",
       "      <td>0.000000</td>\n",
       "      <td>0.105263</td>\n",
       "      <td>-7.852871</td>\n",
       "    </tr>\n",
       "    <tr>\n",
       "      <th>4</th>\n",
       "      <td>4</td>\n",
       "      <td>1</td>\n",
       "      <td>0.488781</td>\n",
       "      <td>-0.154148</td>\n",
       "      <td>0.000000</td>\n",
       "      <td>0.105263</td>\n",
       "      <td>-8.832054</td>\n",
       "    </tr>\n",
       "    <tr>\n",
       "      <th>5</th>\n",
       "      <td>5</td>\n",
       "      <td>0</td>\n",
       "      <td>0.108506</td>\n",
       "      <td>-0.790864</td>\n",
       "      <td>0.000000</td>\n",
       "      <td>0.000000</td>\n",
       "      <td>-45.313167</td>\n",
       "    </tr>\n",
       "    <tr>\n",
       "      <th>6</th>\n",
       "      <td>6</td>\n",
       "      <td>0</td>\n",
       "      <td>0.413749</td>\n",
       "      <td>-0.185143</td>\n",
       "      <td>0.283053</td>\n",
       "      <td>0.363636</td>\n",
       "      <td>-10.607886</td>\n",
       "    </tr>\n",
       "    <tr>\n",
       "      <th>7</th>\n",
       "      <td>7</td>\n",
       "      <td>0</td>\n",
       "      <td>0.961081</td>\n",
       "      <td>0.830973</td>\n",
       "      <td>1.000000</td>\n",
       "      <td>1.000000</td>\n",
       "      <td>47.611259</td>\n",
       "    </tr>\n",
       "    <tr>\n",
       "      <th>8</th>\n",
       "      <td>8</td>\n",
       "      <td>0</td>\n",
       "      <td>0.055733</td>\n",
       "      <td>-0.872805</td>\n",
       "      <td>0.000000</td>\n",
       "      <td>0.100000</td>\n",
       "      <td>-50.008052</td>\n",
       "    </tr>\n",
       "    <tr>\n",
       "      <th>9</th>\n",
       "      <td>9</td>\n",
       "      <td>0</td>\n",
       "      <td>0.168708</td>\n",
       "      <td>-0.518390</td>\n",
       "      <td>0.000000</td>\n",
       "      <td>0.100000</td>\n",
       "      <td>-29.701581</td>\n",
       "    </tr>\n",
       "  </tbody>\n",
       "</table>\n",
       "</div>"
      ],
      "text/plain": [
       "   index  true  score_logreg  score_svm  score_knn  score_tree  \\\n",
       "0      0     0      0.683832   0.145976   0.787063    0.500000   \n",
       "1      1     1      0.801966   0.239511   1.000000    0.833333   \n",
       "2      2     0      0.382315  -0.245701   0.000000    0.000000   \n",
       "3      3     1      0.506797  -0.137058   0.000000    0.105263   \n",
       "4      4     1      0.488781  -0.154148   0.000000    0.105263   \n",
       "5      5     0      0.108506  -0.790864   0.000000    0.000000   \n",
       "6      6     0      0.413749  -0.185143   0.283053    0.363636   \n",
       "7      7     0      0.961081   0.830973   1.000000    1.000000   \n",
       "8      8     0      0.055733  -0.872805   0.000000    0.100000   \n",
       "9      9     0      0.168708  -0.518390   0.000000    0.100000   \n",
       "\n",
       "   DEGREES(score_svm)  \n",
       "0            8.363803  \n",
       "1           13.722990  \n",
       "2          -14.077609  \n",
       "3           -7.852871  \n",
       "4           -8.832054  \n",
       "5          -45.313167  \n",
       "6          -10.607886  \n",
       "7           47.611259  \n",
       "8          -50.008052  \n",
       "9          -29.701581  "
      ]
     },
     "execution_count": 95,
     "metadata": {},
     "output_type": "execute_result"
    }
   ],
   "source": [
    "DEGREES(df, 'score_svm')"
   ]
  },
  {
   "cell_type": "code",
   "execution_count": 96,
   "id": "0f22e471",
   "metadata": {},
   "outputs": [
    {
     "data": {
      "text/plain": [
       "-14.077609073198785"
      ]
     },
     "execution_count": 96,
     "metadata": {},
     "output_type": "execute_result"
    }
   ],
   "source": [
    "DEGREES(df.iloc[2]['score_svm'])"
   ]
  },
  {
   "cell_type": "code",
   "execution_count": 97,
   "id": "b82b0f22",
   "metadata": {},
   "outputs": [
    {
     "data": {
      "text/plain": [
       "-29.70158142690057"
      ]
     },
     "execution_count": 97,
     "metadata": {},
     "output_type": "execute_result"
    }
   ],
   "source": [
    "DEGREES(df.iloc[9]['score_svm'])"
   ]
  },
  {
   "cell_type": "code",
   "execution_count": 98,
   "id": "ec933392",
   "metadata": {},
   "outputs": [
    {
     "data": {
      "text/plain": [
       "180.0"
      ]
     },
     "execution_count": 98,
     "metadata": {},
     "output_type": "execute_result"
    }
   ],
   "source": [
    "DEGREES(math.pi)"
   ]
  },
  {
   "cell_type": "code",
   "execution_count": 99,
   "id": "3e12e8ac",
   "metadata": {},
   "outputs": [
    {
     "data": {
      "text/plain": [
       "-29.999999999999996"
      ]
     },
     "execution_count": 99,
     "metadata": {},
     "output_type": "execute_result"
    }
   ],
   "source": [
    "DEGREES(-math.pi/6)"
   ]
  },
  {
   "cell_type": "code",
   "execution_count": 100,
   "id": "fe0169fc",
   "metadata": {},
   "outputs": [
    {
     "data": {
      "text/plain": [
       "100.50825642184901"
      ]
     },
     "execution_count": 100,
     "metadata": {},
     "output_type": "execute_result"
    }
   ],
   "source": [
    "DEGREES(1.7542)"
   ]
  },
  {
   "cell_type": "code",
   "execution_count": 101,
   "id": "e2aa3dc9",
   "metadata": {},
   "outputs": [
    {
     "data": {
      "text/plain": [
       "0.0"
      ]
     },
     "execution_count": 101,
     "metadata": {},
     "output_type": "execute_result"
    }
   ],
   "source": [
    "DEGREES(0)"
   ]
  },
  {
   "cell_type": "markdown",
   "id": "8de1abe3",
   "metadata": {},
   "source": [
    "## 10. DIV\n",
    "\n",
    "**Описание:** \n",
    "\n",
    "Возвращает целую часть от деления.\n",
    "\n",
    "**Входные и выходные данные:**\n",
    "\n",
    "На входе - два числа.\n",
    "\n",
    "На выходе - число (целая часть от деления первого числа на второе).\n",
    "\n",
    "### Реализация:"
   ]
  },
  {
   "cell_type": "code",
   "execution_count": 102,
   "id": "a02147a4",
   "metadata": {},
   "outputs": [],
   "source": [
    "def DIV(df, col1, col2 = None): \n",
    "    if col2 == None: \n",
    "        if col1 != 0:\n",
    "            return df // col1\n",
    "        import math\n",
    "        return math.nan\n",
    "    from sqlite3 import connect\n",
    "    import pandas as pd\n",
    "    conn = connect(':memory:')\n",
    "    df.to_sql('data', conn)\n",
    "    return pd.read_sql(f'SELECT *, FLOOR({col1} / {col2}) FROM data', conn)"
   ]
  },
  {
   "cell_type": "markdown",
   "id": "3c0a87fc",
   "metadata": {},
   "source": [
    " ### Тестирование:"
   ]
  },
  {
   "cell_type": "code",
   "execution_count": 103,
   "id": "3119a39f",
   "metadata": {
    "scrolled": false
   },
   "outputs": [
    {
     "data": {
      "text/html": [
       "<div>\n",
       "<style scoped>\n",
       "    .dataframe tbody tr th:only-of-type {\n",
       "        vertical-align: middle;\n",
       "    }\n",
       "\n",
       "    .dataframe tbody tr th {\n",
       "        vertical-align: top;\n",
       "    }\n",
       "\n",
       "    .dataframe thead th {\n",
       "        text-align: right;\n",
       "    }\n",
       "</style>\n",
       "<table border=\"1\" class=\"dataframe\">\n",
       "  <thead>\n",
       "    <tr style=\"text-align: right;\">\n",
       "      <th></th>\n",
       "      <th>index</th>\n",
       "      <th>true</th>\n",
       "      <th>score_logreg</th>\n",
       "      <th>score_svm</th>\n",
       "      <th>score_knn</th>\n",
       "      <th>score_tree</th>\n",
       "      <th>FLOOR(score_logreg / score_knn)</th>\n",
       "    </tr>\n",
       "  </thead>\n",
       "  <tbody>\n",
       "    <tr>\n",
       "      <th>0</th>\n",
       "      <td>0</td>\n",
       "      <td>0</td>\n",
       "      <td>0.683832</td>\n",
       "      <td>0.145976</td>\n",
       "      <td>0.787063</td>\n",
       "      <td>0.500000</td>\n",
       "      <td>0.0</td>\n",
       "    </tr>\n",
       "    <tr>\n",
       "      <th>1</th>\n",
       "      <td>1</td>\n",
       "      <td>1</td>\n",
       "      <td>0.801966</td>\n",
       "      <td>0.239511</td>\n",
       "      <td>1.000000</td>\n",
       "      <td>0.833333</td>\n",
       "      <td>0.0</td>\n",
       "    </tr>\n",
       "    <tr>\n",
       "      <th>2</th>\n",
       "      <td>2</td>\n",
       "      <td>0</td>\n",
       "      <td>0.382315</td>\n",
       "      <td>-0.245701</td>\n",
       "      <td>0.000000</td>\n",
       "      <td>0.000000</td>\n",
       "      <td>NaN</td>\n",
       "    </tr>\n",
       "    <tr>\n",
       "      <th>3</th>\n",
       "      <td>3</td>\n",
       "      <td>1</td>\n",
       "      <td>0.506797</td>\n",
       "      <td>-0.137058</td>\n",
       "      <td>0.000000</td>\n",
       "      <td>0.105263</td>\n",
       "      <td>NaN</td>\n",
       "    </tr>\n",
       "    <tr>\n",
       "      <th>4</th>\n",
       "      <td>4</td>\n",
       "      <td>1</td>\n",
       "      <td>0.488781</td>\n",
       "      <td>-0.154148</td>\n",
       "      <td>0.000000</td>\n",
       "      <td>0.105263</td>\n",
       "      <td>NaN</td>\n",
       "    </tr>\n",
       "    <tr>\n",
       "      <th>5</th>\n",
       "      <td>5</td>\n",
       "      <td>0</td>\n",
       "      <td>0.108506</td>\n",
       "      <td>-0.790864</td>\n",
       "      <td>0.000000</td>\n",
       "      <td>0.000000</td>\n",
       "      <td>NaN</td>\n",
       "    </tr>\n",
       "    <tr>\n",
       "      <th>6</th>\n",
       "      <td>6</td>\n",
       "      <td>0</td>\n",
       "      <td>0.413749</td>\n",
       "      <td>-0.185143</td>\n",
       "      <td>0.283053</td>\n",
       "      <td>0.363636</td>\n",
       "      <td>1.0</td>\n",
       "    </tr>\n",
       "    <tr>\n",
       "      <th>7</th>\n",
       "      <td>7</td>\n",
       "      <td>0</td>\n",
       "      <td>0.961081</td>\n",
       "      <td>0.830973</td>\n",
       "      <td>1.000000</td>\n",
       "      <td>1.000000</td>\n",
       "      <td>0.0</td>\n",
       "    </tr>\n",
       "    <tr>\n",
       "      <th>8</th>\n",
       "      <td>8</td>\n",
       "      <td>0</td>\n",
       "      <td>0.055733</td>\n",
       "      <td>-0.872805</td>\n",
       "      <td>0.000000</td>\n",
       "      <td>0.100000</td>\n",
       "      <td>NaN</td>\n",
       "    </tr>\n",
       "    <tr>\n",
       "      <th>9</th>\n",
       "      <td>9</td>\n",
       "      <td>0</td>\n",
       "      <td>0.168708</td>\n",
       "      <td>-0.518390</td>\n",
       "      <td>0.000000</td>\n",
       "      <td>0.100000</td>\n",
       "      <td>NaN</td>\n",
       "    </tr>\n",
       "  </tbody>\n",
       "</table>\n",
       "</div>"
      ],
      "text/plain": [
       "   index  true  score_logreg  score_svm  score_knn  score_tree  \\\n",
       "0      0     0      0.683832   0.145976   0.787063    0.500000   \n",
       "1      1     1      0.801966   0.239511   1.000000    0.833333   \n",
       "2      2     0      0.382315  -0.245701   0.000000    0.000000   \n",
       "3      3     1      0.506797  -0.137058   0.000000    0.105263   \n",
       "4      4     1      0.488781  -0.154148   0.000000    0.105263   \n",
       "5      5     0      0.108506  -0.790864   0.000000    0.000000   \n",
       "6      6     0      0.413749  -0.185143   0.283053    0.363636   \n",
       "7      7     0      0.961081   0.830973   1.000000    1.000000   \n",
       "8      8     0      0.055733  -0.872805   0.000000    0.100000   \n",
       "9      9     0      0.168708  -0.518390   0.000000    0.100000   \n",
       "\n",
       "   FLOOR(score_logreg / score_knn)  \n",
       "0                              0.0  \n",
       "1                              0.0  \n",
       "2                              NaN  \n",
       "3                              NaN  \n",
       "4                              NaN  \n",
       "5                              NaN  \n",
       "6                              1.0  \n",
       "7                              0.0  \n",
       "8                              NaN  \n",
       "9                              NaN  "
      ]
     },
     "execution_count": 103,
     "metadata": {},
     "output_type": "execute_result"
    }
   ],
   "source": [
    "DIV(df, 'score_logreg', 'score_knn')"
   ]
  },
  {
   "cell_type": "code",
   "execution_count": 104,
   "id": "f88fd534",
   "metadata": {},
   "outputs": [
    {
     "data": {
      "text/plain": [
       "1.0"
      ]
     },
     "execution_count": 104,
     "metadata": {},
     "output_type": "execute_result"
    }
   ],
   "source": [
    "DIV(0.413749, 0.283053)"
   ]
  },
  {
   "cell_type": "code",
   "execution_count": 105,
   "id": "2531aaff",
   "metadata": {
    "scrolled": true
   },
   "outputs": [
    {
     "data": {
      "text/plain": [
       "0.0"
      ]
     },
     "execution_count": 105,
     "metadata": {},
     "output_type": "execute_result"
    }
   ],
   "source": [
    "DIV(0.683832, 0.787063)"
   ]
  },
  {
   "cell_type": "code",
   "execution_count": 106,
   "id": "f73c1a93",
   "metadata": {
    "scrolled": true
   },
   "outputs": [
    {
     "data": {
      "text/html": [
       "<div>\n",
       "<style scoped>\n",
       "    .dataframe tbody tr th:only-of-type {\n",
       "        vertical-align: middle;\n",
       "    }\n",
       "\n",
       "    .dataframe tbody tr th {\n",
       "        vertical-align: top;\n",
       "    }\n",
       "\n",
       "    .dataframe thead th {\n",
       "        text-align: right;\n",
       "    }\n",
       "</style>\n",
       "<table border=\"1\" class=\"dataframe\">\n",
       "  <thead>\n",
       "    <tr style=\"text-align: right;\">\n",
       "      <th></th>\n",
       "      <th>index</th>\n",
       "      <th>true</th>\n",
       "      <th>score_logreg</th>\n",
       "      <th>score_svm</th>\n",
       "      <th>score_knn</th>\n",
       "      <th>score_tree</th>\n",
       "      <th>FLOOR(2 / score_logreg)</th>\n",
       "    </tr>\n",
       "  </thead>\n",
       "  <tbody>\n",
       "    <tr>\n",
       "      <th>0</th>\n",
       "      <td>0</td>\n",
       "      <td>0</td>\n",
       "      <td>0.683832</td>\n",
       "      <td>0.145976</td>\n",
       "      <td>0.787063</td>\n",
       "      <td>0.500000</td>\n",
       "      <td>2.0</td>\n",
       "    </tr>\n",
       "    <tr>\n",
       "      <th>1</th>\n",
       "      <td>1</td>\n",
       "      <td>1</td>\n",
       "      <td>0.801966</td>\n",
       "      <td>0.239511</td>\n",
       "      <td>1.000000</td>\n",
       "      <td>0.833333</td>\n",
       "      <td>2.0</td>\n",
       "    </tr>\n",
       "    <tr>\n",
       "      <th>2</th>\n",
       "      <td>2</td>\n",
       "      <td>0</td>\n",
       "      <td>0.382315</td>\n",
       "      <td>-0.245701</td>\n",
       "      <td>0.000000</td>\n",
       "      <td>0.000000</td>\n",
       "      <td>5.0</td>\n",
       "    </tr>\n",
       "    <tr>\n",
       "      <th>3</th>\n",
       "      <td>3</td>\n",
       "      <td>1</td>\n",
       "      <td>0.506797</td>\n",
       "      <td>-0.137058</td>\n",
       "      <td>0.000000</td>\n",
       "      <td>0.105263</td>\n",
       "      <td>3.0</td>\n",
       "    </tr>\n",
       "    <tr>\n",
       "      <th>4</th>\n",
       "      <td>4</td>\n",
       "      <td>1</td>\n",
       "      <td>0.488781</td>\n",
       "      <td>-0.154148</td>\n",
       "      <td>0.000000</td>\n",
       "      <td>0.105263</td>\n",
       "      <td>4.0</td>\n",
       "    </tr>\n",
       "    <tr>\n",
       "      <th>5</th>\n",
       "      <td>5</td>\n",
       "      <td>0</td>\n",
       "      <td>0.108506</td>\n",
       "      <td>-0.790864</td>\n",
       "      <td>0.000000</td>\n",
       "      <td>0.000000</td>\n",
       "      <td>18.0</td>\n",
       "    </tr>\n",
       "    <tr>\n",
       "      <th>6</th>\n",
       "      <td>6</td>\n",
       "      <td>0</td>\n",
       "      <td>0.413749</td>\n",
       "      <td>-0.185143</td>\n",
       "      <td>0.283053</td>\n",
       "      <td>0.363636</td>\n",
       "      <td>4.0</td>\n",
       "    </tr>\n",
       "    <tr>\n",
       "      <th>7</th>\n",
       "      <td>7</td>\n",
       "      <td>0</td>\n",
       "      <td>0.961081</td>\n",
       "      <td>0.830973</td>\n",
       "      <td>1.000000</td>\n",
       "      <td>1.000000</td>\n",
       "      <td>2.0</td>\n",
       "    </tr>\n",
       "    <tr>\n",
       "      <th>8</th>\n",
       "      <td>8</td>\n",
       "      <td>0</td>\n",
       "      <td>0.055733</td>\n",
       "      <td>-0.872805</td>\n",
       "      <td>0.000000</td>\n",
       "      <td>0.100000</td>\n",
       "      <td>35.0</td>\n",
       "    </tr>\n",
       "    <tr>\n",
       "      <th>9</th>\n",
       "      <td>9</td>\n",
       "      <td>0</td>\n",
       "      <td>0.168708</td>\n",
       "      <td>-0.518390</td>\n",
       "      <td>0.000000</td>\n",
       "      <td>0.100000</td>\n",
       "      <td>11.0</td>\n",
       "    </tr>\n",
       "  </tbody>\n",
       "</table>\n",
       "</div>"
      ],
      "text/plain": [
       "   index  true  score_logreg  score_svm  score_knn  score_tree  \\\n",
       "0      0     0      0.683832   0.145976   0.787063    0.500000   \n",
       "1      1     1      0.801966   0.239511   1.000000    0.833333   \n",
       "2      2     0      0.382315  -0.245701   0.000000    0.000000   \n",
       "3      3     1      0.506797  -0.137058   0.000000    0.105263   \n",
       "4      4     1      0.488781  -0.154148   0.000000    0.105263   \n",
       "5      5     0      0.108506  -0.790864   0.000000    0.000000   \n",
       "6      6     0      0.413749  -0.185143   0.283053    0.363636   \n",
       "7      7     0      0.961081   0.830973   1.000000    1.000000   \n",
       "8      8     0      0.055733  -0.872805   0.000000    0.100000   \n",
       "9      9     0      0.168708  -0.518390   0.000000    0.100000   \n",
       "\n",
       "   FLOOR(2 / score_logreg)  \n",
       "0                      2.0  \n",
       "1                      2.0  \n",
       "2                      5.0  \n",
       "3                      3.0  \n",
       "4                      4.0  \n",
       "5                     18.0  \n",
       "6                      4.0  \n",
       "7                      2.0  \n",
       "8                     35.0  \n",
       "9                     11.0  "
      ]
     },
     "execution_count": 106,
     "metadata": {},
     "output_type": "execute_result"
    }
   ],
   "source": [
    "DIV(df, 2, 'score_logreg')"
   ]
  },
  {
   "cell_type": "code",
   "execution_count": 107,
   "id": "b920e225",
   "metadata": {},
   "outputs": [
    {
     "data": {
      "text/plain": [
       "5.0"
      ]
     },
     "execution_count": 107,
     "metadata": {},
     "output_type": "execute_result"
    }
   ],
   "source": [
    "DIV(2, 0.382315)"
   ]
  },
  {
   "cell_type": "code",
   "execution_count": 108,
   "id": "2925b9d1",
   "metadata": {},
   "outputs": [
    {
     "data": {
      "text/plain": [
       "35.0"
      ]
     },
     "execution_count": 108,
     "metadata": {},
     "output_type": "execute_result"
    }
   ],
   "source": [
    "DIV(2, 0.055733)"
   ]
  },
  {
   "cell_type": "code",
   "execution_count": 109,
   "id": "a7ec13f9",
   "metadata": {},
   "outputs": [
    {
     "data": {
      "text/plain": [
       "nan"
      ]
     },
     "execution_count": 109,
     "metadata": {},
     "output_type": "execute_result"
    }
   ],
   "source": [
    "DIV(0.382315, 0)"
   ]
  },
  {
   "cell_type": "code",
   "execution_count": 110,
   "id": "bdd884d8",
   "metadata": {
    "scrolled": false
   },
   "outputs": [
    {
     "data": {
      "text/html": [
       "<div>\n",
       "<style scoped>\n",
       "    .dataframe tbody tr th:only-of-type {\n",
       "        vertical-align: middle;\n",
       "    }\n",
       "\n",
       "    .dataframe tbody tr th {\n",
       "        vertical-align: top;\n",
       "    }\n",
       "\n",
       "    .dataframe thead th {\n",
       "        text-align: right;\n",
       "    }\n",
       "</style>\n",
       "<table border=\"1\" class=\"dataframe\">\n",
       "  <thead>\n",
       "    <tr style=\"text-align: right;\">\n",
       "      <th></th>\n",
       "      <th>index</th>\n",
       "      <th>true</th>\n",
       "      <th>score_logreg</th>\n",
       "      <th>score_svm</th>\n",
       "      <th>score_knn</th>\n",
       "      <th>score_tree</th>\n",
       "      <th>FLOOR(true / score_svm)</th>\n",
       "    </tr>\n",
       "  </thead>\n",
       "  <tbody>\n",
       "    <tr>\n",
       "      <th>0</th>\n",
       "      <td>0</td>\n",
       "      <td>0</td>\n",
       "      <td>0.683832</td>\n",
       "      <td>0.145976</td>\n",
       "      <td>0.787063</td>\n",
       "      <td>0.500000</td>\n",
       "      <td>0.0</td>\n",
       "    </tr>\n",
       "    <tr>\n",
       "      <th>1</th>\n",
       "      <td>1</td>\n",
       "      <td>1</td>\n",
       "      <td>0.801966</td>\n",
       "      <td>0.239511</td>\n",
       "      <td>1.000000</td>\n",
       "      <td>0.833333</td>\n",
       "      <td>4.0</td>\n",
       "    </tr>\n",
       "    <tr>\n",
       "      <th>2</th>\n",
       "      <td>2</td>\n",
       "      <td>0</td>\n",
       "      <td>0.382315</td>\n",
       "      <td>-0.245701</td>\n",
       "      <td>0.000000</td>\n",
       "      <td>0.000000</td>\n",
       "      <td>-0.0</td>\n",
       "    </tr>\n",
       "    <tr>\n",
       "      <th>3</th>\n",
       "      <td>3</td>\n",
       "      <td>1</td>\n",
       "      <td>0.506797</td>\n",
       "      <td>-0.137058</td>\n",
       "      <td>0.000000</td>\n",
       "      <td>0.105263</td>\n",
       "      <td>-8.0</td>\n",
       "    </tr>\n",
       "    <tr>\n",
       "      <th>4</th>\n",
       "      <td>4</td>\n",
       "      <td>1</td>\n",
       "      <td>0.488781</td>\n",
       "      <td>-0.154148</td>\n",
       "      <td>0.000000</td>\n",
       "      <td>0.105263</td>\n",
       "      <td>-7.0</td>\n",
       "    </tr>\n",
       "    <tr>\n",
       "      <th>5</th>\n",
       "      <td>5</td>\n",
       "      <td>0</td>\n",
       "      <td>0.108506</td>\n",
       "      <td>-0.790864</td>\n",
       "      <td>0.000000</td>\n",
       "      <td>0.000000</td>\n",
       "      <td>-0.0</td>\n",
       "    </tr>\n",
       "    <tr>\n",
       "      <th>6</th>\n",
       "      <td>6</td>\n",
       "      <td>0</td>\n",
       "      <td>0.413749</td>\n",
       "      <td>-0.185143</td>\n",
       "      <td>0.283053</td>\n",
       "      <td>0.363636</td>\n",
       "      <td>-0.0</td>\n",
       "    </tr>\n",
       "    <tr>\n",
       "      <th>7</th>\n",
       "      <td>7</td>\n",
       "      <td>0</td>\n",
       "      <td>0.961081</td>\n",
       "      <td>0.830973</td>\n",
       "      <td>1.000000</td>\n",
       "      <td>1.000000</td>\n",
       "      <td>0.0</td>\n",
       "    </tr>\n",
       "    <tr>\n",
       "      <th>8</th>\n",
       "      <td>8</td>\n",
       "      <td>0</td>\n",
       "      <td>0.055733</td>\n",
       "      <td>-0.872805</td>\n",
       "      <td>0.000000</td>\n",
       "      <td>0.100000</td>\n",
       "      <td>-0.0</td>\n",
       "    </tr>\n",
       "    <tr>\n",
       "      <th>9</th>\n",
       "      <td>9</td>\n",
       "      <td>0</td>\n",
       "      <td>0.168708</td>\n",
       "      <td>-0.518390</td>\n",
       "      <td>0.000000</td>\n",
       "      <td>0.100000</td>\n",
       "      <td>-0.0</td>\n",
       "    </tr>\n",
       "  </tbody>\n",
       "</table>\n",
       "</div>"
      ],
      "text/plain": [
       "   index  true  score_logreg  score_svm  score_knn  score_tree  \\\n",
       "0      0     0      0.683832   0.145976   0.787063    0.500000   \n",
       "1      1     1      0.801966   0.239511   1.000000    0.833333   \n",
       "2      2     0      0.382315  -0.245701   0.000000    0.000000   \n",
       "3      3     1      0.506797  -0.137058   0.000000    0.105263   \n",
       "4      4     1      0.488781  -0.154148   0.000000    0.105263   \n",
       "5      5     0      0.108506  -0.790864   0.000000    0.000000   \n",
       "6      6     0      0.413749  -0.185143   0.283053    0.363636   \n",
       "7      7     0      0.961081   0.830973   1.000000    1.000000   \n",
       "8      8     0      0.055733  -0.872805   0.000000    0.100000   \n",
       "9      9     0      0.168708  -0.518390   0.000000    0.100000   \n",
       "\n",
       "   FLOOR(true / score_svm)  \n",
       "0                      0.0  \n",
       "1                      4.0  \n",
       "2                     -0.0  \n",
       "3                     -8.0  \n",
       "4                     -7.0  \n",
       "5                     -0.0  \n",
       "6                     -0.0  \n",
       "7                      0.0  \n",
       "8                     -0.0  \n",
       "9                     -0.0  "
      ]
     },
     "execution_count": 110,
     "metadata": {},
     "output_type": "execute_result"
    }
   ],
   "source": [
    "DIV(df, 'true', 'score_svm')"
   ]
  },
  {
   "cell_type": "code",
   "execution_count": 111,
   "id": "f9238d72",
   "metadata": {},
   "outputs": [
    {
     "data": {
      "text/plain": [
       "4.0"
      ]
     },
     "execution_count": 111,
     "metadata": {},
     "output_type": "execute_result"
    }
   ],
   "source": [
    "DIV(1, 0.239511)"
   ]
  },
  {
   "cell_type": "code",
   "execution_count": 112,
   "id": "1ce44bc2",
   "metadata": {},
   "outputs": [
    {
     "data": {
      "text/plain": [
       "-7.0"
      ]
     },
     "execution_count": 112,
     "metadata": {},
     "output_type": "execute_result"
    }
   ],
   "source": [
    "DIV(1, -0.154148)"
   ]
  },
  {
   "cell_type": "code",
   "execution_count": 113,
   "id": "6c4b8303",
   "metadata": {},
   "outputs": [
    {
     "data": {
      "text/plain": [
       "0"
      ]
     },
     "execution_count": 113,
     "metadata": {},
     "output_type": "execute_result"
    }
   ],
   "source": [
    "DIV(6,8)"
   ]
  },
  {
   "cell_type": "code",
   "execution_count": 114,
   "id": "6539d4b3",
   "metadata": {},
   "outputs": [
    {
     "data": {
      "text/plain": [
       "2"
      ]
     },
     "execution_count": 114,
     "metadata": {},
     "output_type": "execute_result"
    }
   ],
   "source": [
    "DIV(10, 4)"
   ]
  },
  {
   "cell_type": "code",
   "execution_count": 115,
   "id": "352d089e",
   "metadata": {},
   "outputs": [
    {
     "data": {
      "text/plain": [
       "-4"
      ]
     },
     "execution_count": 115,
     "metadata": {},
     "output_type": "execute_result"
    }
   ],
   "source": [
    "DIV(-7, 2)"
   ]
  },
  {
   "cell_type": "code",
   "execution_count": 116,
   "id": "a6760c54",
   "metadata": {},
   "outputs": [
    {
     "data": {
      "text/plain": [
       "-4"
      ]
     },
     "execution_count": 116,
     "metadata": {},
     "output_type": "execute_result"
    }
   ],
   "source": [
    "DIV(7, -2)"
   ]
  },
  {
   "cell_type": "markdown",
   "id": "dc5ee601",
   "metadata": {},
   "source": [
    "## 11. EXP\n",
    "\n",
    "**Описание:** \n",
    "\n",
    "Возводит e в указанную степень.\n",
    "\n",
    "**Входные и выходные данные:**\n",
    "\n",
    "На входе - число (степень).\n",
    "\n",
    "На выходе - число (экспонента в степени этого числа).\n",
    "\n",
    "### Реализация:"
   ]
  },
  {
   "cell_type": "code",
   "execution_count": 117,
   "id": "a8234d8f",
   "metadata": {},
   "outputs": [],
   "source": [
    "def EXP(df, col = None): \n",
    "    if col == None: \n",
    "        import math\n",
    "        return math.exp(df)\n",
    "    from sqlite3 import connect\n",
    "    import pandas as pd\n",
    "    conn = connect(':memory:')\n",
    "    df.to_sql('data', conn)\n",
    "    return pd.read_sql(f'SELECT *, EXP({col}) FROM data', conn)"
   ]
  },
  {
   "cell_type": "markdown",
   "id": "c108f4f8",
   "metadata": {},
   "source": [
    " ### Тестирование:"
   ]
  },
  {
   "cell_type": "code",
   "execution_count": 118,
   "id": "96bc3d83",
   "metadata": {
    "scrolled": false
   },
   "outputs": [
    {
     "data": {
      "text/html": [
       "<div>\n",
       "<style scoped>\n",
       "    .dataframe tbody tr th:only-of-type {\n",
       "        vertical-align: middle;\n",
       "    }\n",
       "\n",
       "    .dataframe tbody tr th {\n",
       "        vertical-align: top;\n",
       "    }\n",
       "\n",
       "    .dataframe thead th {\n",
       "        text-align: right;\n",
       "    }\n",
       "</style>\n",
       "<table border=\"1\" class=\"dataframe\">\n",
       "  <thead>\n",
       "    <tr style=\"text-align: right;\">\n",
       "      <th></th>\n",
       "      <th>index</th>\n",
       "      <th>true</th>\n",
       "      <th>score_logreg</th>\n",
       "      <th>score_svm</th>\n",
       "      <th>score_knn</th>\n",
       "      <th>score_tree</th>\n",
       "      <th>EXP(score_logreg)</th>\n",
       "    </tr>\n",
       "  </thead>\n",
       "  <tbody>\n",
       "    <tr>\n",
       "      <th>0</th>\n",
       "      <td>0</td>\n",
       "      <td>0</td>\n",
       "      <td>0.683832</td>\n",
       "      <td>0.145976</td>\n",
       "      <td>0.787063</td>\n",
       "      <td>0.500000</td>\n",
       "      <td>1.981457</td>\n",
       "    </tr>\n",
       "    <tr>\n",
       "      <th>1</th>\n",
       "      <td>1</td>\n",
       "      <td>1</td>\n",
       "      <td>0.801966</td>\n",
       "      <td>0.239511</td>\n",
       "      <td>1.000000</td>\n",
       "      <td>0.833333</td>\n",
       "      <td>2.229922</td>\n",
       "    </tr>\n",
       "    <tr>\n",
       "      <th>2</th>\n",
       "      <td>2</td>\n",
       "      <td>0</td>\n",
       "      <td>0.382315</td>\n",
       "      <td>-0.245701</td>\n",
       "      <td>0.000000</td>\n",
       "      <td>0.000000</td>\n",
       "      <td>1.465674</td>\n",
       "    </tr>\n",
       "    <tr>\n",
       "      <th>3</th>\n",
       "      <td>3</td>\n",
       "      <td>1</td>\n",
       "      <td>0.506797</td>\n",
       "      <td>-0.137058</td>\n",
       "      <td>0.000000</td>\n",
       "      <td>0.105263</td>\n",
       "      <td>1.659966</td>\n",
       "    </tr>\n",
       "    <tr>\n",
       "      <th>4</th>\n",
       "      <td>4</td>\n",
       "      <td>1</td>\n",
       "      <td>0.488781</td>\n",
       "      <td>-0.154148</td>\n",
       "      <td>0.000000</td>\n",
       "      <td>0.105263</td>\n",
       "      <td>1.630328</td>\n",
       "    </tr>\n",
       "    <tr>\n",
       "      <th>5</th>\n",
       "      <td>5</td>\n",
       "      <td>0</td>\n",
       "      <td>0.108506</td>\n",
       "      <td>-0.790864</td>\n",
       "      <td>0.000000</td>\n",
       "      <td>0.000000</td>\n",
       "      <td>1.114612</td>\n",
       "    </tr>\n",
       "    <tr>\n",
       "      <th>6</th>\n",
       "      <td>6</td>\n",
       "      <td>0</td>\n",
       "      <td>0.413749</td>\n",
       "      <td>-0.185143</td>\n",
       "      <td>0.283053</td>\n",
       "      <td>0.363636</td>\n",
       "      <td>1.512477</td>\n",
       "    </tr>\n",
       "    <tr>\n",
       "      <th>7</th>\n",
       "      <td>7</td>\n",
       "      <td>0</td>\n",
       "      <td>0.961081</td>\n",
       "      <td>0.830973</td>\n",
       "      <td>1.000000</td>\n",
       "      <td>1.000000</td>\n",
       "      <td>2.614522</td>\n",
       "    </tr>\n",
       "    <tr>\n",
       "      <th>8</th>\n",
       "      <td>8</td>\n",
       "      <td>0</td>\n",
       "      <td>0.055733</td>\n",
       "      <td>-0.872805</td>\n",
       "      <td>0.000000</td>\n",
       "      <td>0.100000</td>\n",
       "      <td>1.057315</td>\n",
       "    </tr>\n",
       "    <tr>\n",
       "      <th>9</th>\n",
       "      <td>9</td>\n",
       "      <td>0</td>\n",
       "      <td>0.168708</td>\n",
       "      <td>-0.518390</td>\n",
       "      <td>0.000000</td>\n",
       "      <td>0.100000</td>\n",
       "      <td>1.183775</td>\n",
       "    </tr>\n",
       "  </tbody>\n",
       "</table>\n",
       "</div>"
      ],
      "text/plain": [
       "   index  true  score_logreg  score_svm  score_knn  score_tree  \\\n",
       "0      0     0      0.683832   0.145976   0.787063    0.500000   \n",
       "1      1     1      0.801966   0.239511   1.000000    0.833333   \n",
       "2      2     0      0.382315  -0.245701   0.000000    0.000000   \n",
       "3      3     1      0.506797  -0.137058   0.000000    0.105263   \n",
       "4      4     1      0.488781  -0.154148   0.000000    0.105263   \n",
       "5      5     0      0.108506  -0.790864   0.000000    0.000000   \n",
       "6      6     0      0.413749  -0.185143   0.283053    0.363636   \n",
       "7      7     0      0.961081   0.830973   1.000000    1.000000   \n",
       "8      8     0      0.055733  -0.872805   0.000000    0.100000   \n",
       "9      9     0      0.168708  -0.518390   0.000000    0.100000   \n",
       "\n",
       "   EXP(score_logreg)  \n",
       "0           1.981457  \n",
       "1           2.229922  \n",
       "2           1.465674  \n",
       "3           1.659966  \n",
       "4           1.630328  \n",
       "5           1.114612  \n",
       "6           1.512477  \n",
       "7           2.614522  \n",
       "8           1.057315  \n",
       "9           1.183775  "
      ]
     },
     "execution_count": 118,
     "metadata": {},
     "output_type": "execute_result"
    }
   ],
   "source": [
    "EXP(df, 'score_logreg')"
   ]
  },
  {
   "cell_type": "code",
   "execution_count": 119,
   "id": "6f246ab8",
   "metadata": {},
   "outputs": [
    {
     "data": {
      "text/plain": [
       "1.9814567605564046"
      ]
     },
     "execution_count": 119,
     "metadata": {},
     "output_type": "execute_result"
    }
   ],
   "source": [
    "EXP(df.iloc[0]['score_logreg'])"
   ]
  },
  {
   "cell_type": "code",
   "execution_count": 120,
   "id": "f96d583a",
   "metadata": {},
   "outputs": [
    {
     "data": {
      "text/plain": [
       "2.6145219121874614"
      ]
     },
     "execution_count": 120,
     "metadata": {},
     "output_type": "execute_result"
    }
   ],
   "source": [
    "EXP(df.iloc[7]['score_logreg'])"
   ]
  },
  {
   "cell_type": "code",
   "execution_count": 121,
   "id": "b5100444",
   "metadata": {
    "scrolled": true
   },
   "outputs": [
    {
     "data": {
      "text/html": [
       "<div>\n",
       "<style scoped>\n",
       "    .dataframe tbody tr th:only-of-type {\n",
       "        vertical-align: middle;\n",
       "    }\n",
       "\n",
       "    .dataframe tbody tr th {\n",
       "        vertical-align: top;\n",
       "    }\n",
       "\n",
       "    .dataframe thead th {\n",
       "        text-align: right;\n",
       "    }\n",
       "</style>\n",
       "<table border=\"1\" class=\"dataframe\">\n",
       "  <thead>\n",
       "    <tr style=\"text-align: right;\">\n",
       "      <th></th>\n",
       "      <th>index</th>\n",
       "      <th>true</th>\n",
       "      <th>score_logreg</th>\n",
       "      <th>score_svm</th>\n",
       "      <th>score_knn</th>\n",
       "      <th>score_tree</th>\n",
       "      <th>EXP(score_svm)</th>\n",
       "    </tr>\n",
       "  </thead>\n",
       "  <tbody>\n",
       "    <tr>\n",
       "      <th>0</th>\n",
       "      <td>0</td>\n",
       "      <td>0</td>\n",
       "      <td>0.683832</td>\n",
       "      <td>0.145976</td>\n",
       "      <td>0.787063</td>\n",
       "      <td>0.500000</td>\n",
       "      <td>1.157168</td>\n",
       "    </tr>\n",
       "    <tr>\n",
       "      <th>1</th>\n",
       "      <td>1</td>\n",
       "      <td>1</td>\n",
       "      <td>0.801966</td>\n",
       "      <td>0.239511</td>\n",
       "      <td>1.000000</td>\n",
       "      <td>0.833333</td>\n",
       "      <td>1.270628</td>\n",
       "    </tr>\n",
       "    <tr>\n",
       "      <th>2</th>\n",
       "      <td>2</td>\n",
       "      <td>0</td>\n",
       "      <td>0.382315</td>\n",
       "      <td>-0.245701</td>\n",
       "      <td>0.000000</td>\n",
       "      <td>0.000000</td>\n",
       "      <td>0.782156</td>\n",
       "    </tr>\n",
       "    <tr>\n",
       "      <th>3</th>\n",
       "      <td>3</td>\n",
       "      <td>1</td>\n",
       "      <td>0.506797</td>\n",
       "      <td>-0.137058</td>\n",
       "      <td>0.000000</td>\n",
       "      <td>0.105263</td>\n",
       "      <td>0.871919</td>\n",
       "    </tr>\n",
       "    <tr>\n",
       "      <th>4</th>\n",
       "      <td>4</td>\n",
       "      <td>1</td>\n",
       "      <td>0.488781</td>\n",
       "      <td>-0.154148</td>\n",
       "      <td>0.000000</td>\n",
       "      <td>0.105263</td>\n",
       "      <td>0.857145</td>\n",
       "    </tr>\n",
       "    <tr>\n",
       "      <th>5</th>\n",
       "      <td>5</td>\n",
       "      <td>0</td>\n",
       "      <td>0.108506</td>\n",
       "      <td>-0.790864</td>\n",
       "      <td>0.000000</td>\n",
       "      <td>0.000000</td>\n",
       "      <td>0.453453</td>\n",
       "    </tr>\n",
       "    <tr>\n",
       "      <th>6</th>\n",
       "      <td>6</td>\n",
       "      <td>0</td>\n",
       "      <td>0.413749</td>\n",
       "      <td>-0.185143</td>\n",
       "      <td>0.283053</td>\n",
       "      <td>0.363636</td>\n",
       "      <td>0.830986</td>\n",
       "    </tr>\n",
       "    <tr>\n",
       "      <th>7</th>\n",
       "      <td>7</td>\n",
       "      <td>0</td>\n",
       "      <td>0.961081</td>\n",
       "      <td>0.830973</td>\n",
       "      <td>1.000000</td>\n",
       "      <td>1.000000</td>\n",
       "      <td>2.295552</td>\n",
       "    </tr>\n",
       "    <tr>\n",
       "      <th>8</th>\n",
       "      <td>8</td>\n",
       "      <td>0</td>\n",
       "      <td>0.055733</td>\n",
       "      <td>-0.872805</td>\n",
       "      <td>0.000000</td>\n",
       "      <td>0.100000</td>\n",
       "      <td>0.417778</td>\n",
       "    </tr>\n",
       "    <tr>\n",
       "      <th>9</th>\n",
       "      <td>9</td>\n",
       "      <td>0</td>\n",
       "      <td>0.168708</td>\n",
       "      <td>-0.518390</td>\n",
       "      <td>0.000000</td>\n",
       "      <td>0.100000</td>\n",
       "      <td>0.595478</td>\n",
       "    </tr>\n",
       "  </tbody>\n",
       "</table>\n",
       "</div>"
      ],
      "text/plain": [
       "   index  true  score_logreg  score_svm  score_knn  score_tree  EXP(score_svm)\n",
       "0      0     0      0.683832   0.145976   0.787063    0.500000        1.157168\n",
       "1      1     1      0.801966   0.239511   1.000000    0.833333        1.270628\n",
       "2      2     0      0.382315  -0.245701   0.000000    0.000000        0.782156\n",
       "3      3     1      0.506797  -0.137058   0.000000    0.105263        0.871919\n",
       "4      4     1      0.488781  -0.154148   0.000000    0.105263        0.857145\n",
       "5      5     0      0.108506  -0.790864   0.000000    0.000000        0.453453\n",
       "6      6     0      0.413749  -0.185143   0.283053    0.363636        0.830986\n",
       "7      7     0      0.961081   0.830973   1.000000    1.000000        2.295552\n",
       "8      8     0      0.055733  -0.872805   0.000000    0.100000        0.417778\n",
       "9      9     0      0.168708  -0.518390   0.000000    0.100000        0.595478"
      ]
     },
     "execution_count": 121,
     "metadata": {},
     "output_type": "execute_result"
    }
   ],
   "source": [
    "EXP(df, 'score_svm')"
   ]
  },
  {
   "cell_type": "code",
   "execution_count": 122,
   "id": "8dc78600",
   "metadata": {},
   "outputs": [
    {
     "data": {
      "text/plain": [
       "0.7821563447001472"
      ]
     },
     "execution_count": 122,
     "metadata": {},
     "output_type": "execute_result"
    }
   ],
   "source": [
    "EXP(df.iloc[2]['score_svm'])"
   ]
  },
  {
   "cell_type": "code",
   "execution_count": 123,
   "id": "4c2e194b",
   "metadata": {},
   "outputs": [
    {
     "data": {
      "text/plain": [
       "0.595478265383977"
      ]
     },
     "execution_count": 123,
     "metadata": {},
     "output_type": "execute_result"
    }
   ],
   "source": [
    "EXP(df.iloc[9]['score_svm'])"
   ]
  },
  {
   "cell_type": "code",
   "execution_count": 124,
   "id": "71ef8254",
   "metadata": {},
   "outputs": [
    {
     "data": {
      "text/plain": [
       "1.0"
      ]
     },
     "execution_count": 124,
     "metadata": {},
     "output_type": "execute_result"
    }
   ],
   "source": [
    "EXP(0)"
   ]
  },
  {
   "cell_type": "code",
   "execution_count": 125,
   "id": "e924b152",
   "metadata": {},
   "outputs": [
    {
     "data": {
      "text/plain": [
       "2.718281828459045"
      ]
     },
     "execution_count": 125,
     "metadata": {},
     "output_type": "execute_result"
    }
   ],
   "source": [
    "EXP(1)"
   ]
  },
  {
   "cell_type": "code",
   "execution_count": 126,
   "id": "bef95d33",
   "metadata": {},
   "outputs": [
    {
     "data": {
      "text/plain": [
       "7.38905609893065"
      ]
     },
     "execution_count": 126,
     "metadata": {},
     "output_type": "execute_result"
    }
   ],
   "source": [
    "EXP(2)"
   ]
  },
  {
   "cell_type": "code",
   "execution_count": 127,
   "id": "7d536b81",
   "metadata": {},
   "outputs": [
    {
     "data": {
      "text/plain": [
       "0.36787944117144233"
      ]
     },
     "execution_count": 127,
     "metadata": {},
     "output_type": "execute_result"
    }
   ],
   "source": [
    "EXP(-1)"
   ]
  },
  {
   "cell_type": "markdown",
   "id": "acf99001",
   "metadata": {},
   "source": [
    "## 12. FLOOR\n",
    "\n",
    "**Описание:** \n",
    "\n",
    "Округляет до ближайшего целого числа.\n",
    "\n",
    "**Входные и выходные данные:**\n",
    "\n",
    "На входе - число.\n",
    "\n",
    "На выходе - входное число, округлённое до ближайшего целового.\n",
    "\n",
    "### Реализация:"
   ]
  },
  {
   "cell_type": "code",
   "execution_count": 128,
   "id": "6548efad",
   "metadata": {},
   "outputs": [],
   "source": [
    "def FLOOR(df, col = None): \n",
    "    if col == None: \n",
    "        import math\n",
    "        return math.floor(df)\n",
    "    from sqlite3 import connect\n",
    "    import pandas as pd\n",
    "    conn = connect(':memory:')\n",
    "    df.to_sql('data', conn)\n",
    "    return pd.read_sql(f'SELECT *, FLOOR({col}) FROM data', conn)"
   ]
  },
  {
   "cell_type": "markdown",
   "id": "1f8d4c52",
   "metadata": {},
   "source": [
    "### Тестирование:"
   ]
  },
  {
   "cell_type": "code",
   "execution_count": 129,
   "id": "9de20f4e",
   "metadata": {
    "scrolled": true
   },
   "outputs": [
    {
     "data": {
      "text/html": [
       "<div>\n",
       "<style scoped>\n",
       "    .dataframe tbody tr th:only-of-type {\n",
       "        vertical-align: middle;\n",
       "    }\n",
       "\n",
       "    .dataframe tbody tr th {\n",
       "        vertical-align: top;\n",
       "    }\n",
       "\n",
       "    .dataframe thead th {\n",
       "        text-align: right;\n",
       "    }\n",
       "</style>\n",
       "<table border=\"1\" class=\"dataframe\">\n",
       "  <thead>\n",
       "    <tr style=\"text-align: right;\">\n",
       "      <th></th>\n",
       "      <th>index</th>\n",
       "      <th>true</th>\n",
       "      <th>score_logreg</th>\n",
       "      <th>score_svm</th>\n",
       "      <th>score_knn</th>\n",
       "      <th>score_tree</th>\n",
       "      <th>FLOOR(score_svm)</th>\n",
       "    </tr>\n",
       "  </thead>\n",
       "  <tbody>\n",
       "    <tr>\n",
       "      <th>0</th>\n",
       "      <td>0</td>\n",
       "      <td>0</td>\n",
       "      <td>0.683832</td>\n",
       "      <td>0.145976</td>\n",
       "      <td>0.787063</td>\n",
       "      <td>0.500000</td>\n",
       "      <td>0.0</td>\n",
       "    </tr>\n",
       "    <tr>\n",
       "      <th>1</th>\n",
       "      <td>1</td>\n",
       "      <td>1</td>\n",
       "      <td>0.801966</td>\n",
       "      <td>0.239511</td>\n",
       "      <td>1.000000</td>\n",
       "      <td>0.833333</td>\n",
       "      <td>0.0</td>\n",
       "    </tr>\n",
       "    <tr>\n",
       "      <th>2</th>\n",
       "      <td>2</td>\n",
       "      <td>0</td>\n",
       "      <td>0.382315</td>\n",
       "      <td>-0.245701</td>\n",
       "      <td>0.000000</td>\n",
       "      <td>0.000000</td>\n",
       "      <td>-1.0</td>\n",
       "    </tr>\n",
       "    <tr>\n",
       "      <th>3</th>\n",
       "      <td>3</td>\n",
       "      <td>1</td>\n",
       "      <td>0.506797</td>\n",
       "      <td>-0.137058</td>\n",
       "      <td>0.000000</td>\n",
       "      <td>0.105263</td>\n",
       "      <td>-1.0</td>\n",
       "    </tr>\n",
       "    <tr>\n",
       "      <th>4</th>\n",
       "      <td>4</td>\n",
       "      <td>1</td>\n",
       "      <td>0.488781</td>\n",
       "      <td>-0.154148</td>\n",
       "      <td>0.000000</td>\n",
       "      <td>0.105263</td>\n",
       "      <td>-1.0</td>\n",
       "    </tr>\n",
       "    <tr>\n",
       "      <th>5</th>\n",
       "      <td>5</td>\n",
       "      <td>0</td>\n",
       "      <td>0.108506</td>\n",
       "      <td>-0.790864</td>\n",
       "      <td>0.000000</td>\n",
       "      <td>0.000000</td>\n",
       "      <td>-1.0</td>\n",
       "    </tr>\n",
       "    <tr>\n",
       "      <th>6</th>\n",
       "      <td>6</td>\n",
       "      <td>0</td>\n",
       "      <td>0.413749</td>\n",
       "      <td>-0.185143</td>\n",
       "      <td>0.283053</td>\n",
       "      <td>0.363636</td>\n",
       "      <td>-1.0</td>\n",
       "    </tr>\n",
       "    <tr>\n",
       "      <th>7</th>\n",
       "      <td>7</td>\n",
       "      <td>0</td>\n",
       "      <td>0.961081</td>\n",
       "      <td>0.830973</td>\n",
       "      <td>1.000000</td>\n",
       "      <td>1.000000</td>\n",
       "      <td>0.0</td>\n",
       "    </tr>\n",
       "    <tr>\n",
       "      <th>8</th>\n",
       "      <td>8</td>\n",
       "      <td>0</td>\n",
       "      <td>0.055733</td>\n",
       "      <td>-0.872805</td>\n",
       "      <td>0.000000</td>\n",
       "      <td>0.100000</td>\n",
       "      <td>-1.0</td>\n",
       "    </tr>\n",
       "    <tr>\n",
       "      <th>9</th>\n",
       "      <td>9</td>\n",
       "      <td>0</td>\n",
       "      <td>0.168708</td>\n",
       "      <td>-0.518390</td>\n",
       "      <td>0.000000</td>\n",
       "      <td>0.100000</td>\n",
       "      <td>-1.0</td>\n",
       "    </tr>\n",
       "  </tbody>\n",
       "</table>\n",
       "</div>"
      ],
      "text/plain": [
       "   index  true  score_logreg  score_svm  score_knn  score_tree  \\\n",
       "0      0     0      0.683832   0.145976   0.787063    0.500000   \n",
       "1      1     1      0.801966   0.239511   1.000000    0.833333   \n",
       "2      2     0      0.382315  -0.245701   0.000000    0.000000   \n",
       "3      3     1      0.506797  -0.137058   0.000000    0.105263   \n",
       "4      4     1      0.488781  -0.154148   0.000000    0.105263   \n",
       "5      5     0      0.108506  -0.790864   0.000000    0.000000   \n",
       "6      6     0      0.413749  -0.185143   0.283053    0.363636   \n",
       "7      7     0      0.961081   0.830973   1.000000    1.000000   \n",
       "8      8     0      0.055733  -0.872805   0.000000    0.100000   \n",
       "9      9     0      0.168708  -0.518390   0.000000    0.100000   \n",
       "\n",
       "   FLOOR(score_svm)  \n",
       "0               0.0  \n",
       "1               0.0  \n",
       "2              -1.0  \n",
       "3              -1.0  \n",
       "4              -1.0  \n",
       "5              -1.0  \n",
       "6              -1.0  \n",
       "7               0.0  \n",
       "8              -1.0  \n",
       "9              -1.0  "
      ]
     },
     "execution_count": 129,
     "metadata": {},
     "output_type": "execute_result"
    }
   ],
   "source": [
    "FLOOR(df, 'score_svm')"
   ]
  },
  {
   "cell_type": "code",
   "execution_count": 130,
   "id": "70958af5",
   "metadata": {},
   "outputs": [
    {
     "data": {
      "text/plain": [
       "-1"
      ]
     },
     "execution_count": 130,
     "metadata": {},
     "output_type": "execute_result"
    }
   ],
   "source": [
    "FLOOR(-0.245701)"
   ]
  },
  {
   "cell_type": "code",
   "execution_count": 131,
   "id": "bae5a84d",
   "metadata": {},
   "outputs": [
    {
     "data": {
      "text/plain": [
       "0"
      ]
     },
     "execution_count": 131,
     "metadata": {},
     "output_type": "execute_result"
    }
   ],
   "source": [
    "FLOOR(0.830973)"
   ]
  },
  {
   "cell_type": "code",
   "execution_count": 132,
   "id": "5f4d038a",
   "metadata": {},
   "outputs": [
    {
     "data": {
      "text/plain": [
       "3"
      ]
     },
     "execution_count": 132,
     "metadata": {},
     "output_type": "execute_result"
    }
   ],
   "source": [
    "FLOOR(3.1)"
   ]
  },
  {
   "cell_type": "code",
   "execution_count": 133,
   "id": "8f160119",
   "metadata": {},
   "outputs": [
    {
     "data": {
      "text/plain": [
       "8"
      ]
     },
     "execution_count": 133,
     "metadata": {},
     "output_type": "execute_result"
    }
   ],
   "source": [
    "FLOOR(8.5)"
   ]
  },
  {
   "cell_type": "code",
   "execution_count": 134,
   "id": "00998e58",
   "metadata": {},
   "outputs": [
    {
     "data": {
      "text/plain": [
       "-1"
      ]
     },
     "execution_count": 134,
     "metadata": {},
     "output_type": "execute_result"
    }
   ],
   "source": [
    "FLOOR(-0.4)"
   ]
  },
  {
   "cell_type": "code",
   "execution_count": 135,
   "id": "c8a061a9",
   "metadata": {},
   "outputs": [
    {
     "data": {
      "text/plain": [
       "6"
      ]
     },
     "execution_count": 135,
     "metadata": {},
     "output_type": "execute_result"
    }
   ],
   "source": [
    "FLOOR(6.7)"
   ]
  },
  {
   "cell_type": "markdown",
   "id": "22f7234f",
   "metadata": {},
   "source": [
    "## 15. LN\n",
    "\n",
    "**Описание:** \n",
    "\n",
    "Возвращает натуральный логарифм числа. Если число меньше либо равно 0, возвращает None. \n",
    "\n",
    "**Входные и выходные данные:**\n",
    "\n",
    "На входе - число.\n",
    "\n",
    "На выходе - число (натуральный логарифм от этого числа).\n",
    "\n",
    "### Реализация:"
   ]
  },
  {
   "cell_type": "code",
   "execution_count": 136,
   "id": "5b39ca7c",
   "metadata": {},
   "outputs": [],
   "source": [
    "def LN(df, col = None): \n",
    "    if col == None: \n",
    "        import math\n",
    "        if df > 0:\n",
    "            return math.log(df)\n",
    "        return math.nan\n",
    "    from sqlite3 import connect\n",
    "    import pandas as pd\n",
    "    conn = connect(':memory:')\n",
    "    df.to_sql('data', conn)\n",
    "    return pd.read_sql(f'SELECT *, LN({col}) FROM data', conn)"
   ]
  },
  {
   "cell_type": "markdown",
   "id": "a1130a2f",
   "metadata": {},
   "source": [
    "### Тестирование:"
   ]
  },
  {
   "cell_type": "code",
   "execution_count": 137,
   "id": "6f2299d3",
   "metadata": {
    "scrolled": false
   },
   "outputs": [
    {
     "data": {
      "text/html": [
       "<div>\n",
       "<style scoped>\n",
       "    .dataframe tbody tr th:only-of-type {\n",
       "        vertical-align: middle;\n",
       "    }\n",
       "\n",
       "    .dataframe tbody tr th {\n",
       "        vertical-align: top;\n",
       "    }\n",
       "\n",
       "    .dataframe thead th {\n",
       "        text-align: right;\n",
       "    }\n",
       "</style>\n",
       "<table border=\"1\" class=\"dataframe\">\n",
       "  <thead>\n",
       "    <tr style=\"text-align: right;\">\n",
       "      <th></th>\n",
       "      <th>index</th>\n",
       "      <th>true</th>\n",
       "      <th>score_logreg</th>\n",
       "      <th>score_svm</th>\n",
       "      <th>score_knn</th>\n",
       "      <th>score_tree</th>\n",
       "      <th>LN(score_logreg)</th>\n",
       "    </tr>\n",
       "  </thead>\n",
       "  <tbody>\n",
       "    <tr>\n",
       "      <th>0</th>\n",
       "      <td>0</td>\n",
       "      <td>0</td>\n",
       "      <td>0.683832</td>\n",
       "      <td>0.145976</td>\n",
       "      <td>0.787063</td>\n",
       "      <td>0.500000</td>\n",
       "      <td>-0.380043</td>\n",
       "    </tr>\n",
       "    <tr>\n",
       "      <th>1</th>\n",
       "      <td>1</td>\n",
       "      <td>1</td>\n",
       "      <td>0.801966</td>\n",
       "      <td>0.239511</td>\n",
       "      <td>1.000000</td>\n",
       "      <td>0.833333</td>\n",
       "      <td>-0.220688</td>\n",
       "    </tr>\n",
       "    <tr>\n",
       "      <th>2</th>\n",
       "      <td>2</td>\n",
       "      <td>0</td>\n",
       "      <td>0.382315</td>\n",
       "      <td>-0.245701</td>\n",
       "      <td>0.000000</td>\n",
       "      <td>0.000000</td>\n",
       "      <td>-0.961509</td>\n",
       "    </tr>\n",
       "    <tr>\n",
       "      <th>3</th>\n",
       "      <td>3</td>\n",
       "      <td>1</td>\n",
       "      <td>0.506797</td>\n",
       "      <td>-0.137058</td>\n",
       "      <td>0.000000</td>\n",
       "      <td>0.105263</td>\n",
       "      <td>-0.679645</td>\n",
       "    </tr>\n",
       "    <tr>\n",
       "      <th>4</th>\n",
       "      <td>4</td>\n",
       "      <td>1</td>\n",
       "      <td>0.488781</td>\n",
       "      <td>-0.154148</td>\n",
       "      <td>0.000000</td>\n",
       "      <td>0.105263</td>\n",
       "      <td>-0.715840</td>\n",
       "    </tr>\n",
       "    <tr>\n",
       "      <th>5</th>\n",
       "      <td>5</td>\n",
       "      <td>0</td>\n",
       "      <td>0.108506</td>\n",
       "      <td>-0.790864</td>\n",
       "      <td>0.000000</td>\n",
       "      <td>0.000000</td>\n",
       "      <td>-2.220948</td>\n",
       "    </tr>\n",
       "    <tr>\n",
       "      <th>6</th>\n",
       "      <td>6</td>\n",
       "      <td>0</td>\n",
       "      <td>0.413749</td>\n",
       "      <td>-0.185143</td>\n",
       "      <td>0.283053</td>\n",
       "      <td>0.363636</td>\n",
       "      <td>-0.882496</td>\n",
       "    </tr>\n",
       "    <tr>\n",
       "      <th>7</th>\n",
       "      <td>7</td>\n",
       "      <td>0</td>\n",
       "      <td>0.961081</td>\n",
       "      <td>0.830973</td>\n",
       "      <td>1.000000</td>\n",
       "      <td>1.000000</td>\n",
       "      <td>-0.039696</td>\n",
       "    </tr>\n",
       "    <tr>\n",
       "      <th>8</th>\n",
       "      <td>8</td>\n",
       "      <td>0</td>\n",
       "      <td>0.055733</td>\n",
       "      <td>-0.872805</td>\n",
       "      <td>0.000000</td>\n",
       "      <td>0.100000</td>\n",
       "      <td>-2.887190</td>\n",
       "    </tr>\n",
       "    <tr>\n",
       "      <th>9</th>\n",
       "      <td>9</td>\n",
       "      <td>0</td>\n",
       "      <td>0.168708</td>\n",
       "      <td>-0.518390</td>\n",
       "      <td>0.000000</td>\n",
       "      <td>0.100000</td>\n",
       "      <td>-1.779585</td>\n",
       "    </tr>\n",
       "  </tbody>\n",
       "</table>\n",
       "</div>"
      ],
      "text/plain": [
       "   index  true  score_logreg  score_svm  score_knn  score_tree  \\\n",
       "0      0     0      0.683832   0.145976   0.787063    0.500000   \n",
       "1      1     1      0.801966   0.239511   1.000000    0.833333   \n",
       "2      2     0      0.382315  -0.245701   0.000000    0.000000   \n",
       "3      3     1      0.506797  -0.137058   0.000000    0.105263   \n",
       "4      4     1      0.488781  -0.154148   0.000000    0.105263   \n",
       "5      5     0      0.108506  -0.790864   0.000000    0.000000   \n",
       "6      6     0      0.413749  -0.185143   0.283053    0.363636   \n",
       "7      7     0      0.961081   0.830973   1.000000    1.000000   \n",
       "8      8     0      0.055733  -0.872805   0.000000    0.100000   \n",
       "9      9     0      0.168708  -0.518390   0.000000    0.100000   \n",
       "\n",
       "   LN(score_logreg)  \n",
       "0         -0.380043  \n",
       "1         -0.220688  \n",
       "2         -0.961509  \n",
       "3         -0.679645  \n",
       "4         -0.715840  \n",
       "5         -2.220948  \n",
       "6         -0.882496  \n",
       "7         -0.039696  \n",
       "8         -2.887190  \n",
       "9         -1.779585  "
      ]
     },
     "execution_count": 137,
     "metadata": {},
     "output_type": "execute_result"
    }
   ],
   "source": [
    "LN(df, 'score_logreg')"
   ]
  },
  {
   "cell_type": "code",
   "execution_count": 138,
   "id": "840be813",
   "metadata": {},
   "outputs": [
    {
     "data": {
      "text/plain": [
       "-0.38004254954597827"
      ]
     },
     "execution_count": 138,
     "metadata": {},
     "output_type": "execute_result"
    }
   ],
   "source": [
    "LN(df.iloc[0]['score_logreg'])"
   ]
  },
  {
   "cell_type": "code",
   "execution_count": 139,
   "id": "ca3158f4",
   "metadata": {},
   "outputs": [
    {
     "data": {
      "text/plain": [
       "-0.039696320376058435"
      ]
     },
     "execution_count": 139,
     "metadata": {},
     "output_type": "execute_result"
    }
   ],
   "source": [
    "LN(df.iloc[7]['score_logreg'])"
   ]
  },
  {
   "cell_type": "code",
   "execution_count": 140,
   "id": "b60b24b9",
   "metadata": {
    "scrolled": true
   },
   "outputs": [
    {
     "data": {
      "text/html": [
       "<div>\n",
       "<style scoped>\n",
       "    .dataframe tbody tr th:only-of-type {\n",
       "        vertical-align: middle;\n",
       "    }\n",
       "\n",
       "    .dataframe tbody tr th {\n",
       "        vertical-align: top;\n",
       "    }\n",
       "\n",
       "    .dataframe thead th {\n",
       "        text-align: right;\n",
       "    }\n",
       "</style>\n",
       "<table border=\"1\" class=\"dataframe\">\n",
       "  <thead>\n",
       "    <tr style=\"text-align: right;\">\n",
       "      <th></th>\n",
       "      <th>index</th>\n",
       "      <th>true</th>\n",
       "      <th>score_logreg</th>\n",
       "      <th>score_svm</th>\n",
       "      <th>score_knn</th>\n",
       "      <th>score_tree</th>\n",
       "      <th>LN(score_svm)</th>\n",
       "    </tr>\n",
       "  </thead>\n",
       "  <tbody>\n",
       "    <tr>\n",
       "      <th>0</th>\n",
       "      <td>0</td>\n",
       "      <td>0</td>\n",
       "      <td>0.683832</td>\n",
       "      <td>0.145976</td>\n",
       "      <td>0.787063</td>\n",
       "      <td>0.500000</td>\n",
       "      <td>-1.924314</td>\n",
       "    </tr>\n",
       "    <tr>\n",
       "      <th>1</th>\n",
       "      <td>1</td>\n",
       "      <td>1</td>\n",
       "      <td>0.801966</td>\n",
       "      <td>0.239511</td>\n",
       "      <td>1.000000</td>\n",
       "      <td>0.833333</td>\n",
       "      <td>-1.429154</td>\n",
       "    </tr>\n",
       "    <tr>\n",
       "      <th>2</th>\n",
       "      <td>2</td>\n",
       "      <td>0</td>\n",
       "      <td>0.382315</td>\n",
       "      <td>-0.245701</td>\n",
       "      <td>0.000000</td>\n",
       "      <td>0.000000</td>\n",
       "      <td>NaN</td>\n",
       "    </tr>\n",
       "    <tr>\n",
       "      <th>3</th>\n",
       "      <td>3</td>\n",
       "      <td>1</td>\n",
       "      <td>0.506797</td>\n",
       "      <td>-0.137058</td>\n",
       "      <td>0.000000</td>\n",
       "      <td>0.105263</td>\n",
       "      <td>NaN</td>\n",
       "    </tr>\n",
       "    <tr>\n",
       "      <th>4</th>\n",
       "      <td>4</td>\n",
       "      <td>1</td>\n",
       "      <td>0.488781</td>\n",
       "      <td>-0.154148</td>\n",
       "      <td>0.000000</td>\n",
       "      <td>0.105263</td>\n",
       "      <td>NaN</td>\n",
       "    </tr>\n",
       "    <tr>\n",
       "      <th>5</th>\n",
       "      <td>5</td>\n",
       "      <td>0</td>\n",
       "      <td>0.108506</td>\n",
       "      <td>-0.790864</td>\n",
       "      <td>0.000000</td>\n",
       "      <td>0.000000</td>\n",
       "      <td>NaN</td>\n",
       "    </tr>\n",
       "    <tr>\n",
       "      <th>6</th>\n",
       "      <td>6</td>\n",
       "      <td>0</td>\n",
       "      <td>0.413749</td>\n",
       "      <td>-0.185143</td>\n",
       "      <td>0.283053</td>\n",
       "      <td>0.363636</td>\n",
       "      <td>NaN</td>\n",
       "    </tr>\n",
       "    <tr>\n",
       "      <th>7</th>\n",
       "      <td>7</td>\n",
       "      <td>0</td>\n",
       "      <td>0.961081</td>\n",
       "      <td>0.830973</td>\n",
       "      <td>1.000000</td>\n",
       "      <td>1.000000</td>\n",
       "      <td>-0.185158</td>\n",
       "    </tr>\n",
       "    <tr>\n",
       "      <th>8</th>\n",
       "      <td>8</td>\n",
       "      <td>0</td>\n",
       "      <td>0.055733</td>\n",
       "      <td>-0.872805</td>\n",
       "      <td>0.000000</td>\n",
       "      <td>0.100000</td>\n",
       "      <td>NaN</td>\n",
       "    </tr>\n",
       "    <tr>\n",
       "      <th>9</th>\n",
       "      <td>9</td>\n",
       "      <td>0</td>\n",
       "      <td>0.168708</td>\n",
       "      <td>-0.518390</td>\n",
       "      <td>0.000000</td>\n",
       "      <td>0.100000</td>\n",
       "      <td>NaN</td>\n",
       "    </tr>\n",
       "  </tbody>\n",
       "</table>\n",
       "</div>"
      ],
      "text/plain": [
       "   index  true  score_logreg  score_svm  score_knn  score_tree  LN(score_svm)\n",
       "0      0     0      0.683832   0.145976   0.787063    0.500000      -1.924314\n",
       "1      1     1      0.801966   0.239511   1.000000    0.833333      -1.429154\n",
       "2      2     0      0.382315  -0.245701   0.000000    0.000000            NaN\n",
       "3      3     1      0.506797  -0.137058   0.000000    0.105263            NaN\n",
       "4      4     1      0.488781  -0.154148   0.000000    0.105263            NaN\n",
       "5      5     0      0.108506  -0.790864   0.000000    0.000000            NaN\n",
       "6      6     0      0.413749  -0.185143   0.283053    0.363636            NaN\n",
       "7      7     0      0.961081   0.830973   1.000000    1.000000      -0.185158\n",
       "8      8     0      0.055733  -0.872805   0.000000    0.100000            NaN\n",
       "9      9     0      0.168708  -0.518390   0.000000    0.100000            NaN"
      ]
     },
     "execution_count": 140,
     "metadata": {},
     "output_type": "execute_result"
    }
   ],
   "source": [
    "LN(df, 'score_svm')"
   ]
  },
  {
   "cell_type": "code",
   "execution_count": 141,
   "id": "ffb71936",
   "metadata": {},
   "outputs": [
    {
     "data": {
      "text/plain": [
       "nan"
      ]
     },
     "execution_count": 141,
     "metadata": {},
     "output_type": "execute_result"
    }
   ],
   "source": [
    "LN(-0.245701)"
   ]
  },
  {
   "cell_type": "code",
   "execution_count": 142,
   "id": "f2fbc1a4",
   "metadata": {},
   "outputs": [
    {
     "data": {
      "text/plain": [
       "-1.9243137927349097"
      ]
     },
     "execution_count": 142,
     "metadata": {},
     "output_type": "execute_result"
    }
   ],
   "source": [
    "LN(df.iloc[0]['score_svm'])"
   ]
  },
  {
   "cell_type": "code",
   "execution_count": 143,
   "id": "e9667efc",
   "metadata": {},
   "outputs": [
    {
     "data": {
      "text/plain": [
       "1.0"
      ]
     },
     "execution_count": 143,
     "metadata": {},
     "output_type": "execute_result"
    }
   ],
   "source": [
    "LN(EXP(1))"
   ]
  },
  {
   "cell_type": "code",
   "execution_count": 144,
   "id": "c7572d87",
   "metadata": {},
   "outputs": [
    {
     "data": {
      "text/plain": [
       "-1.0"
      ]
     },
     "execution_count": 144,
     "metadata": {},
     "output_type": "execute_result"
    }
   ],
   "source": [
    "LN(EXP(-1))"
   ]
  },
  {
   "cell_type": "code",
   "execution_count": 145,
   "id": "92b9dba3",
   "metadata": {},
   "outputs": [
    {
     "data": {
      "text/plain": [
       "nan"
      ]
     },
     "execution_count": 145,
     "metadata": {},
     "output_type": "execute_result"
    }
   ],
   "source": [
    "LN(0)"
   ]
  },
  {
   "cell_type": "code",
   "execution_count": 146,
   "id": "206d0628",
   "metadata": {},
   "outputs": [
    {
     "data": {
      "text/plain": [
       "1.3862943611198906"
      ]
     },
     "execution_count": 146,
     "metadata": {},
     "output_type": "execute_result"
    }
   ],
   "source": [
    "LN(4)"
   ]
  },
  {
   "cell_type": "markdown",
   "id": "d9c789f4",
   "metadata": {},
   "source": [
    "## 16. LOG\n",
    "\n",
    "**Описание:** \n",
    "\n",
    "Возвращает логарифм числа по основанию. Если основание не указано, по умолчанию используется 10. Если число меньше либо равно 0 или основание меньше либо равно 0 или основание равно 1, возвращает Nan. \n",
    "\n",
    "**Входные и выходные данные:**\n",
    "\n",
    "На входе - число или два (если указано основание).\n",
    "\n",
    "На выходе - число (логарифм от этого числа с указанным основанием или логарифм от 10 в противном случае).\n",
    "\n",
    "### Реализация:"
   ]
  },
  {
   "cell_type": "code",
   "execution_count": 147,
   "id": "e3e08a67",
   "metadata": {},
   "outputs": [],
   "source": [
    "def LOG(df, col1 = 10, col2 = 10): \n",
    "    if col2 == 10 and type(col1) != str: \n",
    "        import math\n",
    "        if(df > 0 and col1 > 0 and col1 != 1):\n",
    "            return math.log(df, col1)\n",
    "        return math.nan\n",
    "    from sqlite3 import connect\n",
    "    import pandas as pd\n",
    "    conn = connect(':memory:')\n",
    "    df.to_sql('data', conn)\n",
    "    return pd.read_sql(f'SELECT *, LN({col1}) / LN({col2}) AS LOG FROM data', conn)"
   ]
  },
  {
   "cell_type": "markdown",
   "id": "002e7974",
   "metadata": {},
   "source": [
    "### Тестирование:"
   ]
  },
  {
   "cell_type": "code",
   "execution_count": 148,
   "id": "973ebfc5",
   "metadata": {
    "scrolled": false
   },
   "outputs": [
    {
     "data": {
      "text/html": [
       "<div>\n",
       "<style scoped>\n",
       "    .dataframe tbody tr th:only-of-type {\n",
       "        vertical-align: middle;\n",
       "    }\n",
       "\n",
       "    .dataframe tbody tr th {\n",
       "        vertical-align: top;\n",
       "    }\n",
       "\n",
       "    .dataframe thead th {\n",
       "        text-align: right;\n",
       "    }\n",
       "</style>\n",
       "<table border=\"1\" class=\"dataframe\">\n",
       "  <thead>\n",
       "    <tr style=\"text-align: right;\">\n",
       "      <th></th>\n",
       "      <th>index</th>\n",
       "      <th>true</th>\n",
       "      <th>score_logreg</th>\n",
       "      <th>score_svm</th>\n",
       "      <th>score_knn</th>\n",
       "      <th>score_tree</th>\n",
       "      <th>LOG</th>\n",
       "    </tr>\n",
       "  </thead>\n",
       "  <tbody>\n",
       "    <tr>\n",
       "      <th>0</th>\n",
       "      <td>0</td>\n",
       "      <td>0</td>\n",
       "      <td>0.683832</td>\n",
       "      <td>0.145976</td>\n",
       "      <td>0.787063</td>\n",
       "      <td>0.500000</td>\n",
       "      <td>-0.165050</td>\n",
       "    </tr>\n",
       "    <tr>\n",
       "      <th>1</th>\n",
       "      <td>1</td>\n",
       "      <td>1</td>\n",
       "      <td>0.801966</td>\n",
       "      <td>0.239511</td>\n",
       "      <td>1.000000</td>\n",
       "      <td>0.833333</td>\n",
       "      <td>-0.095844</td>\n",
       "    </tr>\n",
       "    <tr>\n",
       "      <th>2</th>\n",
       "      <td>2</td>\n",
       "      <td>0</td>\n",
       "      <td>0.382315</td>\n",
       "      <td>-0.245701</td>\n",
       "      <td>0.000000</td>\n",
       "      <td>0.000000</td>\n",
       "      <td>-0.417578</td>\n",
       "    </tr>\n",
       "    <tr>\n",
       "      <th>3</th>\n",
       "      <td>3</td>\n",
       "      <td>1</td>\n",
       "      <td>0.506797</td>\n",
       "      <td>-0.137058</td>\n",
       "      <td>0.000000</td>\n",
       "      <td>0.105263</td>\n",
       "      <td>-0.295166</td>\n",
       "    </tr>\n",
       "    <tr>\n",
       "      <th>4</th>\n",
       "      <td>4</td>\n",
       "      <td>1</td>\n",
       "      <td>0.488781</td>\n",
       "      <td>-0.154148</td>\n",
       "      <td>0.000000</td>\n",
       "      <td>0.105263</td>\n",
       "      <td>-0.310885</td>\n",
       "    </tr>\n",
       "    <tr>\n",
       "      <th>5</th>\n",
       "      <td>5</td>\n",
       "      <td>0</td>\n",
       "      <td>0.108506</td>\n",
       "      <td>-0.790864</td>\n",
       "      <td>0.000000</td>\n",
       "      <td>0.000000</td>\n",
       "      <td>-0.964545</td>\n",
       "    </tr>\n",
       "    <tr>\n",
       "      <th>6</th>\n",
       "      <td>6</td>\n",
       "      <td>0</td>\n",
       "      <td>0.413749</td>\n",
       "      <td>-0.185143</td>\n",
       "      <td>0.283053</td>\n",
       "      <td>0.363636</td>\n",
       "      <td>-0.383263</td>\n",
       "    </tr>\n",
       "    <tr>\n",
       "      <th>7</th>\n",
       "      <td>7</td>\n",
       "      <td>0</td>\n",
       "      <td>0.961081</td>\n",
       "      <td>0.830973</td>\n",
       "      <td>1.000000</td>\n",
       "      <td>1.000000</td>\n",
       "      <td>-0.017240</td>\n",
       "    </tr>\n",
       "    <tr>\n",
       "      <th>8</th>\n",
       "      <td>8</td>\n",
       "      <td>0</td>\n",
       "      <td>0.055733</td>\n",
       "      <td>-0.872805</td>\n",
       "      <td>0.000000</td>\n",
       "      <td>0.100000</td>\n",
       "      <td>-1.253891</td>\n",
       "    </tr>\n",
       "    <tr>\n",
       "      <th>9</th>\n",
       "      <td>9</td>\n",
       "      <td>0</td>\n",
       "      <td>0.168708</td>\n",
       "      <td>-0.518390</td>\n",
       "      <td>0.000000</td>\n",
       "      <td>0.100000</td>\n",
       "      <td>-0.772864</td>\n",
       "    </tr>\n",
       "  </tbody>\n",
       "</table>\n",
       "</div>"
      ],
      "text/plain": [
       "   index  true  score_logreg  score_svm  score_knn  score_tree       LOG\n",
       "0      0     0      0.683832   0.145976   0.787063    0.500000 -0.165050\n",
       "1      1     1      0.801966   0.239511   1.000000    0.833333 -0.095844\n",
       "2      2     0      0.382315  -0.245701   0.000000    0.000000 -0.417578\n",
       "3      3     1      0.506797  -0.137058   0.000000    0.105263 -0.295166\n",
       "4      4     1      0.488781  -0.154148   0.000000    0.105263 -0.310885\n",
       "5      5     0      0.108506  -0.790864   0.000000    0.000000 -0.964545\n",
       "6      6     0      0.413749  -0.185143   0.283053    0.363636 -0.383263\n",
       "7      7     0      0.961081   0.830973   1.000000    1.000000 -0.017240\n",
       "8      8     0      0.055733  -0.872805   0.000000    0.100000 -1.253891\n",
       "9      9     0      0.168708  -0.518390   0.000000    0.100000 -0.772864"
      ]
     },
     "execution_count": 148,
     "metadata": {},
     "output_type": "execute_result"
    }
   ],
   "source": [
    "LOG(df, 'score_logreg')"
   ]
  },
  {
   "cell_type": "code",
   "execution_count": 149,
   "id": "646497d0",
   "metadata": {},
   "outputs": [
    {
     "data": {
      "text/plain": [
       "-0.16505038215626153"
      ]
     },
     "execution_count": 149,
     "metadata": {},
     "output_type": "execute_result"
    }
   ],
   "source": [
    "LOG(df.iloc[0]['score_logreg'])"
   ]
  },
  {
   "cell_type": "code",
   "execution_count": 150,
   "id": "8ff28fae",
   "metadata": {},
   "outputs": [
    {
     "data": {
      "text/plain": [
       "-0.017239892891185795"
      ]
     },
     "execution_count": 150,
     "metadata": {},
     "output_type": "execute_result"
    }
   ],
   "source": [
    "LOG(df.iloc[7]['score_logreg'])"
   ]
  },
  {
   "cell_type": "code",
   "execution_count": 151,
   "id": "e09df81d",
   "metadata": {
    "scrolled": false
   },
   "outputs": [
    {
     "data": {
      "text/html": [
       "<div>\n",
       "<style scoped>\n",
       "    .dataframe tbody tr th:only-of-type {\n",
       "        vertical-align: middle;\n",
       "    }\n",
       "\n",
       "    .dataframe tbody tr th {\n",
       "        vertical-align: top;\n",
       "    }\n",
       "\n",
       "    .dataframe thead th {\n",
       "        text-align: right;\n",
       "    }\n",
       "</style>\n",
       "<table border=\"1\" class=\"dataframe\">\n",
       "  <thead>\n",
       "    <tr style=\"text-align: right;\">\n",
       "      <th></th>\n",
       "      <th>index</th>\n",
       "      <th>true</th>\n",
       "      <th>score_logreg</th>\n",
       "      <th>score_svm</th>\n",
       "      <th>score_knn</th>\n",
       "      <th>score_tree</th>\n",
       "      <th>LOG</th>\n",
       "    </tr>\n",
       "  </thead>\n",
       "  <tbody>\n",
       "    <tr>\n",
       "      <th>0</th>\n",
       "      <td>0</td>\n",
       "      <td>0</td>\n",
       "      <td>0.683832</td>\n",
       "      <td>0.145976</td>\n",
       "      <td>0.787063</td>\n",
       "      <td>0.500000</td>\n",
       "      <td>-1.195643</td>\n",
       "    </tr>\n",
       "    <tr>\n",
       "      <th>1</th>\n",
       "      <td>1</td>\n",
       "      <td>1</td>\n",
       "      <td>0.801966</td>\n",
       "      <td>0.239511</td>\n",
       "      <td>1.000000</td>\n",
       "      <td>0.833333</td>\n",
       "      <td>-0.887984</td>\n",
       "    </tr>\n",
       "    <tr>\n",
       "      <th>2</th>\n",
       "      <td>2</td>\n",
       "      <td>0</td>\n",
       "      <td>0.382315</td>\n",
       "      <td>-0.245701</td>\n",
       "      <td>0.000000</td>\n",
       "      <td>0.000000</td>\n",
       "      <td>NaN</td>\n",
       "    </tr>\n",
       "    <tr>\n",
       "      <th>3</th>\n",
       "      <td>3</td>\n",
       "      <td>1</td>\n",
       "      <td>0.506797</td>\n",
       "      <td>-0.137058</td>\n",
       "      <td>0.000000</td>\n",
       "      <td>0.105263</td>\n",
       "      <td>NaN</td>\n",
       "    </tr>\n",
       "    <tr>\n",
       "      <th>4</th>\n",
       "      <td>4</td>\n",
       "      <td>1</td>\n",
       "      <td>0.488781</td>\n",
       "      <td>-0.154148</td>\n",
       "      <td>0.000000</td>\n",
       "      <td>0.105263</td>\n",
       "      <td>NaN</td>\n",
       "    </tr>\n",
       "    <tr>\n",
       "      <th>5</th>\n",
       "      <td>5</td>\n",
       "      <td>0</td>\n",
       "      <td>0.108506</td>\n",
       "      <td>-0.790864</td>\n",
       "      <td>0.000000</td>\n",
       "      <td>0.000000</td>\n",
       "      <td>NaN</td>\n",
       "    </tr>\n",
       "    <tr>\n",
       "      <th>6</th>\n",
       "      <td>6</td>\n",
       "      <td>0</td>\n",
       "      <td>0.413749</td>\n",
       "      <td>-0.185143</td>\n",
       "      <td>0.283053</td>\n",
       "      <td>0.363636</td>\n",
       "      <td>NaN</td>\n",
       "    </tr>\n",
       "    <tr>\n",
       "      <th>7</th>\n",
       "      <td>7</td>\n",
       "      <td>0</td>\n",
       "      <td>0.961081</td>\n",
       "      <td>0.830973</td>\n",
       "      <td>1.000000</td>\n",
       "      <td>1.000000</td>\n",
       "      <td>-0.115045</td>\n",
       "    </tr>\n",
       "    <tr>\n",
       "      <th>8</th>\n",
       "      <td>8</td>\n",
       "      <td>0</td>\n",
       "      <td>0.055733</td>\n",
       "      <td>-0.872805</td>\n",
       "      <td>0.000000</td>\n",
       "      <td>0.100000</td>\n",
       "      <td>NaN</td>\n",
       "    </tr>\n",
       "    <tr>\n",
       "      <th>9</th>\n",
       "      <td>9</td>\n",
       "      <td>0</td>\n",
       "      <td>0.168708</td>\n",
       "      <td>-0.518390</td>\n",
       "      <td>0.000000</td>\n",
       "      <td>0.100000</td>\n",
       "      <td>NaN</td>\n",
       "    </tr>\n",
       "  </tbody>\n",
       "</table>\n",
       "</div>"
      ],
      "text/plain": [
       "   index  true  score_logreg  score_svm  score_knn  score_tree       LOG\n",
       "0      0     0      0.683832   0.145976   0.787063    0.500000 -1.195643\n",
       "1      1     1      0.801966   0.239511   1.000000    0.833333 -0.887984\n",
       "2      2     0      0.382315  -0.245701   0.000000    0.000000       NaN\n",
       "3      3     1      0.506797  -0.137058   0.000000    0.105263       NaN\n",
       "4      4     1      0.488781  -0.154148   0.000000    0.105263       NaN\n",
       "5      5     0      0.108506  -0.790864   0.000000    0.000000       NaN\n",
       "6      6     0      0.413749  -0.185143   0.283053    0.363636       NaN\n",
       "7      7     0      0.961081   0.830973   1.000000    1.000000 -0.115045\n",
       "8      8     0      0.055733  -0.872805   0.000000    0.100000       NaN\n",
       "9      9     0      0.168708  -0.518390   0.000000    0.100000       NaN"
      ]
     },
     "execution_count": 151,
     "metadata": {},
     "output_type": "execute_result"
    }
   ],
   "source": [
    "LOG(df, 'score_svm', 5)"
   ]
  },
  {
   "cell_type": "code",
   "execution_count": 152,
   "id": "cb7497da",
   "metadata": {},
   "outputs": [
    {
     "data": {
      "text/plain": [
       "nan"
      ]
     },
     "execution_count": 152,
     "metadata": {},
     "output_type": "execute_result"
    }
   ],
   "source": [
    "LOG(-0.245701, 5)"
   ]
  },
  {
   "cell_type": "code",
   "execution_count": 153,
   "id": "a6a3c3ae",
   "metadata": {},
   "outputs": [
    {
     "data": {
      "text/plain": [
       "nan"
      ]
     },
     "execution_count": 153,
     "metadata": {},
     "output_type": "execute_result"
    }
   ],
   "source": [
    "LOG(-0.518390, 5)"
   ]
  },
  {
   "cell_type": "code",
   "execution_count": 154,
   "id": "c7dc712c",
   "metadata": {
    "scrolled": false
   },
   "outputs": [
    {
     "data": {
      "text/html": [
       "<div>\n",
       "<style scoped>\n",
       "    .dataframe tbody tr th:only-of-type {\n",
       "        vertical-align: middle;\n",
       "    }\n",
       "\n",
       "    .dataframe tbody tr th {\n",
       "        vertical-align: top;\n",
       "    }\n",
       "\n",
       "    .dataframe thead th {\n",
       "        text-align: right;\n",
       "    }\n",
       "</style>\n",
       "<table border=\"1\" class=\"dataframe\">\n",
       "  <thead>\n",
       "    <tr style=\"text-align: right;\">\n",
       "      <th></th>\n",
       "      <th>index</th>\n",
       "      <th>true</th>\n",
       "      <th>score_logreg</th>\n",
       "      <th>score_svm</th>\n",
       "      <th>score_knn</th>\n",
       "      <th>score_tree</th>\n",
       "      <th>LOG</th>\n",
       "    </tr>\n",
       "  </thead>\n",
       "  <tbody>\n",
       "    <tr>\n",
       "      <th>0</th>\n",
       "      <td>0</td>\n",
       "      <td>0</td>\n",
       "      <td>0.683832</td>\n",
       "      <td>0.145976</td>\n",
       "      <td>0.787063</td>\n",
       "      <td>0.500000</td>\n",
       "      <td>-4.234889</td>\n",
       "    </tr>\n",
       "    <tr>\n",
       "      <th>1</th>\n",
       "      <td>1</td>\n",
       "      <td>1</td>\n",
       "      <td>0.801966</td>\n",
       "      <td>0.239511</td>\n",
       "      <td>1.000000</td>\n",
       "      <td>0.833333</td>\n",
       "      <td>-7.292805</td>\n",
       "    </tr>\n",
       "    <tr>\n",
       "      <th>2</th>\n",
       "      <td>2</td>\n",
       "      <td>0</td>\n",
       "      <td>0.382315</td>\n",
       "      <td>-0.245701</td>\n",
       "      <td>0.000000</td>\n",
       "      <td>0.000000</td>\n",
       "      <td>-1.673866</td>\n",
       "    </tr>\n",
       "    <tr>\n",
       "      <th>3</th>\n",
       "      <td>3</td>\n",
       "      <td>1</td>\n",
       "      <td>0.506797</td>\n",
       "      <td>-0.137058</td>\n",
       "      <td>0.000000</td>\n",
       "      <td>0.105263</td>\n",
       "      <td>-2.368057</td>\n",
       "    </tr>\n",
       "    <tr>\n",
       "      <th>4</th>\n",
       "      <td>4</td>\n",
       "      <td>1</td>\n",
       "      <td>0.488781</td>\n",
       "      <td>-0.154148</td>\n",
       "      <td>0.000000</td>\n",
       "      <td>0.105263</td>\n",
       "      <td>-2.248322</td>\n",
       "    </tr>\n",
       "    <tr>\n",
       "      <th>5</th>\n",
       "      <td>5</td>\n",
       "      <td>0</td>\n",
       "      <td>0.108506</td>\n",
       "      <td>-0.790864</td>\n",
       "      <td>0.000000</td>\n",
       "      <td>0.000000</td>\n",
       "      <td>-0.724663</td>\n",
       "    </tr>\n",
       "    <tr>\n",
       "      <th>6</th>\n",
       "      <td>6</td>\n",
       "      <td>0</td>\n",
       "      <td>0.413749</td>\n",
       "      <td>-0.185143</td>\n",
       "      <td>0.283053</td>\n",
       "      <td>0.363636</td>\n",
       "      <td>-1.823734</td>\n",
       "    </tr>\n",
       "    <tr>\n",
       "      <th>7</th>\n",
       "      <td>7</td>\n",
       "      <td>0</td>\n",
       "      <td>0.961081</td>\n",
       "      <td>0.830973</td>\n",
       "      <td>1.000000</td>\n",
       "      <td>1.000000</td>\n",
       "      <td>-40.543756</td>\n",
       "    </tr>\n",
       "    <tr>\n",
       "      <th>8</th>\n",
       "      <td>8</td>\n",
       "      <td>0</td>\n",
       "      <td>0.055733</td>\n",
       "      <td>-0.872805</td>\n",
       "      <td>0.000000</td>\n",
       "      <td>0.100000</td>\n",
       "      <td>-0.557441</td>\n",
       "    </tr>\n",
       "    <tr>\n",
       "      <th>9</th>\n",
       "      <td>9</td>\n",
       "      <td>0</td>\n",
       "      <td>0.168708</td>\n",
       "      <td>-0.518390</td>\n",
       "      <td>0.000000</td>\n",
       "      <td>0.100000</td>\n",
       "      <td>-0.904389</td>\n",
       "    </tr>\n",
       "  </tbody>\n",
       "</table>\n",
       "</div>"
      ],
      "text/plain": [
       "   index  true  score_logreg  score_svm  score_knn  score_tree        LOG\n",
       "0      0     0      0.683832   0.145976   0.787063    0.500000  -4.234889\n",
       "1      1     1      0.801966   0.239511   1.000000    0.833333  -7.292805\n",
       "2      2     0      0.382315  -0.245701   0.000000    0.000000  -1.673866\n",
       "3      3     1      0.506797  -0.137058   0.000000    0.105263  -2.368057\n",
       "4      4     1      0.488781  -0.154148   0.000000    0.105263  -2.248322\n",
       "5      5     0      0.108506  -0.790864   0.000000    0.000000  -0.724663\n",
       "6      6     0      0.413749  -0.185143   0.283053    0.363636  -1.823734\n",
       "7      7     0      0.961081   0.830973   1.000000    1.000000 -40.543756\n",
       "8      8     0      0.055733  -0.872805   0.000000    0.100000  -0.557441\n",
       "9      9     0      0.168708  -0.518390   0.000000    0.100000  -0.904389"
      ]
     },
     "execution_count": 154,
     "metadata": {},
     "output_type": "execute_result"
    }
   ],
   "source": [
    "LOG(df, 5, 'score_logreg')"
   ]
  },
  {
   "cell_type": "code",
   "execution_count": 155,
   "id": "ee86ba5c",
   "metadata": {
    "scrolled": true
   },
   "outputs": [
    {
     "data": {
      "text/plain": [
       "-4.234888736423939"
      ]
     },
     "execution_count": 155,
     "metadata": {},
     "output_type": "execute_result"
    }
   ],
   "source": [
    "LOG(5, df.iloc[0]['score_logreg'])"
   ]
  },
  {
   "cell_type": "code",
   "execution_count": 156,
   "id": "c00a896f",
   "metadata": {},
   "outputs": [
    {
     "data": {
      "text/plain": [
       "-40.54375562236699"
      ]
     },
     "execution_count": 156,
     "metadata": {},
     "output_type": "execute_result"
    }
   ],
   "source": [
    "LOG(5, df.iloc[7]['score_logreg'])"
   ]
  },
  {
   "cell_type": "code",
   "execution_count": 157,
   "id": "0fd1374d",
   "metadata": {},
   "outputs": [
    {
     "data": {
      "text/plain": [
       "0.0"
      ]
     },
     "execution_count": 157,
     "metadata": {},
     "output_type": "execute_result"
    }
   ],
   "source": [
    "LOG(1)"
   ]
  },
  {
   "cell_type": "code",
   "execution_count": 158,
   "id": "f491ef74",
   "metadata": {},
   "outputs": [
    {
     "data": {
      "text/plain": [
       "2.0"
      ]
     },
     "execution_count": 158,
     "metadata": {},
     "output_type": "execute_result"
    }
   ],
   "source": [
    "LOG(100)"
   ]
  },
  {
   "cell_type": "code",
   "execution_count": 159,
   "id": "65dce527",
   "metadata": {},
   "outputs": [
    {
     "data": {
      "text/plain": [
       "4.0"
      ]
     },
     "execution_count": 159,
     "metadata": {},
     "output_type": "execute_result"
    }
   ],
   "source": [
    "LOG(16, 2)"
   ]
  },
  {
   "cell_type": "code",
   "execution_count": 160,
   "id": "8144c6d8",
   "metadata": {},
   "outputs": [
    {
     "data": {
      "text/plain": [
       "-1.0000000000000002"
      ]
     },
     "execution_count": 160,
     "metadata": {},
     "output_type": "execute_result"
    }
   ],
   "source": [
    "LOG(10, 0.1)"
   ]
  },
  {
   "cell_type": "code",
   "execution_count": 161,
   "id": "989a7ad3",
   "metadata": {},
   "outputs": [
    {
     "data": {
      "text/plain": [
       "nan"
      ]
     },
     "execution_count": 161,
     "metadata": {},
     "output_type": "execute_result"
    }
   ],
   "source": [
    "LOG(4, 1)"
   ]
  },
  {
   "cell_type": "code",
   "execution_count": 162,
   "id": "4cb0ef9e",
   "metadata": {},
   "outputs": [
    {
     "data": {
      "text/plain": [
       "nan"
      ]
     },
     "execution_count": 162,
     "metadata": {},
     "output_type": "execute_result"
    }
   ],
   "source": [
    "LOG(-6, 9)"
   ]
  },
  {
   "cell_type": "markdown",
   "id": "7de5b2f8",
   "metadata": {},
   "source": [
    "## 17. LOG2\n",
    "\n",
    "**Описание:** \n",
    "\n",
    "Возвращает логарифм числа по основанию 2. Если число меньше либо равно 0, возвращает None. \n",
    "\n",
    "**Входные и выходные данные:**\n",
    "\n",
    "На входе - число.\n",
    "\n",
    "На выходе - число (логарифм от этого числа с основанием 2).\n",
    "\n",
    "### Реализация:"
   ]
  },
  {
   "cell_type": "code",
   "execution_count": 163,
   "id": "973f5858",
   "metadata": {},
   "outputs": [],
   "source": [
    "def LOG2(df, col = 2): \n",
    "    if type(col) == int: \n",
    "        import math\n",
    "        if(df > 0):\n",
    "            return math.log(df, col)\n",
    "        return math.nan\n",
    "    from sqlite3 import connect\n",
    "    import pandas as pd\n",
    "    conn = connect(':memory:')\n",
    "    df.to_sql('data', conn)\n",
    "    return pd.read_sql(f'SELECT *, LOG(2, {col}) FROM data', conn)"
   ]
  },
  {
   "cell_type": "markdown",
   "id": "52cd8fc7",
   "metadata": {},
   "source": [
    "### Тестирование:"
   ]
  },
  {
   "cell_type": "code",
   "execution_count": 164,
   "id": "7088d3a4",
   "metadata": {
    "scrolled": false
   },
   "outputs": [
    {
     "data": {
      "text/html": [
       "<div>\n",
       "<style scoped>\n",
       "    .dataframe tbody tr th:only-of-type {\n",
       "        vertical-align: middle;\n",
       "    }\n",
       "\n",
       "    .dataframe tbody tr th {\n",
       "        vertical-align: top;\n",
       "    }\n",
       "\n",
       "    .dataframe thead th {\n",
       "        text-align: right;\n",
       "    }\n",
       "</style>\n",
       "<table border=\"1\" class=\"dataframe\">\n",
       "  <thead>\n",
       "    <tr style=\"text-align: right;\">\n",
       "      <th></th>\n",
       "      <th>index</th>\n",
       "      <th>true</th>\n",
       "      <th>score_logreg</th>\n",
       "      <th>score_svm</th>\n",
       "      <th>score_knn</th>\n",
       "      <th>score_tree</th>\n",
       "      <th>LOG(2, score_logreg)</th>\n",
       "    </tr>\n",
       "  </thead>\n",
       "  <tbody>\n",
       "    <tr>\n",
       "      <th>0</th>\n",
       "      <td>0</td>\n",
       "      <td>0</td>\n",
       "      <td>0.683832</td>\n",
       "      <td>0.145976</td>\n",
       "      <td>0.787063</td>\n",
       "      <td>0.500000</td>\n",
       "      <td>-0.548286</td>\n",
       "    </tr>\n",
       "    <tr>\n",
       "      <th>1</th>\n",
       "      <td>1</td>\n",
       "      <td>1</td>\n",
       "      <td>0.801966</td>\n",
       "      <td>0.239511</td>\n",
       "      <td>1.000000</td>\n",
       "      <td>0.833333</td>\n",
       "      <td>-0.318386</td>\n",
       "    </tr>\n",
       "    <tr>\n",
       "      <th>2</th>\n",
       "      <td>2</td>\n",
       "      <td>0</td>\n",
       "      <td>0.382315</td>\n",
       "      <td>-0.245701</td>\n",
       "      <td>0.000000</td>\n",
       "      <td>0.000000</td>\n",
       "      <td>-1.387165</td>\n",
       "    </tr>\n",
       "    <tr>\n",
       "      <th>3</th>\n",
       "      <td>3</td>\n",
       "      <td>1</td>\n",
       "      <td>0.506797</td>\n",
       "      <td>-0.137058</td>\n",
       "      <td>0.000000</td>\n",
       "      <td>0.105263</td>\n",
       "      <td>-0.980520</td>\n",
       "    </tr>\n",
       "    <tr>\n",
       "      <th>4</th>\n",
       "      <td>4</td>\n",
       "      <td>1</td>\n",
       "      <td>0.488781</td>\n",
       "      <td>-0.154148</td>\n",
       "      <td>0.000000</td>\n",
       "      <td>0.105263</td>\n",
       "      <td>-1.032738</td>\n",
       "    </tr>\n",
       "    <tr>\n",
       "      <th>5</th>\n",
       "      <td>5</td>\n",
       "      <td>0</td>\n",
       "      <td>0.108506</td>\n",
       "      <td>-0.790864</td>\n",
       "      <td>0.000000</td>\n",
       "      <td>0.000000</td>\n",
       "      <td>-3.204150</td>\n",
       "    </tr>\n",
       "    <tr>\n",
       "      <th>6</th>\n",
       "      <td>6</td>\n",
       "      <td>0</td>\n",
       "      <td>0.413749</td>\n",
       "      <td>-0.185143</td>\n",
       "      <td>0.283053</td>\n",
       "      <td>0.363636</td>\n",
       "      <td>-1.273172</td>\n",
       "    </tr>\n",
       "    <tr>\n",
       "      <th>7</th>\n",
       "      <td>7</td>\n",
       "      <td>0</td>\n",
       "      <td>0.961081</td>\n",
       "      <td>0.830973</td>\n",
       "      <td>1.000000</td>\n",
       "      <td>1.000000</td>\n",
       "      <td>-0.057270</td>\n",
       "    </tr>\n",
       "    <tr>\n",
       "      <th>8</th>\n",
       "      <td>8</td>\n",
       "      <td>0</td>\n",
       "      <td>0.055733</td>\n",
       "      <td>-0.872805</td>\n",
       "      <td>0.000000</td>\n",
       "      <td>0.100000</td>\n",
       "      <td>-4.165335</td>\n",
       "    </tr>\n",
       "    <tr>\n",
       "      <th>9</th>\n",
       "      <td>9</td>\n",
       "      <td>0</td>\n",
       "      <td>0.168708</td>\n",
       "      <td>-0.518390</td>\n",
       "      <td>0.000000</td>\n",
       "      <td>0.100000</td>\n",
       "      <td>-2.567399</td>\n",
       "    </tr>\n",
       "  </tbody>\n",
       "</table>\n",
       "</div>"
      ],
      "text/plain": [
       "   index  true  score_logreg  score_svm  score_knn  score_tree  \\\n",
       "0      0     0      0.683832   0.145976   0.787063    0.500000   \n",
       "1      1     1      0.801966   0.239511   1.000000    0.833333   \n",
       "2      2     0      0.382315  -0.245701   0.000000    0.000000   \n",
       "3      3     1      0.506797  -0.137058   0.000000    0.105263   \n",
       "4      4     1      0.488781  -0.154148   0.000000    0.105263   \n",
       "5      5     0      0.108506  -0.790864   0.000000    0.000000   \n",
       "6      6     0      0.413749  -0.185143   0.283053    0.363636   \n",
       "7      7     0      0.961081   0.830973   1.000000    1.000000   \n",
       "8      8     0      0.055733  -0.872805   0.000000    0.100000   \n",
       "9      9     0      0.168708  -0.518390   0.000000    0.100000   \n",
       "\n",
       "   LOG(2, score_logreg)  \n",
       "0             -0.548286  \n",
       "1             -0.318386  \n",
       "2             -1.387165  \n",
       "3             -0.980520  \n",
       "4             -1.032738  \n",
       "5             -3.204150  \n",
       "6             -1.273172  \n",
       "7             -0.057270  \n",
       "8             -4.165335  \n",
       "9             -2.567399  "
      ]
     },
     "execution_count": 164,
     "metadata": {},
     "output_type": "execute_result"
    }
   ],
   "source": [
    "LOG2(df, 'score_logreg')"
   ]
  },
  {
   "cell_type": "code",
   "execution_count": 165,
   "id": "75799222",
   "metadata": {},
   "outputs": [
    {
     "data": {
      "text/plain": [
       "-0.548285501556781"
      ]
     },
     "execution_count": 165,
     "metadata": {},
     "output_type": "execute_result"
    }
   ],
   "source": [
    "LOG2(df.iloc[0]['score_logreg'])"
   ]
  },
  {
   "cell_type": "code",
   "execution_count": 166,
   "id": "50dd8b7f",
   "metadata": {},
   "outputs": [
    {
     "data": {
      "text/plain": [
       "-0.057269684548079014"
      ]
     },
     "execution_count": 166,
     "metadata": {},
     "output_type": "execute_result"
    }
   ],
   "source": [
    "LOG2(df.iloc[7]['score_logreg'])"
   ]
  },
  {
   "cell_type": "code",
   "execution_count": 167,
   "id": "4e69a644",
   "metadata": {
    "scrolled": true
   },
   "outputs": [
    {
     "data": {
      "text/html": [
       "<div>\n",
       "<style scoped>\n",
       "    .dataframe tbody tr th:only-of-type {\n",
       "        vertical-align: middle;\n",
       "    }\n",
       "\n",
       "    .dataframe tbody tr th {\n",
       "        vertical-align: top;\n",
       "    }\n",
       "\n",
       "    .dataframe thead th {\n",
       "        text-align: right;\n",
       "    }\n",
       "</style>\n",
       "<table border=\"1\" class=\"dataframe\">\n",
       "  <thead>\n",
       "    <tr style=\"text-align: right;\">\n",
       "      <th></th>\n",
       "      <th>index</th>\n",
       "      <th>true</th>\n",
       "      <th>score_logreg</th>\n",
       "      <th>score_svm</th>\n",
       "      <th>score_knn</th>\n",
       "      <th>score_tree</th>\n",
       "      <th>LOG(2, score_svm)</th>\n",
       "    </tr>\n",
       "  </thead>\n",
       "  <tbody>\n",
       "    <tr>\n",
       "      <th>0</th>\n",
       "      <td>0</td>\n",
       "      <td>0</td>\n",
       "      <td>0.683832</td>\n",
       "      <td>0.145976</td>\n",
       "      <td>0.787063</td>\n",
       "      <td>0.500000</td>\n",
       "      <td>-2.776198</td>\n",
       "    </tr>\n",
       "    <tr>\n",
       "      <th>1</th>\n",
       "      <td>1</td>\n",
       "      <td>1</td>\n",
       "      <td>0.801966</td>\n",
       "      <td>0.239511</td>\n",
       "      <td>1.000000</td>\n",
       "      <td>0.833333</td>\n",
       "      <td>-2.061834</td>\n",
       "    </tr>\n",
       "    <tr>\n",
       "      <th>2</th>\n",
       "      <td>2</td>\n",
       "      <td>0</td>\n",
       "      <td>0.382315</td>\n",
       "      <td>-0.245701</td>\n",
       "      <td>0.000000</td>\n",
       "      <td>0.000000</td>\n",
       "      <td>NaN</td>\n",
       "    </tr>\n",
       "    <tr>\n",
       "      <th>3</th>\n",
       "      <td>3</td>\n",
       "      <td>1</td>\n",
       "      <td>0.506797</td>\n",
       "      <td>-0.137058</td>\n",
       "      <td>0.000000</td>\n",
       "      <td>0.105263</td>\n",
       "      <td>NaN</td>\n",
       "    </tr>\n",
       "    <tr>\n",
       "      <th>4</th>\n",
       "      <td>4</td>\n",
       "      <td>1</td>\n",
       "      <td>0.488781</td>\n",
       "      <td>-0.154148</td>\n",
       "      <td>0.000000</td>\n",
       "      <td>0.105263</td>\n",
       "      <td>NaN</td>\n",
       "    </tr>\n",
       "    <tr>\n",
       "      <th>5</th>\n",
       "      <td>5</td>\n",
       "      <td>0</td>\n",
       "      <td>0.108506</td>\n",
       "      <td>-0.790864</td>\n",
       "      <td>0.000000</td>\n",
       "      <td>0.000000</td>\n",
       "      <td>NaN</td>\n",
       "    </tr>\n",
       "    <tr>\n",
       "      <th>6</th>\n",
       "      <td>6</td>\n",
       "      <td>0</td>\n",
       "      <td>0.413749</td>\n",
       "      <td>-0.185143</td>\n",
       "      <td>0.283053</td>\n",
       "      <td>0.363636</td>\n",
       "      <td>NaN</td>\n",
       "    </tr>\n",
       "    <tr>\n",
       "      <th>7</th>\n",
       "      <td>7</td>\n",
       "      <td>0</td>\n",
       "      <td>0.961081</td>\n",
       "      <td>0.830973</td>\n",
       "      <td>1.000000</td>\n",
       "      <td>1.000000</td>\n",
       "      <td>-0.267126</td>\n",
       "    </tr>\n",
       "    <tr>\n",
       "      <th>8</th>\n",
       "      <td>8</td>\n",
       "      <td>0</td>\n",
       "      <td>0.055733</td>\n",
       "      <td>-0.872805</td>\n",
       "      <td>0.000000</td>\n",
       "      <td>0.100000</td>\n",
       "      <td>NaN</td>\n",
       "    </tr>\n",
       "    <tr>\n",
       "      <th>9</th>\n",
       "      <td>9</td>\n",
       "      <td>0</td>\n",
       "      <td>0.168708</td>\n",
       "      <td>-0.518390</td>\n",
       "      <td>0.000000</td>\n",
       "      <td>0.100000</td>\n",
       "      <td>NaN</td>\n",
       "    </tr>\n",
       "  </tbody>\n",
       "</table>\n",
       "</div>"
      ],
      "text/plain": [
       "   index  true  score_logreg  score_svm  score_knn  score_tree  \\\n",
       "0      0     0      0.683832   0.145976   0.787063    0.500000   \n",
       "1      1     1      0.801966   0.239511   1.000000    0.833333   \n",
       "2      2     0      0.382315  -0.245701   0.000000    0.000000   \n",
       "3      3     1      0.506797  -0.137058   0.000000    0.105263   \n",
       "4      4     1      0.488781  -0.154148   0.000000    0.105263   \n",
       "5      5     0      0.108506  -0.790864   0.000000    0.000000   \n",
       "6      6     0      0.413749  -0.185143   0.283053    0.363636   \n",
       "7      7     0      0.961081   0.830973   1.000000    1.000000   \n",
       "8      8     0      0.055733  -0.872805   0.000000    0.100000   \n",
       "9      9     0      0.168708  -0.518390   0.000000    0.100000   \n",
       "\n",
       "   LOG(2, score_svm)  \n",
       "0          -2.776198  \n",
       "1          -2.061834  \n",
       "2                NaN  \n",
       "3                NaN  \n",
       "4                NaN  \n",
       "5                NaN  \n",
       "6                NaN  \n",
       "7          -0.267126  \n",
       "8                NaN  \n",
       "9                NaN  "
      ]
     },
     "execution_count": 167,
     "metadata": {},
     "output_type": "execute_result"
    }
   ],
   "source": [
    "LOG2(df, 'score_svm')"
   ]
  },
  {
   "cell_type": "code",
   "execution_count": 168,
   "id": "9431012f",
   "metadata": {},
   "outputs": [
    {
     "data": {
      "text/plain": [
       "nan"
      ]
     },
     "execution_count": 168,
     "metadata": {},
     "output_type": "execute_result"
    }
   ],
   "source": [
    "LOG2(df.iloc[2]['score_svm'])"
   ]
  },
  {
   "cell_type": "code",
   "execution_count": 169,
   "id": "0ad61d01",
   "metadata": {},
   "outputs": [
    {
     "data": {
      "text/plain": [
       "nan"
      ]
     },
     "execution_count": 169,
     "metadata": {},
     "output_type": "execute_result"
    }
   ],
   "source": [
    "LOG2(-0.518390)"
   ]
  },
  {
   "cell_type": "code",
   "execution_count": 170,
   "id": "f6267c38",
   "metadata": {},
   "outputs": [
    {
     "data": {
      "text/plain": [
       "10.0"
      ]
     },
     "execution_count": 170,
     "metadata": {},
     "output_type": "execute_result"
    }
   ],
   "source": [
    "LOG2(1024)"
   ]
  },
  {
   "cell_type": "code",
   "execution_count": 171,
   "id": "5decd1b4",
   "metadata": {},
   "outputs": [
    {
     "data": {
      "text/plain": [
       "-5.0"
      ]
     },
     "execution_count": 171,
     "metadata": {},
     "output_type": "execute_result"
    }
   ],
   "source": [
    "LOG2(0.03125)"
   ]
  },
  {
   "cell_type": "code",
   "execution_count": 172,
   "id": "36b4c244",
   "metadata": {},
   "outputs": [
    {
     "data": {
      "text/plain": [
       "0.5000000000000001"
      ]
     },
     "execution_count": 172,
     "metadata": {},
     "output_type": "execute_result"
    }
   ],
   "source": [
    "LOG2(2**0.5)"
   ]
  },
  {
   "cell_type": "code",
   "execution_count": 173,
   "id": "dbfa5848",
   "metadata": {},
   "outputs": [
    {
     "data": {
      "text/plain": [
       "nan"
      ]
     },
     "execution_count": 173,
     "metadata": {},
     "output_type": "execute_result"
    }
   ],
   "source": [
    "LOG2(-3)"
   ]
  },
  {
   "cell_type": "markdown",
   "id": "b4613e1b",
   "metadata": {},
   "source": [
    "## 18. MAX\n",
    "\n",
    "**Описание:** \n",
    "\n",
    "Находит наибольший элемент в предоставленных данных.\n",
    "\n",
    "**Входные и выходные данные:**\n",
    "\n",
    "На входе - набор данных.\n",
    "\n",
    "На выходе - максимальный элемент из них.\n",
    "\n",
    "### Реализация:"
   ]
  },
  {
   "cell_type": "code",
   "execution_count": 174,
   "id": "810c4b61",
   "metadata": {},
   "outputs": [],
   "source": [
    "def MAX(df, col1, col2 = None): \n",
    "    import datetime\n",
    "    if type(df) in [int, float, str, datetime.date, datetime.datetime]: \n",
    "        return max(df, col1)\n",
    "    from sqlite3 import connect\n",
    "    import pandas as pd\n",
    "    conn = connect(':memory:')\n",
    "    df.to_sql('data', conn)\n",
    "    if(col2 == None):\n",
    "        return pd.read_sql(f'SELECT *, MAX({col1}) FROM data', conn)\n",
    "    return pd.read_sql(f'SELECT *, MAX({col1}, {col2}) FROM data', conn)"
   ]
  },
  {
   "cell_type": "markdown",
   "id": "709dde08",
   "metadata": {},
   "source": [
    " ### Тестирование:"
   ]
  },
  {
   "cell_type": "code",
   "execution_count": 175,
   "id": "39e93aaa",
   "metadata": {
    "scrolled": true
   },
   "outputs": [
    {
     "data": {
      "text/html": [
       "<div>\n",
       "<style scoped>\n",
       "    .dataframe tbody tr th:only-of-type {\n",
       "        vertical-align: middle;\n",
       "    }\n",
       "\n",
       "    .dataframe tbody tr th {\n",
       "        vertical-align: top;\n",
       "    }\n",
       "\n",
       "    .dataframe thead th {\n",
       "        text-align: right;\n",
       "    }\n",
       "</style>\n",
       "<table border=\"1\" class=\"dataframe\">\n",
       "  <thead>\n",
       "    <tr style=\"text-align: right;\">\n",
       "      <th></th>\n",
       "      <th>index</th>\n",
       "      <th>true</th>\n",
       "      <th>score_logreg</th>\n",
       "      <th>score_svm</th>\n",
       "      <th>score_knn</th>\n",
       "      <th>score_tree</th>\n",
       "      <th>MAX(score_logreg)</th>\n",
       "    </tr>\n",
       "  </thead>\n",
       "  <tbody>\n",
       "    <tr>\n",
       "      <th>0</th>\n",
       "      <td>7</td>\n",
       "      <td>0</td>\n",
       "      <td>0.961081</td>\n",
       "      <td>0.830973</td>\n",
       "      <td>1.0</td>\n",
       "      <td>1.0</td>\n",
       "      <td>0.961081</td>\n",
       "    </tr>\n",
       "  </tbody>\n",
       "</table>\n",
       "</div>"
      ],
      "text/plain": [
       "   index  true  score_logreg  score_svm  score_knn  score_tree  \\\n",
       "0      7     0      0.961081   0.830973        1.0         1.0   \n",
       "\n",
       "   MAX(score_logreg)  \n",
       "0           0.961081  "
      ]
     },
     "execution_count": 175,
     "metadata": {},
     "output_type": "execute_result"
    }
   ],
   "source": [
    "MAX(df, 'score_logreg')"
   ]
  },
  {
   "cell_type": "code",
   "execution_count": 176,
   "id": "abe2e291",
   "metadata": {
    "scrolled": false
   },
   "outputs": [
    {
     "data": {
      "text/html": [
       "<div>\n",
       "<style scoped>\n",
       "    .dataframe tbody tr th:only-of-type {\n",
       "        vertical-align: middle;\n",
       "    }\n",
       "\n",
       "    .dataframe tbody tr th {\n",
       "        vertical-align: top;\n",
       "    }\n",
       "\n",
       "    .dataframe thead th {\n",
       "        text-align: right;\n",
       "    }\n",
       "</style>\n",
       "<table border=\"1\" class=\"dataframe\">\n",
       "  <thead>\n",
       "    <tr style=\"text-align: right;\">\n",
       "      <th></th>\n",
       "      <th>index</th>\n",
       "      <th>true</th>\n",
       "      <th>score_logreg</th>\n",
       "      <th>score_svm</th>\n",
       "      <th>score_knn</th>\n",
       "      <th>score_tree</th>\n",
       "      <th>MAX(score_logreg, score_svm)</th>\n",
       "    </tr>\n",
       "  </thead>\n",
       "  <tbody>\n",
       "    <tr>\n",
       "      <th>0</th>\n",
       "      <td>0</td>\n",
       "      <td>0</td>\n",
       "      <td>0.683832</td>\n",
       "      <td>0.145976</td>\n",
       "      <td>0.787063</td>\n",
       "      <td>0.500000</td>\n",
       "      <td>0.683832</td>\n",
       "    </tr>\n",
       "    <tr>\n",
       "      <th>1</th>\n",
       "      <td>1</td>\n",
       "      <td>1</td>\n",
       "      <td>0.801966</td>\n",
       "      <td>0.239511</td>\n",
       "      <td>1.000000</td>\n",
       "      <td>0.833333</td>\n",
       "      <td>0.801966</td>\n",
       "    </tr>\n",
       "    <tr>\n",
       "      <th>2</th>\n",
       "      <td>2</td>\n",
       "      <td>0</td>\n",
       "      <td>0.382315</td>\n",
       "      <td>-0.245701</td>\n",
       "      <td>0.000000</td>\n",
       "      <td>0.000000</td>\n",
       "      <td>0.382315</td>\n",
       "    </tr>\n",
       "    <tr>\n",
       "      <th>3</th>\n",
       "      <td>3</td>\n",
       "      <td>1</td>\n",
       "      <td>0.506797</td>\n",
       "      <td>-0.137058</td>\n",
       "      <td>0.000000</td>\n",
       "      <td>0.105263</td>\n",
       "      <td>0.506797</td>\n",
       "    </tr>\n",
       "    <tr>\n",
       "      <th>4</th>\n",
       "      <td>4</td>\n",
       "      <td>1</td>\n",
       "      <td>0.488781</td>\n",
       "      <td>-0.154148</td>\n",
       "      <td>0.000000</td>\n",
       "      <td>0.105263</td>\n",
       "      <td>0.488781</td>\n",
       "    </tr>\n",
       "    <tr>\n",
       "      <th>5</th>\n",
       "      <td>5</td>\n",
       "      <td>0</td>\n",
       "      <td>0.108506</td>\n",
       "      <td>-0.790864</td>\n",
       "      <td>0.000000</td>\n",
       "      <td>0.000000</td>\n",
       "      <td>0.108506</td>\n",
       "    </tr>\n",
       "    <tr>\n",
       "      <th>6</th>\n",
       "      <td>6</td>\n",
       "      <td>0</td>\n",
       "      <td>0.413749</td>\n",
       "      <td>-0.185143</td>\n",
       "      <td>0.283053</td>\n",
       "      <td>0.363636</td>\n",
       "      <td>0.413749</td>\n",
       "    </tr>\n",
       "    <tr>\n",
       "      <th>7</th>\n",
       "      <td>7</td>\n",
       "      <td>0</td>\n",
       "      <td>0.961081</td>\n",
       "      <td>0.830973</td>\n",
       "      <td>1.000000</td>\n",
       "      <td>1.000000</td>\n",
       "      <td>0.961081</td>\n",
       "    </tr>\n",
       "    <tr>\n",
       "      <th>8</th>\n",
       "      <td>8</td>\n",
       "      <td>0</td>\n",
       "      <td>0.055733</td>\n",
       "      <td>-0.872805</td>\n",
       "      <td>0.000000</td>\n",
       "      <td>0.100000</td>\n",
       "      <td>0.055733</td>\n",
       "    </tr>\n",
       "    <tr>\n",
       "      <th>9</th>\n",
       "      <td>9</td>\n",
       "      <td>0</td>\n",
       "      <td>0.168708</td>\n",
       "      <td>-0.518390</td>\n",
       "      <td>0.000000</td>\n",
       "      <td>0.100000</td>\n",
       "      <td>0.168708</td>\n",
       "    </tr>\n",
       "  </tbody>\n",
       "</table>\n",
       "</div>"
      ],
      "text/plain": [
       "   index  true  score_logreg  score_svm  score_knn  score_tree  \\\n",
       "0      0     0      0.683832   0.145976   0.787063    0.500000   \n",
       "1      1     1      0.801966   0.239511   1.000000    0.833333   \n",
       "2      2     0      0.382315  -0.245701   0.000000    0.000000   \n",
       "3      3     1      0.506797  -0.137058   0.000000    0.105263   \n",
       "4      4     1      0.488781  -0.154148   0.000000    0.105263   \n",
       "5      5     0      0.108506  -0.790864   0.000000    0.000000   \n",
       "6      6     0      0.413749  -0.185143   0.283053    0.363636   \n",
       "7      7     0      0.961081   0.830973   1.000000    1.000000   \n",
       "8      8     0      0.055733  -0.872805   0.000000    0.100000   \n",
       "9      9     0      0.168708  -0.518390   0.000000    0.100000   \n",
       "\n",
       "   MAX(score_logreg, score_svm)  \n",
       "0                      0.683832  \n",
       "1                      0.801966  \n",
       "2                      0.382315  \n",
       "3                      0.506797  \n",
       "4                      0.488781  \n",
       "5                      0.108506  \n",
       "6                      0.413749  \n",
       "7                      0.961081  \n",
       "8                      0.055733  \n",
       "9                      0.168708  "
      ]
     },
     "execution_count": 176,
     "metadata": {},
     "output_type": "execute_result"
    }
   ],
   "source": [
    "MAX(df, 'score_logreg', 'score_svm')"
   ]
  },
  {
   "cell_type": "code",
   "execution_count": 177,
   "id": "19d58484",
   "metadata": {
    "scrolled": true
   },
   "outputs": [
    {
     "data": {
      "text/plain": [
       "6"
      ]
     },
     "execution_count": 177,
     "metadata": {},
     "output_type": "execute_result"
    }
   ],
   "source": [
    "MAX(6, -5)"
   ]
  },
  {
   "cell_type": "code",
   "execution_count": 178,
   "id": "3e71e644",
   "metadata": {},
   "outputs": [
    {
     "data": {
      "text/plain": [
       "'integer'"
      ]
     },
     "execution_count": 178,
     "metadata": {},
     "output_type": "execute_result"
    }
   ],
   "source": [
    "MAX('integer', 'float')"
   ]
  },
  {
   "cell_type": "code",
   "execution_count": 179,
   "id": "cb60839a",
   "metadata": {},
   "outputs": [
    {
     "data": {
      "text/plain": [
       "datetime.date(2004, 11, 13)"
      ]
     },
     "execution_count": 179,
     "metadata": {},
     "output_type": "execute_result"
    }
   ],
   "source": [
    "import datetime\n",
    "MAX(datetime.date(2004, 10, 17), datetime.date(2004, 11, 13))"
   ]
  },
  {
   "cell_type": "code",
   "execution_count": 180,
   "id": "ca767c39",
   "metadata": {},
   "outputs": [
    {
     "data": {
      "text/plain": [
       "datetime.datetime(2004, 10, 17, 20, 0)"
      ]
     },
     "execution_count": 180,
     "metadata": {},
     "output_type": "execute_result"
    }
   ],
   "source": [
    "import datetime\n",
    "MAX(datetime.datetime(2004, 10, 17, 19, 59), datetime.datetime(2004, 10, 17, 20))"
   ]
  },
  {
   "cell_type": "markdown",
   "id": "cf07cc0d",
   "metadata": {},
   "source": [
    "## 19. MIN\n",
    "\n",
    "**Описание:** \n",
    "\n",
    "Находит наименьший элемент в предоставленных данных.\n",
    "\n",
    "**Входные и выходные данные:**\n",
    "\n",
    "На входе - набор данных.\n",
    "\n",
    "На выходе - минимальный элемент из них.\n",
    "\n",
    "### Реализация:"
   ]
  },
  {
   "cell_type": "code",
   "execution_count": 181,
   "id": "38a5874a",
   "metadata": {},
   "outputs": [],
   "source": [
    "def MIN(df, col1, col2 = None): \n",
    "    import datetime\n",
    "    if type(df) in [int, float, str, datetime.date, datetime.datetime]: \n",
    "        return min(df, col1)\n",
    "    from sqlite3 import connect\n",
    "    import pandas as pd\n",
    "    conn = connect(':memory:')\n",
    "    df.to_sql('data', conn)\n",
    "    if(col2 == None):\n",
    "        return pd.read_sql(f'SELECT *, MIN({col1}) FROM data', conn)\n",
    "    return pd.read_sql(f'SELECT *, MIN({col1}, {col2}) FROM data', conn)"
   ]
  },
  {
   "cell_type": "markdown",
   "id": "6613ddb7",
   "metadata": {},
   "source": [
    " ### Тестирование:"
   ]
  },
  {
   "cell_type": "code",
   "execution_count": 182,
   "id": "1e7fe899",
   "metadata": {
    "scrolled": false
   },
   "outputs": [
    {
     "data": {
      "text/html": [
       "<div>\n",
       "<style scoped>\n",
       "    .dataframe tbody tr th:only-of-type {\n",
       "        vertical-align: middle;\n",
       "    }\n",
       "\n",
       "    .dataframe tbody tr th {\n",
       "        vertical-align: top;\n",
       "    }\n",
       "\n",
       "    .dataframe thead th {\n",
       "        text-align: right;\n",
       "    }\n",
       "</style>\n",
       "<table border=\"1\" class=\"dataframe\">\n",
       "  <thead>\n",
       "    <tr style=\"text-align: right;\">\n",
       "      <th></th>\n",
       "      <th>index</th>\n",
       "      <th>true</th>\n",
       "      <th>score_logreg</th>\n",
       "      <th>score_svm</th>\n",
       "      <th>score_knn</th>\n",
       "      <th>score_tree</th>\n",
       "      <th>MIN(score_logreg)</th>\n",
       "    </tr>\n",
       "  </thead>\n",
       "  <tbody>\n",
       "    <tr>\n",
       "      <th>0</th>\n",
       "      <td>8</td>\n",
       "      <td>0</td>\n",
       "      <td>0.055733</td>\n",
       "      <td>-0.872805</td>\n",
       "      <td>0.0</td>\n",
       "      <td>0.1</td>\n",
       "      <td>0.055733</td>\n",
       "    </tr>\n",
       "  </tbody>\n",
       "</table>\n",
       "</div>"
      ],
      "text/plain": [
       "   index  true  score_logreg  score_svm  score_knn  score_tree  \\\n",
       "0      8     0      0.055733  -0.872805        0.0         0.1   \n",
       "\n",
       "   MIN(score_logreg)  \n",
       "0           0.055733  "
      ]
     },
     "execution_count": 182,
     "metadata": {},
     "output_type": "execute_result"
    }
   ],
   "source": [
    "MIN(df, 'score_logreg')"
   ]
  },
  {
   "cell_type": "code",
   "execution_count": 183,
   "id": "8dd6460d",
   "metadata": {
    "scrolled": false
   },
   "outputs": [
    {
     "data": {
      "text/html": [
       "<div>\n",
       "<style scoped>\n",
       "    .dataframe tbody tr th:only-of-type {\n",
       "        vertical-align: middle;\n",
       "    }\n",
       "\n",
       "    .dataframe tbody tr th {\n",
       "        vertical-align: top;\n",
       "    }\n",
       "\n",
       "    .dataframe thead th {\n",
       "        text-align: right;\n",
       "    }\n",
       "</style>\n",
       "<table border=\"1\" class=\"dataframe\">\n",
       "  <thead>\n",
       "    <tr style=\"text-align: right;\">\n",
       "      <th></th>\n",
       "      <th>index</th>\n",
       "      <th>true</th>\n",
       "      <th>score_logreg</th>\n",
       "      <th>score_svm</th>\n",
       "      <th>score_knn</th>\n",
       "      <th>score_tree</th>\n",
       "      <th>MIN(score_logreg, score_svm)</th>\n",
       "    </tr>\n",
       "  </thead>\n",
       "  <tbody>\n",
       "    <tr>\n",
       "      <th>0</th>\n",
       "      <td>0</td>\n",
       "      <td>0</td>\n",
       "      <td>0.683832</td>\n",
       "      <td>0.145976</td>\n",
       "      <td>0.787063</td>\n",
       "      <td>0.500000</td>\n",
       "      <td>0.145976</td>\n",
       "    </tr>\n",
       "    <tr>\n",
       "      <th>1</th>\n",
       "      <td>1</td>\n",
       "      <td>1</td>\n",
       "      <td>0.801966</td>\n",
       "      <td>0.239511</td>\n",
       "      <td>1.000000</td>\n",
       "      <td>0.833333</td>\n",
       "      <td>0.239511</td>\n",
       "    </tr>\n",
       "    <tr>\n",
       "      <th>2</th>\n",
       "      <td>2</td>\n",
       "      <td>0</td>\n",
       "      <td>0.382315</td>\n",
       "      <td>-0.245701</td>\n",
       "      <td>0.000000</td>\n",
       "      <td>0.000000</td>\n",
       "      <td>-0.245701</td>\n",
       "    </tr>\n",
       "    <tr>\n",
       "      <th>3</th>\n",
       "      <td>3</td>\n",
       "      <td>1</td>\n",
       "      <td>0.506797</td>\n",
       "      <td>-0.137058</td>\n",
       "      <td>0.000000</td>\n",
       "      <td>0.105263</td>\n",
       "      <td>-0.137058</td>\n",
       "    </tr>\n",
       "    <tr>\n",
       "      <th>4</th>\n",
       "      <td>4</td>\n",
       "      <td>1</td>\n",
       "      <td>0.488781</td>\n",
       "      <td>-0.154148</td>\n",
       "      <td>0.000000</td>\n",
       "      <td>0.105263</td>\n",
       "      <td>-0.154148</td>\n",
       "    </tr>\n",
       "    <tr>\n",
       "      <th>5</th>\n",
       "      <td>5</td>\n",
       "      <td>0</td>\n",
       "      <td>0.108506</td>\n",
       "      <td>-0.790864</td>\n",
       "      <td>0.000000</td>\n",
       "      <td>0.000000</td>\n",
       "      <td>-0.790864</td>\n",
       "    </tr>\n",
       "    <tr>\n",
       "      <th>6</th>\n",
       "      <td>6</td>\n",
       "      <td>0</td>\n",
       "      <td>0.413749</td>\n",
       "      <td>-0.185143</td>\n",
       "      <td>0.283053</td>\n",
       "      <td>0.363636</td>\n",
       "      <td>-0.185143</td>\n",
       "    </tr>\n",
       "    <tr>\n",
       "      <th>7</th>\n",
       "      <td>7</td>\n",
       "      <td>0</td>\n",
       "      <td>0.961081</td>\n",
       "      <td>0.830973</td>\n",
       "      <td>1.000000</td>\n",
       "      <td>1.000000</td>\n",
       "      <td>0.830973</td>\n",
       "    </tr>\n",
       "    <tr>\n",
       "      <th>8</th>\n",
       "      <td>8</td>\n",
       "      <td>0</td>\n",
       "      <td>0.055733</td>\n",
       "      <td>-0.872805</td>\n",
       "      <td>0.000000</td>\n",
       "      <td>0.100000</td>\n",
       "      <td>-0.872805</td>\n",
       "    </tr>\n",
       "    <tr>\n",
       "      <th>9</th>\n",
       "      <td>9</td>\n",
       "      <td>0</td>\n",
       "      <td>0.168708</td>\n",
       "      <td>-0.518390</td>\n",
       "      <td>0.000000</td>\n",
       "      <td>0.100000</td>\n",
       "      <td>-0.518390</td>\n",
       "    </tr>\n",
       "  </tbody>\n",
       "</table>\n",
       "</div>"
      ],
      "text/plain": [
       "   index  true  score_logreg  score_svm  score_knn  score_tree  \\\n",
       "0      0     0      0.683832   0.145976   0.787063    0.500000   \n",
       "1      1     1      0.801966   0.239511   1.000000    0.833333   \n",
       "2      2     0      0.382315  -0.245701   0.000000    0.000000   \n",
       "3      3     1      0.506797  -0.137058   0.000000    0.105263   \n",
       "4      4     1      0.488781  -0.154148   0.000000    0.105263   \n",
       "5      5     0      0.108506  -0.790864   0.000000    0.000000   \n",
       "6      6     0      0.413749  -0.185143   0.283053    0.363636   \n",
       "7      7     0      0.961081   0.830973   1.000000    1.000000   \n",
       "8      8     0      0.055733  -0.872805   0.000000    0.100000   \n",
       "9      9     0      0.168708  -0.518390   0.000000    0.100000   \n",
       "\n",
       "   MIN(score_logreg, score_svm)  \n",
       "0                      0.145976  \n",
       "1                      0.239511  \n",
       "2                     -0.245701  \n",
       "3                     -0.137058  \n",
       "4                     -0.154148  \n",
       "5                     -0.790864  \n",
       "6                     -0.185143  \n",
       "7                      0.830973  \n",
       "8                     -0.872805  \n",
       "9                     -0.518390  "
      ]
     },
     "execution_count": 183,
     "metadata": {},
     "output_type": "execute_result"
    }
   ],
   "source": [
    "MIN(df, 'score_logreg', 'score_svm')"
   ]
  },
  {
   "cell_type": "code",
   "execution_count": 184,
   "id": "00e2dd60",
   "metadata": {},
   "outputs": [
    {
     "data": {
      "text/plain": [
       "-5"
      ]
     },
     "execution_count": 184,
     "metadata": {},
     "output_type": "execute_result"
    }
   ],
   "source": [
    "MIN(6, -5)"
   ]
  },
  {
   "cell_type": "code",
   "execution_count": 185,
   "id": "3100a758",
   "metadata": {},
   "outputs": [
    {
     "data": {
      "text/plain": [
       "'float'"
      ]
     },
     "execution_count": 185,
     "metadata": {},
     "output_type": "execute_result"
    }
   ],
   "source": [
    "MIN('integer', 'float')"
   ]
  },
  {
   "cell_type": "code",
   "execution_count": 186,
   "id": "16b6c5f0",
   "metadata": {},
   "outputs": [
    {
     "data": {
      "text/plain": [
       "datetime.date(2004, 10, 17)"
      ]
     },
     "execution_count": 186,
     "metadata": {},
     "output_type": "execute_result"
    }
   ],
   "source": [
    "import datetime\n",
    "MIN(datetime.date(2004, 10, 17), datetime.date(2004, 11, 13))"
   ]
  },
  {
   "cell_type": "code",
   "execution_count": 187,
   "id": "79fea4d4",
   "metadata": {},
   "outputs": [
    {
     "data": {
      "text/plain": [
       "datetime.datetime(2004, 10, 17, 19, 59)"
      ]
     },
     "execution_count": 187,
     "metadata": {},
     "output_type": "execute_result"
    }
   ],
   "source": [
    "import datetime\n",
    "MIN(datetime.datetime(2004, 10, 17, 19, 59), datetime.datetime(2004, 10, 17, 20))"
   ]
  },
  {
   "cell_type": "markdown",
   "id": "d5d25bb6",
   "metadata": {},
   "source": [
    "## 20. PI\n",
    "\n",
    "**Описание:** \n",
    "\n",
    "Возвращает число Пи.\n",
    "\n",
    "**Входные и выходные данные:**\n",
    "\n",
    "На входе - ничего.\n",
    "\n",
    "На выходе - число Пи.\n",
    "\n",
    "### Реализация:"
   ]
  },
  {
   "cell_type": "code",
   "execution_count": 188,
   "id": "4a6e6dc0",
   "metadata": {},
   "outputs": [],
   "source": [
    "def PI(df = 0): \n",
    "    if type(df) == int: \n",
    "        import math\n",
    "        return math.pi\n",
    "    from sqlite3 import connect\n",
    "    import pandas as pd\n",
    "    conn = connect(':memory:')\n",
    "    df.to_sql('data', conn)\n",
    "    return pd.read_sql(f'SELECT *, PI() FROM data', conn)"
   ]
  },
  {
   "cell_type": "markdown",
   "id": "6be56508",
   "metadata": {},
   "source": [
    "### Тестирование:"
   ]
  },
  {
   "cell_type": "code",
   "execution_count": 189,
   "id": "492c69a9",
   "metadata": {
    "scrolled": false
   },
   "outputs": [
    {
     "data": {
      "text/html": [
       "<div>\n",
       "<style scoped>\n",
       "    .dataframe tbody tr th:only-of-type {\n",
       "        vertical-align: middle;\n",
       "    }\n",
       "\n",
       "    .dataframe tbody tr th {\n",
       "        vertical-align: top;\n",
       "    }\n",
       "\n",
       "    .dataframe thead th {\n",
       "        text-align: right;\n",
       "    }\n",
       "</style>\n",
       "<table border=\"1\" class=\"dataframe\">\n",
       "  <thead>\n",
       "    <tr style=\"text-align: right;\">\n",
       "      <th></th>\n",
       "      <th>index</th>\n",
       "      <th>true</th>\n",
       "      <th>score_logreg</th>\n",
       "      <th>score_svm</th>\n",
       "      <th>score_knn</th>\n",
       "      <th>score_tree</th>\n",
       "      <th>PI()</th>\n",
       "    </tr>\n",
       "  </thead>\n",
       "  <tbody>\n",
       "    <tr>\n",
       "      <th>0</th>\n",
       "      <td>0</td>\n",
       "      <td>0</td>\n",
       "      <td>0.683832</td>\n",
       "      <td>0.145976</td>\n",
       "      <td>0.787063</td>\n",
       "      <td>0.500000</td>\n",
       "      <td>3.141593</td>\n",
       "    </tr>\n",
       "    <tr>\n",
       "      <th>1</th>\n",
       "      <td>1</td>\n",
       "      <td>1</td>\n",
       "      <td>0.801966</td>\n",
       "      <td>0.239511</td>\n",
       "      <td>1.000000</td>\n",
       "      <td>0.833333</td>\n",
       "      <td>3.141593</td>\n",
       "    </tr>\n",
       "    <tr>\n",
       "      <th>2</th>\n",
       "      <td>2</td>\n",
       "      <td>0</td>\n",
       "      <td>0.382315</td>\n",
       "      <td>-0.245701</td>\n",
       "      <td>0.000000</td>\n",
       "      <td>0.000000</td>\n",
       "      <td>3.141593</td>\n",
       "    </tr>\n",
       "    <tr>\n",
       "      <th>3</th>\n",
       "      <td>3</td>\n",
       "      <td>1</td>\n",
       "      <td>0.506797</td>\n",
       "      <td>-0.137058</td>\n",
       "      <td>0.000000</td>\n",
       "      <td>0.105263</td>\n",
       "      <td>3.141593</td>\n",
       "    </tr>\n",
       "    <tr>\n",
       "      <th>4</th>\n",
       "      <td>4</td>\n",
       "      <td>1</td>\n",
       "      <td>0.488781</td>\n",
       "      <td>-0.154148</td>\n",
       "      <td>0.000000</td>\n",
       "      <td>0.105263</td>\n",
       "      <td>3.141593</td>\n",
       "    </tr>\n",
       "    <tr>\n",
       "      <th>5</th>\n",
       "      <td>5</td>\n",
       "      <td>0</td>\n",
       "      <td>0.108506</td>\n",
       "      <td>-0.790864</td>\n",
       "      <td>0.000000</td>\n",
       "      <td>0.000000</td>\n",
       "      <td>3.141593</td>\n",
       "    </tr>\n",
       "    <tr>\n",
       "      <th>6</th>\n",
       "      <td>6</td>\n",
       "      <td>0</td>\n",
       "      <td>0.413749</td>\n",
       "      <td>-0.185143</td>\n",
       "      <td>0.283053</td>\n",
       "      <td>0.363636</td>\n",
       "      <td>3.141593</td>\n",
       "    </tr>\n",
       "    <tr>\n",
       "      <th>7</th>\n",
       "      <td>7</td>\n",
       "      <td>0</td>\n",
       "      <td>0.961081</td>\n",
       "      <td>0.830973</td>\n",
       "      <td>1.000000</td>\n",
       "      <td>1.000000</td>\n",
       "      <td>3.141593</td>\n",
       "    </tr>\n",
       "    <tr>\n",
       "      <th>8</th>\n",
       "      <td>8</td>\n",
       "      <td>0</td>\n",
       "      <td>0.055733</td>\n",
       "      <td>-0.872805</td>\n",
       "      <td>0.000000</td>\n",
       "      <td>0.100000</td>\n",
       "      <td>3.141593</td>\n",
       "    </tr>\n",
       "    <tr>\n",
       "      <th>9</th>\n",
       "      <td>9</td>\n",
       "      <td>0</td>\n",
       "      <td>0.168708</td>\n",
       "      <td>-0.518390</td>\n",
       "      <td>0.000000</td>\n",
       "      <td>0.100000</td>\n",
       "      <td>3.141593</td>\n",
       "    </tr>\n",
       "  </tbody>\n",
       "</table>\n",
       "</div>"
      ],
      "text/plain": [
       "   index  true  score_logreg  score_svm  score_knn  score_tree      PI()\n",
       "0      0     0      0.683832   0.145976   0.787063    0.500000  3.141593\n",
       "1      1     1      0.801966   0.239511   1.000000    0.833333  3.141593\n",
       "2      2     0      0.382315  -0.245701   0.000000    0.000000  3.141593\n",
       "3      3     1      0.506797  -0.137058   0.000000    0.105263  3.141593\n",
       "4      4     1      0.488781  -0.154148   0.000000    0.105263  3.141593\n",
       "5      5     0      0.108506  -0.790864   0.000000    0.000000  3.141593\n",
       "6      6     0      0.413749  -0.185143   0.283053    0.363636  3.141593\n",
       "7      7     0      0.961081   0.830973   1.000000    1.000000  3.141593\n",
       "8      8     0      0.055733  -0.872805   0.000000    0.100000  3.141593\n",
       "9      9     0      0.168708  -0.518390   0.000000    0.100000  3.141593"
      ]
     },
     "execution_count": 189,
     "metadata": {},
     "output_type": "execute_result"
    }
   ],
   "source": [
    "PI(df)"
   ]
  },
  {
   "cell_type": "code",
   "execution_count": 190,
   "id": "4df8d05f",
   "metadata": {},
   "outputs": [
    {
     "data": {
      "text/plain": [
       "3.141592653589793"
      ]
     },
     "execution_count": 190,
     "metadata": {},
     "output_type": "execute_result"
    }
   ],
   "source": [
    "PI()"
   ]
  },
  {
   "cell_type": "code",
   "execution_count": 191,
   "id": "cdeaae91",
   "metadata": {
    "scrolled": true
   },
   "outputs": [
    {
     "data": {
      "text/html": [
       "<div>\n",
       "<style scoped>\n",
       "    .dataframe tbody tr th:only-of-type {\n",
       "        vertical-align: middle;\n",
       "    }\n",
       "\n",
       "    .dataframe tbody tr th {\n",
       "        vertical-align: top;\n",
       "    }\n",
       "\n",
       "    .dataframe thead th {\n",
       "        text-align: right;\n",
       "    }\n",
       "</style>\n",
       "<table border=\"1\" class=\"dataframe\">\n",
       "  <thead>\n",
       "    <tr style=\"text-align: right;\">\n",
       "      <th></th>\n",
       "      <th>true</th>\n",
       "      <th>score_logreg</th>\n",
       "      <th>score_svm</th>\n",
       "      <th>score_knn</th>\n",
       "      <th>score_tree</th>\n",
       "      <th>PI*score_tree</th>\n",
       "    </tr>\n",
       "  </thead>\n",
       "  <tbody>\n",
       "    <tr>\n",
       "      <th>0</th>\n",
       "      <td>0</td>\n",
       "      <td>0.683832</td>\n",
       "      <td>0.145976</td>\n",
       "      <td>0.787063</td>\n",
       "      <td>0.500000</td>\n",
       "      <td>1.570796</td>\n",
       "    </tr>\n",
       "    <tr>\n",
       "      <th>1</th>\n",
       "      <td>1</td>\n",
       "      <td>0.801966</td>\n",
       "      <td>0.239511</td>\n",
       "      <td>1.000000</td>\n",
       "      <td>0.833333</td>\n",
       "      <td>2.617994</td>\n",
       "    </tr>\n",
       "    <tr>\n",
       "      <th>2</th>\n",
       "      <td>0</td>\n",
       "      <td>0.382315</td>\n",
       "      <td>-0.245701</td>\n",
       "      <td>0.000000</td>\n",
       "      <td>0.000000</td>\n",
       "      <td>0.000000</td>\n",
       "    </tr>\n",
       "    <tr>\n",
       "      <th>3</th>\n",
       "      <td>1</td>\n",
       "      <td>0.506797</td>\n",
       "      <td>-0.137058</td>\n",
       "      <td>0.000000</td>\n",
       "      <td>0.105263</td>\n",
       "      <td>0.330694</td>\n",
       "    </tr>\n",
       "    <tr>\n",
       "      <th>4</th>\n",
       "      <td>1</td>\n",
       "      <td>0.488781</td>\n",
       "      <td>-0.154148</td>\n",
       "      <td>0.000000</td>\n",
       "      <td>0.105263</td>\n",
       "      <td>0.330694</td>\n",
       "    </tr>\n",
       "    <tr>\n",
       "      <th>5</th>\n",
       "      <td>0</td>\n",
       "      <td>0.108506</td>\n",
       "      <td>-0.790864</td>\n",
       "      <td>0.000000</td>\n",
       "      <td>0.000000</td>\n",
       "      <td>0.000000</td>\n",
       "    </tr>\n",
       "    <tr>\n",
       "      <th>6</th>\n",
       "      <td>0</td>\n",
       "      <td>0.413749</td>\n",
       "      <td>-0.185143</td>\n",
       "      <td>0.283053</td>\n",
       "      <td>0.363636</td>\n",
       "      <td>1.142397</td>\n",
       "    </tr>\n",
       "    <tr>\n",
       "      <th>7</th>\n",
       "      <td>0</td>\n",
       "      <td>0.961081</td>\n",
       "      <td>0.830973</td>\n",
       "      <td>1.000000</td>\n",
       "      <td>1.000000</td>\n",
       "      <td>3.141593</td>\n",
       "    </tr>\n",
       "    <tr>\n",
       "      <th>8</th>\n",
       "      <td>0</td>\n",
       "      <td>0.055733</td>\n",
       "      <td>-0.872805</td>\n",
       "      <td>0.000000</td>\n",
       "      <td>0.100000</td>\n",
       "      <td>0.314159</td>\n",
       "    </tr>\n",
       "    <tr>\n",
       "      <th>9</th>\n",
       "      <td>0</td>\n",
       "      <td>0.168708</td>\n",
       "      <td>-0.518390</td>\n",
       "      <td>0.000000</td>\n",
       "      <td>0.100000</td>\n",
       "      <td>0.314159</td>\n",
       "    </tr>\n",
       "  </tbody>\n",
       "</table>\n",
       "</div>"
      ],
      "text/plain": [
       "   true  score_logreg  score_svm  score_knn  score_tree  PI*score_tree\n",
       "0     0      0.683832   0.145976   0.787063    0.500000       1.570796\n",
       "1     1      0.801966   0.239511   1.000000    0.833333       2.617994\n",
       "2     0      0.382315  -0.245701   0.000000    0.000000       0.000000\n",
       "3     1      0.506797  -0.137058   0.000000    0.105263       0.330694\n",
       "4     1      0.488781  -0.154148   0.000000    0.105263       0.330694\n",
       "5     0      0.108506  -0.790864   0.000000    0.000000       0.000000\n",
       "6     0      0.413749  -0.185143   0.283053    0.363636       1.142397\n",
       "7     0      0.961081   0.830973   1.000000    1.000000       3.141593\n",
       "8     0      0.055733  -0.872805   0.000000    0.100000       0.314159\n",
       "9     0      0.168708  -0.518390   0.000000    0.100000       0.314159"
      ]
     },
     "execution_count": 191,
     "metadata": {},
     "output_type": "execute_result"
    }
   ],
   "source": [
    "df['PI*score_tree'] = PI(df)['PI()'] * df['score_tree']\n",
    "df"
   ]
  },
  {
   "cell_type": "code",
   "execution_count": 192,
   "id": "1e78c82f",
   "metadata": {},
   "outputs": [],
   "source": [
    "df.drop('PI*score_tree', axis=1, inplace=True)"
   ]
  },
  {
   "cell_type": "code",
   "execution_count": 193,
   "id": "236c2945",
   "metadata": {},
   "outputs": [
    {
     "data": {
      "text/plain": [
       "1.5707963267948966"
      ]
     },
     "execution_count": 193,
     "metadata": {},
     "output_type": "execute_result"
    }
   ],
   "source": [
    "0.5 * PI()"
   ]
  },
  {
   "cell_type": "code",
   "execution_count": 194,
   "id": "cf56990d",
   "metadata": {},
   "outputs": [
    {
     "data": {
      "text/plain": [
       "2.6179938779914944"
      ]
     },
     "execution_count": 194,
     "metadata": {},
     "output_type": "execute_result"
    }
   ],
   "source": [
    "df.iloc[1]['score_tree'] * PI()"
   ]
  },
  {
   "cell_type": "markdown",
   "id": "e07fdf53",
   "metadata": {},
   "source": [
    "## 21. POWER\n",
    "\n",
    "**Описание:** \n",
    "\n",
    "Возводит число в указанную степень (power).\n",
    "\n",
    "**Входные и выходные данные:**\n",
    "\n",
    "На входе - два числа (число, которое возводим, и степень).\n",
    "\n",
    "На выходе - входное число в заданной степени.\n",
    "\n",
    "### Реализация:"
   ]
  },
  {
   "cell_type": "code",
   "execution_count": 195,
   "id": "59892984",
   "metadata": {},
   "outputs": [],
   "source": [
    "def POWER(df, col1, col2 = None): \n",
    "    if col2 == None: \n",
    "        if (df < 0 and FLOOR(col1) != col1):\n",
    "            import math\n",
    "            return math.nan\n",
    "        return pow(df, col1)\n",
    "    from sqlite3 import connect\n",
    "    import pandas as pd\n",
    "    conn = connect(':memory:')\n",
    "    df.to_sql('data', conn)\n",
    "    return pd.read_sql(f'SELECT *, CASE WHEN {col1} != 0 AND {col2} != 0 THEN POWER({col1}, {col2}) ELSE 1 END as POWER FROM data', conn)"
   ]
  },
  {
   "cell_type": "markdown",
   "id": "67ab828b",
   "metadata": {},
   "source": [
    "### Тестирование:"
   ]
  },
  {
   "cell_type": "code",
   "execution_count": 196,
   "id": "1441e98a",
   "metadata": {
    "scrolled": false
   },
   "outputs": [
    {
     "data": {
      "text/html": [
       "<div>\n",
       "<style scoped>\n",
       "    .dataframe tbody tr th:only-of-type {\n",
       "        vertical-align: middle;\n",
       "    }\n",
       "\n",
       "    .dataframe tbody tr th {\n",
       "        vertical-align: top;\n",
       "    }\n",
       "\n",
       "    .dataframe thead th {\n",
       "        text-align: right;\n",
       "    }\n",
       "</style>\n",
       "<table border=\"1\" class=\"dataframe\">\n",
       "  <thead>\n",
       "    <tr style=\"text-align: right;\">\n",
       "      <th></th>\n",
       "      <th>index</th>\n",
       "      <th>true</th>\n",
       "      <th>score_logreg</th>\n",
       "      <th>score_svm</th>\n",
       "      <th>score_knn</th>\n",
       "      <th>score_tree</th>\n",
       "      <th>POWER</th>\n",
       "    </tr>\n",
       "  </thead>\n",
       "  <tbody>\n",
       "    <tr>\n",
       "      <th>0</th>\n",
       "      <td>0</td>\n",
       "      <td>0</td>\n",
       "      <td>0.683832</td>\n",
       "      <td>0.145976</td>\n",
       "      <td>0.787063</td>\n",
       "      <td>0.500000</td>\n",
       "      <td>0.946034</td>\n",
       "    </tr>\n",
       "    <tr>\n",
       "      <th>1</th>\n",
       "      <td>1</td>\n",
       "      <td>1</td>\n",
       "      <td>0.801966</td>\n",
       "      <td>0.239511</td>\n",
       "      <td>1.000000</td>\n",
       "      <td>0.833333</td>\n",
       "      <td>0.948515</td>\n",
       "    </tr>\n",
       "    <tr>\n",
       "      <th>2</th>\n",
       "      <td>2</td>\n",
       "      <td>0</td>\n",
       "      <td>0.382315</td>\n",
       "      <td>-0.245701</td>\n",
       "      <td>0.000000</td>\n",
       "      <td>0.000000</td>\n",
       "      <td>1.266483</td>\n",
       "    </tr>\n",
       "    <tr>\n",
       "      <th>3</th>\n",
       "      <td>3</td>\n",
       "      <td>1</td>\n",
       "      <td>0.506797</td>\n",
       "      <td>-0.137058</td>\n",
       "      <td>0.000000</td>\n",
       "      <td>0.105263</td>\n",
       "      <td>1.097628</td>\n",
       "    </tr>\n",
       "    <tr>\n",
       "      <th>4</th>\n",
       "      <td>4</td>\n",
       "      <td>1</td>\n",
       "      <td>0.488781</td>\n",
       "      <td>-0.154148</td>\n",
       "      <td>0.000000</td>\n",
       "      <td>0.105263</td>\n",
       "      <td>1.116664</td>\n",
       "    </tr>\n",
       "    <tr>\n",
       "      <th>5</th>\n",
       "      <td>5</td>\n",
       "      <td>0</td>\n",
       "      <td>0.108506</td>\n",
       "      <td>-0.790864</td>\n",
       "      <td>0.000000</td>\n",
       "      <td>0.000000</td>\n",
       "      <td>5.791941</td>\n",
       "    </tr>\n",
       "    <tr>\n",
       "      <th>6</th>\n",
       "      <td>6</td>\n",
       "      <td>0</td>\n",
       "      <td>0.413749</td>\n",
       "      <td>-0.185143</td>\n",
       "      <td>0.283053</td>\n",
       "      <td>0.363636</td>\n",
       "      <td>1.177493</td>\n",
       "    </tr>\n",
       "    <tr>\n",
       "      <th>7</th>\n",
       "      <td>7</td>\n",
       "      <td>0</td>\n",
       "      <td>0.961081</td>\n",
       "      <td>0.830973</td>\n",
       "      <td>1.000000</td>\n",
       "      <td>1.000000</td>\n",
       "      <td>0.967552</td>\n",
       "    </tr>\n",
       "    <tr>\n",
       "      <th>8</th>\n",
       "      <td>8</td>\n",
       "      <td>0</td>\n",
       "      <td>0.055733</td>\n",
       "      <td>-0.872805</td>\n",
       "      <td>0.000000</td>\n",
       "      <td>0.100000</td>\n",
       "      <td>12.428028</td>\n",
       "    </tr>\n",
       "    <tr>\n",
       "      <th>9</th>\n",
       "      <td>9</td>\n",
       "      <td>0</td>\n",
       "      <td>0.168708</td>\n",
       "      <td>-0.518390</td>\n",
       "      <td>0.000000</td>\n",
       "      <td>0.100000</td>\n",
       "      <td>2.515621</td>\n",
       "    </tr>\n",
       "  </tbody>\n",
       "</table>\n",
       "</div>"
      ],
      "text/plain": [
       "   index  true  score_logreg  score_svm  score_knn  score_tree      POWER\n",
       "0      0     0      0.683832   0.145976   0.787063    0.500000   0.946034\n",
       "1      1     1      0.801966   0.239511   1.000000    0.833333   0.948515\n",
       "2      2     0      0.382315  -0.245701   0.000000    0.000000   1.266483\n",
       "3      3     1      0.506797  -0.137058   0.000000    0.105263   1.097628\n",
       "4      4     1      0.488781  -0.154148   0.000000    0.105263   1.116664\n",
       "5      5     0      0.108506  -0.790864   0.000000    0.000000   5.791941\n",
       "6      6     0      0.413749  -0.185143   0.283053    0.363636   1.177493\n",
       "7      7     0      0.961081   0.830973   1.000000    1.000000   0.967552\n",
       "8      8     0      0.055733  -0.872805   0.000000    0.100000  12.428028\n",
       "9      9     0      0.168708  -0.518390   0.000000    0.100000   2.515621"
      ]
     },
     "execution_count": 196,
     "metadata": {},
     "output_type": "execute_result"
    }
   ],
   "source": [
    "POWER(df, 'score_logreg', 'score_svm')"
   ]
  },
  {
   "cell_type": "code",
   "execution_count": 197,
   "id": "113ffaa8",
   "metadata": {},
   "outputs": [
    {
     "data": {
      "text/plain": [
       "0.946033734659974"
      ]
     },
     "execution_count": 197,
     "metadata": {},
     "output_type": "execute_result"
    }
   ],
   "source": [
    "POWER(df.iloc[0]['score_logreg'], df.iloc[0]['score_svm'])"
   ]
  },
  {
   "cell_type": "code",
   "execution_count": 198,
   "id": "44aaa392",
   "metadata": {},
   "outputs": [
    {
     "data": {
      "text/plain": [
       "5.791940637985464"
      ]
     },
     "execution_count": 198,
     "metadata": {},
     "output_type": "execute_result"
    }
   ],
   "source": [
    "POWER(df.iloc[5]['score_logreg'], df.iloc[5]['score_svm'])"
   ]
  },
  {
   "cell_type": "code",
   "execution_count": 199,
   "id": "5a413f0e",
   "metadata": {
    "scrolled": true
   },
   "outputs": [
    {
     "data": {
      "text/html": [
       "<div>\n",
       "<style scoped>\n",
       "    .dataframe tbody tr th:only-of-type {\n",
       "        vertical-align: middle;\n",
       "    }\n",
       "\n",
       "    .dataframe tbody tr th {\n",
       "        vertical-align: top;\n",
       "    }\n",
       "\n",
       "    .dataframe thead th {\n",
       "        text-align: right;\n",
       "    }\n",
       "</style>\n",
       "<table border=\"1\" class=\"dataframe\">\n",
       "  <thead>\n",
       "    <tr style=\"text-align: right;\">\n",
       "      <th></th>\n",
       "      <th>index</th>\n",
       "      <th>true</th>\n",
       "      <th>score_logreg</th>\n",
       "      <th>score_svm</th>\n",
       "      <th>score_knn</th>\n",
       "      <th>score_tree</th>\n",
       "      <th>POWER</th>\n",
       "    </tr>\n",
       "  </thead>\n",
       "  <tbody>\n",
       "    <tr>\n",
       "      <th>0</th>\n",
       "      <td>0</td>\n",
       "      <td>0</td>\n",
       "      <td>0.683832</td>\n",
       "      <td>0.145976</td>\n",
       "      <td>0.787063</td>\n",
       "      <td>0.500000</td>\n",
       "      <td>0.382068</td>\n",
       "    </tr>\n",
       "    <tr>\n",
       "      <th>1</th>\n",
       "      <td>1</td>\n",
       "      <td>1</td>\n",
       "      <td>0.801966</td>\n",
       "      <td>0.239511</td>\n",
       "      <td>1.000000</td>\n",
       "      <td>0.833333</td>\n",
       "      <td>0.303929</td>\n",
       "    </tr>\n",
       "    <tr>\n",
       "      <th>2</th>\n",
       "      <td>2</td>\n",
       "      <td>0</td>\n",
       "      <td>0.382315</td>\n",
       "      <td>-0.245701</td>\n",
       "      <td>0.000000</td>\n",
       "      <td>0.000000</td>\n",
       "      <td>1.000000</td>\n",
       "    </tr>\n",
       "    <tr>\n",
       "      <th>3</th>\n",
       "      <td>3</td>\n",
       "      <td>1</td>\n",
       "      <td>0.506797</td>\n",
       "      <td>-0.137058</td>\n",
       "      <td>0.000000</td>\n",
       "      <td>0.105263</td>\n",
       "      <td>NaN</td>\n",
       "    </tr>\n",
       "    <tr>\n",
       "      <th>4</th>\n",
       "      <td>4</td>\n",
       "      <td>1</td>\n",
       "      <td>0.488781</td>\n",
       "      <td>-0.154148</td>\n",
       "      <td>0.000000</td>\n",
       "      <td>0.105263</td>\n",
       "      <td>NaN</td>\n",
       "    </tr>\n",
       "    <tr>\n",
       "      <th>5</th>\n",
       "      <td>5</td>\n",
       "      <td>0</td>\n",
       "      <td>0.108506</td>\n",
       "      <td>-0.790864</td>\n",
       "      <td>0.000000</td>\n",
       "      <td>0.000000</td>\n",
       "      <td>1.000000</td>\n",
       "    </tr>\n",
       "    <tr>\n",
       "      <th>6</th>\n",
       "      <td>6</td>\n",
       "      <td>0</td>\n",
       "      <td>0.413749</td>\n",
       "      <td>-0.185143</td>\n",
       "      <td>0.283053</td>\n",
       "      <td>0.363636</td>\n",
       "      <td>NaN</td>\n",
       "    </tr>\n",
       "    <tr>\n",
       "      <th>7</th>\n",
       "      <td>7</td>\n",
       "      <td>0</td>\n",
       "      <td>0.961081</td>\n",
       "      <td>0.830973</td>\n",
       "      <td>1.000000</td>\n",
       "      <td>1.000000</td>\n",
       "      <td>0.830973</td>\n",
       "    </tr>\n",
       "    <tr>\n",
       "      <th>8</th>\n",
       "      <td>8</td>\n",
       "      <td>0</td>\n",
       "      <td>0.055733</td>\n",
       "      <td>-0.872805</td>\n",
       "      <td>0.000000</td>\n",
       "      <td>0.100000</td>\n",
       "      <td>NaN</td>\n",
       "    </tr>\n",
       "    <tr>\n",
       "      <th>9</th>\n",
       "      <td>9</td>\n",
       "      <td>0</td>\n",
       "      <td>0.168708</td>\n",
       "      <td>-0.518390</td>\n",
       "      <td>0.000000</td>\n",
       "      <td>0.100000</td>\n",
       "      <td>NaN</td>\n",
       "    </tr>\n",
       "  </tbody>\n",
       "</table>\n",
       "</div>"
      ],
      "text/plain": [
       "   index  true  score_logreg  score_svm  score_knn  score_tree     POWER\n",
       "0      0     0      0.683832   0.145976   0.787063    0.500000  0.382068\n",
       "1      1     1      0.801966   0.239511   1.000000    0.833333  0.303929\n",
       "2      2     0      0.382315  -0.245701   0.000000    0.000000  1.000000\n",
       "3      3     1      0.506797  -0.137058   0.000000    0.105263       NaN\n",
       "4      4     1      0.488781  -0.154148   0.000000    0.105263       NaN\n",
       "5      5     0      0.108506  -0.790864   0.000000    0.000000  1.000000\n",
       "6      6     0      0.413749  -0.185143   0.283053    0.363636       NaN\n",
       "7      7     0      0.961081   0.830973   1.000000    1.000000  0.830973\n",
       "8      8     0      0.055733  -0.872805   0.000000    0.100000       NaN\n",
       "9      9     0      0.168708  -0.518390   0.000000    0.100000       NaN"
      ]
     },
     "execution_count": 199,
     "metadata": {},
     "output_type": "execute_result"
    }
   ],
   "source": [
    "POWER(df, 'score_svm', 'score_tree')"
   ]
  },
  {
   "cell_type": "code",
   "execution_count": 200,
   "id": "b478482f",
   "metadata": {},
   "outputs": [
    {
     "data": {
      "text/plain": [
       "1.0"
      ]
     },
     "execution_count": 200,
     "metadata": {},
     "output_type": "execute_result"
    }
   ],
   "source": [
    "POWER(df.iloc[2]['score_svm'], 0)"
   ]
  },
  {
   "cell_type": "code",
   "execution_count": 201,
   "id": "c7e70ca9",
   "metadata": {},
   "outputs": [
    {
     "data": {
      "text/plain": [
       "nan"
      ]
     },
     "execution_count": 201,
     "metadata": {},
     "output_type": "execute_result"
    }
   ],
   "source": [
    "POWER(df.iloc[3]['score_svm'], df.iloc[3]['score_tree'])"
   ]
  },
  {
   "cell_type": "code",
   "execution_count": 202,
   "id": "7184379b",
   "metadata": {
    "scrolled": true
   },
   "outputs": [
    {
     "data": {
      "text/html": [
       "<div>\n",
       "<style scoped>\n",
       "    .dataframe tbody tr th:only-of-type {\n",
       "        vertical-align: middle;\n",
       "    }\n",
       "\n",
       "    .dataframe tbody tr th {\n",
       "        vertical-align: top;\n",
       "    }\n",
       "\n",
       "    .dataframe thead th {\n",
       "        text-align: right;\n",
       "    }\n",
       "</style>\n",
       "<table border=\"1\" class=\"dataframe\">\n",
       "  <thead>\n",
       "    <tr style=\"text-align: right;\">\n",
       "      <th></th>\n",
       "      <th>index</th>\n",
       "      <th>true</th>\n",
       "      <th>score_logreg</th>\n",
       "      <th>score_svm</th>\n",
       "      <th>score_knn</th>\n",
       "      <th>score_tree</th>\n",
       "      <th>POWER</th>\n",
       "    </tr>\n",
       "  </thead>\n",
       "  <tbody>\n",
       "    <tr>\n",
       "      <th>0</th>\n",
       "      <td>0</td>\n",
       "      <td>0</td>\n",
       "      <td>0.683832</td>\n",
       "      <td>0.145976</td>\n",
       "      <td>0.787063</td>\n",
       "      <td>0.500000</td>\n",
       "      <td>15086.701866</td>\n",
       "    </tr>\n",
       "    <tr>\n",
       "      <th>1</th>\n",
       "      <td>1</td>\n",
       "      <td>1</td>\n",
       "      <td>0.801966</td>\n",
       "      <td>0.239511</td>\n",
       "      <td>1.000000</td>\n",
       "      <td>0.833333</td>\n",
       "      <td>1268.730547</td>\n",
       "    </tr>\n",
       "    <tr>\n",
       "      <th>2</th>\n",
       "      <td>2</td>\n",
       "      <td>0</td>\n",
       "      <td>0.382315</td>\n",
       "      <td>-0.245701</td>\n",
       "      <td>0.000000</td>\n",
       "      <td>0.000000</td>\n",
       "      <td>-1116.782648</td>\n",
       "    </tr>\n",
       "    <tr>\n",
       "      <th>3</th>\n",
       "      <td>3</td>\n",
       "      <td>1</td>\n",
       "      <td>0.506797</td>\n",
       "      <td>-0.137058</td>\n",
       "      <td>0.000000</td>\n",
       "      <td>0.105263</td>\n",
       "      <td>-20676.207330</td>\n",
       "    </tr>\n",
       "    <tr>\n",
       "      <th>4</th>\n",
       "      <td>4</td>\n",
       "      <td>1</td>\n",
       "      <td>0.488781</td>\n",
       "      <td>-0.154148</td>\n",
       "      <td>0.000000</td>\n",
       "      <td>0.105263</td>\n",
       "      <td>-11489.589319</td>\n",
       "    </tr>\n",
       "    <tr>\n",
       "      <th>5</th>\n",
       "      <td>5</td>\n",
       "      <td>0</td>\n",
       "      <td>0.108506</td>\n",
       "      <td>-0.790864</td>\n",
       "      <td>0.000000</td>\n",
       "      <td>0.000000</td>\n",
       "      <td>-3.232147</td>\n",
       "    </tr>\n",
       "    <tr>\n",
       "      <th>6</th>\n",
       "      <td>6</td>\n",
       "      <td>0</td>\n",
       "      <td>0.413749</td>\n",
       "      <td>-0.185143</td>\n",
       "      <td>0.283053</td>\n",
       "      <td>0.363636</td>\n",
       "      <td>-4596.940059</td>\n",
       "    </tr>\n",
       "    <tr>\n",
       "      <th>7</th>\n",
       "      <td>7</td>\n",
       "      <td>0</td>\n",
       "      <td>0.961081</td>\n",
       "      <td>0.830973</td>\n",
       "      <td>1.000000</td>\n",
       "      <td>1.000000</td>\n",
       "      <td>2.523858</td>\n",
       "    </tr>\n",
       "    <tr>\n",
       "      <th>8</th>\n",
       "      <td>8</td>\n",
       "      <td>0</td>\n",
       "      <td>0.055733</td>\n",
       "      <td>-0.872805</td>\n",
       "      <td>0.000000</td>\n",
       "      <td>0.100000</td>\n",
       "      <td>-1.974302</td>\n",
       "    </tr>\n",
       "    <tr>\n",
       "      <th>9</th>\n",
       "      <td>9</td>\n",
       "      <td>0</td>\n",
       "      <td>0.168708</td>\n",
       "      <td>-0.518390</td>\n",
       "      <td>0.000000</td>\n",
       "      <td>0.100000</td>\n",
       "      <td>-26.712547</td>\n",
       "    </tr>\n",
       "  </tbody>\n",
       "</table>\n",
       "</div>"
      ],
      "text/plain": [
       "   index  true  score_logreg  score_svm  score_knn  score_tree         POWER\n",
       "0      0     0      0.683832   0.145976   0.787063    0.500000  15086.701866\n",
       "1      1     1      0.801966   0.239511   1.000000    0.833333   1268.730547\n",
       "2      2     0      0.382315  -0.245701   0.000000    0.000000  -1116.782648\n",
       "3      3     1      0.506797  -0.137058   0.000000    0.105263 -20676.207330\n",
       "4      4     1      0.488781  -0.154148   0.000000    0.105263 -11489.589319\n",
       "5      5     0      0.108506  -0.790864   0.000000    0.000000     -3.232147\n",
       "6      6     0      0.413749  -0.185143   0.283053    0.363636  -4596.940059\n",
       "7      7     0      0.961081   0.830973   1.000000    1.000000      2.523858\n",
       "8      8     0      0.055733  -0.872805   0.000000    0.100000     -1.974302\n",
       "9      9     0      0.168708  -0.518390   0.000000    0.100000    -26.712547"
      ]
     },
     "execution_count": 202,
     "metadata": {},
     "output_type": "execute_result"
    }
   ],
   "source": [
    "POWER(df, 'score_svm', -5)"
   ]
  },
  {
   "cell_type": "code",
   "execution_count": 203,
   "id": "616ba71a",
   "metadata": {},
   "outputs": [
    {
     "data": {
      "text/plain": [
       "-20676.207329945628"
      ]
     },
     "execution_count": 203,
     "metadata": {},
     "output_type": "execute_result"
    }
   ],
   "source": [
    "POWER(df.iloc[3]['score_svm'], -5)"
   ]
  },
  {
   "cell_type": "code",
   "execution_count": 204,
   "id": "861ba4f8",
   "metadata": {},
   "outputs": [
    {
     "data": {
      "text/plain": [
       "2.523857605909317"
      ]
     },
     "execution_count": 204,
     "metadata": {},
     "output_type": "execute_result"
    }
   ],
   "source": [
    "POWER(df.iloc[7]['score_svm'], -5)"
   ]
  },
  {
   "cell_type": "code",
   "execution_count": 205,
   "id": "7252e666",
   "metadata": {
    "scrolled": false
   },
   "outputs": [
    {
     "data": {
      "text/html": [
       "<div>\n",
       "<style scoped>\n",
       "    .dataframe tbody tr th:only-of-type {\n",
       "        vertical-align: middle;\n",
       "    }\n",
       "\n",
       "    .dataframe tbody tr th {\n",
       "        vertical-align: top;\n",
       "    }\n",
       "\n",
       "    .dataframe thead th {\n",
       "        text-align: right;\n",
       "    }\n",
       "</style>\n",
       "<table border=\"1\" class=\"dataframe\">\n",
       "  <thead>\n",
       "    <tr style=\"text-align: right;\">\n",
       "      <th></th>\n",
       "      <th>index</th>\n",
       "      <th>true</th>\n",
       "      <th>score_logreg</th>\n",
       "      <th>score_svm</th>\n",
       "      <th>score_knn</th>\n",
       "      <th>score_tree</th>\n",
       "      <th>POWER</th>\n",
       "    </tr>\n",
       "  </thead>\n",
       "  <tbody>\n",
       "    <tr>\n",
       "      <th>0</th>\n",
       "      <td>0</td>\n",
       "      <td>0</td>\n",
       "      <td>0.683832</td>\n",
       "      <td>0.145976</td>\n",
       "      <td>0.787063</td>\n",
       "      <td>0.500000</td>\n",
       "      <td>1.399510</td>\n",
       "    </tr>\n",
       "    <tr>\n",
       "      <th>1</th>\n",
       "      <td>1</td>\n",
       "      <td>1</td>\n",
       "      <td>0.801966</td>\n",
       "      <td>0.239511</td>\n",
       "      <td>1.000000</td>\n",
       "      <td>0.833333</td>\n",
       "      <td>1.735847</td>\n",
       "    </tr>\n",
       "    <tr>\n",
       "      <th>2</th>\n",
       "      <td>2</td>\n",
       "      <td>0</td>\n",
       "      <td>0.382315</td>\n",
       "      <td>-0.245701</td>\n",
       "      <td>0.000000</td>\n",
       "      <td>0.000000</td>\n",
       "      <td>0.567936</td>\n",
       "    </tr>\n",
       "    <tr>\n",
       "      <th>3</th>\n",
       "      <td>3</td>\n",
       "      <td>1</td>\n",
       "      <td>0.506797</td>\n",
       "      <td>-0.137058</td>\n",
       "      <td>0.000000</td>\n",
       "      <td>0.105263</td>\n",
       "      <td>0.729359</td>\n",
       "    </tr>\n",
       "    <tr>\n",
       "      <th>4</th>\n",
       "      <td>4</td>\n",
       "      <td>1</td>\n",
       "      <td>0.488781</td>\n",
       "      <td>-0.154148</td>\n",
       "      <td>0.000000</td>\n",
       "      <td>0.105263</td>\n",
       "      <td>0.701216</td>\n",
       "    </tr>\n",
       "    <tr>\n",
       "      <th>5</th>\n",
       "      <td>5</td>\n",
       "      <td>0</td>\n",
       "      <td>0.108506</td>\n",
       "      <td>-0.790864</td>\n",
       "      <td>0.000000</td>\n",
       "      <td>0.000000</td>\n",
       "      <td>0.161859</td>\n",
       "    </tr>\n",
       "    <tr>\n",
       "      <th>6</th>\n",
       "      <td>6</td>\n",
       "      <td>0</td>\n",
       "      <td>0.413749</td>\n",
       "      <td>-0.185143</td>\n",
       "      <td>0.283053</td>\n",
       "      <td>0.363636</td>\n",
       "      <td>0.652916</td>\n",
       "    </tr>\n",
       "    <tr>\n",
       "      <th>7</th>\n",
       "      <td>7</td>\n",
       "      <td>0</td>\n",
       "      <td>0.961081</td>\n",
       "      <td>0.830973</td>\n",
       "      <td>1.000000</td>\n",
       "      <td>1.000000</td>\n",
       "      <td>6.775997</td>\n",
       "    </tr>\n",
       "    <tr>\n",
       "      <th>8</th>\n",
       "      <td>8</td>\n",
       "      <td>0</td>\n",
       "      <td>0.055733</td>\n",
       "      <td>-0.872805</td>\n",
       "      <td>0.000000</td>\n",
       "      <td>0.100000</td>\n",
       "      <td>0.134028</td>\n",
       "    </tr>\n",
       "    <tr>\n",
       "      <th>9</th>\n",
       "      <td>9</td>\n",
       "      <td>0</td>\n",
       "      <td>0.168708</td>\n",
       "      <td>-0.518390</td>\n",
       "      <td>0.000000</td>\n",
       "      <td>0.100000</td>\n",
       "      <td>0.303117</td>\n",
       "    </tr>\n",
       "  </tbody>\n",
       "</table>\n",
       "</div>"
      ],
      "text/plain": [
       "   index  true  score_logreg  score_svm  score_knn  score_tree     POWER\n",
       "0      0     0      0.683832   0.145976   0.787063    0.500000  1.399510\n",
       "1      1     1      0.801966   0.239511   1.000000    0.833333  1.735847\n",
       "2      2     0      0.382315  -0.245701   0.000000    0.000000  0.567936\n",
       "3      3     1      0.506797  -0.137058   0.000000    0.105263  0.729359\n",
       "4      4     1      0.488781  -0.154148   0.000000    0.105263  0.701216\n",
       "5      5     0      0.108506  -0.790864   0.000000    0.000000  0.161859\n",
       "6      6     0      0.413749  -0.185143   0.283053    0.363636  0.652916\n",
       "7      7     0      0.961081   0.830973   1.000000    1.000000  6.775997\n",
       "8      8     0      0.055733  -0.872805   0.000000    0.100000  0.134028\n",
       "9      9     0      0.168708  -0.518390   0.000000    0.100000  0.303117"
      ]
     },
     "execution_count": 205,
     "metadata": {},
     "output_type": "execute_result"
    }
   ],
   "source": [
    "POWER(df, 10, 'score_svm')"
   ]
  },
  {
   "cell_type": "code",
   "execution_count": 206,
   "id": "95ae46a0",
   "metadata": {},
   "outputs": [
    {
     "data": {
      "text/plain": [
       "0.7293593376381816"
      ]
     },
     "execution_count": 206,
     "metadata": {},
     "output_type": "execute_result"
    }
   ],
   "source": [
    "POWER(10, df.iloc[3]['score_svm'])"
   ]
  },
  {
   "cell_type": "code",
   "execution_count": 207,
   "id": "15eec57c",
   "metadata": {},
   "outputs": [
    {
     "data": {
      "text/plain": [
       "0.30311652333276023"
      ]
     },
     "execution_count": 207,
     "metadata": {},
     "output_type": "execute_result"
    }
   ],
   "source": [
    "POWER(10, df.iloc[9]['score_svm'])"
   ]
  },
  {
   "cell_type": "code",
   "execution_count": 208,
   "id": "a10a8214",
   "metadata": {
    "scrolled": false
   },
   "outputs": [
    {
     "data": {
      "text/html": [
       "<div>\n",
       "<style scoped>\n",
       "    .dataframe tbody tr th:only-of-type {\n",
       "        vertical-align: middle;\n",
       "    }\n",
       "\n",
       "    .dataframe tbody tr th {\n",
       "        vertical-align: top;\n",
       "    }\n",
       "\n",
       "    .dataframe thead th {\n",
       "        text-align: right;\n",
       "    }\n",
       "</style>\n",
       "<table border=\"1\" class=\"dataframe\">\n",
       "  <thead>\n",
       "    <tr style=\"text-align: right;\">\n",
       "      <th></th>\n",
       "      <th>index</th>\n",
       "      <th>true</th>\n",
       "      <th>score_logreg</th>\n",
       "      <th>score_svm</th>\n",
       "      <th>score_knn</th>\n",
       "      <th>score_tree</th>\n",
       "      <th>POWER</th>\n",
       "    </tr>\n",
       "  </thead>\n",
       "  <tbody>\n",
       "    <tr>\n",
       "      <th>0</th>\n",
       "      <td>0</td>\n",
       "      <td>0</td>\n",
       "      <td>0.683832</td>\n",
       "      <td>0.145976</td>\n",
       "      <td>0.787063</td>\n",
       "      <td>0.500000</td>\n",
       "      <td>0.903768</td>\n",
       "    </tr>\n",
       "    <tr>\n",
       "      <th>1</th>\n",
       "      <td>1</td>\n",
       "      <td>1</td>\n",
       "      <td>0.801966</td>\n",
       "      <td>0.239511</td>\n",
       "      <td>1.000000</td>\n",
       "      <td>0.833333</td>\n",
       "      <td>0.957272</td>\n",
       "    </tr>\n",
       "    <tr>\n",
       "      <th>2</th>\n",
       "      <td>2</td>\n",
       "      <td>0</td>\n",
       "      <td>0.382315</td>\n",
       "      <td>-0.245701</td>\n",
       "      <td>0.000000</td>\n",
       "      <td>0.000000</td>\n",
       "      <td>1.000000</td>\n",
       "    </tr>\n",
       "    <tr>\n",
       "      <th>3</th>\n",
       "      <td>3</td>\n",
       "      <td>1</td>\n",
       "      <td>0.506797</td>\n",
       "      <td>-0.137058</td>\n",
       "      <td>0.000000</td>\n",
       "      <td>0.105263</td>\n",
       "      <td>1.361461</td>\n",
       "    </tr>\n",
       "    <tr>\n",
       "      <th>4</th>\n",
       "      <td>4</td>\n",
       "      <td>1</td>\n",
       "      <td>0.488781</td>\n",
       "      <td>-0.154148</td>\n",
       "      <td>0.000000</td>\n",
       "      <td>0.105263</td>\n",
       "      <td>1.414864</td>\n",
       "    </tr>\n",
       "    <tr>\n",
       "      <th>5</th>\n",
       "      <td>5</td>\n",
       "      <td>0</td>\n",
       "      <td>0.108506</td>\n",
       "      <td>-0.790864</td>\n",
       "      <td>0.000000</td>\n",
       "      <td>0.000000</td>\n",
       "      <td>1.000000</td>\n",
       "    </tr>\n",
       "    <tr>\n",
       "      <th>6</th>\n",
       "      <td>6</td>\n",
       "      <td>0</td>\n",
       "      <td>0.413749</td>\n",
       "      <td>-0.185143</td>\n",
       "      <td>0.283053</td>\n",
       "      <td>0.363636</td>\n",
       "      <td>1.205977</td>\n",
       "    </tr>\n",
       "    <tr>\n",
       "      <th>7</th>\n",
       "      <td>7</td>\n",
       "      <td>0</td>\n",
       "      <td>0.961081</td>\n",
       "      <td>0.830973</td>\n",
       "      <td>1.000000</td>\n",
       "      <td>1.000000</td>\n",
       "      <td>1.000000</td>\n",
       "    </tr>\n",
       "    <tr>\n",
       "      <th>8</th>\n",
       "      <td>8</td>\n",
       "      <td>0</td>\n",
       "      <td>0.055733</td>\n",
       "      <td>-0.872805</td>\n",
       "      <td>0.000000</td>\n",
       "      <td>0.100000</td>\n",
       "      <td>7.461139</td>\n",
       "    </tr>\n",
       "    <tr>\n",
       "      <th>9</th>\n",
       "      <td>9</td>\n",
       "      <td>0</td>\n",
       "      <td>0.168708</td>\n",
       "      <td>-0.518390</td>\n",
       "      <td>0.000000</td>\n",
       "      <td>0.100000</td>\n",
       "      <td>3.299061</td>\n",
       "    </tr>\n",
       "  </tbody>\n",
       "</table>\n",
       "</div>"
      ],
      "text/plain": [
       "   index  true  score_logreg  score_svm  score_knn  score_tree     POWER\n",
       "0      0     0      0.683832   0.145976   0.787063    0.500000  0.903768\n",
       "1      1     1      0.801966   0.239511   1.000000    0.833333  0.957272\n",
       "2      2     0      0.382315  -0.245701   0.000000    0.000000  1.000000\n",
       "3      3     1      0.506797  -0.137058   0.000000    0.105263  1.361461\n",
       "4      4     1      0.488781  -0.154148   0.000000    0.105263  1.414864\n",
       "5      5     0      0.108506  -0.790864   0.000000    0.000000  1.000000\n",
       "6      6     0      0.413749  -0.185143   0.283053    0.363636  1.205977\n",
       "7      7     0      0.961081   0.830973   1.000000    1.000000  1.000000\n",
       "8      8     0      0.055733  -0.872805   0.000000    0.100000  7.461139\n",
       "9      9     0      0.168708  -0.518390   0.000000    0.100000  3.299061"
      ]
     },
     "execution_count": 208,
     "metadata": {},
     "output_type": "execute_result"
    }
   ],
   "source": [
    "POWER(df, 'score_tree', 'score_svm')"
   ]
  },
  {
   "cell_type": "code",
   "execution_count": 209,
   "id": "76562afb",
   "metadata": {},
   "outputs": [
    {
     "data": {
      "text/plain": [
       "1"
      ]
     },
     "execution_count": 209,
     "metadata": {},
     "output_type": "execute_result"
    }
   ],
   "source": [
    "POWER(0, 0)"
   ]
  },
  {
   "cell_type": "code",
   "execution_count": 210,
   "id": "dd8acf9d",
   "metadata": {},
   "outputs": [
    {
     "data": {
      "text/plain": [
       "nan"
      ]
     },
     "execution_count": 210,
     "metadata": {},
     "output_type": "execute_result"
    }
   ],
   "source": [
    "POWER(-32, 0.2)"
   ]
  },
  {
   "cell_type": "code",
   "execution_count": 211,
   "id": "237b9ec3",
   "metadata": {},
   "outputs": [
    {
     "data": {
      "text/plain": [
       "25"
      ]
     },
     "execution_count": 211,
     "metadata": {},
     "output_type": "execute_result"
    }
   ],
   "source": [
    "POWER(5, 2)"
   ]
  },
  {
   "cell_type": "code",
   "execution_count": 212,
   "id": "cb5633b1",
   "metadata": {},
   "outputs": [
    {
     "data": {
      "text/plain": [
       "6.0"
      ]
     },
     "execution_count": 212,
     "metadata": {},
     "output_type": "execute_result"
    }
   ],
   "source": [
    "POWER(36, 0.5)"
   ]
  },
  {
   "cell_type": "code",
   "execution_count": 213,
   "id": "5081a88d",
   "metadata": {},
   "outputs": [
    {
     "data": {
      "text/plain": [
       "0.01"
      ]
     },
     "execution_count": 213,
     "metadata": {},
     "output_type": "execute_result"
    }
   ],
   "source": [
    "POWER(-10, -2)"
   ]
  },
  {
   "cell_type": "markdown",
   "id": "7129e276",
   "metadata": {},
   "source": [
    "## 22. RADIANS\n",
    "\n",
    "**Описание:** \n",
    "\n",
    "Преобразует число из градусов в радианы.\n",
    "\n",
    "**Входные и выходные данные:**\n",
    "\n",
    "На входе - число (угол в градусах).\n",
    "\n",
    "На выходе - число (угол в радианах).\n",
    "\n",
    "### Реализация:"
   ]
  },
  {
   "cell_type": "code",
   "execution_count": 214,
   "id": "671d0a35",
   "metadata": {},
   "outputs": [],
   "source": [
    "def RADIANS(df, col = None): \n",
    "    if col == None:          \n",
    "        import math         \n",
    "        return math.radians(df)\n",
    "    from sqlite3 import connect\n",
    "    import pandas as pd\n",
    "    conn = connect(':memory:')\n",
    "    df.to_sql('data', conn)\n",
    "    return pd.read_sql(f'SELECT *, RADIANS({col}) FROM data', conn)"
   ]
  },
  {
   "cell_type": "markdown",
   "id": "c6e3be6f",
   "metadata": {},
   "source": [
    "### Тестирование:"
   ]
  },
  {
   "cell_type": "code",
   "execution_count": 215,
   "id": "36f31cc4",
   "metadata": {},
   "outputs": [],
   "source": [
    "df['score_logreg*100'] = df['score_logreg'] * 100\n",
    "df['score_tree*100'] = df['score_tree'] * 100"
   ]
  },
  {
   "cell_type": "code",
   "execution_count": 216,
   "id": "d1a403df",
   "metadata": {
    "scrolled": false
   },
   "outputs": [
    {
     "data": {
      "text/html": [
       "<div>\n",
       "<style scoped>\n",
       "    .dataframe tbody tr th:only-of-type {\n",
       "        vertical-align: middle;\n",
       "    }\n",
       "\n",
       "    .dataframe tbody tr th {\n",
       "        vertical-align: top;\n",
       "    }\n",
       "\n",
       "    .dataframe thead th {\n",
       "        text-align: right;\n",
       "    }\n",
       "</style>\n",
       "<table border=\"1\" class=\"dataframe\">\n",
       "  <thead>\n",
       "    <tr style=\"text-align: right;\">\n",
       "      <th></th>\n",
       "      <th>index</th>\n",
       "      <th>true</th>\n",
       "      <th>score_logreg</th>\n",
       "      <th>score_svm</th>\n",
       "      <th>score_knn</th>\n",
       "      <th>score_tree</th>\n",
       "      <th>score_logreg*100</th>\n",
       "      <th>score_tree*100</th>\n",
       "      <th>RADIANS(score_logreg*100)</th>\n",
       "    </tr>\n",
       "  </thead>\n",
       "  <tbody>\n",
       "    <tr>\n",
       "      <th>0</th>\n",
       "      <td>0</td>\n",
       "      <td>0</td>\n",
       "      <td>0.683832</td>\n",
       "      <td>0.145976</td>\n",
       "      <td>0.787063</td>\n",
       "      <td>0.500000</td>\n",
       "      <td>68.383231</td>\n",
       "      <td>50.000000</td>\n",
       "      <td>1.193513</td>\n",
       "    </tr>\n",
       "    <tr>\n",
       "      <th>1</th>\n",
       "      <td>1</td>\n",
       "      <td>1</td>\n",
       "      <td>0.801966</td>\n",
       "      <td>0.239511</td>\n",
       "      <td>1.000000</td>\n",
       "      <td>0.833333</td>\n",
       "      <td>80.196649</td>\n",
       "      <td>83.333333</td>\n",
       "      <td>1.399696</td>\n",
       "    </tr>\n",
       "    <tr>\n",
       "      <th>2</th>\n",
       "      <td>2</td>\n",
       "      <td>0</td>\n",
       "      <td>0.382315</td>\n",
       "      <td>-0.245701</td>\n",
       "      <td>0.000000</td>\n",
       "      <td>0.000000</td>\n",
       "      <td>38.231536</td>\n",
       "      <td>0.000000</td>\n",
       "      <td>0.667266</td>\n",
       "    </tr>\n",
       "    <tr>\n",
       "      <th>3</th>\n",
       "      <td>3</td>\n",
       "      <td>1</td>\n",
       "      <td>0.506797</td>\n",
       "      <td>-0.137058</td>\n",
       "      <td>0.000000</td>\n",
       "      <td>0.105263</td>\n",
       "      <td>50.679689</td>\n",
       "      <td>10.526316</td>\n",
       "      <td>0.884527</td>\n",
       "    </tr>\n",
       "    <tr>\n",
       "      <th>4</th>\n",
       "      <td>4</td>\n",
       "      <td>1</td>\n",
       "      <td>0.488781</td>\n",
       "      <td>-0.154148</td>\n",
       "      <td>0.000000</td>\n",
       "      <td>0.105263</td>\n",
       "      <td>48.878149</td>\n",
       "      <td>10.526316</td>\n",
       "      <td>0.853085</td>\n",
       "    </tr>\n",
       "    <tr>\n",
       "      <th>5</th>\n",
       "      <td>5</td>\n",
       "      <td>0</td>\n",
       "      <td>0.108506</td>\n",
       "      <td>-0.790864</td>\n",
       "      <td>0.000000</td>\n",
       "      <td>0.000000</td>\n",
       "      <td>10.850624</td>\n",
       "      <td>0.000000</td>\n",
       "      <td>0.189379</td>\n",
       "    </tr>\n",
       "    <tr>\n",
       "      <th>6</th>\n",
       "      <td>6</td>\n",
       "      <td>0</td>\n",
       "      <td>0.413749</td>\n",
       "      <td>-0.185143</td>\n",
       "      <td>0.283053</td>\n",
       "      <td>0.363636</td>\n",
       "      <td>41.374898</td>\n",
       "      <td>36.363636</td>\n",
       "      <td>0.722128</td>\n",
       "    </tr>\n",
       "    <tr>\n",
       "      <th>7</th>\n",
       "      <td>7</td>\n",
       "      <td>0</td>\n",
       "      <td>0.961081</td>\n",
       "      <td>0.830973</td>\n",
       "      <td>1.000000</td>\n",
       "      <td>1.000000</td>\n",
       "      <td>96.108126</td>\n",
       "      <td>100.000000</td>\n",
       "      <td>1.677403</td>\n",
       "    </tr>\n",
       "    <tr>\n",
       "      <th>8</th>\n",
       "      <td>8</td>\n",
       "      <td>0</td>\n",
       "      <td>0.055733</td>\n",
       "      <td>-0.872805</td>\n",
       "      <td>0.000000</td>\n",
       "      <td>0.100000</td>\n",
       "      <td>5.573261</td>\n",
       "      <td>10.000000</td>\n",
       "      <td>0.097272</td>\n",
       "    </tr>\n",
       "    <tr>\n",
       "      <th>9</th>\n",
       "      <td>9</td>\n",
       "      <td>0</td>\n",
       "      <td>0.168708</td>\n",
       "      <td>-0.518390</td>\n",
       "      <td>0.000000</td>\n",
       "      <td>0.100000</td>\n",
       "      <td>16.870812</td>\n",
       "      <td>10.000000</td>\n",
       "      <td>0.294451</td>\n",
       "    </tr>\n",
       "  </tbody>\n",
       "</table>\n",
       "</div>"
      ],
      "text/plain": [
       "   index  true  score_logreg  score_svm  score_knn  score_tree  \\\n",
       "0      0     0      0.683832   0.145976   0.787063    0.500000   \n",
       "1      1     1      0.801966   0.239511   1.000000    0.833333   \n",
       "2      2     0      0.382315  -0.245701   0.000000    0.000000   \n",
       "3      3     1      0.506797  -0.137058   0.000000    0.105263   \n",
       "4      4     1      0.488781  -0.154148   0.000000    0.105263   \n",
       "5      5     0      0.108506  -0.790864   0.000000    0.000000   \n",
       "6      6     0      0.413749  -0.185143   0.283053    0.363636   \n",
       "7      7     0      0.961081   0.830973   1.000000    1.000000   \n",
       "8      8     0      0.055733  -0.872805   0.000000    0.100000   \n",
       "9      9     0      0.168708  -0.518390   0.000000    0.100000   \n",
       "\n",
       "   score_logreg*100  score_tree*100  RADIANS(score_logreg*100)  \n",
       "0         68.383231       50.000000                   1.193513  \n",
       "1         80.196649       83.333333                   1.399696  \n",
       "2         38.231536        0.000000                   0.667266  \n",
       "3         50.679689       10.526316                   0.884527  \n",
       "4         48.878149       10.526316                   0.853085  \n",
       "5         10.850624        0.000000                   0.189379  \n",
       "6         41.374898       36.363636                   0.722128  \n",
       "7         96.108126      100.000000                   1.677403  \n",
       "8          5.573261       10.000000                   0.097272  \n",
       "9         16.870812       10.000000                   0.294451  "
      ]
     },
     "execution_count": 216,
     "metadata": {},
     "output_type": "execute_result"
    }
   ],
   "source": [
    "RADIANS(df, 'score_logreg*100')"
   ]
  },
  {
   "cell_type": "code",
   "execution_count": 217,
   "id": "65a33d75",
   "metadata": {},
   "outputs": [
    {
     "data": {
      "text/plain": [
       "1.1935125373113862"
      ]
     },
     "execution_count": 217,
     "metadata": {},
     "output_type": "execute_result"
    }
   ],
   "source": [
    "RADIANS(df.iloc[0]['score_logreg*100'])"
   ]
  },
  {
   "cell_type": "code",
   "execution_count": 218,
   "id": "819c64f3",
   "metadata": {},
   "outputs": [
    {
     "data": {
      "text/plain": [
       "1.6774032290032217"
      ]
     },
     "execution_count": 218,
     "metadata": {},
     "output_type": "execute_result"
    }
   ],
   "source": [
    "RADIANS(df.iloc[7]['score_logreg*100'])"
   ]
  },
  {
   "cell_type": "code",
   "execution_count": 219,
   "id": "04f503c2",
   "metadata": {
    "scrolled": false
   },
   "outputs": [
    {
     "data": {
      "text/html": [
       "<div>\n",
       "<style scoped>\n",
       "    .dataframe tbody tr th:only-of-type {\n",
       "        vertical-align: middle;\n",
       "    }\n",
       "\n",
       "    .dataframe tbody tr th {\n",
       "        vertical-align: top;\n",
       "    }\n",
       "\n",
       "    .dataframe thead th {\n",
       "        text-align: right;\n",
       "    }\n",
       "</style>\n",
       "<table border=\"1\" class=\"dataframe\">\n",
       "  <thead>\n",
       "    <tr style=\"text-align: right;\">\n",
       "      <th></th>\n",
       "      <th>index</th>\n",
       "      <th>true</th>\n",
       "      <th>score_logreg</th>\n",
       "      <th>score_svm</th>\n",
       "      <th>score_knn</th>\n",
       "      <th>score_tree</th>\n",
       "      <th>score_logreg*100</th>\n",
       "      <th>score_tree*100</th>\n",
       "      <th>RADIANS(score_tree*100)</th>\n",
       "    </tr>\n",
       "  </thead>\n",
       "  <tbody>\n",
       "    <tr>\n",
       "      <th>0</th>\n",
       "      <td>0</td>\n",
       "      <td>0</td>\n",
       "      <td>0.683832</td>\n",
       "      <td>0.145976</td>\n",
       "      <td>0.787063</td>\n",
       "      <td>0.500000</td>\n",
       "      <td>68.383231</td>\n",
       "      <td>50.000000</td>\n",
       "      <td>0.872665</td>\n",
       "    </tr>\n",
       "    <tr>\n",
       "      <th>1</th>\n",
       "      <td>1</td>\n",
       "      <td>1</td>\n",
       "      <td>0.801966</td>\n",
       "      <td>0.239511</td>\n",
       "      <td>1.000000</td>\n",
       "      <td>0.833333</td>\n",
       "      <td>80.196649</td>\n",
       "      <td>83.333333</td>\n",
       "      <td>1.454441</td>\n",
       "    </tr>\n",
       "    <tr>\n",
       "      <th>2</th>\n",
       "      <td>2</td>\n",
       "      <td>0</td>\n",
       "      <td>0.382315</td>\n",
       "      <td>-0.245701</td>\n",
       "      <td>0.000000</td>\n",
       "      <td>0.000000</td>\n",
       "      <td>38.231536</td>\n",
       "      <td>0.000000</td>\n",
       "      <td>0.000000</td>\n",
       "    </tr>\n",
       "    <tr>\n",
       "      <th>3</th>\n",
       "      <td>3</td>\n",
       "      <td>1</td>\n",
       "      <td>0.506797</td>\n",
       "      <td>-0.137058</td>\n",
       "      <td>0.000000</td>\n",
       "      <td>0.105263</td>\n",
       "      <td>50.679689</td>\n",
       "      <td>10.526316</td>\n",
       "      <td>0.183719</td>\n",
       "    </tr>\n",
       "    <tr>\n",
       "      <th>4</th>\n",
       "      <td>4</td>\n",
       "      <td>1</td>\n",
       "      <td>0.488781</td>\n",
       "      <td>-0.154148</td>\n",
       "      <td>0.000000</td>\n",
       "      <td>0.105263</td>\n",
       "      <td>48.878149</td>\n",
       "      <td>10.526316</td>\n",
       "      <td>0.183719</td>\n",
       "    </tr>\n",
       "    <tr>\n",
       "      <th>5</th>\n",
       "      <td>5</td>\n",
       "      <td>0</td>\n",
       "      <td>0.108506</td>\n",
       "      <td>-0.790864</td>\n",
       "      <td>0.000000</td>\n",
       "      <td>0.000000</td>\n",
       "      <td>10.850624</td>\n",
       "      <td>0.000000</td>\n",
       "      <td>0.000000</td>\n",
       "    </tr>\n",
       "    <tr>\n",
       "      <th>6</th>\n",
       "      <td>6</td>\n",
       "      <td>0</td>\n",
       "      <td>0.413749</td>\n",
       "      <td>-0.185143</td>\n",
       "      <td>0.283053</td>\n",
       "      <td>0.363636</td>\n",
       "      <td>41.374898</td>\n",
       "      <td>36.363636</td>\n",
       "      <td>0.634665</td>\n",
       "    </tr>\n",
       "    <tr>\n",
       "      <th>7</th>\n",
       "      <td>7</td>\n",
       "      <td>0</td>\n",
       "      <td>0.961081</td>\n",
       "      <td>0.830973</td>\n",
       "      <td>1.000000</td>\n",
       "      <td>1.000000</td>\n",
       "      <td>96.108126</td>\n",
       "      <td>100.000000</td>\n",
       "      <td>1.745329</td>\n",
       "    </tr>\n",
       "    <tr>\n",
       "      <th>8</th>\n",
       "      <td>8</td>\n",
       "      <td>0</td>\n",
       "      <td>0.055733</td>\n",
       "      <td>-0.872805</td>\n",
       "      <td>0.000000</td>\n",
       "      <td>0.100000</td>\n",
       "      <td>5.573261</td>\n",
       "      <td>10.000000</td>\n",
       "      <td>0.174533</td>\n",
       "    </tr>\n",
       "    <tr>\n",
       "      <th>9</th>\n",
       "      <td>9</td>\n",
       "      <td>0</td>\n",
       "      <td>0.168708</td>\n",
       "      <td>-0.518390</td>\n",
       "      <td>0.000000</td>\n",
       "      <td>0.100000</td>\n",
       "      <td>16.870812</td>\n",
       "      <td>10.000000</td>\n",
       "      <td>0.174533</td>\n",
       "    </tr>\n",
       "  </tbody>\n",
       "</table>\n",
       "</div>"
      ],
      "text/plain": [
       "   index  true  score_logreg  score_svm  score_knn  score_tree  \\\n",
       "0      0     0      0.683832   0.145976   0.787063    0.500000   \n",
       "1      1     1      0.801966   0.239511   1.000000    0.833333   \n",
       "2      2     0      0.382315  -0.245701   0.000000    0.000000   \n",
       "3      3     1      0.506797  -0.137058   0.000000    0.105263   \n",
       "4      4     1      0.488781  -0.154148   0.000000    0.105263   \n",
       "5      5     0      0.108506  -0.790864   0.000000    0.000000   \n",
       "6      6     0      0.413749  -0.185143   0.283053    0.363636   \n",
       "7      7     0      0.961081   0.830973   1.000000    1.000000   \n",
       "8      8     0      0.055733  -0.872805   0.000000    0.100000   \n",
       "9      9     0      0.168708  -0.518390   0.000000    0.100000   \n",
       "\n",
       "   score_logreg*100  score_tree*100  RADIANS(score_tree*100)  \n",
       "0         68.383231       50.000000                 0.872665  \n",
       "1         80.196649       83.333333                 1.454441  \n",
       "2         38.231536        0.000000                 0.000000  \n",
       "3         50.679689       10.526316                 0.183719  \n",
       "4         48.878149       10.526316                 0.183719  \n",
       "5         10.850624        0.000000                 0.000000  \n",
       "6         41.374898       36.363636                 0.634665  \n",
       "7         96.108126      100.000000                 1.745329  \n",
       "8          5.573261       10.000000                 0.174533  \n",
       "9         16.870812       10.000000                 0.174533  "
      ]
     },
     "execution_count": 219,
     "metadata": {},
     "output_type": "execute_result"
    }
   ],
   "source": [
    "RADIANS(df, 'score_tree*100')"
   ]
  },
  {
   "cell_type": "code",
   "execution_count": 220,
   "id": "bd782244",
   "metadata": {},
   "outputs": [
    {
     "data": {
      "text/plain": [
       "0.8726646259971648"
      ]
     },
     "execution_count": 220,
     "metadata": {},
     "output_type": "execute_result"
    }
   ],
   "source": [
    "RADIANS(df.iloc[0]['score_tree*100'])"
   ]
  },
  {
   "cell_type": "code",
   "execution_count": 221,
   "id": "e76b577d",
   "metadata": {
    "scrolled": true
   },
   "outputs": [
    {
     "data": {
      "text/plain": [
       "0.0"
      ]
     },
     "execution_count": 221,
     "metadata": {},
     "output_type": "execute_result"
    }
   ],
   "source": [
    "RADIANS(df.iloc[2]['score_tree*100'])"
   ]
  },
  {
   "cell_type": "code",
   "execution_count": 222,
   "id": "c6360f8e",
   "metadata": {},
   "outputs": [],
   "source": [
    "df.drop(['score_logreg*100', 'score_tree*100'],axis = 1, inplace = True)"
   ]
  },
  {
   "cell_type": "code",
   "execution_count": 223,
   "id": "bd063402",
   "metadata": {},
   "outputs": [
    {
     "data": {
      "text/plain": [
       "3.141592653589793"
      ]
     },
     "execution_count": 223,
     "metadata": {},
     "output_type": "execute_result"
    }
   ],
   "source": [
    "RADIANS(180)"
   ]
  },
  {
   "cell_type": "code",
   "execution_count": 224,
   "id": "b7a64c17",
   "metadata": {},
   "outputs": [
    {
     "data": {
      "text/plain": [
       "6.283185307179586"
      ]
     },
     "execution_count": 224,
     "metadata": {},
     "output_type": "execute_result"
    }
   ],
   "source": [
    "RADIANS(360)"
   ]
  },
  {
   "cell_type": "code",
   "execution_count": 225,
   "id": "84ad812a",
   "metadata": {},
   "outputs": [
    {
     "data": {
      "text/plain": [
       "-0.7853981633974483"
      ]
     },
     "execution_count": 225,
     "metadata": {},
     "output_type": "execute_result"
    }
   ],
   "source": [
    "RADIANS(-45)"
   ]
  },
  {
   "cell_type": "code",
   "execution_count": 226,
   "id": "7622d94b",
   "metadata": {},
   "outputs": [
    {
     "data": {
      "text/plain": [
       "0.0"
      ]
     },
     "execution_count": 226,
     "metadata": {},
     "output_type": "execute_result"
    }
   ],
   "source": [
    "RADIANS(0)"
   ]
  },
  {
   "cell_type": "markdown",
   "id": "7ef2d045",
   "metadata": {},
   "source": [
    "## 23. ROUND\n",
    "\n",
    "**Описание:** \n",
    "\n",
    "Округляет число до заданного количества значимых разрядов. Без указания разряда округляет до ближайшего целого числа.\n",
    "\n",
    "**Входные и выходные данные:**\n",
    "\n",
    "На входе - число.\n",
    "\n",
    "На выходе - число после округления.\n",
    "\n",
    "### Реализация:"
   ]
  },
  {
   "cell_type": "code",
   "execution_count": 227,
   "id": "0436f045",
   "metadata": {},
   "outputs": [],
   "source": [
    "def ROUND(df, col1 = 0, col2 = 0): \n",
    "    from sqlite3 import connect\n",
    "    import pandas as pd\n",
    "    conn = connect(':memory:')\n",
    "    if type(col1) != str:       \n",
    "        return pd.read_sql(f'SELECT ROUND({df}, {col1})', conn).iloc[0][f'ROUND({df}, {col1})']\n",
    "    df.to_sql('data', conn)\n",
    "    return pd.read_sql(f'SELECT *, ROUND({col1}, {col2}) FROM data', conn)"
   ]
  },
  {
   "cell_type": "markdown",
   "id": "1a005a82",
   "metadata": {},
   "source": [
    "### Тестирование:"
   ]
  },
  {
   "cell_type": "code",
   "execution_count": 228,
   "id": "5ab79e56",
   "metadata": {
    "scrolled": true
   },
   "outputs": [
    {
     "data": {
      "text/html": [
       "<div>\n",
       "<style scoped>\n",
       "    .dataframe tbody tr th:only-of-type {\n",
       "        vertical-align: middle;\n",
       "    }\n",
       "\n",
       "    .dataframe tbody tr th {\n",
       "        vertical-align: top;\n",
       "    }\n",
       "\n",
       "    .dataframe thead th {\n",
       "        text-align: right;\n",
       "    }\n",
       "</style>\n",
       "<table border=\"1\" class=\"dataframe\">\n",
       "  <thead>\n",
       "    <tr style=\"text-align: right;\">\n",
       "      <th></th>\n",
       "      <th>index</th>\n",
       "      <th>true</th>\n",
       "      <th>score_logreg</th>\n",
       "      <th>score_svm</th>\n",
       "      <th>score_knn</th>\n",
       "      <th>score_tree</th>\n",
       "      <th>ROUND(score_logreg, 4)</th>\n",
       "    </tr>\n",
       "  </thead>\n",
       "  <tbody>\n",
       "    <tr>\n",
       "      <th>0</th>\n",
       "      <td>0</td>\n",
       "      <td>0</td>\n",
       "      <td>0.683832</td>\n",
       "      <td>0.145976</td>\n",
       "      <td>0.787063</td>\n",
       "      <td>0.500000</td>\n",
       "      <td>0.6838</td>\n",
       "    </tr>\n",
       "    <tr>\n",
       "      <th>1</th>\n",
       "      <td>1</td>\n",
       "      <td>1</td>\n",
       "      <td>0.801966</td>\n",
       "      <td>0.239511</td>\n",
       "      <td>1.000000</td>\n",
       "      <td>0.833333</td>\n",
       "      <td>0.8020</td>\n",
       "    </tr>\n",
       "    <tr>\n",
       "      <th>2</th>\n",
       "      <td>2</td>\n",
       "      <td>0</td>\n",
       "      <td>0.382315</td>\n",
       "      <td>-0.245701</td>\n",
       "      <td>0.000000</td>\n",
       "      <td>0.000000</td>\n",
       "      <td>0.3823</td>\n",
       "    </tr>\n",
       "    <tr>\n",
       "      <th>3</th>\n",
       "      <td>3</td>\n",
       "      <td>1</td>\n",
       "      <td>0.506797</td>\n",
       "      <td>-0.137058</td>\n",
       "      <td>0.000000</td>\n",
       "      <td>0.105263</td>\n",
       "      <td>0.5068</td>\n",
       "    </tr>\n",
       "    <tr>\n",
       "      <th>4</th>\n",
       "      <td>4</td>\n",
       "      <td>1</td>\n",
       "      <td>0.488781</td>\n",
       "      <td>-0.154148</td>\n",
       "      <td>0.000000</td>\n",
       "      <td>0.105263</td>\n",
       "      <td>0.4888</td>\n",
       "    </tr>\n",
       "    <tr>\n",
       "      <th>5</th>\n",
       "      <td>5</td>\n",
       "      <td>0</td>\n",
       "      <td>0.108506</td>\n",
       "      <td>-0.790864</td>\n",
       "      <td>0.000000</td>\n",
       "      <td>0.000000</td>\n",
       "      <td>0.1085</td>\n",
       "    </tr>\n",
       "    <tr>\n",
       "      <th>6</th>\n",
       "      <td>6</td>\n",
       "      <td>0</td>\n",
       "      <td>0.413749</td>\n",
       "      <td>-0.185143</td>\n",
       "      <td>0.283053</td>\n",
       "      <td>0.363636</td>\n",
       "      <td>0.4137</td>\n",
       "    </tr>\n",
       "    <tr>\n",
       "      <th>7</th>\n",
       "      <td>7</td>\n",
       "      <td>0</td>\n",
       "      <td>0.961081</td>\n",
       "      <td>0.830973</td>\n",
       "      <td>1.000000</td>\n",
       "      <td>1.000000</td>\n",
       "      <td>0.9611</td>\n",
       "    </tr>\n",
       "    <tr>\n",
       "      <th>8</th>\n",
       "      <td>8</td>\n",
       "      <td>0</td>\n",
       "      <td>0.055733</td>\n",
       "      <td>-0.872805</td>\n",
       "      <td>0.000000</td>\n",
       "      <td>0.100000</td>\n",
       "      <td>0.0557</td>\n",
       "    </tr>\n",
       "    <tr>\n",
       "      <th>9</th>\n",
       "      <td>9</td>\n",
       "      <td>0</td>\n",
       "      <td>0.168708</td>\n",
       "      <td>-0.518390</td>\n",
       "      <td>0.000000</td>\n",
       "      <td>0.100000</td>\n",
       "      <td>0.1687</td>\n",
       "    </tr>\n",
       "  </tbody>\n",
       "</table>\n",
       "</div>"
      ],
      "text/plain": [
       "   index  true  score_logreg  score_svm  score_knn  score_tree  \\\n",
       "0      0     0      0.683832   0.145976   0.787063    0.500000   \n",
       "1      1     1      0.801966   0.239511   1.000000    0.833333   \n",
       "2      2     0      0.382315  -0.245701   0.000000    0.000000   \n",
       "3      3     1      0.506797  -0.137058   0.000000    0.105263   \n",
       "4      4     1      0.488781  -0.154148   0.000000    0.105263   \n",
       "5      5     0      0.108506  -0.790864   0.000000    0.000000   \n",
       "6      6     0      0.413749  -0.185143   0.283053    0.363636   \n",
       "7      7     0      0.961081   0.830973   1.000000    1.000000   \n",
       "8      8     0      0.055733  -0.872805   0.000000    0.100000   \n",
       "9      9     0      0.168708  -0.518390   0.000000    0.100000   \n",
       "\n",
       "   ROUND(score_logreg, 4)  \n",
       "0                  0.6838  \n",
       "1                  0.8020  \n",
       "2                  0.3823  \n",
       "3                  0.5068  \n",
       "4                  0.4888  \n",
       "5                  0.1085  \n",
       "6                  0.4137  \n",
       "7                  0.9611  \n",
       "8                  0.0557  \n",
       "9                  0.1687  "
      ]
     },
     "execution_count": 228,
     "metadata": {},
     "output_type": "execute_result"
    }
   ],
   "source": [
    "ROUND(df, 'score_logreg', 4)"
   ]
  },
  {
   "cell_type": "code",
   "execution_count": 229,
   "id": "3a26997a",
   "metadata": {
    "scrolled": false
   },
   "outputs": [
    {
     "data": {
      "text/plain": [
       "0.6838"
      ]
     },
     "execution_count": 229,
     "metadata": {},
     "output_type": "execute_result"
    }
   ],
   "source": [
    "ROUND(df.iloc[0]['score_logreg'], 4)"
   ]
  },
  {
   "cell_type": "code",
   "execution_count": 230,
   "id": "68e05d0d",
   "metadata": {
    "scrolled": false
   },
   "outputs": [
    {
     "data": {
      "text/plain": [
       "0.802"
      ]
     },
     "execution_count": 230,
     "metadata": {},
     "output_type": "execute_result"
    }
   ],
   "source": [
    "ROUND(df.iloc[1]['score_logreg'], 4)"
   ]
  },
  {
   "cell_type": "code",
   "execution_count": 231,
   "id": "5cefae4b",
   "metadata": {
    "scrolled": true
   },
   "outputs": [
    {
     "data": {
      "text/html": [
       "<div>\n",
       "<style scoped>\n",
       "    .dataframe tbody tr th:only-of-type {\n",
       "        vertical-align: middle;\n",
       "    }\n",
       "\n",
       "    .dataframe tbody tr th {\n",
       "        vertical-align: top;\n",
       "    }\n",
       "\n",
       "    .dataframe thead th {\n",
       "        text-align: right;\n",
       "    }\n",
       "</style>\n",
       "<table border=\"1\" class=\"dataframe\">\n",
       "  <thead>\n",
       "    <tr style=\"text-align: right;\">\n",
       "      <th></th>\n",
       "      <th>index</th>\n",
       "      <th>true</th>\n",
       "      <th>score_logreg</th>\n",
       "      <th>score_svm</th>\n",
       "      <th>score_knn</th>\n",
       "      <th>score_tree</th>\n",
       "      <th>ROUND(score_svm, 4)</th>\n",
       "    </tr>\n",
       "  </thead>\n",
       "  <tbody>\n",
       "    <tr>\n",
       "      <th>0</th>\n",
       "      <td>0</td>\n",
       "      <td>0</td>\n",
       "      <td>0.683832</td>\n",
       "      <td>0.145976</td>\n",
       "      <td>0.787063</td>\n",
       "      <td>0.500000</td>\n",
       "      <td>0.1460</td>\n",
       "    </tr>\n",
       "    <tr>\n",
       "      <th>1</th>\n",
       "      <td>1</td>\n",
       "      <td>1</td>\n",
       "      <td>0.801966</td>\n",
       "      <td>0.239511</td>\n",
       "      <td>1.000000</td>\n",
       "      <td>0.833333</td>\n",
       "      <td>0.2395</td>\n",
       "    </tr>\n",
       "    <tr>\n",
       "      <th>2</th>\n",
       "      <td>2</td>\n",
       "      <td>0</td>\n",
       "      <td>0.382315</td>\n",
       "      <td>-0.245701</td>\n",
       "      <td>0.000000</td>\n",
       "      <td>0.000000</td>\n",
       "      <td>-0.2457</td>\n",
       "    </tr>\n",
       "    <tr>\n",
       "      <th>3</th>\n",
       "      <td>3</td>\n",
       "      <td>1</td>\n",
       "      <td>0.506797</td>\n",
       "      <td>-0.137058</td>\n",
       "      <td>0.000000</td>\n",
       "      <td>0.105263</td>\n",
       "      <td>-0.1371</td>\n",
       "    </tr>\n",
       "    <tr>\n",
       "      <th>4</th>\n",
       "      <td>4</td>\n",
       "      <td>1</td>\n",
       "      <td>0.488781</td>\n",
       "      <td>-0.154148</td>\n",
       "      <td>0.000000</td>\n",
       "      <td>0.105263</td>\n",
       "      <td>-0.1541</td>\n",
       "    </tr>\n",
       "    <tr>\n",
       "      <th>5</th>\n",
       "      <td>5</td>\n",
       "      <td>0</td>\n",
       "      <td>0.108506</td>\n",
       "      <td>-0.790864</td>\n",
       "      <td>0.000000</td>\n",
       "      <td>0.000000</td>\n",
       "      <td>-0.7909</td>\n",
       "    </tr>\n",
       "    <tr>\n",
       "      <th>6</th>\n",
       "      <td>6</td>\n",
       "      <td>0</td>\n",
       "      <td>0.413749</td>\n",
       "      <td>-0.185143</td>\n",
       "      <td>0.283053</td>\n",
       "      <td>0.363636</td>\n",
       "      <td>-0.1851</td>\n",
       "    </tr>\n",
       "    <tr>\n",
       "      <th>7</th>\n",
       "      <td>7</td>\n",
       "      <td>0</td>\n",
       "      <td>0.961081</td>\n",
       "      <td>0.830973</td>\n",
       "      <td>1.000000</td>\n",
       "      <td>1.000000</td>\n",
       "      <td>0.8310</td>\n",
       "    </tr>\n",
       "    <tr>\n",
       "      <th>8</th>\n",
       "      <td>8</td>\n",
       "      <td>0</td>\n",
       "      <td>0.055733</td>\n",
       "      <td>-0.872805</td>\n",
       "      <td>0.000000</td>\n",
       "      <td>0.100000</td>\n",
       "      <td>-0.8728</td>\n",
       "    </tr>\n",
       "    <tr>\n",
       "      <th>9</th>\n",
       "      <td>9</td>\n",
       "      <td>0</td>\n",
       "      <td>0.168708</td>\n",
       "      <td>-0.518390</td>\n",
       "      <td>0.000000</td>\n",
       "      <td>0.100000</td>\n",
       "      <td>-0.5184</td>\n",
       "    </tr>\n",
       "  </tbody>\n",
       "</table>\n",
       "</div>"
      ],
      "text/plain": [
       "   index  true  score_logreg  score_svm  score_knn  score_tree  \\\n",
       "0      0     0      0.683832   0.145976   0.787063    0.500000   \n",
       "1      1     1      0.801966   0.239511   1.000000    0.833333   \n",
       "2      2     0      0.382315  -0.245701   0.000000    0.000000   \n",
       "3      3     1      0.506797  -0.137058   0.000000    0.105263   \n",
       "4      4     1      0.488781  -0.154148   0.000000    0.105263   \n",
       "5      5     0      0.108506  -0.790864   0.000000    0.000000   \n",
       "6      6     0      0.413749  -0.185143   0.283053    0.363636   \n",
       "7      7     0      0.961081   0.830973   1.000000    1.000000   \n",
       "8      8     0      0.055733  -0.872805   0.000000    0.100000   \n",
       "9      9     0      0.168708  -0.518390   0.000000    0.100000   \n",
       "\n",
       "   ROUND(score_svm, 4)  \n",
       "0               0.1460  \n",
       "1               0.2395  \n",
       "2              -0.2457  \n",
       "3              -0.1371  \n",
       "4              -0.1541  \n",
       "5              -0.7909  \n",
       "6              -0.1851  \n",
       "7               0.8310  \n",
       "8              -0.8728  \n",
       "9              -0.5184  "
      ]
     },
     "execution_count": 231,
     "metadata": {},
     "output_type": "execute_result"
    }
   ],
   "source": [
    "ROUND(df, 'score_svm', 4)"
   ]
  },
  {
   "cell_type": "code",
   "execution_count": 232,
   "id": "0c68ca41",
   "metadata": {
    "scrolled": false
   },
   "outputs": [
    {
     "data": {
      "text/plain": [
       "-0.2457"
      ]
     },
     "execution_count": 232,
     "metadata": {},
     "output_type": "execute_result"
    }
   ],
   "source": [
    "ROUND(df.iloc[2]['score_svm'], 4)"
   ]
  },
  {
   "cell_type": "code",
   "execution_count": 233,
   "id": "336eadb8",
   "metadata": {
    "scrolled": true
   },
   "outputs": [
    {
     "data": {
      "text/plain": [
       "-0.1371"
      ]
     },
     "execution_count": 233,
     "metadata": {},
     "output_type": "execute_result"
    }
   ],
   "source": [
    "ROUND(df.iloc[3]['score_svm'], 4)"
   ]
  },
  {
   "cell_type": "code",
   "execution_count": 234,
   "id": "6fed2131",
   "metadata": {
    "scrolled": false
   },
   "outputs": [
    {
     "data": {
      "text/html": [
       "<div>\n",
       "<style scoped>\n",
       "    .dataframe tbody tr th:only-of-type {\n",
       "        vertical-align: middle;\n",
       "    }\n",
       "\n",
       "    .dataframe tbody tr th {\n",
       "        vertical-align: top;\n",
       "    }\n",
       "\n",
       "    .dataframe thead th {\n",
       "        text-align: right;\n",
       "    }\n",
       "</style>\n",
       "<table border=\"1\" class=\"dataframe\">\n",
       "  <thead>\n",
       "    <tr style=\"text-align: right;\">\n",
       "      <th></th>\n",
       "      <th>index</th>\n",
       "      <th>true</th>\n",
       "      <th>score_logreg</th>\n",
       "      <th>score_svm</th>\n",
       "      <th>score_knn</th>\n",
       "      <th>score_tree</th>\n",
       "      <th>ROUND(score_svm, 0)</th>\n",
       "    </tr>\n",
       "  </thead>\n",
       "  <tbody>\n",
       "    <tr>\n",
       "      <th>0</th>\n",
       "      <td>0</td>\n",
       "      <td>0</td>\n",
       "      <td>0.683832</td>\n",
       "      <td>0.145976</td>\n",
       "      <td>0.787063</td>\n",
       "      <td>0.500000</td>\n",
       "      <td>0.0</td>\n",
       "    </tr>\n",
       "    <tr>\n",
       "      <th>1</th>\n",
       "      <td>1</td>\n",
       "      <td>1</td>\n",
       "      <td>0.801966</td>\n",
       "      <td>0.239511</td>\n",
       "      <td>1.000000</td>\n",
       "      <td>0.833333</td>\n",
       "      <td>0.0</td>\n",
       "    </tr>\n",
       "    <tr>\n",
       "      <th>2</th>\n",
       "      <td>2</td>\n",
       "      <td>0</td>\n",
       "      <td>0.382315</td>\n",
       "      <td>-0.245701</td>\n",
       "      <td>0.000000</td>\n",
       "      <td>0.000000</td>\n",
       "      <td>0.0</td>\n",
       "    </tr>\n",
       "    <tr>\n",
       "      <th>3</th>\n",
       "      <td>3</td>\n",
       "      <td>1</td>\n",
       "      <td>0.506797</td>\n",
       "      <td>-0.137058</td>\n",
       "      <td>0.000000</td>\n",
       "      <td>0.105263</td>\n",
       "      <td>0.0</td>\n",
       "    </tr>\n",
       "    <tr>\n",
       "      <th>4</th>\n",
       "      <td>4</td>\n",
       "      <td>1</td>\n",
       "      <td>0.488781</td>\n",
       "      <td>-0.154148</td>\n",
       "      <td>0.000000</td>\n",
       "      <td>0.105263</td>\n",
       "      <td>0.0</td>\n",
       "    </tr>\n",
       "    <tr>\n",
       "      <th>5</th>\n",
       "      <td>5</td>\n",
       "      <td>0</td>\n",
       "      <td>0.108506</td>\n",
       "      <td>-0.790864</td>\n",
       "      <td>0.000000</td>\n",
       "      <td>0.000000</td>\n",
       "      <td>-1.0</td>\n",
       "    </tr>\n",
       "    <tr>\n",
       "      <th>6</th>\n",
       "      <td>6</td>\n",
       "      <td>0</td>\n",
       "      <td>0.413749</td>\n",
       "      <td>-0.185143</td>\n",
       "      <td>0.283053</td>\n",
       "      <td>0.363636</td>\n",
       "      <td>0.0</td>\n",
       "    </tr>\n",
       "    <tr>\n",
       "      <th>7</th>\n",
       "      <td>7</td>\n",
       "      <td>0</td>\n",
       "      <td>0.961081</td>\n",
       "      <td>0.830973</td>\n",
       "      <td>1.000000</td>\n",
       "      <td>1.000000</td>\n",
       "      <td>1.0</td>\n",
       "    </tr>\n",
       "    <tr>\n",
       "      <th>8</th>\n",
       "      <td>8</td>\n",
       "      <td>0</td>\n",
       "      <td>0.055733</td>\n",
       "      <td>-0.872805</td>\n",
       "      <td>0.000000</td>\n",
       "      <td>0.100000</td>\n",
       "      <td>-1.0</td>\n",
       "    </tr>\n",
       "    <tr>\n",
       "      <th>9</th>\n",
       "      <td>9</td>\n",
       "      <td>0</td>\n",
       "      <td>0.168708</td>\n",
       "      <td>-0.518390</td>\n",
       "      <td>0.000000</td>\n",
       "      <td>0.100000</td>\n",
       "      <td>-1.0</td>\n",
       "    </tr>\n",
       "  </tbody>\n",
       "</table>\n",
       "</div>"
      ],
      "text/plain": [
       "   index  true  score_logreg  score_svm  score_knn  score_tree  \\\n",
       "0      0     0      0.683832   0.145976   0.787063    0.500000   \n",
       "1      1     1      0.801966   0.239511   1.000000    0.833333   \n",
       "2      2     0      0.382315  -0.245701   0.000000    0.000000   \n",
       "3      3     1      0.506797  -0.137058   0.000000    0.105263   \n",
       "4      4     1      0.488781  -0.154148   0.000000    0.105263   \n",
       "5      5     0      0.108506  -0.790864   0.000000    0.000000   \n",
       "6      6     0      0.413749  -0.185143   0.283053    0.363636   \n",
       "7      7     0      0.961081   0.830973   1.000000    1.000000   \n",
       "8      8     0      0.055733  -0.872805   0.000000    0.100000   \n",
       "9      9     0      0.168708  -0.518390   0.000000    0.100000   \n",
       "\n",
       "   ROUND(score_svm, 0)  \n",
       "0                  0.0  \n",
       "1                  0.0  \n",
       "2                  0.0  \n",
       "3                  0.0  \n",
       "4                  0.0  \n",
       "5                 -1.0  \n",
       "6                  0.0  \n",
       "7                  1.0  \n",
       "8                 -1.0  \n",
       "9                 -1.0  "
      ]
     },
     "execution_count": 234,
     "metadata": {},
     "output_type": "execute_result"
    }
   ],
   "source": [
    "ROUND(df, 'score_svm')"
   ]
  },
  {
   "cell_type": "code",
   "execution_count": 235,
   "id": "bcb23af5",
   "metadata": {
    "scrolled": false
   },
   "outputs": [
    {
     "data": {
      "text/html": [
       "<div>\n",
       "<style scoped>\n",
       "    .dataframe tbody tr th:only-of-type {\n",
       "        vertical-align: middle;\n",
       "    }\n",
       "\n",
       "    .dataframe tbody tr th {\n",
       "        vertical-align: top;\n",
       "    }\n",
       "\n",
       "    .dataframe thead th {\n",
       "        text-align: right;\n",
       "    }\n",
       "</style>\n",
       "<table border=\"1\" class=\"dataframe\">\n",
       "  <thead>\n",
       "    <tr style=\"text-align: right;\">\n",
       "      <th></th>\n",
       "      <th>index</th>\n",
       "      <th>true</th>\n",
       "      <th>score_logreg</th>\n",
       "      <th>score_svm</th>\n",
       "      <th>score_knn</th>\n",
       "      <th>score_tree</th>\n",
       "      <th>ROUND(score_svm, true)</th>\n",
       "    </tr>\n",
       "  </thead>\n",
       "  <tbody>\n",
       "    <tr>\n",
       "      <th>0</th>\n",
       "      <td>0</td>\n",
       "      <td>0</td>\n",
       "      <td>0.683832</td>\n",
       "      <td>0.145976</td>\n",
       "      <td>0.787063</td>\n",
       "      <td>0.500000</td>\n",
       "      <td>0.0</td>\n",
       "    </tr>\n",
       "    <tr>\n",
       "      <th>1</th>\n",
       "      <td>1</td>\n",
       "      <td>1</td>\n",
       "      <td>0.801966</td>\n",
       "      <td>0.239511</td>\n",
       "      <td>1.000000</td>\n",
       "      <td>0.833333</td>\n",
       "      <td>0.2</td>\n",
       "    </tr>\n",
       "    <tr>\n",
       "      <th>2</th>\n",
       "      <td>2</td>\n",
       "      <td>0</td>\n",
       "      <td>0.382315</td>\n",
       "      <td>-0.245701</td>\n",
       "      <td>0.000000</td>\n",
       "      <td>0.000000</td>\n",
       "      <td>0.0</td>\n",
       "    </tr>\n",
       "    <tr>\n",
       "      <th>3</th>\n",
       "      <td>3</td>\n",
       "      <td>1</td>\n",
       "      <td>0.506797</td>\n",
       "      <td>-0.137058</td>\n",
       "      <td>0.000000</td>\n",
       "      <td>0.105263</td>\n",
       "      <td>-0.1</td>\n",
       "    </tr>\n",
       "    <tr>\n",
       "      <th>4</th>\n",
       "      <td>4</td>\n",
       "      <td>1</td>\n",
       "      <td>0.488781</td>\n",
       "      <td>-0.154148</td>\n",
       "      <td>0.000000</td>\n",
       "      <td>0.105263</td>\n",
       "      <td>-0.2</td>\n",
       "    </tr>\n",
       "    <tr>\n",
       "      <th>5</th>\n",
       "      <td>5</td>\n",
       "      <td>0</td>\n",
       "      <td>0.108506</td>\n",
       "      <td>-0.790864</td>\n",
       "      <td>0.000000</td>\n",
       "      <td>0.000000</td>\n",
       "      <td>-1.0</td>\n",
       "    </tr>\n",
       "    <tr>\n",
       "      <th>6</th>\n",
       "      <td>6</td>\n",
       "      <td>0</td>\n",
       "      <td>0.413749</td>\n",
       "      <td>-0.185143</td>\n",
       "      <td>0.283053</td>\n",
       "      <td>0.363636</td>\n",
       "      <td>0.0</td>\n",
       "    </tr>\n",
       "    <tr>\n",
       "      <th>7</th>\n",
       "      <td>7</td>\n",
       "      <td>0</td>\n",
       "      <td>0.961081</td>\n",
       "      <td>0.830973</td>\n",
       "      <td>1.000000</td>\n",
       "      <td>1.000000</td>\n",
       "      <td>1.0</td>\n",
       "    </tr>\n",
       "    <tr>\n",
       "      <th>8</th>\n",
       "      <td>8</td>\n",
       "      <td>0</td>\n",
       "      <td>0.055733</td>\n",
       "      <td>-0.872805</td>\n",
       "      <td>0.000000</td>\n",
       "      <td>0.100000</td>\n",
       "      <td>-1.0</td>\n",
       "    </tr>\n",
       "    <tr>\n",
       "      <th>9</th>\n",
       "      <td>9</td>\n",
       "      <td>0</td>\n",
       "      <td>0.168708</td>\n",
       "      <td>-0.518390</td>\n",
       "      <td>0.000000</td>\n",
       "      <td>0.100000</td>\n",
       "      <td>-1.0</td>\n",
       "    </tr>\n",
       "  </tbody>\n",
       "</table>\n",
       "</div>"
      ],
      "text/plain": [
       "   index  true  score_logreg  score_svm  score_knn  score_tree  \\\n",
       "0      0     0      0.683832   0.145976   0.787063    0.500000   \n",
       "1      1     1      0.801966   0.239511   1.000000    0.833333   \n",
       "2      2     0      0.382315  -0.245701   0.000000    0.000000   \n",
       "3      3     1      0.506797  -0.137058   0.000000    0.105263   \n",
       "4      4     1      0.488781  -0.154148   0.000000    0.105263   \n",
       "5      5     0      0.108506  -0.790864   0.000000    0.000000   \n",
       "6      6     0      0.413749  -0.185143   0.283053    0.363636   \n",
       "7      7     0      0.961081   0.830973   1.000000    1.000000   \n",
       "8      8     0      0.055733  -0.872805   0.000000    0.100000   \n",
       "9      9     0      0.168708  -0.518390   0.000000    0.100000   \n",
       "\n",
       "   ROUND(score_svm, true)  \n",
       "0                     0.0  \n",
       "1                     0.2  \n",
       "2                     0.0  \n",
       "3                    -0.1  \n",
       "4                    -0.2  \n",
       "5                    -1.0  \n",
       "6                     0.0  \n",
       "7                     1.0  \n",
       "8                    -1.0  \n",
       "9                    -1.0  "
      ]
     },
     "execution_count": 235,
     "metadata": {},
     "output_type": "execute_result"
    }
   ],
   "source": [
    "ROUND(df, 'score_svm', 'true')"
   ]
  },
  {
   "cell_type": "code",
   "execution_count": 236,
   "id": "971d0b5d",
   "metadata": {
    "scrolled": true
   },
   "outputs": [
    {
     "data": {
      "text/plain": [
       "-0.1"
      ]
     },
     "execution_count": 236,
     "metadata": {},
     "output_type": "execute_result"
    }
   ],
   "source": [
    "ROUND(df.iloc[3]['score_svm'], df.iloc[3]['true'])"
   ]
  },
  {
   "cell_type": "code",
   "execution_count": 237,
   "id": "cfd616c5",
   "metadata": {
    "scrolled": true
   },
   "outputs": [
    {
     "data": {
      "text/plain": [
       "-1.0"
      ]
     },
     "execution_count": 237,
     "metadata": {},
     "output_type": "execute_result"
    }
   ],
   "source": [
    "ROUND(df.iloc[9]['score_svm'], df.iloc[9]['true'])"
   ]
  },
  {
   "cell_type": "code",
   "execution_count": 238,
   "id": "12181c44",
   "metadata": {
    "scrolled": false
   },
   "outputs": [
    {
     "data": {
      "text/plain": [
       "4.549"
      ]
     },
     "execution_count": 238,
     "metadata": {},
     "output_type": "execute_result"
    }
   ],
   "source": [
    "ROUND(4.5485, 3)"
   ]
  },
  {
   "cell_type": "code",
   "execution_count": 239,
   "id": "6808c13d",
   "metadata": {
    "scrolled": false
   },
   "outputs": [
    {
     "data": {
      "text/plain": [
       "8.0"
      ]
     },
     "execution_count": 239,
     "metadata": {},
     "output_type": "execute_result"
    }
   ],
   "source": [
    "ROUND(7.8)"
   ]
  },
  {
   "cell_type": "code",
   "execution_count": 240,
   "id": "1632d2b8",
   "metadata": {},
   "outputs": [
    {
     "data": {
      "text/plain": [
       "-67.9"
      ]
     },
     "execution_count": 240,
     "metadata": {},
     "output_type": "execute_result"
    }
   ],
   "source": [
    "ROUND(-67.85, 1)"
   ]
  },
  {
   "cell_type": "code",
   "execution_count": 241,
   "id": "0370b38c",
   "metadata": {},
   "outputs": [
    {
     "data": {
      "text/plain": [
       "1.0"
      ]
     },
     "execution_count": 241,
     "metadata": {},
     "output_type": "execute_result"
    }
   ],
   "source": [
    "ROUND(0.5)"
   ]
  },
  {
   "cell_type": "code",
   "execution_count": 242,
   "id": "2c623575",
   "metadata": {},
   "outputs": [
    {
     "data": {
      "text/plain": [
       "-7.98"
      ]
     },
     "execution_count": 242,
     "metadata": {},
     "output_type": "execute_result"
    }
   ],
   "source": [
    "ROUND(-7.975, 2)"
   ]
  },
  {
   "cell_type": "markdown",
   "id": "7247888d",
   "metadata": {},
   "source": [
    "## 24. SIGN\n",
    "\n",
    "**Описание:** \n",
    "\n",
    "Возвращает знак числа: -1 - если число отрицательное, 1 - если число положительное, 0 - ноль.\n",
    "    \n",
    "**Входные и выходные данные:**\n",
    "\n",
    "На входе - число.\n",
    "\n",
    "На выходе - число (знак входного числа).\n",
    "\n",
    "### Реализация:"
   ]
  },
  {
   "cell_type": "code",
   "execution_count": 243,
   "id": "d8519f46",
   "metadata": {},
   "outputs": [],
   "source": [
    "def SIGN(df, col = None): \n",
    "    if col == None:       \n",
    "        import numpy\n",
    "        return numpy.sign(df)\n",
    "    from sqlite3 import connect\n",
    "    import pandas as pd\n",
    "    conn = connect(':memory:')\n",
    "    df.to_sql('data', conn)\n",
    "    return pd.read_sql(f'SELECT *, SIGN({col}) FROM data', conn)"
   ]
  },
  {
   "cell_type": "code",
   "execution_count": 244,
   "id": "ff36df8c",
   "metadata": {},
   "outputs": [],
   "source": [
    "def sign(x):\n",
    "    import numpy\n",
    "    return numpy.sign(x)"
   ]
  },
  {
   "cell_type": "markdown",
   "id": "499a453f",
   "metadata": {},
   "source": [
    "### Тестирование:"
   ]
  },
  {
   "cell_type": "code",
   "execution_count": 245,
   "id": "4533960a",
   "metadata": {
    "scrolled": true
   },
   "outputs": [
    {
     "data": {
      "text/html": [
       "<div>\n",
       "<style scoped>\n",
       "    .dataframe tbody tr th:only-of-type {\n",
       "        vertical-align: middle;\n",
       "    }\n",
       "\n",
       "    .dataframe tbody tr th {\n",
       "        vertical-align: top;\n",
       "    }\n",
       "\n",
       "    .dataframe thead th {\n",
       "        text-align: right;\n",
       "    }\n",
       "</style>\n",
       "<table border=\"1\" class=\"dataframe\">\n",
       "  <thead>\n",
       "    <tr style=\"text-align: right;\">\n",
       "      <th></th>\n",
       "      <th>index</th>\n",
       "      <th>true</th>\n",
       "      <th>score_logreg</th>\n",
       "      <th>score_svm</th>\n",
       "      <th>score_knn</th>\n",
       "      <th>score_tree</th>\n",
       "      <th>SIGN(score_svm)</th>\n",
       "    </tr>\n",
       "  </thead>\n",
       "  <tbody>\n",
       "    <tr>\n",
       "      <th>0</th>\n",
       "      <td>0</td>\n",
       "      <td>0</td>\n",
       "      <td>0.683832</td>\n",
       "      <td>0.145976</td>\n",
       "      <td>0.787063</td>\n",
       "      <td>0.500000</td>\n",
       "      <td>1</td>\n",
       "    </tr>\n",
       "    <tr>\n",
       "      <th>1</th>\n",
       "      <td>1</td>\n",
       "      <td>1</td>\n",
       "      <td>0.801966</td>\n",
       "      <td>0.239511</td>\n",
       "      <td>1.000000</td>\n",
       "      <td>0.833333</td>\n",
       "      <td>1</td>\n",
       "    </tr>\n",
       "    <tr>\n",
       "      <th>2</th>\n",
       "      <td>2</td>\n",
       "      <td>0</td>\n",
       "      <td>0.382315</td>\n",
       "      <td>-0.245701</td>\n",
       "      <td>0.000000</td>\n",
       "      <td>0.000000</td>\n",
       "      <td>-1</td>\n",
       "    </tr>\n",
       "    <tr>\n",
       "      <th>3</th>\n",
       "      <td>3</td>\n",
       "      <td>1</td>\n",
       "      <td>0.506797</td>\n",
       "      <td>-0.137058</td>\n",
       "      <td>0.000000</td>\n",
       "      <td>0.105263</td>\n",
       "      <td>-1</td>\n",
       "    </tr>\n",
       "    <tr>\n",
       "      <th>4</th>\n",
       "      <td>4</td>\n",
       "      <td>1</td>\n",
       "      <td>0.488781</td>\n",
       "      <td>-0.154148</td>\n",
       "      <td>0.000000</td>\n",
       "      <td>0.105263</td>\n",
       "      <td>-1</td>\n",
       "    </tr>\n",
       "    <tr>\n",
       "      <th>5</th>\n",
       "      <td>5</td>\n",
       "      <td>0</td>\n",
       "      <td>0.108506</td>\n",
       "      <td>-0.790864</td>\n",
       "      <td>0.000000</td>\n",
       "      <td>0.000000</td>\n",
       "      <td>-1</td>\n",
       "    </tr>\n",
       "    <tr>\n",
       "      <th>6</th>\n",
       "      <td>6</td>\n",
       "      <td>0</td>\n",
       "      <td>0.413749</td>\n",
       "      <td>-0.185143</td>\n",
       "      <td>0.283053</td>\n",
       "      <td>0.363636</td>\n",
       "      <td>-1</td>\n",
       "    </tr>\n",
       "    <tr>\n",
       "      <th>7</th>\n",
       "      <td>7</td>\n",
       "      <td>0</td>\n",
       "      <td>0.961081</td>\n",
       "      <td>0.830973</td>\n",
       "      <td>1.000000</td>\n",
       "      <td>1.000000</td>\n",
       "      <td>1</td>\n",
       "    </tr>\n",
       "    <tr>\n",
       "      <th>8</th>\n",
       "      <td>8</td>\n",
       "      <td>0</td>\n",
       "      <td>0.055733</td>\n",
       "      <td>-0.872805</td>\n",
       "      <td>0.000000</td>\n",
       "      <td>0.100000</td>\n",
       "      <td>-1</td>\n",
       "    </tr>\n",
       "    <tr>\n",
       "      <th>9</th>\n",
       "      <td>9</td>\n",
       "      <td>0</td>\n",
       "      <td>0.168708</td>\n",
       "      <td>-0.518390</td>\n",
       "      <td>0.000000</td>\n",
       "      <td>0.100000</td>\n",
       "      <td>-1</td>\n",
       "    </tr>\n",
       "  </tbody>\n",
       "</table>\n",
       "</div>"
      ],
      "text/plain": [
       "   index  true  score_logreg  score_svm  score_knn  score_tree  \\\n",
       "0      0     0      0.683832   0.145976   0.787063    0.500000   \n",
       "1      1     1      0.801966   0.239511   1.000000    0.833333   \n",
       "2      2     0      0.382315  -0.245701   0.000000    0.000000   \n",
       "3      3     1      0.506797  -0.137058   0.000000    0.105263   \n",
       "4      4     1      0.488781  -0.154148   0.000000    0.105263   \n",
       "5      5     0      0.108506  -0.790864   0.000000    0.000000   \n",
       "6      6     0      0.413749  -0.185143   0.283053    0.363636   \n",
       "7      7     0      0.961081   0.830973   1.000000    1.000000   \n",
       "8      8     0      0.055733  -0.872805   0.000000    0.100000   \n",
       "9      9     0      0.168708  -0.518390   0.000000    0.100000   \n",
       "\n",
       "   SIGN(score_svm)  \n",
       "0                1  \n",
       "1                1  \n",
       "2               -1  \n",
       "3               -1  \n",
       "4               -1  \n",
       "5               -1  \n",
       "6               -1  \n",
       "7                1  \n",
       "8               -1  \n",
       "9               -1  "
      ]
     },
     "execution_count": 245,
     "metadata": {},
     "output_type": "execute_result"
    }
   ],
   "source": [
    "SIGN(df, 'score_svm')"
   ]
  },
  {
   "cell_type": "code",
   "execution_count": 246,
   "id": "c2e0c17a",
   "metadata": {},
   "outputs": [
    {
     "data": {
      "text/plain": [
       "-1.0"
      ]
     },
     "execution_count": 246,
     "metadata": {},
     "output_type": "execute_result"
    }
   ],
   "source": [
    "SIGN(df.iloc[2]['score_svm'])"
   ]
  },
  {
   "cell_type": "code",
   "execution_count": 247,
   "id": "01c300ec",
   "metadata": {},
   "outputs": [
    {
     "data": {
      "text/plain": [
       "1.0"
      ]
     },
     "execution_count": 247,
     "metadata": {},
     "output_type": "execute_result"
    }
   ],
   "source": [
    "SIGN(df.iloc[0]['score_svm'])"
   ]
  },
  {
   "cell_type": "code",
   "execution_count": 248,
   "id": "39e933c0",
   "metadata": {
    "scrolled": true
   },
   "outputs": [
    {
     "data": {
      "text/html": [
       "<div>\n",
       "<style scoped>\n",
       "    .dataframe tbody tr th:only-of-type {\n",
       "        vertical-align: middle;\n",
       "    }\n",
       "\n",
       "    .dataframe tbody tr th {\n",
       "        vertical-align: top;\n",
       "    }\n",
       "\n",
       "    .dataframe thead th {\n",
       "        text-align: right;\n",
       "    }\n",
       "</style>\n",
       "<table border=\"1\" class=\"dataframe\">\n",
       "  <thead>\n",
       "    <tr style=\"text-align: right;\">\n",
       "      <th></th>\n",
       "      <th>index</th>\n",
       "      <th>true</th>\n",
       "      <th>score_logreg</th>\n",
       "      <th>score_svm</th>\n",
       "      <th>score_knn</th>\n",
       "      <th>score_tree</th>\n",
       "      <th>SIGN(score_knn)</th>\n",
       "    </tr>\n",
       "  </thead>\n",
       "  <tbody>\n",
       "    <tr>\n",
       "      <th>0</th>\n",
       "      <td>0</td>\n",
       "      <td>0</td>\n",
       "      <td>0.683832</td>\n",
       "      <td>0.145976</td>\n",
       "      <td>0.787063</td>\n",
       "      <td>0.500000</td>\n",
       "      <td>1</td>\n",
       "    </tr>\n",
       "    <tr>\n",
       "      <th>1</th>\n",
       "      <td>1</td>\n",
       "      <td>1</td>\n",
       "      <td>0.801966</td>\n",
       "      <td>0.239511</td>\n",
       "      <td>1.000000</td>\n",
       "      <td>0.833333</td>\n",
       "      <td>1</td>\n",
       "    </tr>\n",
       "    <tr>\n",
       "      <th>2</th>\n",
       "      <td>2</td>\n",
       "      <td>0</td>\n",
       "      <td>0.382315</td>\n",
       "      <td>-0.245701</td>\n",
       "      <td>0.000000</td>\n",
       "      <td>0.000000</td>\n",
       "      <td>0</td>\n",
       "    </tr>\n",
       "    <tr>\n",
       "      <th>3</th>\n",
       "      <td>3</td>\n",
       "      <td>1</td>\n",
       "      <td>0.506797</td>\n",
       "      <td>-0.137058</td>\n",
       "      <td>0.000000</td>\n",
       "      <td>0.105263</td>\n",
       "      <td>0</td>\n",
       "    </tr>\n",
       "    <tr>\n",
       "      <th>4</th>\n",
       "      <td>4</td>\n",
       "      <td>1</td>\n",
       "      <td>0.488781</td>\n",
       "      <td>-0.154148</td>\n",
       "      <td>0.000000</td>\n",
       "      <td>0.105263</td>\n",
       "      <td>0</td>\n",
       "    </tr>\n",
       "    <tr>\n",
       "      <th>5</th>\n",
       "      <td>5</td>\n",
       "      <td>0</td>\n",
       "      <td>0.108506</td>\n",
       "      <td>-0.790864</td>\n",
       "      <td>0.000000</td>\n",
       "      <td>0.000000</td>\n",
       "      <td>0</td>\n",
       "    </tr>\n",
       "    <tr>\n",
       "      <th>6</th>\n",
       "      <td>6</td>\n",
       "      <td>0</td>\n",
       "      <td>0.413749</td>\n",
       "      <td>-0.185143</td>\n",
       "      <td>0.283053</td>\n",
       "      <td>0.363636</td>\n",
       "      <td>1</td>\n",
       "    </tr>\n",
       "    <tr>\n",
       "      <th>7</th>\n",
       "      <td>7</td>\n",
       "      <td>0</td>\n",
       "      <td>0.961081</td>\n",
       "      <td>0.830973</td>\n",
       "      <td>1.000000</td>\n",
       "      <td>1.000000</td>\n",
       "      <td>1</td>\n",
       "    </tr>\n",
       "    <tr>\n",
       "      <th>8</th>\n",
       "      <td>8</td>\n",
       "      <td>0</td>\n",
       "      <td>0.055733</td>\n",
       "      <td>-0.872805</td>\n",
       "      <td>0.000000</td>\n",
       "      <td>0.100000</td>\n",
       "      <td>0</td>\n",
       "    </tr>\n",
       "    <tr>\n",
       "      <th>9</th>\n",
       "      <td>9</td>\n",
       "      <td>0</td>\n",
       "      <td>0.168708</td>\n",
       "      <td>-0.518390</td>\n",
       "      <td>0.000000</td>\n",
       "      <td>0.100000</td>\n",
       "      <td>0</td>\n",
       "    </tr>\n",
       "  </tbody>\n",
       "</table>\n",
       "</div>"
      ],
      "text/plain": [
       "   index  true  score_logreg  score_svm  score_knn  score_tree  \\\n",
       "0      0     0      0.683832   0.145976   0.787063    0.500000   \n",
       "1      1     1      0.801966   0.239511   1.000000    0.833333   \n",
       "2      2     0      0.382315  -0.245701   0.000000    0.000000   \n",
       "3      3     1      0.506797  -0.137058   0.000000    0.105263   \n",
       "4      4     1      0.488781  -0.154148   0.000000    0.105263   \n",
       "5      5     0      0.108506  -0.790864   0.000000    0.000000   \n",
       "6      6     0      0.413749  -0.185143   0.283053    0.363636   \n",
       "7      7     0      0.961081   0.830973   1.000000    1.000000   \n",
       "8      8     0      0.055733  -0.872805   0.000000    0.100000   \n",
       "9      9     0      0.168708  -0.518390   0.000000    0.100000   \n",
       "\n",
       "   SIGN(score_knn)  \n",
       "0                1  \n",
       "1                1  \n",
       "2                0  \n",
       "3                0  \n",
       "4                0  \n",
       "5                0  \n",
       "6                1  \n",
       "7                1  \n",
       "8                0  \n",
       "9                0  "
      ]
     },
     "execution_count": 248,
     "metadata": {},
     "output_type": "execute_result"
    }
   ],
   "source": [
    "SIGN(df, 'score_knn')"
   ]
  },
  {
   "cell_type": "code",
   "execution_count": 249,
   "id": "7cf95948",
   "metadata": {},
   "outputs": [
    {
     "data": {
      "text/plain": [
       "0.0"
      ]
     },
     "execution_count": 249,
     "metadata": {},
     "output_type": "execute_result"
    }
   ],
   "source": [
    "SIGN(df.iloc[2]['score_knn'])"
   ]
  },
  {
   "cell_type": "code",
   "execution_count": 250,
   "id": "adb2477a",
   "metadata": {},
   "outputs": [
    {
     "data": {
      "text/plain": [
       "1.0"
      ]
     },
     "execution_count": 250,
     "metadata": {},
     "output_type": "execute_result"
    }
   ],
   "source": [
    "SIGN(df.iloc[6]['score_knn'])"
   ]
  },
  {
   "cell_type": "code",
   "execution_count": 251,
   "id": "11762849",
   "metadata": {},
   "outputs": [
    {
     "data": {
      "text/plain": [
       "-1"
      ]
     },
     "execution_count": 251,
     "metadata": {},
     "output_type": "execute_result"
    }
   ],
   "source": [
    "SIGN(-34)"
   ]
  },
  {
   "cell_type": "code",
   "execution_count": 252,
   "id": "80d22a5b",
   "metadata": {},
   "outputs": [
    {
     "data": {
      "text/plain": [
       "1"
      ]
     },
     "execution_count": 252,
     "metadata": {},
     "output_type": "execute_result"
    }
   ],
   "source": [
    "SIGN(4)"
   ]
  },
  {
   "cell_type": "code",
   "execution_count": 253,
   "id": "66c65fa6",
   "metadata": {},
   "outputs": [
    {
     "data": {
      "text/plain": [
       "0"
      ]
     },
     "execution_count": 253,
     "metadata": {},
     "output_type": "execute_result"
    }
   ],
   "source": [
    "SIGN(0)"
   ]
  },
  {
   "cell_type": "markdown",
   "id": "f8678393",
   "metadata": {},
   "source": [
    "## 25. SIN\n",
    "\n",
    "**Описание:** \n",
    "\n",
    "Возвращает синус угла. Угол указывается в радианах.\n",
    "    \n",
    "**Входные и выходные данные:**\n",
    "\n",
    "На входе - число (угол указывается в радианах).\n",
    "\n",
    "На выходе - число (синус входного угла).\n",
    "\n",
    "### Реализация:"
   ]
  },
  {
   "cell_type": "code",
   "execution_count": 254,
   "id": "bd25a085",
   "metadata": {},
   "outputs": [],
   "source": [
    "def SIN(df, col = None):\n",
    "    if col == None:\n",
    "        import math\n",
    "        return math.sin(df)\n",
    "    from sqlite3 import connect\n",
    "    import pandas as pd\n",
    "    conn = connect(':memory:')\n",
    "    df.to_sql('data', conn)\n",
    "    return pd.read_sql(f'SELECT *, SIN({col}) FROM data', conn)"
   ]
  },
  {
   "cell_type": "markdown",
   "id": "fdad6809",
   "metadata": {},
   "source": [
    "### Тестирование:"
   ]
  },
  {
   "cell_type": "code",
   "execution_count": 255,
   "id": "90ca3f28",
   "metadata": {
    "scrolled": true
   },
   "outputs": [
    {
     "data": {
      "text/html": [
       "<div>\n",
       "<style scoped>\n",
       "    .dataframe tbody tr th:only-of-type {\n",
       "        vertical-align: middle;\n",
       "    }\n",
       "\n",
       "    .dataframe tbody tr th {\n",
       "        vertical-align: top;\n",
       "    }\n",
       "\n",
       "    .dataframe thead th {\n",
       "        text-align: right;\n",
       "    }\n",
       "</style>\n",
       "<table border=\"1\" class=\"dataframe\">\n",
       "  <thead>\n",
       "    <tr style=\"text-align: right;\">\n",
       "      <th></th>\n",
       "      <th>index</th>\n",
       "      <th>true</th>\n",
       "      <th>score_logreg</th>\n",
       "      <th>score_svm</th>\n",
       "      <th>score_knn</th>\n",
       "      <th>score_tree</th>\n",
       "      <th>SIN(score_logreg)</th>\n",
       "    </tr>\n",
       "  </thead>\n",
       "  <tbody>\n",
       "    <tr>\n",
       "      <th>0</th>\n",
       "      <td>0</td>\n",
       "      <td>0</td>\n",
       "      <td>0.683832</td>\n",
       "      <td>0.145976</td>\n",
       "      <td>0.787063</td>\n",
       "      <td>0.500000</td>\n",
       "      <td>0.631768</td>\n",
       "    </tr>\n",
       "    <tr>\n",
       "      <th>1</th>\n",
       "      <td>1</td>\n",
       "      <td>1</td>\n",
       "      <td>0.801966</td>\n",
       "      <td>0.239511</td>\n",
       "      <td>1.000000</td>\n",
       "      <td>0.833333</td>\n",
       "      <td>0.718725</td>\n",
       "    </tr>\n",
       "    <tr>\n",
       "      <th>2</th>\n",
       "      <td>2</td>\n",
       "      <td>0</td>\n",
       "      <td>0.382315</td>\n",
       "      <td>-0.245701</td>\n",
       "      <td>0.000000</td>\n",
       "      <td>0.000000</td>\n",
       "      <td>0.373070</td>\n",
       "    </tr>\n",
       "    <tr>\n",
       "      <th>3</th>\n",
       "      <td>3</td>\n",
       "      <td>1</td>\n",
       "      <td>0.506797</td>\n",
       "      <td>-0.137058</td>\n",
       "      <td>0.000000</td>\n",
       "      <td>0.105263</td>\n",
       "      <td>0.485379</td>\n",
       "    </tr>\n",
       "    <tr>\n",
       "      <th>4</th>\n",
       "      <td>4</td>\n",
       "      <td>1</td>\n",
       "      <td>0.488781</td>\n",
       "      <td>-0.154148</td>\n",
       "      <td>0.000000</td>\n",
       "      <td>0.105263</td>\n",
       "      <td>0.469550</td>\n",
       "    </tr>\n",
       "    <tr>\n",
       "      <th>5</th>\n",
       "      <td>5</td>\n",
       "      <td>0</td>\n",
       "      <td>0.108506</td>\n",
       "      <td>-0.790864</td>\n",
       "      <td>0.000000</td>\n",
       "      <td>0.000000</td>\n",
       "      <td>0.108293</td>\n",
       "    </tr>\n",
       "    <tr>\n",
       "      <th>6</th>\n",
       "      <td>6</td>\n",
       "      <td>0</td>\n",
       "      <td>0.413749</td>\n",
       "      <td>-0.185143</td>\n",
       "      <td>0.283053</td>\n",
       "      <td>0.363636</td>\n",
       "      <td>0.402045</td>\n",
       "    </tr>\n",
       "    <tr>\n",
       "      <th>7</th>\n",
       "      <td>7</td>\n",
       "      <td>0</td>\n",
       "      <td>0.961081</td>\n",
       "      <td>0.830973</td>\n",
       "      <td>1.000000</td>\n",
       "      <td>1.000000</td>\n",
       "      <td>0.819811</td>\n",
       "    </tr>\n",
       "    <tr>\n",
       "      <th>8</th>\n",
       "      <td>8</td>\n",
       "      <td>0</td>\n",
       "      <td>0.055733</td>\n",
       "      <td>-0.872805</td>\n",
       "      <td>0.000000</td>\n",
       "      <td>0.100000</td>\n",
       "      <td>0.055704</td>\n",
       "    </tr>\n",
       "    <tr>\n",
       "      <th>9</th>\n",
       "      <td>9</td>\n",
       "      <td>0</td>\n",
       "      <td>0.168708</td>\n",
       "      <td>-0.518390</td>\n",
       "      <td>0.000000</td>\n",
       "      <td>0.100000</td>\n",
       "      <td>0.167909</td>\n",
       "    </tr>\n",
       "  </tbody>\n",
       "</table>\n",
       "</div>"
      ],
      "text/plain": [
       "   index  true  score_logreg  score_svm  score_knn  score_tree  \\\n",
       "0      0     0      0.683832   0.145976   0.787063    0.500000   \n",
       "1      1     1      0.801966   0.239511   1.000000    0.833333   \n",
       "2      2     0      0.382315  -0.245701   0.000000    0.000000   \n",
       "3      3     1      0.506797  -0.137058   0.000000    0.105263   \n",
       "4      4     1      0.488781  -0.154148   0.000000    0.105263   \n",
       "5      5     0      0.108506  -0.790864   0.000000    0.000000   \n",
       "6      6     0      0.413749  -0.185143   0.283053    0.363636   \n",
       "7      7     0      0.961081   0.830973   1.000000    1.000000   \n",
       "8      8     0      0.055733  -0.872805   0.000000    0.100000   \n",
       "9      9     0      0.168708  -0.518390   0.000000    0.100000   \n",
       "\n",
       "   SIN(score_logreg)  \n",
       "0           0.631768  \n",
       "1           0.718725  \n",
       "2           0.373070  \n",
       "3           0.485379  \n",
       "4           0.469550  \n",
       "5           0.108293  \n",
       "6           0.402045  \n",
       "7           0.819811  \n",
       "8           0.055704  \n",
       "9           0.167909  "
      ]
     },
     "execution_count": 255,
     "metadata": {},
     "output_type": "execute_result"
    }
   ],
   "source": [
    "SIN(df, 'score_logreg')"
   ]
  },
  {
   "cell_type": "code",
   "execution_count": 256,
   "id": "b6e3fd50",
   "metadata": {},
   "outputs": [
    {
     "data": {
      "text/plain": [
       "0.6317683004454862"
      ]
     },
     "execution_count": 256,
     "metadata": {},
     "output_type": "execute_result"
    }
   ],
   "source": [
    "SIN(df.iloc[0]['score_logreg'])"
   ]
  },
  {
   "cell_type": "code",
   "execution_count": 257,
   "id": "1a936b55",
   "metadata": {},
   "outputs": [
    {
     "data": {
      "text/plain": [
       "0.8198112110328816"
      ]
     },
     "execution_count": 257,
     "metadata": {},
     "output_type": "execute_result"
    }
   ],
   "source": [
    "SIN(df.iloc[7]['score_logreg'])"
   ]
  },
  {
   "cell_type": "code",
   "execution_count": 258,
   "id": "1646b899",
   "metadata": {
    "scrolled": true
   },
   "outputs": [
    {
     "data": {
      "text/html": [
       "<div>\n",
       "<style scoped>\n",
       "    .dataframe tbody tr th:only-of-type {\n",
       "        vertical-align: middle;\n",
       "    }\n",
       "\n",
       "    .dataframe tbody tr th {\n",
       "        vertical-align: top;\n",
       "    }\n",
       "\n",
       "    .dataframe thead th {\n",
       "        text-align: right;\n",
       "    }\n",
       "</style>\n",
       "<table border=\"1\" class=\"dataframe\">\n",
       "  <thead>\n",
       "    <tr style=\"text-align: right;\">\n",
       "      <th></th>\n",
       "      <th>index</th>\n",
       "      <th>true</th>\n",
       "      <th>score_logreg</th>\n",
       "      <th>score_svm</th>\n",
       "      <th>score_knn</th>\n",
       "      <th>score_tree</th>\n",
       "      <th>SIN(score_svm)</th>\n",
       "    </tr>\n",
       "  </thead>\n",
       "  <tbody>\n",
       "    <tr>\n",
       "      <th>0</th>\n",
       "      <td>0</td>\n",
       "      <td>0</td>\n",
       "      <td>0.683832</td>\n",
       "      <td>0.145976</td>\n",
       "      <td>0.787063</td>\n",
       "      <td>0.500000</td>\n",
       "      <td>0.145458</td>\n",
       "    </tr>\n",
       "    <tr>\n",
       "      <th>1</th>\n",
       "      <td>1</td>\n",
       "      <td>1</td>\n",
       "      <td>0.801966</td>\n",
       "      <td>0.239511</td>\n",
       "      <td>1.000000</td>\n",
       "      <td>0.833333</td>\n",
       "      <td>0.237228</td>\n",
       "    </tr>\n",
       "    <tr>\n",
       "      <th>2</th>\n",
       "      <td>2</td>\n",
       "      <td>0</td>\n",
       "      <td>0.382315</td>\n",
       "      <td>-0.245701</td>\n",
       "      <td>0.000000</td>\n",
       "      <td>0.000000</td>\n",
       "      <td>-0.243236</td>\n",
       "    </tr>\n",
       "    <tr>\n",
       "      <th>3</th>\n",
       "      <td>3</td>\n",
       "      <td>1</td>\n",
       "      <td>0.506797</td>\n",
       "      <td>-0.137058</td>\n",
       "      <td>0.000000</td>\n",
       "      <td>0.105263</td>\n",
       "      <td>-0.136630</td>\n",
       "    </tr>\n",
       "    <tr>\n",
       "      <th>4</th>\n",
       "      <td>4</td>\n",
       "      <td>1</td>\n",
       "      <td>0.488781</td>\n",
       "      <td>-0.154148</td>\n",
       "      <td>0.000000</td>\n",
       "      <td>0.105263</td>\n",
       "      <td>-0.153539</td>\n",
       "    </tr>\n",
       "    <tr>\n",
       "      <th>5</th>\n",
       "      <td>5</td>\n",
       "      <td>0</td>\n",
       "      <td>0.108506</td>\n",
       "      <td>-0.790864</td>\n",
       "      <td>0.000000</td>\n",
       "      <td>0.000000</td>\n",
       "      <td>-0.710961</td>\n",
       "    </tr>\n",
       "    <tr>\n",
       "      <th>6</th>\n",
       "      <td>6</td>\n",
       "      <td>0</td>\n",
       "      <td>0.413749</td>\n",
       "      <td>-0.185143</td>\n",
       "      <td>0.283053</td>\n",
       "      <td>0.363636</td>\n",
       "      <td>-0.184087</td>\n",
       "    </tr>\n",
       "    <tr>\n",
       "      <th>7</th>\n",
       "      <td>7</td>\n",
       "      <td>0</td>\n",
       "      <td>0.961081</td>\n",
       "      <td>0.830973</td>\n",
       "      <td>1.000000</td>\n",
       "      <td>1.000000</td>\n",
       "      <td>0.738588</td>\n",
       "    </tr>\n",
       "    <tr>\n",
       "      <th>8</th>\n",
       "      <td>8</td>\n",
       "      <td>0</td>\n",
       "      <td>0.055733</td>\n",
       "      <td>-0.872805</td>\n",
       "      <td>0.000000</td>\n",
       "      <td>0.100000</td>\n",
       "      <td>-0.766135</td>\n",
       "    </tr>\n",
       "    <tr>\n",
       "      <th>9</th>\n",
       "      <td>9</td>\n",
       "      <td>0</td>\n",
       "      <td>0.168708</td>\n",
       "      <td>-0.518390</td>\n",
       "      <td>0.000000</td>\n",
       "      <td>0.100000</td>\n",
       "      <td>-0.495483</td>\n",
       "    </tr>\n",
       "  </tbody>\n",
       "</table>\n",
       "</div>"
      ],
      "text/plain": [
       "   index  true  score_logreg  score_svm  score_knn  score_tree  SIN(score_svm)\n",
       "0      0     0      0.683832   0.145976   0.787063    0.500000        0.145458\n",
       "1      1     1      0.801966   0.239511   1.000000    0.833333        0.237228\n",
       "2      2     0      0.382315  -0.245701   0.000000    0.000000       -0.243236\n",
       "3      3     1      0.506797  -0.137058   0.000000    0.105263       -0.136630\n",
       "4      4     1      0.488781  -0.154148   0.000000    0.105263       -0.153539\n",
       "5      5     0      0.108506  -0.790864   0.000000    0.000000       -0.710961\n",
       "6      6     0      0.413749  -0.185143   0.283053    0.363636       -0.184087\n",
       "7      7     0      0.961081   0.830973   1.000000    1.000000        0.738588\n",
       "8      8     0      0.055733  -0.872805   0.000000    0.100000       -0.766135\n",
       "9      9     0      0.168708  -0.518390   0.000000    0.100000       -0.495483"
      ]
     },
     "execution_count": 258,
     "metadata": {},
     "output_type": "execute_result"
    }
   ],
   "source": [
    "SIN(df, 'score_svm')"
   ]
  },
  {
   "cell_type": "code",
   "execution_count": 259,
   "id": "50b7f5f7",
   "metadata": {},
   "outputs": [
    {
     "data": {
      "text/plain": [
       "-0.24323597167554184"
      ]
     },
     "execution_count": 259,
     "metadata": {},
     "output_type": "execute_result"
    }
   ],
   "source": [
    "SIN(df.iloc[2]['score_svm'])"
   ]
  },
  {
   "cell_type": "code",
   "execution_count": 260,
   "id": "2b5401b5",
   "metadata": {},
   "outputs": [
    {
     "data": {
      "text/plain": [
       "-0.7661347678242793"
      ]
     },
     "execution_count": 260,
     "metadata": {},
     "output_type": "execute_result"
    }
   ],
   "source": [
    "SIN(df.iloc[8]['score_svm'])"
   ]
  },
  {
   "cell_type": "code",
   "execution_count": 261,
   "id": "37f24516",
   "metadata": {},
   "outputs": [
    {
     "data": {
      "text/plain": [
       "1.2246467991473532e-16"
      ]
     },
     "execution_count": 261,
     "metadata": {},
     "output_type": "execute_result"
    }
   ],
   "source": [
    "SIN(PI())"
   ]
  },
  {
   "cell_type": "code",
   "execution_count": 262,
   "id": "26a00603",
   "metadata": {},
   "outputs": [
    {
     "data": {
      "text/plain": [
       "-1.0"
      ]
     },
     "execution_count": 262,
     "metadata": {},
     "output_type": "execute_result"
    }
   ],
   "source": [
    "SIN(-PI()/2)"
   ]
  },
  {
   "cell_type": "code",
   "execution_count": 263,
   "id": "7aed779e",
   "metadata": {},
   "outputs": [
    {
     "data": {
      "text/plain": [
       "0.49999999999999994"
      ]
     },
     "execution_count": 263,
     "metadata": {},
     "output_type": "execute_result"
    }
   ],
   "source": [
    "SIN(PI()/6)"
   ]
  },
  {
   "cell_type": "code",
   "execution_count": 264,
   "id": "dc8ea3e6",
   "metadata": {},
   "outputs": [
    {
     "data": {
      "text/plain": [
       "-0.7568024953079282"
      ]
     },
     "execution_count": 264,
     "metadata": {},
     "output_type": "execute_result"
    }
   ],
   "source": [
    "SIN(4)"
   ]
  },
  {
   "cell_type": "markdown",
   "id": "0ccbe558",
   "metadata": {},
   "source": [
    "## 26. SQRT\n",
    "\n",
    "**Описание:** \n",
    "\n",
    "Возвращает квадратный корень числа.\n",
    "\n",
    "**Входные и выходные данные:**\n",
    "\n",
    "На входе - число.\n",
    "\n",
    "На выходе - квадратный корень числа.\n",
    "\n",
    "### Реализация:"
   ]
  },
  {
   "cell_type": "code",
   "execution_count": 265,
   "id": "8237aff4",
   "metadata": {},
   "outputs": [],
   "source": [
    "def SQRT(df, col = None):\n",
    "    if col == None:\n",
    "        import math\n",
    "        if df >= 0:\n",
    "            return math.sqrt(df)\n",
    "        return math.nan\n",
    "    from sqlite3 import connect\n",
    "    import pandas as pd\n",
    "    conn = connect(':memory:')\n",
    "    df.to_sql('data', conn)\n",
    "    return pd.read_sql(f'SELECT *, SQRT({col}) FROM data', conn)"
   ]
  },
  {
   "cell_type": "markdown",
   "id": "773053bf",
   "metadata": {},
   "source": [
    "### Тестирование:"
   ]
  },
  {
   "cell_type": "code",
   "execution_count": 266,
   "id": "a8ba81bb",
   "metadata": {
    "scrolled": false
   },
   "outputs": [
    {
     "data": {
      "text/html": [
       "<div>\n",
       "<style scoped>\n",
       "    .dataframe tbody tr th:only-of-type {\n",
       "        vertical-align: middle;\n",
       "    }\n",
       "\n",
       "    .dataframe tbody tr th {\n",
       "        vertical-align: top;\n",
       "    }\n",
       "\n",
       "    .dataframe thead th {\n",
       "        text-align: right;\n",
       "    }\n",
       "</style>\n",
       "<table border=\"1\" class=\"dataframe\">\n",
       "  <thead>\n",
       "    <tr style=\"text-align: right;\">\n",
       "      <th></th>\n",
       "      <th>index</th>\n",
       "      <th>true</th>\n",
       "      <th>score_logreg</th>\n",
       "      <th>score_svm</th>\n",
       "      <th>score_knn</th>\n",
       "      <th>score_tree</th>\n",
       "      <th>SQRT(score_logreg)</th>\n",
       "    </tr>\n",
       "  </thead>\n",
       "  <tbody>\n",
       "    <tr>\n",
       "      <th>0</th>\n",
       "      <td>0</td>\n",
       "      <td>0</td>\n",
       "      <td>0.683832</td>\n",
       "      <td>0.145976</td>\n",
       "      <td>0.787063</td>\n",
       "      <td>0.500000</td>\n",
       "      <td>0.826942</td>\n",
       "    </tr>\n",
       "    <tr>\n",
       "      <th>1</th>\n",
       "      <td>1</td>\n",
       "      <td>1</td>\n",
       "      <td>0.801966</td>\n",
       "      <td>0.239511</td>\n",
       "      <td>1.000000</td>\n",
       "      <td>0.833333</td>\n",
       "      <td>0.895526</td>\n",
       "    </tr>\n",
       "    <tr>\n",
       "      <th>2</th>\n",
       "      <td>2</td>\n",
       "      <td>0</td>\n",
       "      <td>0.382315</td>\n",
       "      <td>-0.245701</td>\n",
       "      <td>0.000000</td>\n",
       "      <td>0.000000</td>\n",
       "      <td>0.618317</td>\n",
       "    </tr>\n",
       "    <tr>\n",
       "      <th>3</th>\n",
       "      <td>3</td>\n",
       "      <td>1</td>\n",
       "      <td>0.506797</td>\n",
       "      <td>-0.137058</td>\n",
       "      <td>0.000000</td>\n",
       "      <td>0.105263</td>\n",
       "      <td>0.711897</td>\n",
       "    </tr>\n",
       "    <tr>\n",
       "      <th>4</th>\n",
       "      <td>4</td>\n",
       "      <td>1</td>\n",
       "      <td>0.488781</td>\n",
       "      <td>-0.154148</td>\n",
       "      <td>0.000000</td>\n",
       "      <td>0.105263</td>\n",
       "      <td>0.699129</td>\n",
       "    </tr>\n",
       "    <tr>\n",
       "      <th>5</th>\n",
       "      <td>5</td>\n",
       "      <td>0</td>\n",
       "      <td>0.108506</td>\n",
       "      <td>-0.790864</td>\n",
       "      <td>0.000000</td>\n",
       "      <td>0.000000</td>\n",
       "      <td>0.329403</td>\n",
       "    </tr>\n",
       "    <tr>\n",
       "      <th>6</th>\n",
       "      <td>6</td>\n",
       "      <td>0</td>\n",
       "      <td>0.413749</td>\n",
       "      <td>-0.185143</td>\n",
       "      <td>0.283053</td>\n",
       "      <td>0.363636</td>\n",
       "      <td>0.643233</td>\n",
       "    </tr>\n",
       "    <tr>\n",
       "      <th>7</th>\n",
       "      <td>7</td>\n",
       "      <td>0</td>\n",
       "      <td>0.961081</td>\n",
       "      <td>0.830973</td>\n",
       "      <td>1.000000</td>\n",
       "      <td>1.000000</td>\n",
       "      <td>0.980348</td>\n",
       "    </tr>\n",
       "    <tr>\n",
       "      <th>8</th>\n",
       "      <td>8</td>\n",
       "      <td>0</td>\n",
       "      <td>0.055733</td>\n",
       "      <td>-0.872805</td>\n",
       "      <td>0.000000</td>\n",
       "      <td>0.100000</td>\n",
       "      <td>0.236078</td>\n",
       "    </tr>\n",
       "    <tr>\n",
       "      <th>9</th>\n",
       "      <td>9</td>\n",
       "      <td>0</td>\n",
       "      <td>0.168708</td>\n",
       "      <td>-0.518390</td>\n",
       "      <td>0.000000</td>\n",
       "      <td>0.100000</td>\n",
       "      <td>0.410741</td>\n",
       "    </tr>\n",
       "  </tbody>\n",
       "</table>\n",
       "</div>"
      ],
      "text/plain": [
       "   index  true  score_logreg  score_svm  score_knn  score_tree  \\\n",
       "0      0     0      0.683832   0.145976   0.787063    0.500000   \n",
       "1      1     1      0.801966   0.239511   1.000000    0.833333   \n",
       "2      2     0      0.382315  -0.245701   0.000000    0.000000   \n",
       "3      3     1      0.506797  -0.137058   0.000000    0.105263   \n",
       "4      4     1      0.488781  -0.154148   0.000000    0.105263   \n",
       "5      5     0      0.108506  -0.790864   0.000000    0.000000   \n",
       "6      6     0      0.413749  -0.185143   0.283053    0.363636   \n",
       "7      7     0      0.961081   0.830973   1.000000    1.000000   \n",
       "8      8     0      0.055733  -0.872805   0.000000    0.100000   \n",
       "9      9     0      0.168708  -0.518390   0.000000    0.100000   \n",
       "\n",
       "   SQRT(score_logreg)  \n",
       "0            0.826942  \n",
       "1            0.895526  \n",
       "2            0.618317  \n",
       "3            0.711897  \n",
       "4            0.699129  \n",
       "5            0.329403  \n",
       "6            0.643233  \n",
       "7            0.980348  \n",
       "8            0.236078  \n",
       "9            0.410741  "
      ]
     },
     "execution_count": 266,
     "metadata": {},
     "output_type": "execute_result"
    }
   ],
   "source": [
    "SQRT(df, 'score_logreg')"
   ]
  },
  {
   "cell_type": "code",
   "execution_count": 267,
   "id": "7dd4c825",
   "metadata": {
    "scrolled": true
   },
   "outputs": [
    {
     "data": {
      "text/plain": [
       "0.8269415407626625"
      ]
     },
     "execution_count": 267,
     "metadata": {},
     "output_type": "execute_result"
    }
   ],
   "source": [
    "SQRT(df.iloc[0]['score_logreg'])"
   ]
  },
  {
   "cell_type": "code",
   "execution_count": 268,
   "id": "c28b8264",
   "metadata": {},
   "outputs": [
    {
     "data": {
      "text/plain": [
       "0.9803475177889773"
      ]
     },
     "execution_count": 268,
     "metadata": {},
     "output_type": "execute_result"
    }
   ],
   "source": [
    "SQRT(df.iloc[7]['score_logreg'])"
   ]
  },
  {
   "cell_type": "code",
   "execution_count": 269,
   "id": "fb3045e2",
   "metadata": {
    "scrolled": false
   },
   "outputs": [
    {
     "data": {
      "text/html": [
       "<div>\n",
       "<style scoped>\n",
       "    .dataframe tbody tr th:only-of-type {\n",
       "        vertical-align: middle;\n",
       "    }\n",
       "\n",
       "    .dataframe tbody tr th {\n",
       "        vertical-align: top;\n",
       "    }\n",
       "\n",
       "    .dataframe thead th {\n",
       "        text-align: right;\n",
       "    }\n",
       "</style>\n",
       "<table border=\"1\" class=\"dataframe\">\n",
       "  <thead>\n",
       "    <tr style=\"text-align: right;\">\n",
       "      <th></th>\n",
       "      <th>index</th>\n",
       "      <th>true</th>\n",
       "      <th>score_logreg</th>\n",
       "      <th>score_svm</th>\n",
       "      <th>score_knn</th>\n",
       "      <th>score_tree</th>\n",
       "      <th>SQRT(score_svm)</th>\n",
       "    </tr>\n",
       "  </thead>\n",
       "  <tbody>\n",
       "    <tr>\n",
       "      <th>0</th>\n",
       "      <td>0</td>\n",
       "      <td>0</td>\n",
       "      <td>0.683832</td>\n",
       "      <td>0.145976</td>\n",
       "      <td>0.787063</td>\n",
       "      <td>0.500000</td>\n",
       "      <td>0.382068</td>\n",
       "    </tr>\n",
       "    <tr>\n",
       "      <th>1</th>\n",
       "      <td>1</td>\n",
       "      <td>1</td>\n",
       "      <td>0.801966</td>\n",
       "      <td>0.239511</td>\n",
       "      <td>1.000000</td>\n",
       "      <td>0.833333</td>\n",
       "      <td>0.489399</td>\n",
       "    </tr>\n",
       "    <tr>\n",
       "      <th>2</th>\n",
       "      <td>2</td>\n",
       "      <td>0</td>\n",
       "      <td>0.382315</td>\n",
       "      <td>-0.245701</td>\n",
       "      <td>0.000000</td>\n",
       "      <td>0.000000</td>\n",
       "      <td>NaN</td>\n",
       "    </tr>\n",
       "    <tr>\n",
       "      <th>3</th>\n",
       "      <td>3</td>\n",
       "      <td>1</td>\n",
       "      <td>0.506797</td>\n",
       "      <td>-0.137058</td>\n",
       "      <td>0.000000</td>\n",
       "      <td>0.105263</td>\n",
       "      <td>NaN</td>\n",
       "    </tr>\n",
       "    <tr>\n",
       "      <th>4</th>\n",
       "      <td>4</td>\n",
       "      <td>1</td>\n",
       "      <td>0.488781</td>\n",
       "      <td>-0.154148</td>\n",
       "      <td>0.000000</td>\n",
       "      <td>0.105263</td>\n",
       "      <td>NaN</td>\n",
       "    </tr>\n",
       "    <tr>\n",
       "      <th>5</th>\n",
       "      <td>5</td>\n",
       "      <td>0</td>\n",
       "      <td>0.108506</td>\n",
       "      <td>-0.790864</td>\n",
       "      <td>0.000000</td>\n",
       "      <td>0.000000</td>\n",
       "      <td>NaN</td>\n",
       "    </tr>\n",
       "    <tr>\n",
       "      <th>6</th>\n",
       "      <td>6</td>\n",
       "      <td>0</td>\n",
       "      <td>0.413749</td>\n",
       "      <td>-0.185143</td>\n",
       "      <td>0.283053</td>\n",
       "      <td>0.363636</td>\n",
       "      <td>NaN</td>\n",
       "    </tr>\n",
       "    <tr>\n",
       "      <th>7</th>\n",
       "      <td>7</td>\n",
       "      <td>0</td>\n",
       "      <td>0.961081</td>\n",
       "      <td>0.830973</td>\n",
       "      <td>1.000000</td>\n",
       "      <td>1.000000</td>\n",
       "      <td>0.911577</td>\n",
       "    </tr>\n",
       "    <tr>\n",
       "      <th>8</th>\n",
       "      <td>8</td>\n",
       "      <td>0</td>\n",
       "      <td>0.055733</td>\n",
       "      <td>-0.872805</td>\n",
       "      <td>0.000000</td>\n",
       "      <td>0.100000</td>\n",
       "      <td>NaN</td>\n",
       "    </tr>\n",
       "    <tr>\n",
       "      <th>9</th>\n",
       "      <td>9</td>\n",
       "      <td>0</td>\n",
       "      <td>0.168708</td>\n",
       "      <td>-0.518390</td>\n",
       "      <td>0.000000</td>\n",
       "      <td>0.100000</td>\n",
       "      <td>NaN</td>\n",
       "    </tr>\n",
       "  </tbody>\n",
       "</table>\n",
       "</div>"
      ],
      "text/plain": [
       "   index  true  score_logreg  score_svm  score_knn  score_tree  \\\n",
       "0      0     0      0.683832   0.145976   0.787063    0.500000   \n",
       "1      1     1      0.801966   0.239511   1.000000    0.833333   \n",
       "2      2     0      0.382315  -0.245701   0.000000    0.000000   \n",
       "3      3     1      0.506797  -0.137058   0.000000    0.105263   \n",
       "4      4     1      0.488781  -0.154148   0.000000    0.105263   \n",
       "5      5     0      0.108506  -0.790864   0.000000    0.000000   \n",
       "6      6     0      0.413749  -0.185143   0.283053    0.363636   \n",
       "7      7     0      0.961081   0.830973   1.000000    1.000000   \n",
       "8      8     0      0.055733  -0.872805   0.000000    0.100000   \n",
       "9      9     0      0.168708  -0.518390   0.000000    0.100000   \n",
       "\n",
       "   SQRT(score_svm)  \n",
       "0         0.382068  \n",
       "1         0.489399  \n",
       "2              NaN  \n",
       "3              NaN  \n",
       "4              NaN  \n",
       "5              NaN  \n",
       "6              NaN  \n",
       "7         0.911577  \n",
       "8              NaN  \n",
       "9              NaN  "
      ]
     },
     "execution_count": 269,
     "metadata": {},
     "output_type": "execute_result"
    }
   ],
   "source": [
    "SQRT(df, 'score_svm')"
   ]
  },
  {
   "cell_type": "code",
   "execution_count": 270,
   "id": "6a9b5638",
   "metadata": {
    "scrolled": true
   },
   "outputs": [
    {
     "data": {
      "text/plain": [
       "nan"
      ]
     },
     "execution_count": 270,
     "metadata": {},
     "output_type": "execute_result"
    }
   ],
   "source": [
    "SQRT(df.iloc[2]['score_svm'])"
   ]
  },
  {
   "cell_type": "code",
   "execution_count": 271,
   "id": "9604b22d",
   "metadata": {
    "scrolled": true
   },
   "outputs": [
    {
     "data": {
      "text/plain": [
       "nan"
      ]
     },
     "execution_count": 271,
     "metadata": {},
     "output_type": "execute_result"
    }
   ],
   "source": [
    "SQRT(df.iloc[9]['score_svm'])"
   ]
  },
  {
   "cell_type": "code",
   "execution_count": 272,
   "id": "9d4b829d",
   "metadata": {},
   "outputs": [
    {
     "data": {
      "text/plain": [
       "2.0"
      ]
     },
     "execution_count": 272,
     "metadata": {},
     "output_type": "execute_result"
    }
   ],
   "source": [
    "SQRT(4)"
   ]
  },
  {
   "cell_type": "code",
   "execution_count": 273,
   "id": "3f5e8c48",
   "metadata": {},
   "outputs": [
    {
     "data": {
      "text/plain": [
       "12.96148139681572"
      ]
     },
     "execution_count": 273,
     "metadata": {},
     "output_type": "execute_result"
    }
   ],
   "source": [
    "SQRT(168)"
   ]
  },
  {
   "cell_type": "code",
   "execution_count": 274,
   "id": "4cb7f9d0",
   "metadata": {},
   "outputs": [
    {
     "data": {
      "text/plain": [
       "0.0"
      ]
     },
     "execution_count": 274,
     "metadata": {},
     "output_type": "execute_result"
    }
   ],
   "source": [
    "SQRT(0)"
   ]
  },
  {
   "cell_type": "code",
   "execution_count": 275,
   "id": "4b0c71c1",
   "metadata": {},
   "outputs": [
    {
     "data": {
      "text/plain": [
       "nan"
      ]
     },
     "execution_count": 275,
     "metadata": {},
     "output_type": "execute_result"
    }
   ],
   "source": [
    "SQRT(-8)"
   ]
  },
  {
   "cell_type": "markdown",
   "id": "2abb38dc",
   "metadata": {},
   "source": [
    "## 27. SQUARE\n",
    "\n",
    "**Описание:** \n",
    "\n",
    "Возвращает квадрат числа.\n",
    "\n",
    "**Входные и выходные данные:**\n",
    "\n",
    "На входе - число.\n",
    "\n",
    "На выходе - квадрат числа.\n",
    "\n",
    "### Реализация:"
   ]
  },
  {
   "cell_type": "code",
   "execution_count": 276,
   "id": "88ab8bf4",
   "metadata": {},
   "outputs": [],
   "source": [
    "def SQUARE(df, col = None):\n",
    "    if col == None:\n",
    "        return df ** 2\n",
    "    from sqlite3 import connect\n",
    "    import pandas as pd\n",
    "    conn = connect(':memory:')\n",
    "    df.to_sql('data', conn)\n",
    "    return pd.read_sql(f'SELECT *, POWER({col}, 2) as SQUARE FROM data', conn)"
   ]
  },
  {
   "cell_type": "markdown",
   "id": "b235d12f",
   "metadata": {},
   "source": [
    "### Тестирование:"
   ]
  },
  {
   "cell_type": "code",
   "execution_count": 277,
   "id": "8f792f24",
   "metadata": {
    "scrolled": false
   },
   "outputs": [
    {
     "data": {
      "text/html": [
       "<div>\n",
       "<style scoped>\n",
       "    .dataframe tbody tr th:only-of-type {\n",
       "        vertical-align: middle;\n",
       "    }\n",
       "\n",
       "    .dataframe tbody tr th {\n",
       "        vertical-align: top;\n",
       "    }\n",
       "\n",
       "    .dataframe thead th {\n",
       "        text-align: right;\n",
       "    }\n",
       "</style>\n",
       "<table border=\"1\" class=\"dataframe\">\n",
       "  <thead>\n",
       "    <tr style=\"text-align: right;\">\n",
       "      <th></th>\n",
       "      <th>index</th>\n",
       "      <th>true</th>\n",
       "      <th>score_logreg</th>\n",
       "      <th>score_svm</th>\n",
       "      <th>score_knn</th>\n",
       "      <th>score_tree</th>\n",
       "      <th>SQUARE</th>\n",
       "    </tr>\n",
       "  </thead>\n",
       "  <tbody>\n",
       "    <tr>\n",
       "      <th>0</th>\n",
       "      <td>0</td>\n",
       "      <td>0</td>\n",
       "      <td>0.683832</td>\n",
       "      <td>0.145976</td>\n",
       "      <td>0.787063</td>\n",
       "      <td>0.500000</td>\n",
       "      <td>0.467627</td>\n",
       "    </tr>\n",
       "    <tr>\n",
       "      <th>1</th>\n",
       "      <td>1</td>\n",
       "      <td>1</td>\n",
       "      <td>0.801966</td>\n",
       "      <td>0.239511</td>\n",
       "      <td>1.000000</td>\n",
       "      <td>0.833333</td>\n",
       "      <td>0.643150</td>\n",
       "    </tr>\n",
       "    <tr>\n",
       "      <th>2</th>\n",
       "      <td>2</td>\n",
       "      <td>0</td>\n",
       "      <td>0.382315</td>\n",
       "      <td>-0.245701</td>\n",
       "      <td>0.000000</td>\n",
       "      <td>0.000000</td>\n",
       "      <td>0.146165</td>\n",
       "    </tr>\n",
       "    <tr>\n",
       "      <th>3</th>\n",
       "      <td>3</td>\n",
       "      <td>1</td>\n",
       "      <td>0.506797</td>\n",
       "      <td>-0.137058</td>\n",
       "      <td>0.000000</td>\n",
       "      <td>0.105263</td>\n",
       "      <td>0.256843</td>\n",
       "    </tr>\n",
       "    <tr>\n",
       "      <th>4</th>\n",
       "      <td>4</td>\n",
       "      <td>1</td>\n",
       "      <td>0.488781</td>\n",
       "      <td>-0.154148</td>\n",
       "      <td>0.000000</td>\n",
       "      <td>0.105263</td>\n",
       "      <td>0.238907</td>\n",
       "    </tr>\n",
       "    <tr>\n",
       "      <th>5</th>\n",
       "      <td>5</td>\n",
       "      <td>0</td>\n",
       "      <td>0.108506</td>\n",
       "      <td>-0.790864</td>\n",
       "      <td>0.000000</td>\n",
       "      <td>0.000000</td>\n",
       "      <td>0.011774</td>\n",
       "    </tr>\n",
       "    <tr>\n",
       "      <th>6</th>\n",
       "      <td>6</td>\n",
       "      <td>0</td>\n",
       "      <td>0.413749</td>\n",
       "      <td>-0.185143</td>\n",
       "      <td>0.283053</td>\n",
       "      <td>0.363636</td>\n",
       "      <td>0.171188</td>\n",
       "    </tr>\n",
       "    <tr>\n",
       "      <th>7</th>\n",
       "      <td>7</td>\n",
       "      <td>0</td>\n",
       "      <td>0.961081</td>\n",
       "      <td>0.830973</td>\n",
       "      <td>1.000000</td>\n",
       "      <td>1.000000</td>\n",
       "      <td>0.923677</td>\n",
       "    </tr>\n",
       "    <tr>\n",
       "      <th>8</th>\n",
       "      <td>8</td>\n",
       "      <td>0</td>\n",
       "      <td>0.055733</td>\n",
       "      <td>-0.872805</td>\n",
       "      <td>0.000000</td>\n",
       "      <td>0.100000</td>\n",
       "      <td>0.003106</td>\n",
       "    </tr>\n",
       "    <tr>\n",
       "      <th>9</th>\n",
       "      <td>9</td>\n",
       "      <td>0</td>\n",
       "      <td>0.168708</td>\n",
       "      <td>-0.518390</td>\n",
       "      <td>0.000000</td>\n",
       "      <td>0.100000</td>\n",
       "      <td>0.028462</td>\n",
       "    </tr>\n",
       "  </tbody>\n",
       "</table>\n",
       "</div>"
      ],
      "text/plain": [
       "   index  true  score_logreg  score_svm  score_knn  score_tree    SQUARE\n",
       "0      0     0      0.683832   0.145976   0.787063    0.500000  0.467627\n",
       "1      1     1      0.801966   0.239511   1.000000    0.833333  0.643150\n",
       "2      2     0      0.382315  -0.245701   0.000000    0.000000  0.146165\n",
       "3      3     1      0.506797  -0.137058   0.000000    0.105263  0.256843\n",
       "4      4     1      0.488781  -0.154148   0.000000    0.105263  0.238907\n",
       "5      5     0      0.108506  -0.790864   0.000000    0.000000  0.011774\n",
       "6      6     0      0.413749  -0.185143   0.283053    0.363636  0.171188\n",
       "7      7     0      0.961081   0.830973   1.000000    1.000000  0.923677\n",
       "8      8     0      0.055733  -0.872805   0.000000    0.100000  0.003106\n",
       "9      9     0      0.168708  -0.518390   0.000000    0.100000  0.028462"
      ]
     },
     "execution_count": 277,
     "metadata": {},
     "output_type": "execute_result"
    }
   ],
   "source": [
    "SQUARE(df, 'score_logreg')"
   ]
  },
  {
   "cell_type": "code",
   "execution_count": 278,
   "id": "c26d379e",
   "metadata": {},
   "outputs": [
    {
     "data": {
      "text/plain": [
       "0.46762663071497046"
      ]
     },
     "execution_count": 278,
     "metadata": {},
     "output_type": "execute_result"
    }
   ],
   "source": [
    "SQUARE(df.iloc[0]['score_logreg'])"
   ]
  },
  {
   "cell_type": "code",
   "execution_count": 279,
   "id": "f93575c4",
   "metadata": {
    "scrolled": true
   },
   "outputs": [
    {
     "data": {
      "text/plain": [
       "0.9236771799329659"
      ]
     },
     "execution_count": 279,
     "metadata": {},
     "output_type": "execute_result"
    }
   ],
   "source": [
    "SQUARE(df.iloc[7]['score_logreg'])"
   ]
  },
  {
   "cell_type": "code",
   "execution_count": 280,
   "id": "bf2410aa",
   "metadata": {
    "scrolled": false
   },
   "outputs": [
    {
     "data": {
      "text/html": [
       "<div>\n",
       "<style scoped>\n",
       "    .dataframe tbody tr th:only-of-type {\n",
       "        vertical-align: middle;\n",
       "    }\n",
       "\n",
       "    .dataframe tbody tr th {\n",
       "        vertical-align: top;\n",
       "    }\n",
       "\n",
       "    .dataframe thead th {\n",
       "        text-align: right;\n",
       "    }\n",
       "</style>\n",
       "<table border=\"1\" class=\"dataframe\">\n",
       "  <thead>\n",
       "    <tr style=\"text-align: right;\">\n",
       "      <th></th>\n",
       "      <th>index</th>\n",
       "      <th>true</th>\n",
       "      <th>score_logreg</th>\n",
       "      <th>score_svm</th>\n",
       "      <th>score_knn</th>\n",
       "      <th>score_tree</th>\n",
       "      <th>SQUARE</th>\n",
       "    </tr>\n",
       "  </thead>\n",
       "  <tbody>\n",
       "    <tr>\n",
       "      <th>0</th>\n",
       "      <td>0</td>\n",
       "      <td>0</td>\n",
       "      <td>0.683832</td>\n",
       "      <td>0.145976</td>\n",
       "      <td>0.787063</td>\n",
       "      <td>0.500000</td>\n",
       "      <td>0.021309</td>\n",
       "    </tr>\n",
       "    <tr>\n",
       "      <th>1</th>\n",
       "      <td>1</td>\n",
       "      <td>1</td>\n",
       "      <td>0.801966</td>\n",
       "      <td>0.239511</td>\n",
       "      <td>1.000000</td>\n",
       "      <td>0.833333</td>\n",
       "      <td>0.057366</td>\n",
       "    </tr>\n",
       "    <tr>\n",
       "      <th>2</th>\n",
       "      <td>2</td>\n",
       "      <td>0</td>\n",
       "      <td>0.382315</td>\n",
       "      <td>-0.245701</td>\n",
       "      <td>0.000000</td>\n",
       "      <td>0.000000</td>\n",
       "      <td>0.060369</td>\n",
       "    </tr>\n",
       "    <tr>\n",
       "      <th>3</th>\n",
       "      <td>3</td>\n",
       "      <td>1</td>\n",
       "      <td>0.506797</td>\n",
       "      <td>-0.137058</td>\n",
       "      <td>0.000000</td>\n",
       "      <td>0.105263</td>\n",
       "      <td>0.018785</td>\n",
       "    </tr>\n",
       "    <tr>\n",
       "      <th>4</th>\n",
       "      <td>4</td>\n",
       "      <td>1</td>\n",
       "      <td>0.488781</td>\n",
       "      <td>-0.154148</td>\n",
       "      <td>0.000000</td>\n",
       "      <td>0.105263</td>\n",
       "      <td>0.023762</td>\n",
       "    </tr>\n",
       "    <tr>\n",
       "      <th>5</th>\n",
       "      <td>5</td>\n",
       "      <td>0</td>\n",
       "      <td>0.108506</td>\n",
       "      <td>-0.790864</td>\n",
       "      <td>0.000000</td>\n",
       "      <td>0.000000</td>\n",
       "      <td>0.625466</td>\n",
       "    </tr>\n",
       "    <tr>\n",
       "      <th>6</th>\n",
       "      <td>6</td>\n",
       "      <td>0</td>\n",
       "      <td>0.413749</td>\n",
       "      <td>-0.185143</td>\n",
       "      <td>0.283053</td>\n",
       "      <td>0.363636</td>\n",
       "      <td>0.034278</td>\n",
       "    </tr>\n",
       "    <tr>\n",
       "      <th>7</th>\n",
       "      <td>7</td>\n",
       "      <td>0</td>\n",
       "      <td>0.961081</td>\n",
       "      <td>0.830973</td>\n",
       "      <td>1.000000</td>\n",
       "      <td>1.000000</td>\n",
       "      <td>0.690516</td>\n",
       "    </tr>\n",
       "    <tr>\n",
       "      <th>8</th>\n",
       "      <td>8</td>\n",
       "      <td>0</td>\n",
       "      <td>0.055733</td>\n",
       "      <td>-0.872805</td>\n",
       "      <td>0.000000</td>\n",
       "      <td>0.100000</td>\n",
       "      <td>0.761789</td>\n",
       "    </tr>\n",
       "    <tr>\n",
       "      <th>9</th>\n",
       "      <td>9</td>\n",
       "      <td>0</td>\n",
       "      <td>0.168708</td>\n",
       "      <td>-0.518390</td>\n",
       "      <td>0.000000</td>\n",
       "      <td>0.100000</td>\n",
       "      <td>0.268729</td>\n",
       "    </tr>\n",
       "  </tbody>\n",
       "</table>\n",
       "</div>"
      ],
      "text/plain": [
       "   index  true  score_logreg  score_svm  score_knn  score_tree    SQUARE\n",
       "0      0     0      0.683832   0.145976   0.787063    0.500000  0.021309\n",
       "1      1     1      0.801966   0.239511   1.000000    0.833333  0.057366\n",
       "2      2     0      0.382315  -0.245701   0.000000    0.000000  0.060369\n",
       "3      3     1      0.506797  -0.137058   0.000000    0.105263  0.018785\n",
       "4      4     1      0.488781  -0.154148   0.000000    0.105263  0.023762\n",
       "5      5     0      0.108506  -0.790864   0.000000    0.000000  0.625466\n",
       "6      6     0      0.413749  -0.185143   0.283053    0.363636  0.034278\n",
       "7      7     0      0.961081   0.830973   1.000000    1.000000  0.690516\n",
       "8      8     0      0.055733  -0.872805   0.000000    0.100000  0.761789\n",
       "9      9     0      0.168708  -0.518390   0.000000    0.100000  0.268729"
      ]
     },
     "execution_count": 280,
     "metadata": {},
     "output_type": "execute_result"
    }
   ],
   "source": [
    "SQUARE(df, 'score_svm')"
   ]
  },
  {
   "cell_type": "code",
   "execution_count": 281,
   "id": "05c56eed",
   "metadata": {},
   "outputs": [
    {
     "data": {
      "text/plain": [
       "0.060368799157799774"
      ]
     },
     "execution_count": 281,
     "metadata": {},
     "output_type": "execute_result"
    }
   ],
   "source": [
    "SQUARE(df.iloc[2]['score_svm'])"
   ]
  },
  {
   "cell_type": "code",
   "execution_count": 282,
   "id": "c2814a2d",
   "metadata": {},
   "outputs": [
    {
     "data": {
      "text/plain": [
       "0.2687285953542916"
      ]
     },
     "execution_count": 282,
     "metadata": {},
     "output_type": "execute_result"
    }
   ],
   "source": [
    "SQUARE(df.iloc[9]['score_svm'])"
   ]
  },
  {
   "cell_type": "code",
   "execution_count": 283,
   "id": "7c2fca04",
   "metadata": {},
   "outputs": [
    {
     "data": {
      "text/plain": [
       "25"
      ]
     },
     "execution_count": 283,
     "metadata": {},
     "output_type": "execute_result"
    }
   ],
   "source": [
    "SQUARE(5)"
   ]
  },
  {
   "cell_type": "code",
   "execution_count": 284,
   "id": "bba010be",
   "metadata": {},
   "outputs": [
    {
     "data": {
      "text/plain": [
       "49"
      ]
     },
     "execution_count": 284,
     "metadata": {},
     "output_type": "execute_result"
    }
   ],
   "source": [
    "SQUARE(-7)"
   ]
  },
  {
   "cell_type": "code",
   "execution_count": 285,
   "id": "4585c1c7",
   "metadata": {},
   "outputs": [
    {
     "data": {
      "text/plain": [
       "7.000000000000001"
      ]
     },
     "execution_count": 285,
     "metadata": {},
     "output_type": "execute_result"
    }
   ],
   "source": [
    "SQUARE(SQRT(7))"
   ]
  },
  {
   "cell_type": "code",
   "execution_count": 286,
   "id": "ae2fa1d8",
   "metadata": {},
   "outputs": [
    {
     "data": {
      "text/plain": [
       "56.0"
      ]
     },
     "execution_count": 286,
     "metadata": {},
     "output_type": "execute_result"
    }
   ],
   "source": [
    "SQUARE(SQRT(56))"
   ]
  },
  {
   "cell_type": "markdown",
   "id": "b9db1e4c",
   "metadata": {},
   "source": [
    "## 28. TAN\n",
    "\n",
    "**Описание:** \n",
    "\n",
    "Возвращает тангенс угла. Угол указывается в радианах.\n",
    "\n",
    "**Входные и выходные данные:**\n",
    "\n",
    "На входе - число(угол в радианах).\n",
    "\n",
    "На выходе - число(тангенс угла).\n",
    "\n",
    "### Реализация:"
   ]
  },
  {
   "cell_type": "code",
   "execution_count": 287,
   "id": "2cc1b6ef",
   "metadata": {},
   "outputs": [],
   "source": [
    "def TAN(df, col = None):\n",
    "    if col == None:\n",
    "        import math\n",
    "        return math.tan(df)\n",
    "    from sqlite3 import connect\n",
    "    import pandas as pd\n",
    "    conn = connect(':memory:')\n",
    "    df.to_sql('data', conn)\n",
    "    return pd.read_sql(f'SELECT *, TAN({col}) FROM data', conn)"
   ]
  },
  {
   "cell_type": "markdown",
   "id": "7334ef1b",
   "metadata": {},
   "source": [
    "### Тестирование:"
   ]
  },
  {
   "cell_type": "code",
   "execution_count": 288,
   "id": "17848a51",
   "metadata": {
    "scrolled": true
   },
   "outputs": [
    {
     "data": {
      "text/html": [
       "<div>\n",
       "<style scoped>\n",
       "    .dataframe tbody tr th:only-of-type {\n",
       "        vertical-align: middle;\n",
       "    }\n",
       "\n",
       "    .dataframe tbody tr th {\n",
       "        vertical-align: top;\n",
       "    }\n",
       "\n",
       "    .dataframe thead th {\n",
       "        text-align: right;\n",
       "    }\n",
       "</style>\n",
       "<table border=\"1\" class=\"dataframe\">\n",
       "  <thead>\n",
       "    <tr style=\"text-align: right;\">\n",
       "      <th></th>\n",
       "      <th>index</th>\n",
       "      <th>true</th>\n",
       "      <th>score_logreg</th>\n",
       "      <th>score_svm</th>\n",
       "      <th>score_knn</th>\n",
       "      <th>score_tree</th>\n",
       "      <th>TAN(score_logreg)</th>\n",
       "    </tr>\n",
       "  </thead>\n",
       "  <tbody>\n",
       "    <tr>\n",
       "      <th>0</th>\n",
       "      <td>0</td>\n",
       "      <td>0</td>\n",
       "      <td>0.683832</td>\n",
       "      <td>0.145976</td>\n",
       "      <td>0.787063</td>\n",
       "      <td>0.500000</td>\n",
       "      <td>0.815019</td>\n",
       "    </tr>\n",
       "    <tr>\n",
       "      <th>1</th>\n",
       "      <td>1</td>\n",
       "      <td>1</td>\n",
       "      <td>0.801966</td>\n",
       "      <td>0.239511</td>\n",
       "      <td>1.000000</td>\n",
       "      <td>0.833333</td>\n",
       "      <td>1.033698</td>\n",
       "    </tr>\n",
       "    <tr>\n",
       "      <th>2</th>\n",
       "      <td>2</td>\n",
       "      <td>0</td>\n",
       "      <td>0.382315</td>\n",
       "      <td>-0.245701</td>\n",
       "      <td>0.000000</td>\n",
       "      <td>0.000000</td>\n",
       "      <td>0.402100</td>\n",
       "    </tr>\n",
       "    <tr>\n",
       "      <th>3</th>\n",
       "      <td>3</td>\n",
       "      <td>1</td>\n",
       "      <td>0.506797</td>\n",
       "      <td>-0.137058</td>\n",
       "      <td>0.000000</td>\n",
       "      <td>0.105263</td>\n",
       "      <td>0.555161</td>\n",
       "    </tr>\n",
       "    <tr>\n",
       "      <th>4</th>\n",
       "      <td>4</td>\n",
       "      <td>1</td>\n",
       "      <td>0.488781</td>\n",
       "      <td>-0.154148</td>\n",
       "      <td>0.000000</td>\n",
       "      <td>0.105263</td>\n",
       "      <td>0.531824</td>\n",
       "    </tr>\n",
       "    <tr>\n",
       "      <th>5</th>\n",
       "      <td>5</td>\n",
       "      <td>0</td>\n",
       "      <td>0.108506</td>\n",
       "      <td>-0.790864</td>\n",
       "      <td>0.000000</td>\n",
       "      <td>0.000000</td>\n",
       "      <td>0.108934</td>\n",
       "    </tr>\n",
       "    <tr>\n",
       "      <th>6</th>\n",
       "      <td>6</td>\n",
       "      <td>0</td>\n",
       "      <td>0.413749</td>\n",
       "      <td>-0.185143</td>\n",
       "      <td>0.283053</td>\n",
       "      <td>0.363636</td>\n",
       "      <td>0.439096</td>\n",
       "    </tr>\n",
       "    <tr>\n",
       "      <th>7</th>\n",
       "      <td>7</td>\n",
       "      <td>0</td>\n",
       "      <td>0.961081</td>\n",
       "      <td>0.830973</td>\n",
       "      <td>1.000000</td>\n",
       "      <td>1.000000</td>\n",
       "      <td>1.431650</td>\n",
       "    </tr>\n",
       "    <tr>\n",
       "      <th>8</th>\n",
       "      <td>8</td>\n",
       "      <td>0</td>\n",
       "      <td>0.055733</td>\n",
       "      <td>-0.872805</td>\n",
       "      <td>0.000000</td>\n",
       "      <td>0.100000</td>\n",
       "      <td>0.055790</td>\n",
       "    </tr>\n",
       "    <tr>\n",
       "      <th>9</th>\n",
       "      <td>9</td>\n",
       "      <td>0</td>\n",
       "      <td>0.168708</td>\n",
       "      <td>-0.518390</td>\n",
       "      <td>0.000000</td>\n",
       "      <td>0.100000</td>\n",
       "      <td>0.170327</td>\n",
       "    </tr>\n",
       "  </tbody>\n",
       "</table>\n",
       "</div>"
      ],
      "text/plain": [
       "   index  true  score_logreg  score_svm  score_knn  score_tree  \\\n",
       "0      0     0      0.683832   0.145976   0.787063    0.500000   \n",
       "1      1     1      0.801966   0.239511   1.000000    0.833333   \n",
       "2      2     0      0.382315  -0.245701   0.000000    0.000000   \n",
       "3      3     1      0.506797  -0.137058   0.000000    0.105263   \n",
       "4      4     1      0.488781  -0.154148   0.000000    0.105263   \n",
       "5      5     0      0.108506  -0.790864   0.000000    0.000000   \n",
       "6      6     0      0.413749  -0.185143   0.283053    0.363636   \n",
       "7      7     0      0.961081   0.830973   1.000000    1.000000   \n",
       "8      8     0      0.055733  -0.872805   0.000000    0.100000   \n",
       "9      9     0      0.168708  -0.518390   0.000000    0.100000   \n",
       "\n",
       "   TAN(score_logreg)  \n",
       "0           0.815019  \n",
       "1           1.033698  \n",
       "2           0.402100  \n",
       "3           0.555161  \n",
       "4           0.531824  \n",
       "5           0.108934  \n",
       "6           0.439096  \n",
       "7           1.431650  \n",
       "8           0.055790  \n",
       "9           0.170327  "
      ]
     },
     "execution_count": 288,
     "metadata": {},
     "output_type": "execute_result"
    }
   ],
   "source": [
    "TAN(df, 'score_logreg')"
   ]
  },
  {
   "cell_type": "code",
   "execution_count": 289,
   "id": "c236ece1",
   "metadata": {},
   "outputs": [
    {
     "data": {
      "text/plain": [
       "0.8150194982215111"
      ]
     },
     "execution_count": 289,
     "metadata": {},
     "output_type": "execute_result"
    }
   ],
   "source": [
    "TAN(df.iloc[0]['score_logreg'])"
   ]
  },
  {
   "cell_type": "code",
   "execution_count": 290,
   "id": "5bc3807e",
   "metadata": {},
   "outputs": [
    {
     "data": {
      "text/plain": [
       "1.4316498158573694"
      ]
     },
     "execution_count": 290,
     "metadata": {},
     "output_type": "execute_result"
    }
   ],
   "source": [
    "TAN(df.iloc[7]['score_logreg'])"
   ]
  },
  {
   "cell_type": "code",
   "execution_count": 291,
   "id": "5caf7ad7",
   "metadata": {
    "scrolled": false
   },
   "outputs": [
    {
     "data": {
      "text/html": [
       "<div>\n",
       "<style scoped>\n",
       "    .dataframe tbody tr th:only-of-type {\n",
       "        vertical-align: middle;\n",
       "    }\n",
       "\n",
       "    .dataframe tbody tr th {\n",
       "        vertical-align: top;\n",
       "    }\n",
       "\n",
       "    .dataframe thead th {\n",
       "        text-align: right;\n",
       "    }\n",
       "</style>\n",
       "<table border=\"1\" class=\"dataframe\">\n",
       "  <thead>\n",
       "    <tr style=\"text-align: right;\">\n",
       "      <th></th>\n",
       "      <th>index</th>\n",
       "      <th>true</th>\n",
       "      <th>score_logreg</th>\n",
       "      <th>score_svm</th>\n",
       "      <th>score_knn</th>\n",
       "      <th>score_tree</th>\n",
       "      <th>TAN(score_svm)</th>\n",
       "    </tr>\n",
       "  </thead>\n",
       "  <tbody>\n",
       "    <tr>\n",
       "      <th>0</th>\n",
       "      <td>0</td>\n",
       "      <td>0</td>\n",
       "      <td>0.683832</td>\n",
       "      <td>0.145976</td>\n",
       "      <td>0.787063</td>\n",
       "      <td>0.500000</td>\n",
       "      <td>0.147022</td>\n",
       "    </tr>\n",
       "    <tr>\n",
       "      <th>1</th>\n",
       "      <td>1</td>\n",
       "      <td>1</td>\n",
       "      <td>0.801966</td>\n",
       "      <td>0.239511</td>\n",
       "      <td>1.000000</td>\n",
       "      <td>0.833333</td>\n",
       "      <td>0.244199</td>\n",
       "    </tr>\n",
       "    <tr>\n",
       "      <th>2</th>\n",
       "      <td>2</td>\n",
       "      <td>0</td>\n",
       "      <td>0.382315</td>\n",
       "      <td>-0.245701</td>\n",
       "      <td>0.000000</td>\n",
       "      <td>0.000000</td>\n",
       "      <td>-0.250767</td>\n",
       "    </tr>\n",
       "    <tr>\n",
       "      <th>3</th>\n",
       "      <td>3</td>\n",
       "      <td>1</td>\n",
       "      <td>0.506797</td>\n",
       "      <td>-0.137058</td>\n",
       "      <td>0.000000</td>\n",
       "      <td>0.105263</td>\n",
       "      <td>-0.137923</td>\n",
       "    </tr>\n",
       "    <tr>\n",
       "      <th>4</th>\n",
       "      <td>4</td>\n",
       "      <td>1</td>\n",
       "      <td>0.488781</td>\n",
       "      <td>-0.154148</td>\n",
       "      <td>0.000000</td>\n",
       "      <td>0.105263</td>\n",
       "      <td>-0.155381</td>\n",
       "    </tr>\n",
       "    <tr>\n",
       "      <th>5</th>\n",
       "      <td>5</td>\n",
       "      <td>0</td>\n",
       "      <td>0.108506</td>\n",
       "      <td>-0.790864</td>\n",
       "      <td>0.000000</td>\n",
       "      <td>0.000000</td>\n",
       "      <td>-1.010992</td>\n",
       "    </tr>\n",
       "    <tr>\n",
       "      <th>6</th>\n",
       "      <td>6</td>\n",
       "      <td>0</td>\n",
       "      <td>0.413749</td>\n",
       "      <td>-0.185143</td>\n",
       "      <td>0.283053</td>\n",
       "      <td>0.363636</td>\n",
       "      <td>-0.187287</td>\n",
       "    </tr>\n",
       "    <tr>\n",
       "      <th>7</th>\n",
       "      <td>7</td>\n",
       "      <td>0</td>\n",
       "      <td>0.961081</td>\n",
       "      <td>0.830973</td>\n",
       "      <td>1.000000</td>\n",
       "      <td>1.000000</td>\n",
       "      <td>1.095572</td>\n",
       "    </tr>\n",
       "    <tr>\n",
       "      <th>8</th>\n",
       "      <td>8</td>\n",
       "      <td>0</td>\n",
       "      <td>0.055733</td>\n",
       "      <td>-0.872805</td>\n",
       "      <td>0.000000</td>\n",
       "      <td>0.100000</td>\n",
       "      <td>-1.192094</td>\n",
       "    </tr>\n",
       "    <tr>\n",
       "      <th>9</th>\n",
       "      <td>9</td>\n",
       "      <td>0</td>\n",
       "      <td>0.168708</td>\n",
       "      <td>-0.518390</td>\n",
       "      <td>0.000000</td>\n",
       "      <td>0.100000</td>\n",
       "      <td>-0.570427</td>\n",
       "    </tr>\n",
       "  </tbody>\n",
       "</table>\n",
       "</div>"
      ],
      "text/plain": [
       "   index  true  score_logreg  score_svm  score_knn  score_tree  TAN(score_svm)\n",
       "0      0     0      0.683832   0.145976   0.787063    0.500000        0.147022\n",
       "1      1     1      0.801966   0.239511   1.000000    0.833333        0.244199\n",
       "2      2     0      0.382315  -0.245701   0.000000    0.000000       -0.250767\n",
       "3      3     1      0.506797  -0.137058   0.000000    0.105263       -0.137923\n",
       "4      4     1      0.488781  -0.154148   0.000000    0.105263       -0.155381\n",
       "5      5     0      0.108506  -0.790864   0.000000    0.000000       -1.010992\n",
       "6      6     0      0.413749  -0.185143   0.283053    0.363636       -0.187287\n",
       "7      7     0      0.961081   0.830973   1.000000    1.000000        1.095572\n",
       "8      8     0      0.055733  -0.872805   0.000000    0.100000       -1.192094\n",
       "9      9     0      0.168708  -0.518390   0.000000    0.100000       -0.570427"
      ]
     },
     "execution_count": 291,
     "metadata": {},
     "output_type": "execute_result"
    }
   ],
   "source": [
    "TAN(df, 'score_svm')"
   ]
  },
  {
   "cell_type": "code",
   "execution_count": 292,
   "id": "92775bb2",
   "metadata": {},
   "outputs": [
    {
     "data": {
      "text/plain": [
       "-0.25076722749599495"
      ]
     },
     "execution_count": 292,
     "metadata": {},
     "output_type": "execute_result"
    }
   ],
   "source": [
    "TAN(df.iloc[2]['score_svm'])"
   ]
  },
  {
   "cell_type": "code",
   "execution_count": 293,
   "id": "d9a98bea",
   "metadata": {},
   "outputs": [
    {
     "data": {
      "text/plain": [
       "-0.5704265112283873"
      ]
     },
     "execution_count": 293,
     "metadata": {},
     "output_type": "execute_result"
    }
   ],
   "source": [
    "TAN(df.iloc[9]['score_svm'])"
   ]
  },
  {
   "cell_type": "code",
   "execution_count": 294,
   "id": "54d8d775",
   "metadata": {},
   "outputs": [
    {
     "data": {
      "text/plain": [
       "1.633123935319537e+16"
      ]
     },
     "execution_count": 294,
     "metadata": {},
     "output_type": "execute_result"
    }
   ],
   "source": [
    "TAN(PI()/2)"
   ]
  },
  {
   "cell_type": "code",
   "execution_count": 295,
   "id": "fce5bb86",
   "metadata": {},
   "outputs": [
    {
     "data": {
      "text/plain": [
       "-3266247870639073.5"
      ]
     },
     "execution_count": 295,
     "metadata": {},
     "output_type": "execute_result"
    }
   ],
   "source": [
    "TAN(-5*PI()/2)"
   ]
  },
  {
   "cell_type": "code",
   "execution_count": 296,
   "id": "d1434365",
   "metadata": {},
   "outputs": [
    {
     "data": {
      "text/plain": [
       "0.0"
      ]
     },
     "execution_count": 296,
     "metadata": {},
     "output_type": "execute_result"
    }
   ],
   "source": [
    "TAN(0)"
   ]
  },
  {
   "cell_type": "code",
   "execution_count": 297,
   "id": "f390afbd",
   "metadata": {},
   "outputs": [
    {
     "data": {
      "text/plain": [
       "0.06007210383129728"
      ]
     },
     "execution_count": 297,
     "metadata": {},
     "output_type": "execute_result"
    }
   ],
   "source": [
    "TAN(0.06)"
   ]
  },
  {
   "cell_type": "markdown",
   "id": "28ee4b66",
   "metadata": {},
   "source": [
    "## 29. ZN\n",
    "\n",
    "**Описание:** \n",
    "\n",
    "Возвращает выражение, если не Nan. В противном случае 0. \n",
    "\n",
    "**Входные и выходные данные:**\n",
    "\n",
    "На входе - выражение.\n",
    "\n",
    "На выходе - выражение, если Nan, в противном случае 0.\n",
    "\n",
    "### Реализация:"
   ]
  },
  {
   "cell_type": "code",
   "execution_count": 298,
   "id": "49bd750d",
   "metadata": {},
   "outputs": [],
   "source": [
    "def ZN(df, col = None):\n",
    "    if col == None:\n",
    "        import math\n",
    "        if(type(df) != float):\n",
    "            return df\n",
    "        if math.isnan(df):\n",
    "            return 0\n",
    "    from sqlite3 import connect\n",
    "    import pandas as pd\n",
    "    conn = connect(':memory:')\n",
    "    df.to_sql('data', conn)\n",
    "    return pd.read_sql(f'SELECT *, IFNULL({col}, 0) as ZN FROM data', conn)"
   ]
  },
  {
   "cell_type": "markdown",
   "id": "a30d5387",
   "metadata": {},
   "source": [
    "### Тестирование:"
   ]
  },
  {
   "cell_type": "code",
   "execution_count": 299,
   "id": "39b56ae1",
   "metadata": {
    "scrolled": false
   },
   "outputs": [],
   "source": [
    "df = SQRT(df, 'score_svm')"
   ]
  },
  {
   "cell_type": "code",
   "execution_count": 300,
   "id": "d845f27b",
   "metadata": {},
   "outputs": [
    {
     "data": {
      "text/html": [
       "<div>\n",
       "<style scoped>\n",
       "    .dataframe tbody tr th:only-of-type {\n",
       "        vertical-align: middle;\n",
       "    }\n",
       "\n",
       "    .dataframe tbody tr th {\n",
       "        vertical-align: top;\n",
       "    }\n",
       "\n",
       "    .dataframe thead th {\n",
       "        text-align: right;\n",
       "    }\n",
       "</style>\n",
       "<table border=\"1\" class=\"dataframe\">\n",
       "  <thead>\n",
       "    <tr style=\"text-align: right;\">\n",
       "      <th></th>\n",
       "      <th>level_0</th>\n",
       "      <th>index</th>\n",
       "      <th>true</th>\n",
       "      <th>score_logreg</th>\n",
       "      <th>score_svm</th>\n",
       "      <th>score_knn</th>\n",
       "      <th>score_tree</th>\n",
       "      <th>SQRT(score_svm)</th>\n",
       "      <th>ZN</th>\n",
       "    </tr>\n",
       "  </thead>\n",
       "  <tbody>\n",
       "    <tr>\n",
       "      <th>0</th>\n",
       "      <td>0</td>\n",
       "      <td>0</td>\n",
       "      <td>0</td>\n",
       "      <td>0.683832</td>\n",
       "      <td>0.145976</td>\n",
       "      <td>0.787063</td>\n",
       "      <td>0.500000</td>\n",
       "      <td>0.382068</td>\n",
       "      <td>0.382068</td>\n",
       "    </tr>\n",
       "    <tr>\n",
       "      <th>1</th>\n",
       "      <td>1</td>\n",
       "      <td>1</td>\n",
       "      <td>1</td>\n",
       "      <td>0.801966</td>\n",
       "      <td>0.239511</td>\n",
       "      <td>1.000000</td>\n",
       "      <td>0.833333</td>\n",
       "      <td>0.489399</td>\n",
       "      <td>0.489399</td>\n",
       "    </tr>\n",
       "    <tr>\n",
       "      <th>2</th>\n",
       "      <td>2</td>\n",
       "      <td>2</td>\n",
       "      <td>0</td>\n",
       "      <td>0.382315</td>\n",
       "      <td>-0.245701</td>\n",
       "      <td>0.000000</td>\n",
       "      <td>0.000000</td>\n",
       "      <td>NaN</td>\n",
       "      <td>0.000000</td>\n",
       "    </tr>\n",
       "    <tr>\n",
       "      <th>3</th>\n",
       "      <td>3</td>\n",
       "      <td>3</td>\n",
       "      <td>1</td>\n",
       "      <td>0.506797</td>\n",
       "      <td>-0.137058</td>\n",
       "      <td>0.000000</td>\n",
       "      <td>0.105263</td>\n",
       "      <td>NaN</td>\n",
       "      <td>0.000000</td>\n",
       "    </tr>\n",
       "    <tr>\n",
       "      <th>4</th>\n",
       "      <td>4</td>\n",
       "      <td>4</td>\n",
       "      <td>1</td>\n",
       "      <td>0.488781</td>\n",
       "      <td>-0.154148</td>\n",
       "      <td>0.000000</td>\n",
       "      <td>0.105263</td>\n",
       "      <td>NaN</td>\n",
       "      <td>0.000000</td>\n",
       "    </tr>\n",
       "    <tr>\n",
       "      <th>5</th>\n",
       "      <td>5</td>\n",
       "      <td>5</td>\n",
       "      <td>0</td>\n",
       "      <td>0.108506</td>\n",
       "      <td>-0.790864</td>\n",
       "      <td>0.000000</td>\n",
       "      <td>0.000000</td>\n",
       "      <td>NaN</td>\n",
       "      <td>0.000000</td>\n",
       "    </tr>\n",
       "    <tr>\n",
       "      <th>6</th>\n",
       "      <td>6</td>\n",
       "      <td>6</td>\n",
       "      <td>0</td>\n",
       "      <td>0.413749</td>\n",
       "      <td>-0.185143</td>\n",
       "      <td>0.283053</td>\n",
       "      <td>0.363636</td>\n",
       "      <td>NaN</td>\n",
       "      <td>0.000000</td>\n",
       "    </tr>\n",
       "    <tr>\n",
       "      <th>7</th>\n",
       "      <td>7</td>\n",
       "      <td>7</td>\n",
       "      <td>0</td>\n",
       "      <td>0.961081</td>\n",
       "      <td>0.830973</td>\n",
       "      <td>1.000000</td>\n",
       "      <td>1.000000</td>\n",
       "      <td>0.911577</td>\n",
       "      <td>0.911577</td>\n",
       "    </tr>\n",
       "    <tr>\n",
       "      <th>8</th>\n",
       "      <td>8</td>\n",
       "      <td>8</td>\n",
       "      <td>0</td>\n",
       "      <td>0.055733</td>\n",
       "      <td>-0.872805</td>\n",
       "      <td>0.000000</td>\n",
       "      <td>0.100000</td>\n",
       "      <td>NaN</td>\n",
       "      <td>0.000000</td>\n",
       "    </tr>\n",
       "    <tr>\n",
       "      <th>9</th>\n",
       "      <td>9</td>\n",
       "      <td>9</td>\n",
       "      <td>0</td>\n",
       "      <td>0.168708</td>\n",
       "      <td>-0.518390</td>\n",
       "      <td>0.000000</td>\n",
       "      <td>0.100000</td>\n",
       "      <td>NaN</td>\n",
       "      <td>0.000000</td>\n",
       "    </tr>\n",
       "  </tbody>\n",
       "</table>\n",
       "</div>"
      ],
      "text/plain": [
       "   level_0  index  true  score_logreg  score_svm  score_knn  score_tree  \\\n",
       "0        0      0     0      0.683832   0.145976   0.787063    0.500000   \n",
       "1        1      1     1      0.801966   0.239511   1.000000    0.833333   \n",
       "2        2      2     0      0.382315  -0.245701   0.000000    0.000000   \n",
       "3        3      3     1      0.506797  -0.137058   0.000000    0.105263   \n",
       "4        4      4     1      0.488781  -0.154148   0.000000    0.105263   \n",
       "5        5      5     0      0.108506  -0.790864   0.000000    0.000000   \n",
       "6        6      6     0      0.413749  -0.185143   0.283053    0.363636   \n",
       "7        7      7     0      0.961081   0.830973   1.000000    1.000000   \n",
       "8        8      8     0      0.055733  -0.872805   0.000000    0.100000   \n",
       "9        9      9     0      0.168708  -0.518390   0.000000    0.100000   \n",
       "\n",
       "   SQRT(score_svm)        ZN  \n",
       "0         0.382068  0.382068  \n",
       "1         0.489399  0.489399  \n",
       "2              NaN  0.000000  \n",
       "3              NaN  0.000000  \n",
       "4              NaN  0.000000  \n",
       "5              NaN  0.000000  \n",
       "6              NaN  0.000000  \n",
       "7         0.911577  0.911577  \n",
       "8              NaN  0.000000  \n",
       "9              NaN  0.000000  "
      ]
     },
     "execution_count": 300,
     "metadata": {},
     "output_type": "execute_result"
    }
   ],
   "source": [
    "ZN(df, 'SQRT(score_svm)')"
   ]
  },
  {
   "cell_type": "code",
   "execution_count": 301,
   "id": "a4649244",
   "metadata": {},
   "outputs": [
    {
     "data": {
      "text/plain": [
       "0.3820679157077418"
      ]
     },
     "execution_count": 301,
     "metadata": {},
     "output_type": "execute_result"
    }
   ],
   "source": [
    "ZN(df.iloc[0]['SQRT(score_svm)'])"
   ]
  },
  {
   "cell_type": "code",
   "execution_count": 302,
   "id": "976451ce",
   "metadata": {},
   "outputs": [
    {
     "data": {
      "text/plain": [
       "nan"
      ]
     },
     "execution_count": 302,
     "metadata": {},
     "output_type": "execute_result"
    }
   ],
   "source": [
    "ZN(df.iloc[2]['SQRT(score_svm)'])"
   ]
  },
  {
   "cell_type": "code",
   "execution_count": 303,
   "id": "8c10e088",
   "metadata": {},
   "outputs": [],
   "source": [
    "df.drop('SQRT(score_svm)', axis = 1, inplace = True)"
   ]
  },
  {
   "cell_type": "code",
   "execution_count": 304,
   "id": "36646937",
   "metadata": {},
   "outputs": [
    {
     "data": {
      "text/plain": [
       "0"
      ]
     },
     "execution_count": 304,
     "metadata": {},
     "output_type": "execute_result"
    }
   ],
   "source": [
    "ZN(0)"
   ]
  },
  {
   "cell_type": "code",
   "execution_count": 305,
   "id": "d58257b0",
   "metadata": {},
   "outputs": [
    {
     "data": {
      "text/plain": [
       "11"
      ]
     },
     "execution_count": 305,
     "metadata": {},
     "output_type": "execute_result"
    }
   ],
   "source": [
    "ZN(11)"
   ]
  },
  {
   "cell_type": "code",
   "execution_count": 306,
   "id": "c5073614",
   "metadata": {},
   "outputs": [
    {
     "data": {
      "text/plain": [
       "0"
      ]
     },
     "execution_count": 306,
     "metadata": {},
     "output_type": "execute_result"
    }
   ],
   "source": [
    "ZN(math.nan)"
   ]
  },
  {
   "cell_type": "code",
   "execution_count": 307,
   "id": "63e22693",
   "metadata": {},
   "outputs": [
    {
     "data": {
      "text/plain": [
       "-8"
      ]
     },
     "execution_count": 307,
     "metadata": {},
     "output_type": "execute_result"
    }
   ],
   "source": [
    "ZN(-8)"
   ]
  },
  {
   "cell_type": "code",
   "execution_count": 308,
   "id": "4bd40d26",
   "metadata": {},
   "outputs": [
    {
     "data": {
      "text/plain": [
       "'Trivium'"
      ]
     },
     "execution_count": 308,
     "metadata": {},
     "output_type": "execute_result"
    }
   ],
   "source": [
    "ZN('Trivium')"
   ]
  }
 ],
 "metadata": {
  "kernelspec": {
   "display_name": "Python 3",
   "language": "python",
   "name": "python3"
  },
  "language_info": {
   "codemirror_mode": {
    "name": "ipython",
    "version": 3
   },
   "file_extension": ".py",
   "mimetype": "text/x-python",
   "name": "python",
   "nbconvert_exporter": "python",
   "pygments_lexer": "ipython3",
   "version": "3.8.8"
  }
 },
 "nbformat": 4,
 "nbformat_minor": 5
}
